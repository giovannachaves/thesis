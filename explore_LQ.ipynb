{
 "cells": [
  {
   "cell_type": "code",
   "execution_count": 1219,
   "metadata": {},
   "outputs": [],
   "source": [
    "import pandas as pd\n",
    "import pycountry\n",
    "import numpy as np\n",
    "from sklearn.ensemble import RandomForestClassifier\n",
    "from sklearn.model_selection import GridSearchCV\n",
    "from pathlib import Path\n",
    "from sklearn.model_selection import TimeSeriesSplit"
   ]
  },
  {
   "cell_type": "code",
   "execution_count": 1220,
   "metadata": {},
   "outputs": [],
   "source": [
    "dfolder = 'data/'"
   ]
  },
  {
   "cell_type": "code",
   "execution_count": 1221,
   "metadata": {},
   "outputs": [
    {
     "name": "stderr",
     "output_type": "stream",
     "text": [
      "/var/folders/hj/n94x31sj08bdmgwjs6ybxbf40000gn/T/ipykernel_93000/446111836.py:1: DtypeWarning: Columns (64) have mixed types. Specify dtype option on import or set low_memory=False.\n",
      "  df = pd.read_csv(dfolder + 'merged.csv')\n"
     ]
    }
   ],
   "source": [
    "df = pd.read_csv(dfolder + 'merged.csv')"
   ]
  },
  {
   "cell_type": "code",
   "execution_count": 1222,
   "metadata": {},
   "outputs": [
    {
     "data": {
      "text/html": [
       "<div>\n",
       "<style scoped>\n",
       "    .dataframe tbody tr th:only-of-type {\n",
       "        vertical-align: middle;\n",
       "    }\n",
       "\n",
       "    .dataframe tbody tr th {\n",
       "        vertical-align: top;\n",
       "    }\n",
       "\n",
       "    .dataframe thead th {\n",
       "        text-align: right;\n",
       "    }\n",
       "</style>\n",
       "<table border=\"1\" class=\"dataframe\">\n",
       "  <thead>\n",
       "    <tr style=\"text-align: right;\">\n",
       "      <th></th>\n",
       "      <th>MonthYear</th>\n",
       "      <th>isocode</th>\n",
       "      <th>month</th>\n",
       "      <th>year</th>\n",
       "      <th>count_events_1</th>\n",
       "      <th>count_events_2</th>\n",
       "      <th>count_events_3</th>\n",
       "      <th>count_events_4</th>\n",
       "      <th>count_events_5</th>\n",
       "      <th>count_events_6</th>\n",
       "      <th>...</th>\n",
       "      <th>count_events_17_opp</th>\n",
       "      <th>count_events_18_opp</th>\n",
       "      <th>count_events_19_opp</th>\n",
       "      <th>count_events_20_opp</th>\n",
       "      <th>country</th>\n",
       "      <th>deaths</th>\n",
       "      <th>state_deaths</th>\n",
       "      <th>nonstate_deaths</th>\n",
       "      <th>onesided_deaths</th>\n",
       "      <th>civilian_deaths</th>\n",
       "    </tr>\n",
       "  </thead>\n",
       "  <tbody>\n",
       "    <tr>\n",
       "      <th>0</th>\n",
       "      <td>192001</td>\n",
       "      <td>ABW</td>\n",
       "      <td>1</td>\n",
       "      <td>1920</td>\n",
       "      <td>2.0</td>\n",
       "      <td>0.0</td>\n",
       "      <td>0.0</td>\n",
       "      <td>2.0</td>\n",
       "      <td>0.0</td>\n",
       "      <td>2.0</td>\n",
       "      <td>...</td>\n",
       "      <td>0.0</td>\n",
       "      <td>0.0</td>\n",
       "      <td>0.0</td>\n",
       "      <td>0.0</td>\n",
       "      <td>NaN</td>\n",
       "      <td>NaN</td>\n",
       "      <td>NaN</td>\n",
       "      <td>NaN</td>\n",
       "      <td>NaN</td>\n",
       "      <td>NaN</td>\n",
       "    </tr>\n",
       "    <tr>\n",
       "      <th>1</th>\n",
       "      <td>192001</td>\n",
       "      <td>AFG</td>\n",
       "      <td>1</td>\n",
       "      <td>1920</td>\n",
       "      <td>1050.0</td>\n",
       "      <td>364.0</td>\n",
       "      <td>224.0</td>\n",
       "      <td>1462.0</td>\n",
       "      <td>510.0</td>\n",
       "      <td>118.0</td>\n",
       "      <td>...</td>\n",
       "      <td>20.0</td>\n",
       "      <td>28.0</td>\n",
       "      <td>290.0</td>\n",
       "      <td>0.0</td>\n",
       "      <td>NaN</td>\n",
       "      <td>NaN</td>\n",
       "      <td>NaN</td>\n",
       "      <td>NaN</td>\n",
       "      <td>NaN</td>\n",
       "      <td>NaN</td>\n",
       "    </tr>\n",
       "    <tr>\n",
       "      <th>2</th>\n",
       "      <td>192001</td>\n",
       "      <td>AGO</td>\n",
       "      <td>1</td>\n",
       "      <td>1920</td>\n",
       "      <td>86.0</td>\n",
       "      <td>42.0</td>\n",
       "      <td>26.0</td>\n",
       "      <td>126.0</td>\n",
       "      <td>62.0</td>\n",
       "      <td>14.0</td>\n",
       "      <td>...</td>\n",
       "      <td>0.0</td>\n",
       "      <td>0.0</td>\n",
       "      <td>0.0</td>\n",
       "      <td>0.0</td>\n",
       "      <td>NaN</td>\n",
       "      <td>NaN</td>\n",
       "      <td>NaN</td>\n",
       "      <td>NaN</td>\n",
       "      <td>NaN</td>\n",
       "      <td>NaN</td>\n",
       "    </tr>\n",
       "    <tr>\n",
       "      <th>3</th>\n",
       "      <td>192001</td>\n",
       "      <td>AIA</td>\n",
       "      <td>1</td>\n",
       "      <td>1920</td>\n",
       "      <td>6.0</td>\n",
       "      <td>0.0</td>\n",
       "      <td>0.0</td>\n",
       "      <td>10.0</td>\n",
       "      <td>0.0</td>\n",
       "      <td>0.0</td>\n",
       "      <td>...</td>\n",
       "      <td>0.0</td>\n",
       "      <td>0.0</td>\n",
       "      <td>0.0</td>\n",
       "      <td>0.0</td>\n",
       "      <td>NaN</td>\n",
       "      <td>NaN</td>\n",
       "      <td>NaN</td>\n",
       "      <td>NaN</td>\n",
       "      <td>NaN</td>\n",
       "      <td>NaN</td>\n",
       "    </tr>\n",
       "    <tr>\n",
       "      <th>4</th>\n",
       "      <td>192001</td>\n",
       "      <td>ALB</td>\n",
       "      <td>1</td>\n",
       "      <td>1920</td>\n",
       "      <td>28.0</td>\n",
       "      <td>36.0</td>\n",
       "      <td>8.0</td>\n",
       "      <td>44.0</td>\n",
       "      <td>20.0</td>\n",
       "      <td>4.0</td>\n",
       "      <td>...</td>\n",
       "      <td>0.0</td>\n",
       "      <td>0.0</td>\n",
       "      <td>0.0</td>\n",
       "      <td>0.0</td>\n",
       "      <td>NaN</td>\n",
       "      <td>NaN</td>\n",
       "      <td>NaN</td>\n",
       "      <td>NaN</td>\n",
       "      <td>NaN</td>\n",
       "      <td>NaN</td>\n",
       "    </tr>\n",
       "    <tr>\n",
       "      <th>...</th>\n",
       "      <td>...</td>\n",
       "      <td>...</td>\n",
       "      <td>...</td>\n",
       "      <td>...</td>\n",
       "      <td>...</td>\n",
       "      <td>...</td>\n",
       "      <td>...</td>\n",
       "      <td>...</td>\n",
       "      <td>...</td>\n",
       "      <td>...</td>\n",
       "      <td>...</td>\n",
       "      <td>...</td>\n",
       "      <td>...</td>\n",
       "      <td>...</td>\n",
       "      <td>...</td>\n",
       "      <td>...</td>\n",
       "      <td>...</td>\n",
       "      <td>...</td>\n",
       "      <td>...</td>\n",
       "      <td>...</td>\n",
       "      <td>...</td>\n",
       "    </tr>\n",
       "    <tr>\n",
       "      <th>116298</th>\n",
       "      <td>202305</td>\n",
       "      <td>XKX</td>\n",
       "      <td>5</td>\n",
       "      <td>2023</td>\n",
       "      <td>60.0</td>\n",
       "      <td>50.0</td>\n",
       "      <td>58.0</td>\n",
       "      <td>200.0</td>\n",
       "      <td>124.0</td>\n",
       "      <td>2.0</td>\n",
       "      <td>...</td>\n",
       "      <td>0.0</td>\n",
       "      <td>2.0</td>\n",
       "      <td>0.0</td>\n",
       "      <td>0.0</td>\n",
       "      <td>NaN</td>\n",
       "      <td>NaN</td>\n",
       "      <td>NaN</td>\n",
       "      <td>NaN</td>\n",
       "      <td>NaN</td>\n",
       "      <td>NaN</td>\n",
       "    </tr>\n",
       "    <tr>\n",
       "      <th>116299</th>\n",
       "      <td>202305</td>\n",
       "      <td>YEM</td>\n",
       "      <td>5</td>\n",
       "      <td>2023</td>\n",
       "      <td>276.0</td>\n",
       "      <td>156.0</td>\n",
       "      <td>182.0</td>\n",
       "      <td>1364.0</td>\n",
       "      <td>362.0</td>\n",
       "      <td>38.0</td>\n",
       "      <td>...</td>\n",
       "      <td>2.0</td>\n",
       "      <td>2.0</td>\n",
       "      <td>4.0</td>\n",
       "      <td>0.0</td>\n",
       "      <td>NaN</td>\n",
       "      <td>NaN</td>\n",
       "      <td>NaN</td>\n",
       "      <td>NaN</td>\n",
       "      <td>NaN</td>\n",
       "      <td>NaN</td>\n",
       "    </tr>\n",
       "    <tr>\n",
       "      <th>116300</th>\n",
       "      <td>202305</td>\n",
       "      <td>ZAF</td>\n",
       "      <td>5</td>\n",
       "      <td>2023</td>\n",
       "      <td>6568.0</td>\n",
       "      <td>2976.0</td>\n",
       "      <td>2874.0</td>\n",
       "      <td>10818.0</td>\n",
       "      <td>3262.0</td>\n",
       "      <td>1188.0</td>\n",
       "      <td>...</td>\n",
       "      <td>6.0</td>\n",
       "      <td>2.0</td>\n",
       "      <td>12.0</td>\n",
       "      <td>0.0</td>\n",
       "      <td>NaN</td>\n",
       "      <td>NaN</td>\n",
       "      <td>NaN</td>\n",
       "      <td>NaN</td>\n",
       "      <td>NaN</td>\n",
       "      <td>NaN</td>\n",
       "    </tr>\n",
       "    <tr>\n",
       "      <th>116301</th>\n",
       "      <td>202305</td>\n",
       "      <td>ZMB</td>\n",
       "      <td>5</td>\n",
       "      <td>2023</td>\n",
       "      <td>386.0</td>\n",
       "      <td>264.0</td>\n",
       "      <td>176.0</td>\n",
       "      <td>724.0</td>\n",
       "      <td>374.0</td>\n",
       "      <td>48.0</td>\n",
       "      <td>...</td>\n",
       "      <td>0.0</td>\n",
       "      <td>0.0</td>\n",
       "      <td>0.0</td>\n",
       "      <td>0.0</td>\n",
       "      <td>NaN</td>\n",
       "      <td>NaN</td>\n",
       "      <td>NaN</td>\n",
       "      <td>NaN</td>\n",
       "      <td>NaN</td>\n",
       "      <td>NaN</td>\n",
       "    </tr>\n",
       "    <tr>\n",
       "      <th>116302</th>\n",
       "      <td>202305</td>\n",
       "      <td>ZWE</td>\n",
       "      <td>5</td>\n",
       "      <td>2023</td>\n",
       "      <td>1644.0</td>\n",
       "      <td>758.0</td>\n",
       "      <td>618.0</td>\n",
       "      <td>2908.0</td>\n",
       "      <td>1078.0</td>\n",
       "      <td>270.0</td>\n",
       "      <td>...</td>\n",
       "      <td>26.0</td>\n",
       "      <td>8.0</td>\n",
       "      <td>4.0</td>\n",
       "      <td>0.0</td>\n",
       "      <td>NaN</td>\n",
       "      <td>NaN</td>\n",
       "      <td>NaN</td>\n",
       "      <td>NaN</td>\n",
       "      <td>NaN</td>\n",
       "      <td>NaN</td>\n",
       "    </tr>\n",
       "  </tbody>\n",
       "</table>\n",
       "<p>116303 rows × 70 columns</p>\n",
       "</div>"
      ],
      "text/plain": [
       "        MonthYear isocode  month  year  count_events_1  count_events_2  \\\n",
       "0          192001     ABW      1  1920             2.0             0.0   \n",
       "1          192001     AFG      1  1920          1050.0           364.0   \n",
       "2          192001     AGO      1  1920            86.0            42.0   \n",
       "3          192001     AIA      1  1920             6.0             0.0   \n",
       "4          192001     ALB      1  1920            28.0            36.0   \n",
       "...           ...     ...    ...   ...             ...             ...   \n",
       "116298     202305     XKX      5  2023            60.0            50.0   \n",
       "116299     202305     YEM      5  2023           276.0           156.0   \n",
       "116300     202305     ZAF      5  2023          6568.0          2976.0   \n",
       "116301     202305     ZMB      5  2023           386.0           264.0   \n",
       "116302     202305     ZWE      5  2023          1644.0           758.0   \n",
       "\n",
       "        count_events_3  count_events_4  count_events_5  count_events_6  ...  \\\n",
       "0                  0.0             2.0             0.0             2.0  ...   \n",
       "1                224.0          1462.0           510.0           118.0  ...   \n",
       "2                 26.0           126.0            62.0            14.0  ...   \n",
       "3                  0.0            10.0             0.0             0.0  ...   \n",
       "4                  8.0            44.0            20.0             4.0  ...   \n",
       "...                ...             ...             ...             ...  ...   \n",
       "116298            58.0           200.0           124.0             2.0  ...   \n",
       "116299           182.0          1364.0           362.0            38.0  ...   \n",
       "116300          2874.0         10818.0          3262.0          1188.0  ...   \n",
       "116301           176.0           724.0           374.0            48.0  ...   \n",
       "116302           618.0          2908.0          1078.0           270.0  ...   \n",
       "\n",
       "        count_events_17_opp  count_events_18_opp  count_events_19_opp  \\\n",
       "0                       0.0                  0.0                  0.0   \n",
       "1                      20.0                 28.0                290.0   \n",
       "2                       0.0                  0.0                  0.0   \n",
       "3                       0.0                  0.0                  0.0   \n",
       "4                       0.0                  0.0                  0.0   \n",
       "...                     ...                  ...                  ...   \n",
       "116298                  0.0                  2.0                  0.0   \n",
       "116299                  2.0                  2.0                  4.0   \n",
       "116300                  6.0                  2.0                 12.0   \n",
       "116301                  0.0                  0.0                  0.0   \n",
       "116302                 26.0                  8.0                  4.0   \n",
       "\n",
       "        count_events_20_opp  country  deaths  state_deaths  nonstate_deaths  \\\n",
       "0                       0.0      NaN     NaN           NaN              NaN   \n",
       "1                       0.0      NaN     NaN           NaN              NaN   \n",
       "2                       0.0      NaN     NaN           NaN              NaN   \n",
       "3                       0.0      NaN     NaN           NaN              NaN   \n",
       "4                       0.0      NaN     NaN           NaN              NaN   \n",
       "...                     ...      ...     ...           ...              ...   \n",
       "116298                  0.0      NaN     NaN           NaN              NaN   \n",
       "116299                  0.0      NaN     NaN           NaN              NaN   \n",
       "116300                  0.0      NaN     NaN           NaN              NaN   \n",
       "116301                  0.0      NaN     NaN           NaN              NaN   \n",
       "116302                  0.0      NaN     NaN           NaN              NaN   \n",
       "\n",
       "        onesided_deaths  civilian_deaths  \n",
       "0                   NaN              NaN  \n",
       "1                   NaN              NaN  \n",
       "2                   NaN              NaN  \n",
       "3                   NaN              NaN  \n",
       "4                   NaN              NaN  \n",
       "...                 ...              ...  \n",
       "116298              NaN              NaN  \n",
       "116299              NaN              NaN  \n",
       "116300              NaN              NaN  \n",
       "116301              NaN              NaN  \n",
       "116302              NaN              NaN  \n",
       "\n",
       "[116303 rows x 70 columns]"
      ]
     },
     "execution_count": 1222,
     "metadata": {},
     "output_type": "execute_result"
    }
   ],
   "source": [
    "df"
   ]
  },
  {
   "cell_type": "code",
   "execution_count": 1223,
   "metadata": {},
   "outputs": [
    {
     "data": {
      "text/html": [
       "<div>\n",
       "<style scoped>\n",
       "    .dataframe tbody tr th:only-of-type {\n",
       "        vertical-align: middle;\n",
       "    }\n",
       "\n",
       "    .dataframe tbody tr th {\n",
       "        vertical-align: top;\n",
       "    }\n",
       "\n",
       "    .dataframe thead th {\n",
       "        text-align: right;\n",
       "    }\n",
       "</style>\n",
       "<table border=\"1\" class=\"dataframe\">\n",
       "  <thead>\n",
       "    <tr style=\"text-align: right;\">\n",
       "      <th></th>\n",
       "      <th>MonthYear</th>\n",
       "      <th>isocode</th>\n",
       "      <th>month</th>\n",
       "      <th>year</th>\n",
       "      <th>count_events_1</th>\n",
       "      <th>count_events_2</th>\n",
       "      <th>count_events_3</th>\n",
       "      <th>count_events_4</th>\n",
       "      <th>count_events_5</th>\n",
       "      <th>count_events_6</th>\n",
       "      <th>...</th>\n",
       "      <th>count_events_17_opp</th>\n",
       "      <th>count_events_18_opp</th>\n",
       "      <th>count_events_19_opp</th>\n",
       "      <th>count_events_20_opp</th>\n",
       "      <th>country</th>\n",
       "      <th>deaths</th>\n",
       "      <th>state_deaths</th>\n",
       "      <th>nonstate_deaths</th>\n",
       "      <th>onesided_deaths</th>\n",
       "      <th>civilian_deaths</th>\n",
       "    </tr>\n",
       "  </thead>\n",
       "  <tbody>\n",
       "    <tr>\n",
       "      <th>0</th>\n",
       "      <td>192001</td>\n",
       "      <td>ABW</td>\n",
       "      <td>1</td>\n",
       "      <td>1920</td>\n",
       "      <td>2.0</td>\n",
       "      <td>0.0</td>\n",
       "      <td>0.0</td>\n",
       "      <td>2.0</td>\n",
       "      <td>0.0</td>\n",
       "      <td>2.0</td>\n",
       "      <td>...</td>\n",
       "      <td>0.0</td>\n",
       "      <td>0.0</td>\n",
       "      <td>0.0</td>\n",
       "      <td>0.0</td>\n",
       "      <td>NaN</td>\n",
       "      <td>NaN</td>\n",
       "      <td>NaN</td>\n",
       "      <td>NaN</td>\n",
       "      <td>NaN</td>\n",
       "      <td>NaN</td>\n",
       "    </tr>\n",
       "    <tr>\n",
       "      <th>1</th>\n",
       "      <td>192001</td>\n",
       "      <td>AFG</td>\n",
       "      <td>1</td>\n",
       "      <td>1920</td>\n",
       "      <td>1050.0</td>\n",
       "      <td>364.0</td>\n",
       "      <td>224.0</td>\n",
       "      <td>1462.0</td>\n",
       "      <td>510.0</td>\n",
       "      <td>118.0</td>\n",
       "      <td>...</td>\n",
       "      <td>20.0</td>\n",
       "      <td>28.0</td>\n",
       "      <td>290.0</td>\n",
       "      <td>0.0</td>\n",
       "      <td>NaN</td>\n",
       "      <td>NaN</td>\n",
       "      <td>NaN</td>\n",
       "      <td>NaN</td>\n",
       "      <td>NaN</td>\n",
       "      <td>NaN</td>\n",
       "    </tr>\n",
       "    <tr>\n",
       "      <th>2</th>\n",
       "      <td>192001</td>\n",
       "      <td>AGO</td>\n",
       "      <td>1</td>\n",
       "      <td>1920</td>\n",
       "      <td>86.0</td>\n",
       "      <td>42.0</td>\n",
       "      <td>26.0</td>\n",
       "      <td>126.0</td>\n",
       "      <td>62.0</td>\n",
       "      <td>14.0</td>\n",
       "      <td>...</td>\n",
       "      <td>0.0</td>\n",
       "      <td>0.0</td>\n",
       "      <td>0.0</td>\n",
       "      <td>0.0</td>\n",
       "      <td>NaN</td>\n",
       "      <td>NaN</td>\n",
       "      <td>NaN</td>\n",
       "      <td>NaN</td>\n",
       "      <td>NaN</td>\n",
       "      <td>NaN</td>\n",
       "    </tr>\n",
       "    <tr>\n",
       "      <th>3</th>\n",
       "      <td>192001</td>\n",
       "      <td>AIA</td>\n",
       "      <td>1</td>\n",
       "      <td>1920</td>\n",
       "      <td>6.0</td>\n",
       "      <td>0.0</td>\n",
       "      <td>0.0</td>\n",
       "      <td>10.0</td>\n",
       "      <td>0.0</td>\n",
       "      <td>0.0</td>\n",
       "      <td>...</td>\n",
       "      <td>0.0</td>\n",
       "      <td>0.0</td>\n",
       "      <td>0.0</td>\n",
       "      <td>0.0</td>\n",
       "      <td>NaN</td>\n",
       "      <td>NaN</td>\n",
       "      <td>NaN</td>\n",
       "      <td>NaN</td>\n",
       "      <td>NaN</td>\n",
       "      <td>NaN</td>\n",
       "    </tr>\n",
       "    <tr>\n",
       "      <th>4</th>\n",
       "      <td>192001</td>\n",
       "      <td>ALB</td>\n",
       "      <td>1</td>\n",
       "      <td>1920</td>\n",
       "      <td>28.0</td>\n",
       "      <td>36.0</td>\n",
       "      <td>8.0</td>\n",
       "      <td>44.0</td>\n",
       "      <td>20.0</td>\n",
       "      <td>4.0</td>\n",
       "      <td>...</td>\n",
       "      <td>0.0</td>\n",
       "      <td>0.0</td>\n",
       "      <td>0.0</td>\n",
       "      <td>0.0</td>\n",
       "      <td>NaN</td>\n",
       "      <td>NaN</td>\n",
       "      <td>NaN</td>\n",
       "      <td>NaN</td>\n",
       "      <td>NaN</td>\n",
       "      <td>NaN</td>\n",
       "    </tr>\n",
       "    <tr>\n",
       "      <th>...</th>\n",
       "      <td>...</td>\n",
       "      <td>...</td>\n",
       "      <td>...</td>\n",
       "      <td>...</td>\n",
       "      <td>...</td>\n",
       "      <td>...</td>\n",
       "      <td>...</td>\n",
       "      <td>...</td>\n",
       "      <td>...</td>\n",
       "      <td>...</td>\n",
       "      <td>...</td>\n",
       "      <td>...</td>\n",
       "      <td>...</td>\n",
       "      <td>...</td>\n",
       "      <td>...</td>\n",
       "      <td>...</td>\n",
       "      <td>...</td>\n",
       "      <td>...</td>\n",
       "      <td>...</td>\n",
       "      <td>...</td>\n",
       "      <td>...</td>\n",
       "    </tr>\n",
       "    <tr>\n",
       "      <th>116298</th>\n",
       "      <td>202305</td>\n",
       "      <td>XKX</td>\n",
       "      <td>5</td>\n",
       "      <td>2023</td>\n",
       "      <td>60.0</td>\n",
       "      <td>50.0</td>\n",
       "      <td>58.0</td>\n",
       "      <td>200.0</td>\n",
       "      <td>124.0</td>\n",
       "      <td>2.0</td>\n",
       "      <td>...</td>\n",
       "      <td>0.0</td>\n",
       "      <td>2.0</td>\n",
       "      <td>0.0</td>\n",
       "      <td>0.0</td>\n",
       "      <td>NaN</td>\n",
       "      <td>NaN</td>\n",
       "      <td>NaN</td>\n",
       "      <td>NaN</td>\n",
       "      <td>NaN</td>\n",
       "      <td>NaN</td>\n",
       "    </tr>\n",
       "    <tr>\n",
       "      <th>116299</th>\n",
       "      <td>202305</td>\n",
       "      <td>YEM</td>\n",
       "      <td>5</td>\n",
       "      <td>2023</td>\n",
       "      <td>276.0</td>\n",
       "      <td>156.0</td>\n",
       "      <td>182.0</td>\n",
       "      <td>1364.0</td>\n",
       "      <td>362.0</td>\n",
       "      <td>38.0</td>\n",
       "      <td>...</td>\n",
       "      <td>2.0</td>\n",
       "      <td>2.0</td>\n",
       "      <td>4.0</td>\n",
       "      <td>0.0</td>\n",
       "      <td>NaN</td>\n",
       "      <td>NaN</td>\n",
       "      <td>NaN</td>\n",
       "      <td>NaN</td>\n",
       "      <td>NaN</td>\n",
       "      <td>NaN</td>\n",
       "    </tr>\n",
       "    <tr>\n",
       "      <th>116300</th>\n",
       "      <td>202305</td>\n",
       "      <td>ZAF</td>\n",
       "      <td>5</td>\n",
       "      <td>2023</td>\n",
       "      <td>6568.0</td>\n",
       "      <td>2976.0</td>\n",
       "      <td>2874.0</td>\n",
       "      <td>10818.0</td>\n",
       "      <td>3262.0</td>\n",
       "      <td>1188.0</td>\n",
       "      <td>...</td>\n",
       "      <td>6.0</td>\n",
       "      <td>2.0</td>\n",
       "      <td>12.0</td>\n",
       "      <td>0.0</td>\n",
       "      <td>NaN</td>\n",
       "      <td>NaN</td>\n",
       "      <td>NaN</td>\n",
       "      <td>NaN</td>\n",
       "      <td>NaN</td>\n",
       "      <td>NaN</td>\n",
       "    </tr>\n",
       "    <tr>\n",
       "      <th>116301</th>\n",
       "      <td>202305</td>\n",
       "      <td>ZMB</td>\n",
       "      <td>5</td>\n",
       "      <td>2023</td>\n",
       "      <td>386.0</td>\n",
       "      <td>264.0</td>\n",
       "      <td>176.0</td>\n",
       "      <td>724.0</td>\n",
       "      <td>374.0</td>\n",
       "      <td>48.0</td>\n",
       "      <td>...</td>\n",
       "      <td>0.0</td>\n",
       "      <td>0.0</td>\n",
       "      <td>0.0</td>\n",
       "      <td>0.0</td>\n",
       "      <td>NaN</td>\n",
       "      <td>NaN</td>\n",
       "      <td>NaN</td>\n",
       "      <td>NaN</td>\n",
       "      <td>NaN</td>\n",
       "      <td>NaN</td>\n",
       "    </tr>\n",
       "    <tr>\n",
       "      <th>116302</th>\n",
       "      <td>202305</td>\n",
       "      <td>ZWE</td>\n",
       "      <td>5</td>\n",
       "      <td>2023</td>\n",
       "      <td>1644.0</td>\n",
       "      <td>758.0</td>\n",
       "      <td>618.0</td>\n",
       "      <td>2908.0</td>\n",
       "      <td>1078.0</td>\n",
       "      <td>270.0</td>\n",
       "      <td>...</td>\n",
       "      <td>26.0</td>\n",
       "      <td>8.0</td>\n",
       "      <td>4.0</td>\n",
       "      <td>0.0</td>\n",
       "      <td>NaN</td>\n",
       "      <td>NaN</td>\n",
       "      <td>NaN</td>\n",
       "      <td>NaN</td>\n",
       "      <td>NaN</td>\n",
       "      <td>NaN</td>\n",
       "    </tr>\n",
       "  </tbody>\n",
       "</table>\n",
       "<p>116303 rows × 70 columns</p>\n",
       "</div>"
      ],
      "text/plain": [
       "        MonthYear isocode  month  year  count_events_1  count_events_2  \\\n",
       "0          192001     ABW      1  1920             2.0             0.0   \n",
       "1          192001     AFG      1  1920          1050.0           364.0   \n",
       "2          192001     AGO      1  1920            86.0            42.0   \n",
       "3          192001     AIA      1  1920             6.0             0.0   \n",
       "4          192001     ALB      1  1920            28.0            36.0   \n",
       "...           ...     ...    ...   ...             ...             ...   \n",
       "116298     202305     XKX      5  2023            60.0            50.0   \n",
       "116299     202305     YEM      5  2023           276.0           156.0   \n",
       "116300     202305     ZAF      5  2023          6568.0          2976.0   \n",
       "116301     202305     ZMB      5  2023           386.0           264.0   \n",
       "116302     202305     ZWE      5  2023          1644.0           758.0   \n",
       "\n",
       "        count_events_3  count_events_4  count_events_5  count_events_6  ...  \\\n",
       "0                  0.0             2.0             0.0             2.0  ...   \n",
       "1                224.0          1462.0           510.0           118.0  ...   \n",
       "2                 26.0           126.0            62.0            14.0  ...   \n",
       "3                  0.0            10.0             0.0             0.0  ...   \n",
       "4                  8.0            44.0            20.0             4.0  ...   \n",
       "...                ...             ...             ...             ...  ...   \n",
       "116298            58.0           200.0           124.0             2.0  ...   \n",
       "116299           182.0          1364.0           362.0            38.0  ...   \n",
       "116300          2874.0         10818.0          3262.0          1188.0  ...   \n",
       "116301           176.0           724.0           374.0            48.0  ...   \n",
       "116302           618.0          2908.0          1078.0           270.0  ...   \n",
       "\n",
       "        count_events_17_opp  count_events_18_opp  count_events_19_opp  \\\n",
       "0                       0.0                  0.0                  0.0   \n",
       "1                      20.0                 28.0                290.0   \n",
       "2                       0.0                  0.0                  0.0   \n",
       "3                       0.0                  0.0                  0.0   \n",
       "4                       0.0                  0.0                  0.0   \n",
       "...                     ...                  ...                  ...   \n",
       "116298                  0.0                  2.0                  0.0   \n",
       "116299                  2.0                  2.0                  4.0   \n",
       "116300                  6.0                  2.0                 12.0   \n",
       "116301                  0.0                  0.0                  0.0   \n",
       "116302                 26.0                  8.0                  4.0   \n",
       "\n",
       "        count_events_20_opp  country  deaths  state_deaths  nonstate_deaths  \\\n",
       "0                       0.0      NaN     NaN           NaN              NaN   \n",
       "1                       0.0      NaN     NaN           NaN              NaN   \n",
       "2                       0.0      NaN     NaN           NaN              NaN   \n",
       "3                       0.0      NaN     NaN           NaN              NaN   \n",
       "4                       0.0      NaN     NaN           NaN              NaN   \n",
       "...                     ...      ...     ...           ...              ...   \n",
       "116298                  0.0      NaN     NaN           NaN              NaN   \n",
       "116299                  0.0      NaN     NaN           NaN              NaN   \n",
       "116300                  0.0      NaN     NaN           NaN              NaN   \n",
       "116301                  0.0      NaN     NaN           NaN              NaN   \n",
       "116302                  0.0      NaN     NaN           NaN              NaN   \n",
       "\n",
       "        onesided_deaths  civilian_deaths  \n",
       "0                   NaN              NaN  \n",
       "1                   NaN              NaN  \n",
       "2                   NaN              NaN  \n",
       "3                   NaN              NaN  \n",
       "4                   NaN              NaN  \n",
       "...                 ...              ...  \n",
       "116298              NaN              NaN  \n",
       "116299              NaN              NaN  \n",
       "116300              NaN              NaN  \n",
       "116301              NaN              NaN  \n",
       "116302              NaN              NaN  \n",
       "\n",
       "[116303 rows x 70 columns]"
      ]
     },
     "execution_count": 1223,
     "metadata": {},
     "output_type": "execute_result"
    }
   ],
   "source": [
    "df"
   ]
  },
  {
   "cell_type": "code",
   "execution_count": 1224,
   "metadata": {},
   "outputs": [],
   "source": [
    "df = df[df['year'] != 1920]\n",
    "df = df[df['year'] >= 1989]"
   ]
  },
  {
   "cell_type": "code",
   "execution_count": 1225,
   "metadata": {},
   "outputs": [
    {
     "data": {
      "text/html": [
       "<div>\n",
       "<style scoped>\n",
       "    .dataframe tbody tr th:only-of-type {\n",
       "        vertical-align: middle;\n",
       "    }\n",
       "\n",
       "    .dataframe tbody tr th {\n",
       "        vertical-align: top;\n",
       "    }\n",
       "\n",
       "    .dataframe thead th {\n",
       "        text-align: right;\n",
       "    }\n",
       "</style>\n",
       "<table border=\"1\" class=\"dataframe\">\n",
       "  <thead>\n",
       "    <tr style=\"text-align: right;\">\n",
       "      <th></th>\n",
       "      <th>MonthYear</th>\n",
       "      <th>isocode</th>\n",
       "      <th>month</th>\n",
       "      <th>year</th>\n",
       "      <th>count_events_1</th>\n",
       "      <th>count_events_2</th>\n",
       "      <th>count_events_3</th>\n",
       "      <th>count_events_4</th>\n",
       "      <th>count_events_5</th>\n",
       "      <th>count_events_6</th>\n",
       "      <th>...</th>\n",
       "      <th>count_events_17_opp</th>\n",
       "      <th>count_events_18_opp</th>\n",
       "      <th>count_events_19_opp</th>\n",
       "      <th>count_events_20_opp</th>\n",
       "      <th>country</th>\n",
       "      <th>deaths</th>\n",
       "      <th>state_deaths</th>\n",
       "      <th>nonstate_deaths</th>\n",
       "      <th>onesided_deaths</th>\n",
       "      <th>civilian_deaths</th>\n",
       "    </tr>\n",
       "  </thead>\n",
       "  <tbody>\n",
       "    <tr>\n",
       "      <th>23666</th>\n",
       "      <td>198901</td>\n",
       "      <td>AFG</td>\n",
       "      <td>1</td>\n",
       "      <td>1989</td>\n",
       "      <td>462.0</td>\n",
       "      <td>256.0</td>\n",
       "      <td>338.0</td>\n",
       "      <td>2024.0</td>\n",
       "      <td>264.0</td>\n",
       "      <td>88.0</td>\n",
       "      <td>...</td>\n",
       "      <td>0.0</td>\n",
       "      <td>14.0</td>\n",
       "      <td>76.0</td>\n",
       "      <td>0.0</td>\n",
       "      <td>Afghanistan</td>\n",
       "      <td>693.0</td>\n",
       "      <td>693.0</td>\n",
       "      <td>0.0</td>\n",
       "      <td>0.0</td>\n",
       "      <td>0.0</td>\n",
       "    </tr>\n",
       "    <tr>\n",
       "      <th>23667</th>\n",
       "      <td>198901</td>\n",
       "      <td>AGO</td>\n",
       "      <td>1</td>\n",
       "      <td>1989</td>\n",
       "      <td>110.0</td>\n",
       "      <td>72.0</td>\n",
       "      <td>152.0</td>\n",
       "      <td>430.0</td>\n",
       "      <td>242.0</td>\n",
       "      <td>24.0</td>\n",
       "      <td>...</td>\n",
       "      <td>0.0</td>\n",
       "      <td>0.0</td>\n",
       "      <td>4.0</td>\n",
       "      <td>0.0</td>\n",
       "      <td>Angola</td>\n",
       "      <td>249.0</td>\n",
       "      <td>249.0</td>\n",
       "      <td>0.0</td>\n",
       "      <td>0.0</td>\n",
       "      <td>0.0</td>\n",
       "    </tr>\n",
       "    <tr>\n",
       "      <th>23668</th>\n",
       "      <td>198901</td>\n",
       "      <td>ALB</td>\n",
       "      <td>1</td>\n",
       "      <td>1989</td>\n",
       "      <td>64.0</td>\n",
       "      <td>44.0</td>\n",
       "      <td>116.0</td>\n",
       "      <td>192.0</td>\n",
       "      <td>18.0</td>\n",
       "      <td>0.0</td>\n",
       "      <td>...</td>\n",
       "      <td>0.0</td>\n",
       "      <td>0.0</td>\n",
       "      <td>0.0</td>\n",
       "      <td>0.0</td>\n",
       "      <td>NaN</td>\n",
       "      <td>NaN</td>\n",
       "      <td>NaN</td>\n",
       "      <td>NaN</td>\n",
       "      <td>NaN</td>\n",
       "      <td>NaN</td>\n",
       "    </tr>\n",
       "    <tr>\n",
       "      <th>23669</th>\n",
       "      <td>198901</td>\n",
       "      <td>ARE</td>\n",
       "      <td>1</td>\n",
       "      <td>1989</td>\n",
       "      <td>10.0</td>\n",
       "      <td>10.0</td>\n",
       "      <td>16.0</td>\n",
       "      <td>24.0</td>\n",
       "      <td>2.0</td>\n",
       "      <td>2.0</td>\n",
       "      <td>...</td>\n",
       "      <td>0.0</td>\n",
       "      <td>0.0</td>\n",
       "      <td>0.0</td>\n",
       "      <td>0.0</td>\n",
       "      <td>NaN</td>\n",
       "      <td>NaN</td>\n",
       "      <td>NaN</td>\n",
       "      <td>NaN</td>\n",
       "      <td>NaN</td>\n",
       "      <td>NaN</td>\n",
       "    </tr>\n",
       "    <tr>\n",
       "      <th>23670</th>\n",
       "      <td>198901</td>\n",
       "      <td>ARG</td>\n",
       "      <td>1</td>\n",
       "      <td>1989</td>\n",
       "      <td>146.0</td>\n",
       "      <td>36.0</td>\n",
       "      <td>10.0</td>\n",
       "      <td>200.0</td>\n",
       "      <td>58.0</td>\n",
       "      <td>18.0</td>\n",
       "      <td>...</td>\n",
       "      <td>0.0</td>\n",
       "      <td>2.0</td>\n",
       "      <td>8.0</td>\n",
       "      <td>0.0</td>\n",
       "      <td>NaN</td>\n",
       "      <td>NaN</td>\n",
       "      <td>NaN</td>\n",
       "      <td>NaN</td>\n",
       "      <td>NaN</td>\n",
       "      <td>NaN</td>\n",
       "    </tr>\n",
       "    <tr>\n",
       "      <th>...</th>\n",
       "      <td>...</td>\n",
       "      <td>...</td>\n",
       "      <td>...</td>\n",
       "      <td>...</td>\n",
       "      <td>...</td>\n",
       "      <td>...</td>\n",
       "      <td>...</td>\n",
       "      <td>...</td>\n",
       "      <td>...</td>\n",
       "      <td>...</td>\n",
       "      <td>...</td>\n",
       "      <td>...</td>\n",
       "      <td>...</td>\n",
       "      <td>...</td>\n",
       "      <td>...</td>\n",
       "      <td>...</td>\n",
       "      <td>...</td>\n",
       "      <td>...</td>\n",
       "      <td>...</td>\n",
       "      <td>...</td>\n",
       "      <td>...</td>\n",
       "    </tr>\n",
       "    <tr>\n",
       "      <th>116298</th>\n",
       "      <td>202305</td>\n",
       "      <td>XKX</td>\n",
       "      <td>5</td>\n",
       "      <td>2023</td>\n",
       "      <td>60.0</td>\n",
       "      <td>50.0</td>\n",
       "      <td>58.0</td>\n",
       "      <td>200.0</td>\n",
       "      <td>124.0</td>\n",
       "      <td>2.0</td>\n",
       "      <td>...</td>\n",
       "      <td>0.0</td>\n",
       "      <td>2.0</td>\n",
       "      <td>0.0</td>\n",
       "      <td>0.0</td>\n",
       "      <td>NaN</td>\n",
       "      <td>NaN</td>\n",
       "      <td>NaN</td>\n",
       "      <td>NaN</td>\n",
       "      <td>NaN</td>\n",
       "      <td>NaN</td>\n",
       "    </tr>\n",
       "    <tr>\n",
       "      <th>116299</th>\n",
       "      <td>202305</td>\n",
       "      <td>YEM</td>\n",
       "      <td>5</td>\n",
       "      <td>2023</td>\n",
       "      <td>276.0</td>\n",
       "      <td>156.0</td>\n",
       "      <td>182.0</td>\n",
       "      <td>1364.0</td>\n",
       "      <td>362.0</td>\n",
       "      <td>38.0</td>\n",
       "      <td>...</td>\n",
       "      <td>2.0</td>\n",
       "      <td>2.0</td>\n",
       "      <td>4.0</td>\n",
       "      <td>0.0</td>\n",
       "      <td>NaN</td>\n",
       "      <td>NaN</td>\n",
       "      <td>NaN</td>\n",
       "      <td>NaN</td>\n",
       "      <td>NaN</td>\n",
       "      <td>NaN</td>\n",
       "    </tr>\n",
       "    <tr>\n",
       "      <th>116300</th>\n",
       "      <td>202305</td>\n",
       "      <td>ZAF</td>\n",
       "      <td>5</td>\n",
       "      <td>2023</td>\n",
       "      <td>6568.0</td>\n",
       "      <td>2976.0</td>\n",
       "      <td>2874.0</td>\n",
       "      <td>10818.0</td>\n",
       "      <td>3262.0</td>\n",
       "      <td>1188.0</td>\n",
       "      <td>...</td>\n",
       "      <td>6.0</td>\n",
       "      <td>2.0</td>\n",
       "      <td>12.0</td>\n",
       "      <td>0.0</td>\n",
       "      <td>NaN</td>\n",
       "      <td>NaN</td>\n",
       "      <td>NaN</td>\n",
       "      <td>NaN</td>\n",
       "      <td>NaN</td>\n",
       "      <td>NaN</td>\n",
       "    </tr>\n",
       "    <tr>\n",
       "      <th>116301</th>\n",
       "      <td>202305</td>\n",
       "      <td>ZMB</td>\n",
       "      <td>5</td>\n",
       "      <td>2023</td>\n",
       "      <td>386.0</td>\n",
       "      <td>264.0</td>\n",
       "      <td>176.0</td>\n",
       "      <td>724.0</td>\n",
       "      <td>374.0</td>\n",
       "      <td>48.0</td>\n",
       "      <td>...</td>\n",
       "      <td>0.0</td>\n",
       "      <td>0.0</td>\n",
       "      <td>0.0</td>\n",
       "      <td>0.0</td>\n",
       "      <td>NaN</td>\n",
       "      <td>NaN</td>\n",
       "      <td>NaN</td>\n",
       "      <td>NaN</td>\n",
       "      <td>NaN</td>\n",
       "      <td>NaN</td>\n",
       "    </tr>\n",
       "    <tr>\n",
       "      <th>116302</th>\n",
       "      <td>202305</td>\n",
       "      <td>ZWE</td>\n",
       "      <td>5</td>\n",
       "      <td>2023</td>\n",
       "      <td>1644.0</td>\n",
       "      <td>758.0</td>\n",
       "      <td>618.0</td>\n",
       "      <td>2908.0</td>\n",
       "      <td>1078.0</td>\n",
       "      <td>270.0</td>\n",
       "      <td>...</td>\n",
       "      <td>26.0</td>\n",
       "      <td>8.0</td>\n",
       "      <td>4.0</td>\n",
       "      <td>0.0</td>\n",
       "      <td>NaN</td>\n",
       "      <td>NaN</td>\n",
       "      <td>NaN</td>\n",
       "      <td>NaN</td>\n",
       "      <td>NaN</td>\n",
       "      <td>NaN</td>\n",
       "    </tr>\n",
       "  </tbody>\n",
       "</table>\n",
       "<p>92637 rows × 70 columns</p>\n",
       "</div>"
      ],
      "text/plain": [
       "        MonthYear isocode  month  year  count_events_1  count_events_2  \\\n",
       "23666      198901     AFG      1  1989           462.0           256.0   \n",
       "23667      198901     AGO      1  1989           110.0            72.0   \n",
       "23668      198901     ALB      1  1989            64.0            44.0   \n",
       "23669      198901     ARE      1  1989            10.0            10.0   \n",
       "23670      198901     ARG      1  1989           146.0            36.0   \n",
       "...           ...     ...    ...   ...             ...             ...   \n",
       "116298     202305     XKX      5  2023            60.0            50.0   \n",
       "116299     202305     YEM      5  2023           276.0           156.0   \n",
       "116300     202305     ZAF      5  2023          6568.0          2976.0   \n",
       "116301     202305     ZMB      5  2023           386.0           264.0   \n",
       "116302     202305     ZWE      5  2023          1644.0           758.0   \n",
       "\n",
       "        count_events_3  count_events_4  count_events_5  count_events_6  ...  \\\n",
       "23666            338.0          2024.0           264.0            88.0  ...   \n",
       "23667            152.0           430.0           242.0            24.0  ...   \n",
       "23668            116.0           192.0            18.0             0.0  ...   \n",
       "23669             16.0            24.0             2.0             2.0  ...   \n",
       "23670             10.0           200.0            58.0            18.0  ...   \n",
       "...                ...             ...             ...             ...  ...   \n",
       "116298            58.0           200.0           124.0             2.0  ...   \n",
       "116299           182.0          1364.0           362.0            38.0  ...   \n",
       "116300          2874.0         10818.0          3262.0          1188.0  ...   \n",
       "116301           176.0           724.0           374.0            48.0  ...   \n",
       "116302           618.0          2908.0          1078.0           270.0  ...   \n",
       "\n",
       "        count_events_17_opp  count_events_18_opp  count_events_19_opp  \\\n",
       "23666                   0.0                 14.0                 76.0   \n",
       "23667                   0.0                  0.0                  4.0   \n",
       "23668                   0.0                  0.0                  0.0   \n",
       "23669                   0.0                  0.0                  0.0   \n",
       "23670                   0.0                  2.0                  8.0   \n",
       "...                     ...                  ...                  ...   \n",
       "116298                  0.0                  2.0                  0.0   \n",
       "116299                  2.0                  2.0                  4.0   \n",
       "116300                  6.0                  2.0                 12.0   \n",
       "116301                  0.0                  0.0                  0.0   \n",
       "116302                 26.0                  8.0                  4.0   \n",
       "\n",
       "        count_events_20_opp      country  deaths  state_deaths  \\\n",
       "23666                   0.0  Afghanistan   693.0         693.0   \n",
       "23667                   0.0       Angola   249.0         249.0   \n",
       "23668                   0.0          NaN     NaN           NaN   \n",
       "23669                   0.0          NaN     NaN           NaN   \n",
       "23670                   0.0          NaN     NaN           NaN   \n",
       "...                     ...          ...     ...           ...   \n",
       "116298                  0.0          NaN     NaN           NaN   \n",
       "116299                  0.0          NaN     NaN           NaN   \n",
       "116300                  0.0          NaN     NaN           NaN   \n",
       "116301                  0.0          NaN     NaN           NaN   \n",
       "116302                  0.0          NaN     NaN           NaN   \n",
       "\n",
       "        nonstate_deaths  onesided_deaths  civilian_deaths  \n",
       "23666               0.0              0.0              0.0  \n",
       "23667               0.0              0.0              0.0  \n",
       "23668               NaN              NaN              NaN  \n",
       "23669               NaN              NaN              NaN  \n",
       "23670               NaN              NaN              NaN  \n",
       "...                 ...              ...              ...  \n",
       "116298              NaN              NaN              NaN  \n",
       "116299              NaN              NaN              NaN  \n",
       "116300              NaN              NaN              NaN  \n",
       "116301              NaN              NaN              NaN  \n",
       "116302              NaN              NaN              NaN  \n",
       "\n",
       "[92637 rows x 70 columns]"
      ]
     },
     "execution_count": 1225,
     "metadata": {},
     "output_type": "execute_result"
    }
   ],
   "source": [
    "df"
   ]
  },
  {
   "cell_type": "code",
   "execution_count": 1226,
   "metadata": {},
   "outputs": [
    {
     "data": {
      "text/plain": [
       "Index(['MonthYear', 'isocode', 'month', 'year', 'count_events_1',\n",
       "       'count_events_2', 'count_events_3', 'count_events_4', 'count_events_5',\n",
       "       'count_events_6', 'count_events_7', 'count_events_8', 'count_events_9',\n",
       "       'count_events_10', 'count_events_11', 'count_events_12',\n",
       "       'count_events_13', 'count_events_14', 'count_events_15',\n",
       "       'count_events_16', 'count_events_17', 'count_events_18',\n",
       "       'count_events_19', 'count_events_20', 'count_events_1_gov',\n",
       "       'count_events_2_gov', 'count_events_3_gov', 'count_events_4_gov',\n",
       "       'count_events_5_gov', 'count_events_6_gov', 'count_events_7_gov',\n",
       "       'count_events_8_gov', 'count_events_9_gov', 'count_events_10_gov',\n",
       "       'count_events_11_gov', 'count_events_12_gov', 'count_events_13_gov',\n",
       "       'count_events_14_gov', 'count_events_15_gov', 'count_events_16_gov',\n",
       "       'count_events_17_gov', 'count_events_18_gov', 'count_events_19_gov',\n",
       "       'count_events_20_gov', 'count_events_1_opp', 'count_events_2_opp',\n",
       "       'count_events_3_opp', 'count_events_4_opp', 'count_events_5_opp',\n",
       "       'count_events_6_opp', 'count_events_7_opp', 'count_events_8_opp',\n",
       "       'count_events_9_opp', 'count_events_10_opp', 'count_events_11_opp',\n",
       "       'count_events_12_opp', 'count_events_13_opp', 'count_events_14_opp',\n",
       "       'count_events_15_opp', 'count_events_16_opp', 'count_events_17_opp',\n",
       "       'count_events_18_opp', 'count_events_19_opp', 'count_events_20_opp',\n",
       "       'country', 'deaths', 'state_deaths', 'nonstate_deaths',\n",
       "       'onesided_deaths', 'civilian_deaths'],\n",
       "      dtype='object')"
      ]
     },
     "execution_count": 1226,
     "metadata": {},
     "output_type": "execute_result"
    }
   ],
   "source": [
    "df.columns"
   ]
  },
  {
   "cell_type": "code",
   "execution_count": 1227,
   "metadata": {},
   "outputs": [
    {
     "name": "stdout",
     "output_type": "stream",
     "text": [
      "country: 85.76270820514482%\n",
      "deaths: 85.76270820514482%\n",
      "state_deaths: 85.76270820514482%\n",
      "nonstate_deaths: 85.76270820514482%\n",
      "onesided_deaths: 85.76270820514482%\n",
      "civilian_deaths: 85.76270820514482%\n"
     ]
    }
   ],
   "source": [
    "cols = ['country', 'deaths', 'state_deaths', 'nonstate_deaths', 'onesided_deaths', 'civilian_deaths']\n",
    "for col in cols:\n",
    "    pct_missing = df[col].isnull().sum() * 100 / len(df)\n",
    "    print(f'{col}: {pct_missing}%')\n"
   ]
  },
  {
   "cell_type": "code",
   "execution_count": 1228,
   "metadata": {},
   "outputs": [
    {
     "data": {
      "text/html": [
       "<div>\n",
       "<style scoped>\n",
       "    .dataframe tbody tr th:only-of-type {\n",
       "        vertical-align: middle;\n",
       "    }\n",
       "\n",
       "    .dataframe tbody tr th {\n",
       "        vertical-align: top;\n",
       "    }\n",
       "\n",
       "    .dataframe thead th {\n",
       "        text-align: right;\n",
       "    }\n",
       "</style>\n",
       "<table border=\"1\" class=\"dataframe\">\n",
       "  <thead>\n",
       "    <tr style=\"text-align: right;\">\n",
       "      <th></th>\n",
       "      <th>MonthYear</th>\n",
       "      <th>isocode</th>\n",
       "      <th>month</th>\n",
       "      <th>year</th>\n",
       "      <th>count_events_1</th>\n",
       "      <th>count_events_2</th>\n",
       "      <th>count_events_3</th>\n",
       "      <th>count_events_4</th>\n",
       "      <th>count_events_5</th>\n",
       "      <th>count_events_6</th>\n",
       "      <th>...</th>\n",
       "      <th>count_events_17_opp</th>\n",
       "      <th>count_events_18_opp</th>\n",
       "      <th>count_events_19_opp</th>\n",
       "      <th>count_events_20_opp</th>\n",
       "      <th>country</th>\n",
       "      <th>deaths</th>\n",
       "      <th>state_deaths</th>\n",
       "      <th>nonstate_deaths</th>\n",
       "      <th>onesided_deaths</th>\n",
       "      <th>civilian_deaths</th>\n",
       "    </tr>\n",
       "  </thead>\n",
       "  <tbody>\n",
       "    <tr>\n",
       "      <th>23666</th>\n",
       "      <td>198901</td>\n",
       "      <td>AFG</td>\n",
       "      <td>1</td>\n",
       "      <td>1989</td>\n",
       "      <td>462.0</td>\n",
       "      <td>256.0</td>\n",
       "      <td>338.0</td>\n",
       "      <td>2024.0</td>\n",
       "      <td>264.0</td>\n",
       "      <td>88.0</td>\n",
       "      <td>...</td>\n",
       "      <td>0.0</td>\n",
       "      <td>14.0</td>\n",
       "      <td>76.0</td>\n",
       "      <td>0.0</td>\n",
       "      <td>Afghanistan</td>\n",
       "      <td>693.0</td>\n",
       "      <td>693.0</td>\n",
       "      <td>0.0</td>\n",
       "      <td>0.0</td>\n",
       "      <td>0.0</td>\n",
       "    </tr>\n",
       "    <tr>\n",
       "      <th>23667</th>\n",
       "      <td>198901</td>\n",
       "      <td>AGO</td>\n",
       "      <td>1</td>\n",
       "      <td>1989</td>\n",
       "      <td>110.0</td>\n",
       "      <td>72.0</td>\n",
       "      <td>152.0</td>\n",
       "      <td>430.0</td>\n",
       "      <td>242.0</td>\n",
       "      <td>24.0</td>\n",
       "      <td>...</td>\n",
       "      <td>0.0</td>\n",
       "      <td>0.0</td>\n",
       "      <td>4.0</td>\n",
       "      <td>0.0</td>\n",
       "      <td>Angola</td>\n",
       "      <td>249.0</td>\n",
       "      <td>249.0</td>\n",
       "      <td>0.0</td>\n",
       "      <td>0.0</td>\n",
       "      <td>0.0</td>\n",
       "    </tr>\n",
       "    <tr>\n",
       "      <th>23705</th>\n",
       "      <td>198901</td>\n",
       "      <td>COL</td>\n",
       "      <td>1</td>\n",
       "      <td>1989</td>\n",
       "      <td>54.0</td>\n",
       "      <td>30.0</td>\n",
       "      <td>44.0</td>\n",
       "      <td>180.0</td>\n",
       "      <td>42.0</td>\n",
       "      <td>4.0</td>\n",
       "      <td>...</td>\n",
       "      <td>0.0</td>\n",
       "      <td>14.0</td>\n",
       "      <td>4.0</td>\n",
       "      <td>0.0</td>\n",
       "      <td>Colombia</td>\n",
       "      <td>9.0</td>\n",
       "      <td>9.0</td>\n",
       "      <td>0.0</td>\n",
       "      <td>0.0</td>\n",
       "      <td>0.0</td>\n",
       "    </tr>\n",
       "    <tr>\n",
       "      <th>23722</th>\n",
       "      <td>198901</td>\n",
       "      <td>ETH</td>\n",
       "      <td>1</td>\n",
       "      <td>1989</td>\n",
       "      <td>36.0</td>\n",
       "      <td>52.0</td>\n",
       "      <td>74.0</td>\n",
       "      <td>254.0</td>\n",
       "      <td>76.0</td>\n",
       "      <td>12.0</td>\n",
       "      <td>...</td>\n",
       "      <td>0.0</td>\n",
       "      <td>4.0</td>\n",
       "      <td>2.0</td>\n",
       "      <td>0.0</td>\n",
       "      <td>Ethiopia</td>\n",
       "      <td>2716.0</td>\n",
       "      <td>2716.0</td>\n",
       "      <td>0.0</td>\n",
       "      <td>0.0</td>\n",
       "      <td>0.0</td>\n",
       "    </tr>\n",
       "    <tr>\n",
       "      <th>23728</th>\n",
       "      <td>198901</td>\n",
       "      <td>GBR</td>\n",
       "      <td>1</td>\n",
       "      <td>1989</td>\n",
       "      <td>1030.0</td>\n",
       "      <td>350.0</td>\n",
       "      <td>444.0</td>\n",
       "      <td>1522.0</td>\n",
       "      <td>360.0</td>\n",
       "      <td>94.0</td>\n",
       "      <td>...</td>\n",
       "      <td>6.0</td>\n",
       "      <td>0.0</td>\n",
       "      <td>0.0</td>\n",
       "      <td>0.0</td>\n",
       "      <td>United Kingdom</td>\n",
       "      <td>3.0</td>\n",
       "      <td>2.0</td>\n",
       "      <td>0.0</td>\n",
       "      <td>1.0</td>\n",
       "      <td>1.0</td>\n",
       "    </tr>\n",
       "    <tr>\n",
       "      <th>...</th>\n",
       "      <td>...</td>\n",
       "      <td>...</td>\n",
       "      <td>...</td>\n",
       "      <td>...</td>\n",
       "      <td>...</td>\n",
       "      <td>...</td>\n",
       "      <td>...</td>\n",
       "      <td>...</td>\n",
       "      <td>...</td>\n",
       "      <td>...</td>\n",
       "      <td>...</td>\n",
       "      <td>...</td>\n",
       "      <td>...</td>\n",
       "      <td>...</td>\n",
       "      <td>...</td>\n",
       "      <td>...</td>\n",
       "      <td>...</td>\n",
       "      <td>...</td>\n",
       "      <td>...</td>\n",
       "      <td>...</td>\n",
       "      <td>...</td>\n",
       "    </tr>\n",
       "    <tr>\n",
       "      <th>115802</th>\n",
       "      <td>202303</td>\n",
       "      <td>THA</td>\n",
       "      <td>3</td>\n",
       "      <td>2023</td>\n",
       "      <td>2554.0</td>\n",
       "      <td>1570.0</td>\n",
       "      <td>1626.0</td>\n",
       "      <td>6782.0</td>\n",
       "      <td>1834.0</td>\n",
       "      <td>700.0</td>\n",
       "      <td>...</td>\n",
       "      <td>32.0</td>\n",
       "      <td>2.0</td>\n",
       "      <td>34.0</td>\n",
       "      <td>0.0</td>\n",
       "      <td>Thailand</td>\n",
       "      <td>2.0</td>\n",
       "      <td>2.0</td>\n",
       "      <td>0.0</td>\n",
       "      <td>0.0</td>\n",
       "      <td>0.0</td>\n",
       "    </tr>\n",
       "    <tr>\n",
       "      <th>115810</th>\n",
       "      <td>202303</td>\n",
       "      <td>TUR</td>\n",
       "      <td>3</td>\n",
       "      <td>2023</td>\n",
       "      <td>5276.0</td>\n",
       "      <td>2946.0</td>\n",
       "      <td>4304.0</td>\n",
       "      <td>14786.0</td>\n",
       "      <td>5360.0</td>\n",
       "      <td>1374.0</td>\n",
       "      <td>...</td>\n",
       "      <td>32.0</td>\n",
       "      <td>18.0</td>\n",
       "      <td>38.0</td>\n",
       "      <td>0.0</td>\n",
       "      <td>Turkey</td>\n",
       "      <td>1.0</td>\n",
       "      <td>1.0</td>\n",
       "      <td>0.0</td>\n",
       "      <td>0.0</td>\n",
       "      <td>0.0</td>\n",
       "    </tr>\n",
       "    <tr>\n",
       "      <th>115814</th>\n",
       "      <td>202303</td>\n",
       "      <td>UGA</td>\n",
       "      <td>3</td>\n",
       "      <td>2023</td>\n",
       "      <td>2102.0</td>\n",
       "      <td>1256.0</td>\n",
       "      <td>1160.0</td>\n",
       "      <td>3526.0</td>\n",
       "      <td>1514.0</td>\n",
       "      <td>380.0</td>\n",
       "      <td>...</td>\n",
       "      <td>14.0</td>\n",
       "      <td>8.0</td>\n",
       "      <td>30.0</td>\n",
       "      <td>0.0</td>\n",
       "      <td>Uganda</td>\n",
       "      <td>1.0</td>\n",
       "      <td>0.0</td>\n",
       "      <td>0.0</td>\n",
       "      <td>1.0</td>\n",
       "      <td>1.0</td>\n",
       "    </tr>\n",
       "    <tr>\n",
       "      <th>115815</th>\n",
       "      <td>202303</td>\n",
       "      <td>UKR</td>\n",
       "      <td>3</td>\n",
       "      <td>2023</td>\n",
       "      <td>25644.0</td>\n",
       "      <td>12548.0</td>\n",
       "      <td>14472.0</td>\n",
       "      <td>49040.0</td>\n",
       "      <td>16670.0</td>\n",
       "      <td>5434.0</td>\n",
       "      <td>...</td>\n",
       "      <td>112.0</td>\n",
       "      <td>42.0</td>\n",
       "      <td>124.0</td>\n",
       "      <td>0.0</td>\n",
       "      <td>Ukraine</td>\n",
       "      <td>829.0</td>\n",
       "      <td>829.0</td>\n",
       "      <td>0.0</td>\n",
       "      <td>0.0</td>\n",
       "      <td>170.0</td>\n",
       "    </tr>\n",
       "    <tr>\n",
       "      <th>115828</th>\n",
       "      <td>202303</td>\n",
       "      <td>YEM</td>\n",
       "      <td>3</td>\n",
       "      <td>2023</td>\n",
       "      <td>1332.0</td>\n",
       "      <td>502.0</td>\n",
       "      <td>648.0</td>\n",
       "      <td>1924.0</td>\n",
       "      <td>1150.0</td>\n",
       "      <td>152.0</td>\n",
       "      <td>...</td>\n",
       "      <td>32.0</td>\n",
       "      <td>6.0</td>\n",
       "      <td>42.0</td>\n",
       "      <td>0.0</td>\n",
       "      <td>Yemen</td>\n",
       "      <td>104.0</td>\n",
       "      <td>96.0</td>\n",
       "      <td>8.0</td>\n",
       "      <td>0.0</td>\n",
       "      <td>34.0</td>\n",
       "    </tr>\n",
       "  </tbody>\n",
       "</table>\n",
       "<p>13189 rows × 70 columns</p>\n",
       "</div>"
      ],
      "text/plain": [
       "        MonthYear isocode  month  year  count_events_1  count_events_2  \\\n",
       "23666      198901     AFG      1  1989           462.0           256.0   \n",
       "23667      198901     AGO      1  1989           110.0            72.0   \n",
       "23705      198901     COL      1  1989            54.0            30.0   \n",
       "23722      198901     ETH      1  1989            36.0            52.0   \n",
       "23728      198901     GBR      1  1989          1030.0           350.0   \n",
       "...           ...     ...    ...   ...             ...             ...   \n",
       "115802     202303     THA      3  2023          2554.0          1570.0   \n",
       "115810     202303     TUR      3  2023          5276.0          2946.0   \n",
       "115814     202303     UGA      3  2023          2102.0          1256.0   \n",
       "115815     202303     UKR      3  2023         25644.0         12548.0   \n",
       "115828     202303     YEM      3  2023          1332.0           502.0   \n",
       "\n",
       "        count_events_3  count_events_4  count_events_5  count_events_6  ...  \\\n",
       "23666            338.0          2024.0           264.0            88.0  ...   \n",
       "23667            152.0           430.0           242.0            24.0  ...   \n",
       "23705             44.0           180.0            42.0             4.0  ...   \n",
       "23722             74.0           254.0            76.0            12.0  ...   \n",
       "23728            444.0          1522.0           360.0            94.0  ...   \n",
       "...                ...             ...             ...             ...  ...   \n",
       "115802          1626.0          6782.0          1834.0           700.0  ...   \n",
       "115810          4304.0         14786.0          5360.0          1374.0  ...   \n",
       "115814          1160.0          3526.0          1514.0           380.0  ...   \n",
       "115815         14472.0         49040.0         16670.0          5434.0  ...   \n",
       "115828           648.0          1924.0          1150.0           152.0  ...   \n",
       "\n",
       "        count_events_17_opp  count_events_18_opp  count_events_19_opp  \\\n",
       "23666                   0.0                 14.0                 76.0   \n",
       "23667                   0.0                  0.0                  4.0   \n",
       "23705                   0.0                 14.0                  4.0   \n",
       "23722                   0.0                  4.0                  2.0   \n",
       "23728                   6.0                  0.0                  0.0   \n",
       "...                     ...                  ...                  ...   \n",
       "115802                 32.0                  2.0                 34.0   \n",
       "115810                 32.0                 18.0                 38.0   \n",
       "115814                 14.0                  8.0                 30.0   \n",
       "115815                112.0                 42.0                124.0   \n",
       "115828                 32.0                  6.0                 42.0   \n",
       "\n",
       "        count_events_20_opp         country  deaths  state_deaths  \\\n",
       "23666                   0.0     Afghanistan   693.0         693.0   \n",
       "23667                   0.0          Angola   249.0         249.0   \n",
       "23705                   0.0        Colombia     9.0           9.0   \n",
       "23722                   0.0        Ethiopia  2716.0        2716.0   \n",
       "23728                   0.0  United Kingdom     3.0           2.0   \n",
       "...                     ...             ...     ...           ...   \n",
       "115802                  0.0        Thailand     2.0           2.0   \n",
       "115810                  0.0          Turkey     1.0           1.0   \n",
       "115814                  0.0          Uganda     1.0           0.0   \n",
       "115815                  0.0         Ukraine   829.0         829.0   \n",
       "115828                  0.0           Yemen   104.0          96.0   \n",
       "\n",
       "        nonstate_deaths  onesided_deaths  civilian_deaths  \n",
       "23666               0.0              0.0              0.0  \n",
       "23667               0.0              0.0              0.0  \n",
       "23705               0.0              0.0              0.0  \n",
       "23722               0.0              0.0              0.0  \n",
       "23728               0.0              1.0              1.0  \n",
       "...                 ...              ...              ...  \n",
       "115802              0.0              0.0              0.0  \n",
       "115810              0.0              0.0              0.0  \n",
       "115814              0.0              1.0              1.0  \n",
       "115815              0.0              0.0            170.0  \n",
       "115828              8.0              0.0             34.0  \n",
       "\n",
       "[13189 rows x 70 columns]"
      ]
     },
     "execution_count": 1228,
     "metadata": {},
     "output_type": "execute_result"
    }
   ],
   "source": [
    "df_no_nan_country = df[df['country'].notna()]\n",
    "df_no_nan_country"
   ]
  },
  {
   "cell_type": "code",
   "execution_count": 1229,
   "metadata": {},
   "outputs": [
    {
     "data": {
      "text/html": [
       "<div>\n",
       "<style scoped>\n",
       "    .dataframe tbody tr th:only-of-type {\n",
       "        vertical-align: middle;\n",
       "    }\n",
       "\n",
       "    .dataframe tbody tr th {\n",
       "        vertical-align: top;\n",
       "    }\n",
       "\n",
       "    .dataframe thead th {\n",
       "        text-align: right;\n",
       "    }\n",
       "</style>\n",
       "<table border=\"1\" class=\"dataframe\">\n",
       "  <thead>\n",
       "    <tr style=\"text-align: right;\">\n",
       "      <th></th>\n",
       "      <th>MonthYear</th>\n",
       "      <th>isocode</th>\n",
       "      <th>month</th>\n",
       "      <th>year</th>\n",
       "      <th>count_events_1</th>\n",
       "      <th>count_events_2</th>\n",
       "      <th>count_events_3</th>\n",
       "      <th>count_events_4</th>\n",
       "      <th>count_events_5</th>\n",
       "      <th>count_events_6</th>\n",
       "      <th>...</th>\n",
       "      <th>count_events_17_opp</th>\n",
       "      <th>count_events_18_opp</th>\n",
       "      <th>count_events_19_opp</th>\n",
       "      <th>count_events_20_opp</th>\n",
       "      <th>country</th>\n",
       "      <th>deaths</th>\n",
       "      <th>state_deaths</th>\n",
       "      <th>nonstate_deaths</th>\n",
       "      <th>onesided_deaths</th>\n",
       "      <th>civilian_deaths</th>\n",
       "    </tr>\n",
       "  </thead>\n",
       "  <tbody>\n",
       "    <tr>\n",
       "      <th>23666</th>\n",
       "      <td>198901</td>\n",
       "      <td>AFG</td>\n",
       "      <td>1</td>\n",
       "      <td>1989</td>\n",
       "      <td>462.0</td>\n",
       "      <td>256.0</td>\n",
       "      <td>338.0</td>\n",
       "      <td>2024.0</td>\n",
       "      <td>264.0</td>\n",
       "      <td>88.0</td>\n",
       "      <td>...</td>\n",
       "      <td>0.0</td>\n",
       "      <td>14.0</td>\n",
       "      <td>76.0</td>\n",
       "      <td>0.0</td>\n",
       "      <td>Afghanistan</td>\n",
       "      <td>693.0</td>\n",
       "      <td>693.0</td>\n",
       "      <td>0.0</td>\n",
       "      <td>0.0</td>\n",
       "      <td>0.0</td>\n",
       "    </tr>\n",
       "    <tr>\n",
       "      <th>23667</th>\n",
       "      <td>198901</td>\n",
       "      <td>AGO</td>\n",
       "      <td>1</td>\n",
       "      <td>1989</td>\n",
       "      <td>110.0</td>\n",
       "      <td>72.0</td>\n",
       "      <td>152.0</td>\n",
       "      <td>430.0</td>\n",
       "      <td>242.0</td>\n",
       "      <td>24.0</td>\n",
       "      <td>...</td>\n",
       "      <td>0.0</td>\n",
       "      <td>0.0</td>\n",
       "      <td>4.0</td>\n",
       "      <td>0.0</td>\n",
       "      <td>Angola</td>\n",
       "      <td>249.0</td>\n",
       "      <td>249.0</td>\n",
       "      <td>0.0</td>\n",
       "      <td>0.0</td>\n",
       "      <td>0.0</td>\n",
       "    </tr>\n",
       "    <tr>\n",
       "      <th>23668</th>\n",
       "      <td>198901</td>\n",
       "      <td>ALB</td>\n",
       "      <td>1</td>\n",
       "      <td>1989</td>\n",
       "      <td>64.0</td>\n",
       "      <td>44.0</td>\n",
       "      <td>116.0</td>\n",
       "      <td>192.0</td>\n",
       "      <td>18.0</td>\n",
       "      <td>0.0</td>\n",
       "      <td>...</td>\n",
       "      <td>0.0</td>\n",
       "      <td>0.0</td>\n",
       "      <td>0.0</td>\n",
       "      <td>0.0</td>\n",
       "      <td>NaN</td>\n",
       "      <td>NaN</td>\n",
       "      <td>NaN</td>\n",
       "      <td>NaN</td>\n",
       "      <td>NaN</td>\n",
       "      <td>NaN</td>\n",
       "    </tr>\n",
       "    <tr>\n",
       "      <th>23669</th>\n",
       "      <td>198901</td>\n",
       "      <td>ARE</td>\n",
       "      <td>1</td>\n",
       "      <td>1989</td>\n",
       "      <td>10.0</td>\n",
       "      <td>10.0</td>\n",
       "      <td>16.0</td>\n",
       "      <td>24.0</td>\n",
       "      <td>2.0</td>\n",
       "      <td>2.0</td>\n",
       "      <td>...</td>\n",
       "      <td>0.0</td>\n",
       "      <td>0.0</td>\n",
       "      <td>0.0</td>\n",
       "      <td>0.0</td>\n",
       "      <td>NaN</td>\n",
       "      <td>NaN</td>\n",
       "      <td>NaN</td>\n",
       "      <td>NaN</td>\n",
       "      <td>NaN</td>\n",
       "      <td>NaN</td>\n",
       "    </tr>\n",
       "    <tr>\n",
       "      <th>23670</th>\n",
       "      <td>198901</td>\n",
       "      <td>ARG</td>\n",
       "      <td>1</td>\n",
       "      <td>1989</td>\n",
       "      <td>146.0</td>\n",
       "      <td>36.0</td>\n",
       "      <td>10.0</td>\n",
       "      <td>200.0</td>\n",
       "      <td>58.0</td>\n",
       "      <td>18.0</td>\n",
       "      <td>...</td>\n",
       "      <td>0.0</td>\n",
       "      <td>2.0</td>\n",
       "      <td>8.0</td>\n",
       "      <td>0.0</td>\n",
       "      <td>NaN</td>\n",
       "      <td>NaN</td>\n",
       "      <td>NaN</td>\n",
       "      <td>NaN</td>\n",
       "      <td>NaN</td>\n",
       "      <td>NaN</td>\n",
       "    </tr>\n",
       "    <tr>\n",
       "      <th>...</th>\n",
       "      <td>...</td>\n",
       "      <td>...</td>\n",
       "      <td>...</td>\n",
       "      <td>...</td>\n",
       "      <td>...</td>\n",
       "      <td>...</td>\n",
       "      <td>...</td>\n",
       "      <td>...</td>\n",
       "      <td>...</td>\n",
       "      <td>...</td>\n",
       "      <td>...</td>\n",
       "      <td>...</td>\n",
       "      <td>...</td>\n",
       "      <td>...</td>\n",
       "      <td>...</td>\n",
       "      <td>...</td>\n",
       "      <td>...</td>\n",
       "      <td>...</td>\n",
       "      <td>...</td>\n",
       "      <td>...</td>\n",
       "      <td>...</td>\n",
       "    </tr>\n",
       "    <tr>\n",
       "      <th>116298</th>\n",
       "      <td>202305</td>\n",
       "      <td>XKX</td>\n",
       "      <td>5</td>\n",
       "      <td>2023</td>\n",
       "      <td>60.0</td>\n",
       "      <td>50.0</td>\n",
       "      <td>58.0</td>\n",
       "      <td>200.0</td>\n",
       "      <td>124.0</td>\n",
       "      <td>2.0</td>\n",
       "      <td>...</td>\n",
       "      <td>0.0</td>\n",
       "      <td>2.0</td>\n",
       "      <td>0.0</td>\n",
       "      <td>0.0</td>\n",
       "      <td>NaN</td>\n",
       "      <td>NaN</td>\n",
       "      <td>NaN</td>\n",
       "      <td>NaN</td>\n",
       "      <td>NaN</td>\n",
       "      <td>NaN</td>\n",
       "    </tr>\n",
       "    <tr>\n",
       "      <th>116299</th>\n",
       "      <td>202305</td>\n",
       "      <td>YEM</td>\n",
       "      <td>5</td>\n",
       "      <td>2023</td>\n",
       "      <td>276.0</td>\n",
       "      <td>156.0</td>\n",
       "      <td>182.0</td>\n",
       "      <td>1364.0</td>\n",
       "      <td>362.0</td>\n",
       "      <td>38.0</td>\n",
       "      <td>...</td>\n",
       "      <td>2.0</td>\n",
       "      <td>2.0</td>\n",
       "      <td>4.0</td>\n",
       "      <td>0.0</td>\n",
       "      <td>NaN</td>\n",
       "      <td>NaN</td>\n",
       "      <td>NaN</td>\n",
       "      <td>NaN</td>\n",
       "      <td>NaN</td>\n",
       "      <td>NaN</td>\n",
       "    </tr>\n",
       "    <tr>\n",
       "      <th>116300</th>\n",
       "      <td>202305</td>\n",
       "      <td>ZAF</td>\n",
       "      <td>5</td>\n",
       "      <td>2023</td>\n",
       "      <td>6568.0</td>\n",
       "      <td>2976.0</td>\n",
       "      <td>2874.0</td>\n",
       "      <td>10818.0</td>\n",
       "      <td>3262.0</td>\n",
       "      <td>1188.0</td>\n",
       "      <td>...</td>\n",
       "      <td>6.0</td>\n",
       "      <td>2.0</td>\n",
       "      <td>12.0</td>\n",
       "      <td>0.0</td>\n",
       "      <td>NaN</td>\n",
       "      <td>NaN</td>\n",
       "      <td>NaN</td>\n",
       "      <td>NaN</td>\n",
       "      <td>NaN</td>\n",
       "      <td>NaN</td>\n",
       "    </tr>\n",
       "    <tr>\n",
       "      <th>116301</th>\n",
       "      <td>202305</td>\n",
       "      <td>ZMB</td>\n",
       "      <td>5</td>\n",
       "      <td>2023</td>\n",
       "      <td>386.0</td>\n",
       "      <td>264.0</td>\n",
       "      <td>176.0</td>\n",
       "      <td>724.0</td>\n",
       "      <td>374.0</td>\n",
       "      <td>48.0</td>\n",
       "      <td>...</td>\n",
       "      <td>0.0</td>\n",
       "      <td>0.0</td>\n",
       "      <td>0.0</td>\n",
       "      <td>0.0</td>\n",
       "      <td>NaN</td>\n",
       "      <td>NaN</td>\n",
       "      <td>NaN</td>\n",
       "      <td>NaN</td>\n",
       "      <td>NaN</td>\n",
       "      <td>NaN</td>\n",
       "    </tr>\n",
       "    <tr>\n",
       "      <th>116302</th>\n",
       "      <td>202305</td>\n",
       "      <td>ZWE</td>\n",
       "      <td>5</td>\n",
       "      <td>2023</td>\n",
       "      <td>1644.0</td>\n",
       "      <td>758.0</td>\n",
       "      <td>618.0</td>\n",
       "      <td>2908.0</td>\n",
       "      <td>1078.0</td>\n",
       "      <td>270.0</td>\n",
       "      <td>...</td>\n",
       "      <td>26.0</td>\n",
       "      <td>8.0</td>\n",
       "      <td>4.0</td>\n",
       "      <td>0.0</td>\n",
       "      <td>NaN</td>\n",
       "      <td>NaN</td>\n",
       "      <td>NaN</td>\n",
       "      <td>NaN</td>\n",
       "      <td>NaN</td>\n",
       "      <td>NaN</td>\n",
       "    </tr>\n",
       "  </tbody>\n",
       "</table>\n",
       "<p>92637 rows × 70 columns</p>\n",
       "</div>"
      ],
      "text/plain": [
       "        MonthYear isocode  month  year  count_events_1  count_events_2  \\\n",
       "23666      198901     AFG      1  1989           462.0           256.0   \n",
       "23667      198901     AGO      1  1989           110.0            72.0   \n",
       "23668      198901     ALB      1  1989            64.0            44.0   \n",
       "23669      198901     ARE      1  1989            10.0            10.0   \n",
       "23670      198901     ARG      1  1989           146.0            36.0   \n",
       "...           ...     ...    ...   ...             ...             ...   \n",
       "116298     202305     XKX      5  2023            60.0            50.0   \n",
       "116299     202305     YEM      5  2023           276.0           156.0   \n",
       "116300     202305     ZAF      5  2023          6568.0          2976.0   \n",
       "116301     202305     ZMB      5  2023           386.0           264.0   \n",
       "116302     202305     ZWE      5  2023          1644.0           758.0   \n",
       "\n",
       "        count_events_3  count_events_4  count_events_5  count_events_6  ...  \\\n",
       "23666            338.0          2024.0           264.0            88.0  ...   \n",
       "23667            152.0           430.0           242.0            24.0  ...   \n",
       "23668            116.0           192.0            18.0             0.0  ...   \n",
       "23669             16.0            24.0             2.0             2.0  ...   \n",
       "23670             10.0           200.0            58.0            18.0  ...   \n",
       "...                ...             ...             ...             ...  ...   \n",
       "116298            58.0           200.0           124.0             2.0  ...   \n",
       "116299           182.0          1364.0           362.0            38.0  ...   \n",
       "116300          2874.0         10818.0          3262.0          1188.0  ...   \n",
       "116301           176.0           724.0           374.0            48.0  ...   \n",
       "116302           618.0          2908.0          1078.0           270.0  ...   \n",
       "\n",
       "        count_events_17_opp  count_events_18_opp  count_events_19_opp  \\\n",
       "23666                   0.0                 14.0                 76.0   \n",
       "23667                   0.0                  0.0                  4.0   \n",
       "23668                   0.0                  0.0                  0.0   \n",
       "23669                   0.0                  0.0                  0.0   \n",
       "23670                   0.0                  2.0                  8.0   \n",
       "...                     ...                  ...                  ...   \n",
       "116298                  0.0                  2.0                  0.0   \n",
       "116299                  2.0                  2.0                  4.0   \n",
       "116300                  6.0                  2.0                 12.0   \n",
       "116301                  0.0                  0.0                  0.0   \n",
       "116302                 26.0                  8.0                  4.0   \n",
       "\n",
       "        count_events_20_opp      country  deaths  state_deaths  \\\n",
       "23666                   0.0  Afghanistan   693.0         693.0   \n",
       "23667                   0.0       Angola   249.0         249.0   \n",
       "23668                   0.0          NaN     NaN           NaN   \n",
       "23669                   0.0          NaN     NaN           NaN   \n",
       "23670                   0.0          NaN     NaN           NaN   \n",
       "...                     ...          ...     ...           ...   \n",
       "116298                  0.0          NaN     NaN           NaN   \n",
       "116299                  0.0          NaN     NaN           NaN   \n",
       "116300                  0.0          NaN     NaN           NaN   \n",
       "116301                  0.0          NaN     NaN           NaN   \n",
       "116302                  0.0          NaN     NaN           NaN   \n",
       "\n",
       "        nonstate_deaths  onesided_deaths  civilian_deaths  \n",
       "23666               0.0              0.0              0.0  \n",
       "23667               0.0              0.0              0.0  \n",
       "23668               NaN              NaN              NaN  \n",
       "23669               NaN              NaN              NaN  \n",
       "23670               NaN              NaN              NaN  \n",
       "...                 ...              ...              ...  \n",
       "116298              NaN              NaN              NaN  \n",
       "116299              NaN              NaN              NaN  \n",
       "116300              NaN              NaN              NaN  \n",
       "116301              NaN              NaN              NaN  \n",
       "116302              NaN              NaN              NaN  \n",
       "\n",
       "[92637 rows x 70 columns]"
      ]
     },
     "execution_count": 1229,
     "metadata": {},
     "output_type": "execute_result"
    }
   ],
   "source": [
    "df"
   ]
  },
  {
   "cell_type": "code",
   "execution_count": 1230,
   "metadata": {},
   "outputs": [],
   "source": [
    "df['nonstate_deaths'].fillna(0, inplace=True)\n",
    "df['onesided_deaths'].fillna(0, inplace=True)\n",
    "df['civilian_deaths'].fillna(0, inplace=True)\n",
    "df['deaths'].fillna(0, inplace=True)\n",
    "df['state_deaths'].fillna(0, inplace=True)\n"
   ]
  },
  {
   "cell_type": "code",
   "execution_count": 1231,
   "metadata": {},
   "outputs": [
    {
     "data": {
      "text/plain": [
       "dtype('int64')"
      ]
     },
     "execution_count": 1231,
     "metadata": {},
     "output_type": "execute_result"
    }
   ],
   "source": [
    "df.MonthYear.dtype\n",
    "df.year.dtype\n",
    "df.month.dtype"
   ]
  },
  {
   "cell_type": "code",
   "execution_count": 1232,
   "metadata": {},
   "outputs": [],
   "source": [
    "# dataFrame with all possible MonthYear for each isocode\n",
    "all_dates = pd.date_range(start='1989-01-01', end='2023-04-01', freq='M')\n",
    "all_isocodes = df['isocode'].unique()\n",
    "\n",
    "# each isocode with a full range of dates\n",
    "dfs = [pd.DataFrame(data={'MonthYear': (all_dates.year*100 + all_dates.month).astype(int), \n",
    "                          'year': all_dates.year, \n",
    "                          'month': all_dates.month, \n",
    "                          'isocode': iso}) for iso in all_isocodes]\n",
    "\n",
    "# concatenation\n",
    "full_df = pd.concat(dfs)\n",
    "\n",
    "# merge\n",
    "merged_df = pd.merge(full_df, df, on=['MonthYear', 'isocode', 'month', 'year'], how='left')\n",
    "\n",
    "# fill missing values \n",
    "merged_df.fillna(0, inplace=True)\n"
   ]
  },
  {
   "cell_type": "code",
   "execution_count": 1233,
   "metadata": {},
   "outputs": [],
   "source": [
    "def get_country_name(iso_code):\n",
    "    try:\n",
    "        return pycountry.countries.get(alpha_3=iso_code).name\n",
    "    except AttributeError:\n",
    "        return None\n",
    "\n",
    "merged_df['country'] = merged_df['isocode'].apply(get_country_name)"
   ]
  },
  {
   "cell_type": "code",
   "execution_count": 1234,
   "metadata": {},
   "outputs": [
    {
     "data": {
      "text/html": [
       "<div>\n",
       "<style scoped>\n",
       "    .dataframe tbody tr th:only-of-type {\n",
       "        vertical-align: middle;\n",
       "    }\n",
       "\n",
       "    .dataframe tbody tr th {\n",
       "        vertical-align: top;\n",
       "    }\n",
       "\n",
       "    .dataframe thead th {\n",
       "        text-align: right;\n",
       "    }\n",
       "</style>\n",
       "<table border=\"1\" class=\"dataframe\">\n",
       "  <thead>\n",
       "    <tr style=\"text-align: right;\">\n",
       "      <th></th>\n",
       "      <th>MonthYear</th>\n",
       "      <th>year</th>\n",
       "      <th>month</th>\n",
       "      <th>isocode</th>\n",
       "      <th>count_events_1</th>\n",
       "      <th>count_events_2</th>\n",
       "      <th>count_events_3</th>\n",
       "      <th>count_events_4</th>\n",
       "      <th>count_events_5</th>\n",
       "      <th>count_events_6</th>\n",
       "      <th>...</th>\n",
       "      <th>count_events_17_opp</th>\n",
       "      <th>count_events_18_opp</th>\n",
       "      <th>count_events_19_opp</th>\n",
       "      <th>count_events_20_opp</th>\n",
       "      <th>country</th>\n",
       "      <th>deaths</th>\n",
       "      <th>state_deaths</th>\n",
       "      <th>nonstate_deaths</th>\n",
       "      <th>onesided_deaths</th>\n",
       "      <th>civilian_deaths</th>\n",
       "    </tr>\n",
       "  </thead>\n",
       "  <tbody>\n",
       "    <tr>\n",
       "      <th>0</th>\n",
       "      <td>198901</td>\n",
       "      <td>1989</td>\n",
       "      <td>1</td>\n",
       "      <td>AFG</td>\n",
       "      <td>462.0</td>\n",
       "      <td>256.0</td>\n",
       "      <td>338.0</td>\n",
       "      <td>2024.0</td>\n",
       "      <td>264.0</td>\n",
       "      <td>88.0</td>\n",
       "      <td>...</td>\n",
       "      <td>0.0</td>\n",
       "      <td>14.0</td>\n",
       "      <td>76.0</td>\n",
       "      <td>0.0</td>\n",
       "      <td>Afghanistan</td>\n",
       "      <td>693.0</td>\n",
       "      <td>693.0</td>\n",
       "      <td>0.0</td>\n",
       "      <td>0.0</td>\n",
       "      <td>0.0</td>\n",
       "    </tr>\n",
       "    <tr>\n",
       "      <th>1</th>\n",
       "      <td>198902</td>\n",
       "      <td>1989</td>\n",
       "      <td>2</td>\n",
       "      <td>AFG</td>\n",
       "      <td>916.0</td>\n",
       "      <td>516.0</td>\n",
       "      <td>630.0</td>\n",
       "      <td>2228.0</td>\n",
       "      <td>680.0</td>\n",
       "      <td>276.0</td>\n",
       "      <td>...</td>\n",
       "      <td>20.0</td>\n",
       "      <td>20.0</td>\n",
       "      <td>172.0</td>\n",
       "      <td>0.0</td>\n",
       "      <td>Afghanistan</td>\n",
       "      <td>86.0</td>\n",
       "      <td>86.0</td>\n",
       "      <td>0.0</td>\n",
       "      <td>0.0</td>\n",
       "      <td>23.0</td>\n",
       "    </tr>\n",
       "    <tr>\n",
       "      <th>2</th>\n",
       "      <td>198903</td>\n",
       "      <td>1989</td>\n",
       "      <td>3</td>\n",
       "      <td>AFG</td>\n",
       "      <td>546.0</td>\n",
       "      <td>274.0</td>\n",
       "      <td>206.0</td>\n",
       "      <td>1148.0</td>\n",
       "      <td>370.0</td>\n",
       "      <td>104.0</td>\n",
       "      <td>...</td>\n",
       "      <td>16.0</td>\n",
       "      <td>28.0</td>\n",
       "      <td>218.0</td>\n",
       "      <td>0.0</td>\n",
       "      <td>Afghanistan</td>\n",
       "      <td>1720.0</td>\n",
       "      <td>1720.0</td>\n",
       "      <td>0.0</td>\n",
       "      <td>0.0</td>\n",
       "      <td>96.0</td>\n",
       "    </tr>\n",
       "    <tr>\n",
       "      <th>3</th>\n",
       "      <td>198904</td>\n",
       "      <td>1989</td>\n",
       "      <td>4</td>\n",
       "      <td>AFG</td>\n",
       "      <td>364.0</td>\n",
       "      <td>262.0</td>\n",
       "      <td>182.0</td>\n",
       "      <td>976.0</td>\n",
       "      <td>290.0</td>\n",
       "      <td>68.0</td>\n",
       "      <td>...</td>\n",
       "      <td>10.0</td>\n",
       "      <td>40.0</td>\n",
       "      <td>258.0</td>\n",
       "      <td>0.0</td>\n",
       "      <td>Afghanistan</td>\n",
       "      <td>494.0</td>\n",
       "      <td>494.0</td>\n",
       "      <td>0.0</td>\n",
       "      <td>0.0</td>\n",
       "      <td>86.0</td>\n",
       "    </tr>\n",
       "    <tr>\n",
       "      <th>4</th>\n",
       "      <td>198905</td>\n",
       "      <td>1989</td>\n",
       "      <td>5</td>\n",
       "      <td>AFG</td>\n",
       "      <td>312.0</td>\n",
       "      <td>150.0</td>\n",
       "      <td>156.0</td>\n",
       "      <td>706.0</td>\n",
       "      <td>190.0</td>\n",
       "      <td>20.0</td>\n",
       "      <td>...</td>\n",
       "      <td>0.0</td>\n",
       "      <td>16.0</td>\n",
       "      <td>80.0</td>\n",
       "      <td>0.0</td>\n",
       "      <td>Afghanistan</td>\n",
       "      <td>454.0</td>\n",
       "      <td>448.0</td>\n",
       "      <td>6.0</td>\n",
       "      <td>0.0</td>\n",
       "      <td>28.0</td>\n",
       "    </tr>\n",
       "    <tr>\n",
       "      <th>...</th>\n",
       "      <td>...</td>\n",
       "      <td>...</td>\n",
       "      <td>...</td>\n",
       "      <td>...</td>\n",
       "      <td>...</td>\n",
       "      <td>...</td>\n",
       "      <td>...</td>\n",
       "      <td>...</td>\n",
       "      <td>...</td>\n",
       "      <td>...</td>\n",
       "      <td>...</td>\n",
       "      <td>...</td>\n",
       "      <td>...</td>\n",
       "      <td>...</td>\n",
       "      <td>...</td>\n",
       "      <td>...</td>\n",
       "      <td>...</td>\n",
       "      <td>...</td>\n",
       "      <td>...</td>\n",
       "      <td>...</td>\n",
       "      <td>...</td>\n",
       "    </tr>\n",
       "    <tr>\n",
       "      <th>98635</th>\n",
       "      <td>202211</td>\n",
       "      <td>2022</td>\n",
       "      <td>11</td>\n",
       "      <td>HMD</td>\n",
       "      <td>0.0</td>\n",
       "      <td>0.0</td>\n",
       "      <td>0.0</td>\n",
       "      <td>0.0</td>\n",
       "      <td>0.0</td>\n",
       "      <td>0.0</td>\n",
       "      <td>...</td>\n",
       "      <td>0.0</td>\n",
       "      <td>0.0</td>\n",
       "      <td>0.0</td>\n",
       "      <td>0.0</td>\n",
       "      <td>Heard Island and McDonald Islands</td>\n",
       "      <td>0.0</td>\n",
       "      <td>0.0</td>\n",
       "      <td>0.0</td>\n",
       "      <td>0.0</td>\n",
       "      <td>0.0</td>\n",
       "    </tr>\n",
       "    <tr>\n",
       "      <th>98636</th>\n",
       "      <td>202212</td>\n",
       "      <td>2022</td>\n",
       "      <td>12</td>\n",
       "      <td>HMD</td>\n",
       "      <td>0.0</td>\n",
       "      <td>0.0</td>\n",
       "      <td>0.0</td>\n",
       "      <td>0.0</td>\n",
       "      <td>0.0</td>\n",
       "      <td>0.0</td>\n",
       "      <td>...</td>\n",
       "      <td>0.0</td>\n",
       "      <td>0.0</td>\n",
       "      <td>0.0</td>\n",
       "      <td>0.0</td>\n",
       "      <td>Heard Island and McDonald Islands</td>\n",
       "      <td>0.0</td>\n",
       "      <td>0.0</td>\n",
       "      <td>0.0</td>\n",
       "      <td>0.0</td>\n",
       "      <td>0.0</td>\n",
       "    </tr>\n",
       "    <tr>\n",
       "      <th>98637</th>\n",
       "      <td>202301</td>\n",
       "      <td>2023</td>\n",
       "      <td>1</td>\n",
       "      <td>HMD</td>\n",
       "      <td>0.0</td>\n",
       "      <td>0.0</td>\n",
       "      <td>0.0</td>\n",
       "      <td>0.0</td>\n",
       "      <td>0.0</td>\n",
       "      <td>0.0</td>\n",
       "      <td>...</td>\n",
       "      <td>0.0</td>\n",
       "      <td>0.0</td>\n",
       "      <td>0.0</td>\n",
       "      <td>0.0</td>\n",
       "      <td>Heard Island and McDonald Islands</td>\n",
       "      <td>0.0</td>\n",
       "      <td>0.0</td>\n",
       "      <td>0.0</td>\n",
       "      <td>0.0</td>\n",
       "      <td>0.0</td>\n",
       "    </tr>\n",
       "    <tr>\n",
       "      <th>98638</th>\n",
       "      <td>202302</td>\n",
       "      <td>2023</td>\n",
       "      <td>2</td>\n",
       "      <td>HMD</td>\n",
       "      <td>0.0</td>\n",
       "      <td>0.0</td>\n",
       "      <td>0.0</td>\n",
       "      <td>0.0</td>\n",
       "      <td>0.0</td>\n",
       "      <td>0.0</td>\n",
       "      <td>...</td>\n",
       "      <td>0.0</td>\n",
       "      <td>0.0</td>\n",
       "      <td>0.0</td>\n",
       "      <td>0.0</td>\n",
       "      <td>Heard Island and McDonald Islands</td>\n",
       "      <td>0.0</td>\n",
       "      <td>0.0</td>\n",
       "      <td>0.0</td>\n",
       "      <td>0.0</td>\n",
       "      <td>0.0</td>\n",
       "    </tr>\n",
       "    <tr>\n",
       "      <th>98639</th>\n",
       "      <td>202303</td>\n",
       "      <td>2023</td>\n",
       "      <td>3</td>\n",
       "      <td>HMD</td>\n",
       "      <td>0.0</td>\n",
       "      <td>0.0</td>\n",
       "      <td>0.0</td>\n",
       "      <td>0.0</td>\n",
       "      <td>0.0</td>\n",
       "      <td>0.0</td>\n",
       "      <td>...</td>\n",
       "      <td>0.0</td>\n",
       "      <td>0.0</td>\n",
       "      <td>0.0</td>\n",
       "      <td>0.0</td>\n",
       "      <td>Heard Island and McDonald Islands</td>\n",
       "      <td>0.0</td>\n",
       "      <td>0.0</td>\n",
       "      <td>0.0</td>\n",
       "      <td>0.0</td>\n",
       "      <td>0.0</td>\n",
       "    </tr>\n",
       "  </tbody>\n",
       "</table>\n",
       "<p>98640 rows × 70 columns</p>\n",
       "</div>"
      ],
      "text/plain": [
       "       MonthYear  year  month isocode  count_events_1  count_events_2  \\\n",
       "0         198901  1989      1     AFG           462.0           256.0   \n",
       "1         198902  1989      2     AFG           916.0           516.0   \n",
       "2         198903  1989      3     AFG           546.0           274.0   \n",
       "3         198904  1989      4     AFG           364.0           262.0   \n",
       "4         198905  1989      5     AFG           312.0           150.0   \n",
       "...          ...   ...    ...     ...             ...             ...   \n",
       "98635     202211  2022     11     HMD             0.0             0.0   \n",
       "98636     202212  2022     12     HMD             0.0             0.0   \n",
       "98637     202301  2023      1     HMD             0.0             0.0   \n",
       "98638     202302  2023      2     HMD             0.0             0.0   \n",
       "98639     202303  2023      3     HMD             0.0             0.0   \n",
       "\n",
       "       count_events_3  count_events_4  count_events_5  count_events_6  ...  \\\n",
       "0               338.0          2024.0           264.0            88.0  ...   \n",
       "1               630.0          2228.0           680.0           276.0  ...   \n",
       "2               206.0          1148.0           370.0           104.0  ...   \n",
       "3               182.0           976.0           290.0            68.0  ...   \n",
       "4               156.0           706.0           190.0            20.0  ...   \n",
       "...               ...             ...             ...             ...  ...   \n",
       "98635             0.0             0.0             0.0             0.0  ...   \n",
       "98636             0.0             0.0             0.0             0.0  ...   \n",
       "98637             0.0             0.0             0.0             0.0  ...   \n",
       "98638             0.0             0.0             0.0             0.0  ...   \n",
       "98639             0.0             0.0             0.0             0.0  ...   \n",
       "\n",
       "       count_events_17_opp  count_events_18_opp  count_events_19_opp  \\\n",
       "0                      0.0                 14.0                 76.0   \n",
       "1                     20.0                 20.0                172.0   \n",
       "2                     16.0                 28.0                218.0   \n",
       "3                     10.0                 40.0                258.0   \n",
       "4                      0.0                 16.0                 80.0   \n",
       "...                    ...                  ...                  ...   \n",
       "98635                  0.0                  0.0                  0.0   \n",
       "98636                  0.0                  0.0                  0.0   \n",
       "98637                  0.0                  0.0                  0.0   \n",
       "98638                  0.0                  0.0                  0.0   \n",
       "98639                  0.0                  0.0                  0.0   \n",
       "\n",
       "       count_events_20_opp                            country  deaths  \\\n",
       "0                      0.0                        Afghanistan   693.0   \n",
       "1                      0.0                        Afghanistan    86.0   \n",
       "2                      0.0                        Afghanistan  1720.0   \n",
       "3                      0.0                        Afghanistan   494.0   \n",
       "4                      0.0                        Afghanistan   454.0   \n",
       "...                    ...                                ...     ...   \n",
       "98635                  0.0  Heard Island and McDonald Islands     0.0   \n",
       "98636                  0.0  Heard Island and McDonald Islands     0.0   \n",
       "98637                  0.0  Heard Island and McDonald Islands     0.0   \n",
       "98638                  0.0  Heard Island and McDonald Islands     0.0   \n",
       "98639                  0.0  Heard Island and McDonald Islands     0.0   \n",
       "\n",
       "       state_deaths  nonstate_deaths  onesided_deaths  civilian_deaths  \n",
       "0             693.0              0.0              0.0              0.0  \n",
       "1              86.0              0.0              0.0             23.0  \n",
       "2            1720.0              0.0              0.0             96.0  \n",
       "3             494.0              0.0              0.0             86.0  \n",
       "4             448.0              6.0              0.0             28.0  \n",
       "...             ...              ...              ...              ...  \n",
       "98635           0.0              0.0              0.0              0.0  \n",
       "98636           0.0              0.0              0.0              0.0  \n",
       "98637           0.0              0.0              0.0              0.0  \n",
       "98638           0.0              0.0              0.0              0.0  \n",
       "98639           0.0              0.0              0.0              0.0  \n",
       "\n",
       "[98640 rows x 70 columns]"
      ]
     },
     "execution_count": 1234,
     "metadata": {},
     "output_type": "execute_result"
    }
   ],
   "source": [
    "merged_df"
   ]
  },
  {
   "attachments": {},
   "cell_type": "markdown",
   "metadata": {},
   "source": [
    "Every country isocode has the correct number of months in MonthYear. No months are missing.\n",
    "For every country, the months are in ascending order, meaning the data for each isocode is ordered correctly by time.\n"
   ]
  },
  {
   "cell_type": "code",
   "execution_count": 1235,
   "metadata": {},
   "outputs": [],
   "source": [
    "# Check for any missing months\n",
    "num_months = len(pd.date_range(start='1989-01-01', end='2023-04-01', freq='M'))\n",
    "month_counts = merged_df.groupby('isocode')['MonthYear'].nunique()\n",
    "assert month_counts.min() == num_months, \"Some countries have missing months\"\n",
    "\n",
    "# Check if months are in ascending order\n",
    "is_monotonic = merged_df.groupby('isocode')['MonthYear'].apply(lambda x: x.is_monotonic_increasing)\n",
    "assert is_monotonic.all(), \"Some countries have months not in ascending order\"\n"
   ]
  },
  {
   "cell_type": "code",
   "execution_count": 1236,
   "metadata": {},
   "outputs": [
    {
     "data": {
      "text/plain": [
       "411"
      ]
     },
     "execution_count": 1236,
     "metadata": {},
     "output_type": "execute_result"
    }
   ],
   "source": [
    "num_months"
   ]
  },
  {
   "cell_type": "code",
   "execution_count": 1237,
   "metadata": {},
   "outputs": [
    {
     "data": {
      "text/plain": [
       "isocode\n",
       "ABW    True\n",
       "AFG    True\n",
       "AGO    True\n",
       "AIA    True\n",
       "ALB    True\n",
       "       ... \n",
       "XKX    True\n",
       "YEM    True\n",
       "ZAF    True\n",
       "ZMB    True\n",
       "ZWE    True\n",
       "Name: MonthYear, Length: 240, dtype: bool"
      ]
     },
     "execution_count": 1237,
     "metadata": {},
     "output_type": "execute_result"
    }
   ],
   "source": [
    "is_monotonic"
   ]
  },
  {
   "cell_type": "code",
   "execution_count": 1238,
   "metadata": {},
   "outputs": [],
   "source": [
    "df = merged_df"
   ]
  },
  {
   "cell_type": "code",
   "execution_count": 1239,
   "metadata": {},
   "outputs": [
    {
     "data": {
      "text/html": [
       "<div>\n",
       "<style scoped>\n",
       "    .dataframe tbody tr th:only-of-type {\n",
       "        vertical-align: middle;\n",
       "    }\n",
       "\n",
       "    .dataframe tbody tr th {\n",
       "        vertical-align: top;\n",
       "    }\n",
       "\n",
       "    .dataframe thead th {\n",
       "        text-align: right;\n",
       "    }\n",
       "</style>\n",
       "<table border=\"1\" class=\"dataframe\">\n",
       "  <thead>\n",
       "    <tr style=\"text-align: right;\">\n",
       "      <th></th>\n",
       "      <th>MonthYear</th>\n",
       "      <th>year</th>\n",
       "      <th>month</th>\n",
       "      <th>count_events_1</th>\n",
       "      <th>count_events_2</th>\n",
       "      <th>count_events_3</th>\n",
       "      <th>count_events_4</th>\n",
       "      <th>count_events_5</th>\n",
       "      <th>count_events_6</th>\n",
       "      <th>count_events_7</th>\n",
       "      <th>...</th>\n",
       "      <th>count_events_16_opp</th>\n",
       "      <th>count_events_17_opp</th>\n",
       "      <th>count_events_18_opp</th>\n",
       "      <th>count_events_19_opp</th>\n",
       "      <th>count_events_20_opp</th>\n",
       "      <th>deaths</th>\n",
       "      <th>state_deaths</th>\n",
       "      <th>nonstate_deaths</th>\n",
       "      <th>onesided_deaths</th>\n",
       "      <th>civilian_deaths</th>\n",
       "    </tr>\n",
       "  </thead>\n",
       "  <tbody>\n",
       "    <tr>\n",
       "      <th>count</th>\n",
       "      <td>98640.000000</td>\n",
       "      <td>98640.000000</td>\n",
       "      <td>98640.000000</td>\n",
       "      <td>98640.000000</td>\n",
       "      <td>98640.000000</td>\n",
       "      <td>98640.000000</td>\n",
       "      <td>9.864000e+04</td>\n",
       "      <td>98640.000000</td>\n",
       "      <td>98640.000000</td>\n",
       "      <td>98640.000000</td>\n",
       "      <td>...</td>\n",
       "      <td>98640.000000</td>\n",
       "      <td>98640.000000</td>\n",
       "      <td>98640.000000</td>\n",
       "      <td>98640.000000</td>\n",
       "      <td>98640.000000</td>\n",
       "      <td>98640.000000</td>\n",
       "      <td>98640.000000</td>\n",
       "      <td>98640.000000</td>\n",
       "      <td>98640.000000</td>\n",
       "      <td>98640.000000</td>\n",
       "    </tr>\n",
       "    <tr>\n",
       "      <th>mean</th>\n",
       "      <td>200569.240876</td>\n",
       "      <td>2005.627737</td>\n",
       "      <td>6.467153</td>\n",
       "      <td>2061.783212</td>\n",
       "      <td>1036.090328</td>\n",
       "      <td>1056.731610</td>\n",
       "      <td>3.635279e+03</td>\n",
       "      <td>1148.470884</td>\n",
       "      <td>330.477088</td>\n",
       "      <td>487.539842</td>\n",
       "      <td>...</td>\n",
       "      <td>2.324534</td>\n",
       "      <td>12.211131</td>\n",
       "      <td>10.127149</td>\n",
       "      <td>29.686902</td>\n",
       "      <td>0.130677</td>\n",
       "      <td>26.392285</td>\n",
       "      <td>14.381144</td>\n",
       "      <td>3.159925</td>\n",
       "      <td>8.851217</td>\n",
       "      <td>11.036040</td>\n",
       "    </tr>\n",
       "    <tr>\n",
       "      <th>std</th>\n",
       "      <td>988.722947</td>\n",
       "      <td>9.887746</td>\n",
       "      <td>3.461416</td>\n",
       "      <td>17051.109226</td>\n",
       "      <td>9201.930825</td>\n",
       "      <td>8336.646559</td>\n",
       "      <td>2.703776e+04</td>\n",
       "      <td>8908.348451</td>\n",
       "      <td>2494.047143</td>\n",
       "      <td>4684.973828</td>\n",
       "      <td>...</td>\n",
       "      <td>13.210119</td>\n",
       "      <td>74.661814</td>\n",
       "      <td>58.200193</td>\n",
       "      <td>172.671933</td>\n",
       "      <td>1.475955</td>\n",
       "      <td>1678.392295</td>\n",
       "      <td>193.052705</td>\n",
       "      <td>57.526111</td>\n",
       "      <td>1662.525887</td>\n",
       "      <td>1664.219859</td>\n",
       "    </tr>\n",
       "    <tr>\n",
       "      <th>min</th>\n",
       "      <td>198901.000000</td>\n",
       "      <td>1989.000000</td>\n",
       "      <td>1.000000</td>\n",
       "      <td>0.000000</td>\n",
       "      <td>0.000000</td>\n",
       "      <td>0.000000</td>\n",
       "      <td>0.000000e+00</td>\n",
       "      <td>0.000000</td>\n",
       "      <td>0.000000</td>\n",
       "      <td>0.000000</td>\n",
       "      <td>...</td>\n",
       "      <td>0.000000</td>\n",
       "      <td>0.000000</td>\n",
       "      <td>0.000000</td>\n",
       "      <td>0.000000</td>\n",
       "      <td>0.000000</td>\n",
       "      <td>0.000000</td>\n",
       "      <td>0.000000</td>\n",
       "      <td>0.000000</td>\n",
       "      <td>0.000000</td>\n",
       "      <td>0.000000</td>\n",
       "    </tr>\n",
       "    <tr>\n",
       "      <th>25%</th>\n",
       "      <td>199707.000000</td>\n",
       "      <td>1997.000000</td>\n",
       "      <td>3.000000</td>\n",
       "      <td>16.000000</td>\n",
       "      <td>8.000000</td>\n",
       "      <td>10.000000</td>\n",
       "      <td>4.200000e+01</td>\n",
       "      <td>10.000000</td>\n",
       "      <td>2.000000</td>\n",
       "      <td>2.000000</td>\n",
       "      <td>...</td>\n",
       "      <td>0.000000</td>\n",
       "      <td>0.000000</td>\n",
       "      <td>0.000000</td>\n",
       "      <td>0.000000</td>\n",
       "      <td>0.000000</td>\n",
       "      <td>0.000000</td>\n",
       "      <td>0.000000</td>\n",
       "      <td>0.000000</td>\n",
       "      <td>0.000000</td>\n",
       "      <td>0.000000</td>\n",
       "    </tr>\n",
       "    <tr>\n",
       "      <th>50%</th>\n",
       "      <td>200602.000000</td>\n",
       "      <td>2006.000000</td>\n",
       "      <td>6.000000</td>\n",
       "      <td>158.000000</td>\n",
       "      <td>74.000000</td>\n",
       "      <td>98.000000</td>\n",
       "      <td>3.720000e+02</td>\n",
       "      <td>104.000000</td>\n",
       "      <td>24.000000</td>\n",
       "      <td>28.000000</td>\n",
       "      <td>...</td>\n",
       "      <td>0.000000</td>\n",
       "      <td>0.000000</td>\n",
       "      <td>0.000000</td>\n",
       "      <td>0.000000</td>\n",
       "      <td>0.000000</td>\n",
       "      <td>0.000000</td>\n",
       "      <td>0.000000</td>\n",
       "      <td>0.000000</td>\n",
       "      <td>0.000000</td>\n",
       "      <td>0.000000</td>\n",
       "    </tr>\n",
       "    <tr>\n",
       "      <th>75%</th>\n",
       "      <td>201409.000000</td>\n",
       "      <td>2014.000000</td>\n",
       "      <td>9.000000</td>\n",
       "      <td>756.000000</td>\n",
       "      <td>356.000000</td>\n",
       "      <td>442.000000</td>\n",
       "      <td>1.640000e+03</td>\n",
       "      <td>472.000000</td>\n",
       "      <td>126.000000</td>\n",
       "      <td>154.000000</td>\n",
       "      <td>...</td>\n",
       "      <td>0.000000</td>\n",
       "      <td>4.000000</td>\n",
       "      <td>2.000000</td>\n",
       "      <td>8.000000</td>\n",
       "      <td>0.000000</td>\n",
       "      <td>0.000000</td>\n",
       "      <td>0.000000</td>\n",
       "      <td>0.000000</td>\n",
       "      <td>0.000000</td>\n",
       "      <td>0.000000</td>\n",
       "    </tr>\n",
       "    <tr>\n",
       "      <th>max</th>\n",
       "      <td>202303.000000</td>\n",
       "      <td>2023.000000</td>\n",
       "      <td>12.000000</td>\n",
       "      <td>634448.000000</td>\n",
       "      <td>345500.000000</td>\n",
       "      <td>311928.000000</td>\n",
       "      <td>1.008004e+06</td>\n",
       "      <td>352824.000000</td>\n",
       "      <td>86990.000000</td>\n",
       "      <td>177042.000000</td>\n",
       "      <td>...</td>\n",
       "      <td>852.000000</td>\n",
       "      <td>6644.000000</td>\n",
       "      <td>2370.000000</td>\n",
       "      <td>8722.000000</td>\n",
       "      <td>204.000000</td>\n",
       "      <td>522125.000000</td>\n",
       "      <td>25512.000000</td>\n",
       "      <td>7513.000000</td>\n",
       "      <td>521530.000000</td>\n",
       "      <td>521620.000000</td>\n",
       "    </tr>\n",
       "  </tbody>\n",
       "</table>\n",
       "<p>8 rows × 68 columns</p>\n",
       "</div>"
      ],
      "text/plain": [
       "           MonthYear          year         month  count_events_1  \\\n",
       "count   98640.000000  98640.000000  98640.000000    98640.000000   \n",
       "mean   200569.240876   2005.627737      6.467153     2061.783212   \n",
       "std       988.722947      9.887746      3.461416    17051.109226   \n",
       "min    198901.000000   1989.000000      1.000000        0.000000   \n",
       "25%    199707.000000   1997.000000      3.000000       16.000000   \n",
       "50%    200602.000000   2006.000000      6.000000      158.000000   \n",
       "75%    201409.000000   2014.000000      9.000000      756.000000   \n",
       "max    202303.000000   2023.000000     12.000000   634448.000000   \n",
       "\n",
       "       count_events_2  count_events_3  count_events_4  count_events_5  \\\n",
       "count    98640.000000    98640.000000    9.864000e+04    98640.000000   \n",
       "mean      1036.090328     1056.731610    3.635279e+03     1148.470884   \n",
       "std       9201.930825     8336.646559    2.703776e+04     8908.348451   \n",
       "min          0.000000        0.000000    0.000000e+00        0.000000   \n",
       "25%          8.000000       10.000000    4.200000e+01       10.000000   \n",
       "50%         74.000000       98.000000    3.720000e+02      104.000000   \n",
       "75%        356.000000      442.000000    1.640000e+03      472.000000   \n",
       "max     345500.000000   311928.000000    1.008004e+06   352824.000000   \n",
       "\n",
       "       count_events_6  count_events_7  ...  count_events_16_opp  \\\n",
       "count    98640.000000    98640.000000  ...         98640.000000   \n",
       "mean       330.477088      487.539842  ...             2.324534   \n",
       "std       2494.047143     4684.973828  ...            13.210119   \n",
       "min          0.000000        0.000000  ...             0.000000   \n",
       "25%          2.000000        2.000000  ...             0.000000   \n",
       "50%         24.000000       28.000000  ...             0.000000   \n",
       "75%        126.000000      154.000000  ...             0.000000   \n",
       "max      86990.000000   177042.000000  ...           852.000000   \n",
       "\n",
       "       count_events_17_opp  count_events_18_opp  count_events_19_opp  \\\n",
       "count         98640.000000         98640.000000         98640.000000   \n",
       "mean             12.211131            10.127149            29.686902   \n",
       "std              74.661814            58.200193           172.671933   \n",
       "min               0.000000             0.000000             0.000000   \n",
       "25%               0.000000             0.000000             0.000000   \n",
       "50%               0.000000             0.000000             0.000000   \n",
       "75%               4.000000             2.000000             8.000000   \n",
       "max            6644.000000          2370.000000          8722.000000   \n",
       "\n",
       "       count_events_20_opp         deaths  state_deaths  nonstate_deaths  \\\n",
       "count         98640.000000   98640.000000  98640.000000     98640.000000   \n",
       "mean              0.130677      26.392285     14.381144         3.159925   \n",
       "std               1.475955    1678.392295    193.052705        57.526111   \n",
       "min               0.000000       0.000000      0.000000         0.000000   \n",
       "25%               0.000000       0.000000      0.000000         0.000000   \n",
       "50%               0.000000       0.000000      0.000000         0.000000   \n",
       "75%               0.000000       0.000000      0.000000         0.000000   \n",
       "max             204.000000  522125.000000  25512.000000      7513.000000   \n",
       "\n",
       "       onesided_deaths  civilian_deaths  \n",
       "count     98640.000000     98640.000000  \n",
       "mean          8.851217        11.036040  \n",
       "std        1662.525887      1664.219859  \n",
       "min           0.000000         0.000000  \n",
       "25%           0.000000         0.000000  \n",
       "50%           0.000000         0.000000  \n",
       "75%           0.000000         0.000000  \n",
       "max      521530.000000    521620.000000  \n",
       "\n",
       "[8 rows x 68 columns]"
      ]
     },
     "execution_count": 1239,
     "metadata": {},
     "output_type": "execute_result"
    }
   ],
   "source": [
    "df.describe()"
   ]
  },
  {
   "cell_type": "code",
   "execution_count": 1240,
   "metadata": {},
   "outputs": [
    {
     "data": {
      "text/html": [
       "<div>\n",
       "<style scoped>\n",
       "    .dataframe tbody tr th:only-of-type {\n",
       "        vertical-align: middle;\n",
       "    }\n",
       "\n",
       "    .dataframe tbody tr th {\n",
       "        vertical-align: top;\n",
       "    }\n",
       "\n",
       "    .dataframe thead th {\n",
       "        text-align: right;\n",
       "    }\n",
       "</style>\n",
       "<table border=\"1\" class=\"dataframe\">\n",
       "  <thead>\n",
       "    <tr style=\"text-align: right;\">\n",
       "      <th></th>\n",
       "      <th>MonthYear</th>\n",
       "      <th>year</th>\n",
       "      <th>month</th>\n",
       "      <th>isocode</th>\n",
       "      <th>count_events_1</th>\n",
       "      <th>count_events_2</th>\n",
       "      <th>count_events_3</th>\n",
       "      <th>count_events_4</th>\n",
       "      <th>count_events_5</th>\n",
       "      <th>count_events_6</th>\n",
       "      <th>...</th>\n",
       "      <th>count_events_17_opp</th>\n",
       "      <th>count_events_18_opp</th>\n",
       "      <th>count_events_19_opp</th>\n",
       "      <th>count_events_20_opp</th>\n",
       "      <th>country</th>\n",
       "      <th>deaths</th>\n",
       "      <th>state_deaths</th>\n",
       "      <th>nonstate_deaths</th>\n",
       "      <th>onesided_deaths</th>\n",
       "      <th>civilian_deaths</th>\n",
       "    </tr>\n",
       "  </thead>\n",
       "  <tbody>\n",
       "    <tr>\n",
       "      <th>0</th>\n",
       "      <td>198901</td>\n",
       "      <td>1989</td>\n",
       "      <td>1</td>\n",
       "      <td>AFG</td>\n",
       "      <td>462.0</td>\n",
       "      <td>256.0</td>\n",
       "      <td>338.0</td>\n",
       "      <td>2024.0</td>\n",
       "      <td>264.0</td>\n",
       "      <td>88.0</td>\n",
       "      <td>...</td>\n",
       "      <td>0.0</td>\n",
       "      <td>14.0</td>\n",
       "      <td>76.0</td>\n",
       "      <td>0.0</td>\n",
       "      <td>Afghanistan</td>\n",
       "      <td>693.0</td>\n",
       "      <td>693.0</td>\n",
       "      <td>0.0</td>\n",
       "      <td>0.0</td>\n",
       "      <td>0.0</td>\n",
       "    </tr>\n",
       "    <tr>\n",
       "      <th>1</th>\n",
       "      <td>198902</td>\n",
       "      <td>1989</td>\n",
       "      <td>2</td>\n",
       "      <td>AFG</td>\n",
       "      <td>916.0</td>\n",
       "      <td>516.0</td>\n",
       "      <td>630.0</td>\n",
       "      <td>2228.0</td>\n",
       "      <td>680.0</td>\n",
       "      <td>276.0</td>\n",
       "      <td>...</td>\n",
       "      <td>20.0</td>\n",
       "      <td>20.0</td>\n",
       "      <td>172.0</td>\n",
       "      <td>0.0</td>\n",
       "      <td>Afghanistan</td>\n",
       "      <td>86.0</td>\n",
       "      <td>86.0</td>\n",
       "      <td>0.0</td>\n",
       "      <td>0.0</td>\n",
       "      <td>23.0</td>\n",
       "    </tr>\n",
       "    <tr>\n",
       "      <th>2</th>\n",
       "      <td>198903</td>\n",
       "      <td>1989</td>\n",
       "      <td>3</td>\n",
       "      <td>AFG</td>\n",
       "      <td>546.0</td>\n",
       "      <td>274.0</td>\n",
       "      <td>206.0</td>\n",
       "      <td>1148.0</td>\n",
       "      <td>370.0</td>\n",
       "      <td>104.0</td>\n",
       "      <td>...</td>\n",
       "      <td>16.0</td>\n",
       "      <td>28.0</td>\n",
       "      <td>218.0</td>\n",
       "      <td>0.0</td>\n",
       "      <td>Afghanistan</td>\n",
       "      <td>1720.0</td>\n",
       "      <td>1720.0</td>\n",
       "      <td>0.0</td>\n",
       "      <td>0.0</td>\n",
       "      <td>96.0</td>\n",
       "    </tr>\n",
       "    <tr>\n",
       "      <th>3</th>\n",
       "      <td>198904</td>\n",
       "      <td>1989</td>\n",
       "      <td>4</td>\n",
       "      <td>AFG</td>\n",
       "      <td>364.0</td>\n",
       "      <td>262.0</td>\n",
       "      <td>182.0</td>\n",
       "      <td>976.0</td>\n",
       "      <td>290.0</td>\n",
       "      <td>68.0</td>\n",
       "      <td>...</td>\n",
       "      <td>10.0</td>\n",
       "      <td>40.0</td>\n",
       "      <td>258.0</td>\n",
       "      <td>0.0</td>\n",
       "      <td>Afghanistan</td>\n",
       "      <td>494.0</td>\n",
       "      <td>494.0</td>\n",
       "      <td>0.0</td>\n",
       "      <td>0.0</td>\n",
       "      <td>86.0</td>\n",
       "    </tr>\n",
       "    <tr>\n",
       "      <th>4</th>\n",
       "      <td>198905</td>\n",
       "      <td>1989</td>\n",
       "      <td>5</td>\n",
       "      <td>AFG</td>\n",
       "      <td>312.0</td>\n",
       "      <td>150.0</td>\n",
       "      <td>156.0</td>\n",
       "      <td>706.0</td>\n",
       "      <td>190.0</td>\n",
       "      <td>20.0</td>\n",
       "      <td>...</td>\n",
       "      <td>0.0</td>\n",
       "      <td>16.0</td>\n",
       "      <td>80.0</td>\n",
       "      <td>0.0</td>\n",
       "      <td>Afghanistan</td>\n",
       "      <td>454.0</td>\n",
       "      <td>448.0</td>\n",
       "      <td>6.0</td>\n",
       "      <td>0.0</td>\n",
       "      <td>28.0</td>\n",
       "    </tr>\n",
       "    <tr>\n",
       "      <th>...</th>\n",
       "      <td>...</td>\n",
       "      <td>...</td>\n",
       "      <td>...</td>\n",
       "      <td>...</td>\n",
       "      <td>...</td>\n",
       "      <td>...</td>\n",
       "      <td>...</td>\n",
       "      <td>...</td>\n",
       "      <td>...</td>\n",
       "      <td>...</td>\n",
       "      <td>...</td>\n",
       "      <td>...</td>\n",
       "      <td>...</td>\n",
       "      <td>...</td>\n",
       "      <td>...</td>\n",
       "      <td>...</td>\n",
       "      <td>...</td>\n",
       "      <td>...</td>\n",
       "      <td>...</td>\n",
       "      <td>...</td>\n",
       "      <td>...</td>\n",
       "    </tr>\n",
       "    <tr>\n",
       "      <th>98635</th>\n",
       "      <td>202211</td>\n",
       "      <td>2022</td>\n",
       "      <td>11</td>\n",
       "      <td>HMD</td>\n",
       "      <td>0.0</td>\n",
       "      <td>0.0</td>\n",
       "      <td>0.0</td>\n",
       "      <td>0.0</td>\n",
       "      <td>0.0</td>\n",
       "      <td>0.0</td>\n",
       "      <td>...</td>\n",
       "      <td>0.0</td>\n",
       "      <td>0.0</td>\n",
       "      <td>0.0</td>\n",
       "      <td>0.0</td>\n",
       "      <td>Heard Island and McDonald Islands</td>\n",
       "      <td>0.0</td>\n",
       "      <td>0.0</td>\n",
       "      <td>0.0</td>\n",
       "      <td>0.0</td>\n",
       "      <td>0.0</td>\n",
       "    </tr>\n",
       "    <tr>\n",
       "      <th>98636</th>\n",
       "      <td>202212</td>\n",
       "      <td>2022</td>\n",
       "      <td>12</td>\n",
       "      <td>HMD</td>\n",
       "      <td>0.0</td>\n",
       "      <td>0.0</td>\n",
       "      <td>0.0</td>\n",
       "      <td>0.0</td>\n",
       "      <td>0.0</td>\n",
       "      <td>0.0</td>\n",
       "      <td>...</td>\n",
       "      <td>0.0</td>\n",
       "      <td>0.0</td>\n",
       "      <td>0.0</td>\n",
       "      <td>0.0</td>\n",
       "      <td>Heard Island and McDonald Islands</td>\n",
       "      <td>0.0</td>\n",
       "      <td>0.0</td>\n",
       "      <td>0.0</td>\n",
       "      <td>0.0</td>\n",
       "      <td>0.0</td>\n",
       "    </tr>\n",
       "    <tr>\n",
       "      <th>98637</th>\n",
       "      <td>202301</td>\n",
       "      <td>2023</td>\n",
       "      <td>1</td>\n",
       "      <td>HMD</td>\n",
       "      <td>0.0</td>\n",
       "      <td>0.0</td>\n",
       "      <td>0.0</td>\n",
       "      <td>0.0</td>\n",
       "      <td>0.0</td>\n",
       "      <td>0.0</td>\n",
       "      <td>...</td>\n",
       "      <td>0.0</td>\n",
       "      <td>0.0</td>\n",
       "      <td>0.0</td>\n",
       "      <td>0.0</td>\n",
       "      <td>Heard Island and McDonald Islands</td>\n",
       "      <td>0.0</td>\n",
       "      <td>0.0</td>\n",
       "      <td>0.0</td>\n",
       "      <td>0.0</td>\n",
       "      <td>0.0</td>\n",
       "    </tr>\n",
       "    <tr>\n",
       "      <th>98638</th>\n",
       "      <td>202302</td>\n",
       "      <td>2023</td>\n",
       "      <td>2</td>\n",
       "      <td>HMD</td>\n",
       "      <td>0.0</td>\n",
       "      <td>0.0</td>\n",
       "      <td>0.0</td>\n",
       "      <td>0.0</td>\n",
       "      <td>0.0</td>\n",
       "      <td>0.0</td>\n",
       "      <td>...</td>\n",
       "      <td>0.0</td>\n",
       "      <td>0.0</td>\n",
       "      <td>0.0</td>\n",
       "      <td>0.0</td>\n",
       "      <td>Heard Island and McDonald Islands</td>\n",
       "      <td>0.0</td>\n",
       "      <td>0.0</td>\n",
       "      <td>0.0</td>\n",
       "      <td>0.0</td>\n",
       "      <td>0.0</td>\n",
       "    </tr>\n",
       "    <tr>\n",
       "      <th>98639</th>\n",
       "      <td>202303</td>\n",
       "      <td>2023</td>\n",
       "      <td>3</td>\n",
       "      <td>HMD</td>\n",
       "      <td>0.0</td>\n",
       "      <td>0.0</td>\n",
       "      <td>0.0</td>\n",
       "      <td>0.0</td>\n",
       "      <td>0.0</td>\n",
       "      <td>0.0</td>\n",
       "      <td>...</td>\n",
       "      <td>0.0</td>\n",
       "      <td>0.0</td>\n",
       "      <td>0.0</td>\n",
       "      <td>0.0</td>\n",
       "      <td>Heard Island and McDonald Islands</td>\n",
       "      <td>0.0</td>\n",
       "      <td>0.0</td>\n",
       "      <td>0.0</td>\n",
       "      <td>0.0</td>\n",
       "      <td>0.0</td>\n",
       "    </tr>\n",
       "  </tbody>\n",
       "</table>\n",
       "<p>98640 rows × 70 columns</p>\n",
       "</div>"
      ],
      "text/plain": [
       "       MonthYear  year  month isocode  count_events_1  count_events_2  \\\n",
       "0         198901  1989      1     AFG           462.0           256.0   \n",
       "1         198902  1989      2     AFG           916.0           516.0   \n",
       "2         198903  1989      3     AFG           546.0           274.0   \n",
       "3         198904  1989      4     AFG           364.0           262.0   \n",
       "4         198905  1989      5     AFG           312.0           150.0   \n",
       "...          ...   ...    ...     ...             ...             ...   \n",
       "98635     202211  2022     11     HMD             0.0             0.0   \n",
       "98636     202212  2022     12     HMD             0.0             0.0   \n",
       "98637     202301  2023      1     HMD             0.0             0.0   \n",
       "98638     202302  2023      2     HMD             0.0             0.0   \n",
       "98639     202303  2023      3     HMD             0.0             0.0   \n",
       "\n",
       "       count_events_3  count_events_4  count_events_5  count_events_6  ...  \\\n",
       "0               338.0          2024.0           264.0            88.0  ...   \n",
       "1               630.0          2228.0           680.0           276.0  ...   \n",
       "2               206.0          1148.0           370.0           104.0  ...   \n",
       "3               182.0           976.0           290.0            68.0  ...   \n",
       "4               156.0           706.0           190.0            20.0  ...   \n",
       "...               ...             ...             ...             ...  ...   \n",
       "98635             0.0             0.0             0.0             0.0  ...   \n",
       "98636             0.0             0.0             0.0             0.0  ...   \n",
       "98637             0.0             0.0             0.0             0.0  ...   \n",
       "98638             0.0             0.0             0.0             0.0  ...   \n",
       "98639             0.0             0.0             0.0             0.0  ...   \n",
       "\n",
       "       count_events_17_opp  count_events_18_opp  count_events_19_opp  \\\n",
       "0                      0.0                 14.0                 76.0   \n",
       "1                     20.0                 20.0                172.0   \n",
       "2                     16.0                 28.0                218.0   \n",
       "3                     10.0                 40.0                258.0   \n",
       "4                      0.0                 16.0                 80.0   \n",
       "...                    ...                  ...                  ...   \n",
       "98635                  0.0                  0.0                  0.0   \n",
       "98636                  0.0                  0.0                  0.0   \n",
       "98637                  0.0                  0.0                  0.0   \n",
       "98638                  0.0                  0.0                  0.0   \n",
       "98639                  0.0                  0.0                  0.0   \n",
       "\n",
       "       count_events_20_opp                            country  deaths  \\\n",
       "0                      0.0                        Afghanistan   693.0   \n",
       "1                      0.0                        Afghanistan    86.0   \n",
       "2                      0.0                        Afghanistan  1720.0   \n",
       "3                      0.0                        Afghanistan   494.0   \n",
       "4                      0.0                        Afghanistan   454.0   \n",
       "...                    ...                                ...     ...   \n",
       "98635                  0.0  Heard Island and McDonald Islands     0.0   \n",
       "98636                  0.0  Heard Island and McDonald Islands     0.0   \n",
       "98637                  0.0  Heard Island and McDonald Islands     0.0   \n",
       "98638                  0.0  Heard Island and McDonald Islands     0.0   \n",
       "98639                  0.0  Heard Island and McDonald Islands     0.0   \n",
       "\n",
       "       state_deaths  nonstate_deaths  onesided_deaths  civilian_deaths  \n",
       "0             693.0              0.0              0.0              0.0  \n",
       "1              86.0              0.0              0.0             23.0  \n",
       "2            1720.0              0.0              0.0             96.0  \n",
       "3             494.0              0.0              0.0             86.0  \n",
       "4             448.0              6.0              0.0             28.0  \n",
       "...             ...              ...              ...              ...  \n",
       "98635           0.0              0.0              0.0              0.0  \n",
       "98636           0.0              0.0              0.0              0.0  \n",
       "98637           0.0              0.0              0.0              0.0  \n",
       "98638           0.0              0.0              0.0              0.0  \n",
       "98639           0.0              0.0              0.0              0.0  \n",
       "\n",
       "[98640 rows x 70 columns]"
      ]
     },
     "execution_count": 1240,
     "metadata": {},
     "output_type": "execute_result"
    }
   ],
   "source": [
    "merged_df"
   ]
  },
  {
   "cell_type": "code",
   "execution_count": 1241,
   "metadata": {},
   "outputs": [
    {
     "name": "stderr",
     "output_type": "stream",
     "text": [
      "/var/folders/hj/n94x31sj08bdmgwjs6ybxbf40000gn/T/ipykernel_93000/4087785855.py:35: PerformanceWarning: DataFrame is highly fragmented.  This is usually the result of calling `frame.insert` many times, which has poor performance.  Consider joining all columns at once using pd.concat(axis=1) instead. To get a de-fragmented frame, use `newframe = frame.copy()`\n",
      "  df[col_name + '_stock'] = (df.groupby('isocode')[col_name]\n",
      "/var/folders/hj/n94x31sj08bdmgwjs6ybxbf40000gn/T/ipykernel_93000/4087785855.py:35: PerformanceWarning: DataFrame is highly fragmented.  This is usually the result of calling `frame.insert` many times, which has poor performance.  Consider joining all columns at once using pd.concat(axis=1) instead. To get a de-fragmented frame, use `newframe = frame.copy()`\n",
      "  df[col_name + '_stock'] = (df.groupby('isocode')[col_name]\n",
      "/var/folders/hj/n94x31sj08bdmgwjs6ybxbf40000gn/T/ipykernel_93000/4087785855.py:35: PerformanceWarning: DataFrame is highly fragmented.  This is usually the result of calling `frame.insert` many times, which has poor performance.  Consider joining all columns at once using pd.concat(axis=1) instead. To get a de-fragmented frame, use `newframe = frame.copy()`\n",
      "  df[col_name + '_stock'] = (df.groupby('isocode')[col_name]\n",
      "/var/folders/hj/n94x31sj08bdmgwjs6ybxbf40000gn/T/ipykernel_93000/4087785855.py:35: PerformanceWarning: DataFrame is highly fragmented.  This is usually the result of calling `frame.insert` many times, which has poor performance.  Consider joining all columns at once using pd.concat(axis=1) instead. To get a de-fragmented frame, use `newframe = frame.copy()`\n",
      "  df[col_name + '_stock'] = (df.groupby('isocode')[col_name]\n",
      "/var/folders/hj/n94x31sj08bdmgwjs6ybxbf40000gn/T/ipykernel_93000/4087785855.py:35: PerformanceWarning: DataFrame is highly fragmented.  This is usually the result of calling `frame.insert` many times, which has poor performance.  Consider joining all columns at once using pd.concat(axis=1) instead. To get a de-fragmented frame, use `newframe = frame.copy()`\n",
      "  df[col_name + '_stock'] = (df.groupby('isocode')[col_name]\n",
      "/var/folders/hj/n94x31sj08bdmgwjs6ybxbf40000gn/T/ipykernel_93000/4087785855.py:35: PerformanceWarning: DataFrame is highly fragmented.  This is usually the result of calling `frame.insert` many times, which has poor performance.  Consider joining all columns at once using pd.concat(axis=1) instead. To get a de-fragmented frame, use `newframe = frame.copy()`\n",
      "  df[col_name + '_stock'] = (df.groupby('isocode')[col_name]\n",
      "/var/folders/hj/n94x31sj08bdmgwjs6ybxbf40000gn/T/ipykernel_93000/4087785855.py:35: PerformanceWarning: DataFrame is highly fragmented.  This is usually the result of calling `frame.insert` many times, which has poor performance.  Consider joining all columns at once using pd.concat(axis=1) instead. To get a de-fragmented frame, use `newframe = frame.copy()`\n",
      "  df[col_name + '_stock'] = (df.groupby('isocode')[col_name]\n",
      "/var/folders/hj/n94x31sj08bdmgwjs6ybxbf40000gn/T/ipykernel_93000/4087785855.py:35: PerformanceWarning: DataFrame is highly fragmented.  This is usually the result of calling `frame.insert` many times, which has poor performance.  Consider joining all columns at once using pd.concat(axis=1) instead. To get a de-fragmented frame, use `newframe = frame.copy()`\n",
      "  df[col_name + '_stock'] = (df.groupby('isocode')[col_name]\n",
      "/var/folders/hj/n94x31sj08bdmgwjs6ybxbf40000gn/T/ipykernel_93000/4087785855.py:35: PerformanceWarning: DataFrame is highly fragmented.  This is usually the result of calling `frame.insert` many times, which has poor performance.  Consider joining all columns at once using pd.concat(axis=1) instead. To get a de-fragmented frame, use `newframe = frame.copy()`\n",
      "  df[col_name + '_stock'] = (df.groupby('isocode')[col_name]\n",
      "/var/folders/hj/n94x31sj08bdmgwjs6ybxbf40000gn/T/ipykernel_93000/4087785855.py:35: PerformanceWarning: DataFrame is highly fragmented.  This is usually the result of calling `frame.insert` many times, which has poor performance.  Consider joining all columns at once using pd.concat(axis=1) instead. To get a de-fragmented frame, use `newframe = frame.copy()`\n",
      "  df[col_name + '_stock'] = (df.groupby('isocode')[col_name]\n",
      "/var/folders/hj/n94x31sj08bdmgwjs6ybxbf40000gn/T/ipykernel_93000/4087785855.py:35: PerformanceWarning: DataFrame is highly fragmented.  This is usually the result of calling `frame.insert` many times, which has poor performance.  Consider joining all columns at once using pd.concat(axis=1) instead. To get a de-fragmented frame, use `newframe = frame.copy()`\n",
      "  df[col_name + '_stock'] = (df.groupby('isocode')[col_name]\n",
      "/var/folders/hj/n94x31sj08bdmgwjs6ybxbf40000gn/T/ipykernel_93000/4087785855.py:35: PerformanceWarning: DataFrame is highly fragmented.  This is usually the result of calling `frame.insert` many times, which has poor performance.  Consider joining all columns at once using pd.concat(axis=1) instead. To get a de-fragmented frame, use `newframe = frame.copy()`\n",
      "  df[col_name + '_stock'] = (df.groupby('isocode')[col_name]\n",
      "/var/folders/hj/n94x31sj08bdmgwjs6ybxbf40000gn/T/ipykernel_93000/4087785855.py:35: PerformanceWarning: DataFrame is highly fragmented.  This is usually the result of calling `frame.insert` many times, which has poor performance.  Consider joining all columns at once using pd.concat(axis=1) instead. To get a de-fragmented frame, use `newframe = frame.copy()`\n",
      "  df[col_name + '_stock'] = (df.groupby('isocode')[col_name]\n",
      "/var/folders/hj/n94x31sj08bdmgwjs6ybxbf40000gn/T/ipykernel_93000/4087785855.py:35: PerformanceWarning: DataFrame is highly fragmented.  This is usually the result of calling `frame.insert` many times, which has poor performance.  Consider joining all columns at once using pd.concat(axis=1) instead. To get a de-fragmented frame, use `newframe = frame.copy()`\n",
      "  df[col_name + '_stock'] = (df.groupby('isocode')[col_name]\n",
      "/var/folders/hj/n94x31sj08bdmgwjs6ybxbf40000gn/T/ipykernel_93000/4087785855.py:35: PerformanceWarning: DataFrame is highly fragmented.  This is usually the result of calling `frame.insert` many times, which has poor performance.  Consider joining all columns at once using pd.concat(axis=1) instead. To get a de-fragmented frame, use `newframe = frame.copy()`\n",
      "  df[col_name + '_stock'] = (df.groupby('isocode')[col_name]\n",
      "/var/folders/hj/n94x31sj08bdmgwjs6ybxbf40000gn/T/ipykernel_93000/4087785855.py:35: PerformanceWarning: DataFrame is highly fragmented.  This is usually the result of calling `frame.insert` many times, which has poor performance.  Consider joining all columns at once using pd.concat(axis=1) instead. To get a de-fragmented frame, use `newframe = frame.copy()`\n",
      "  df[col_name + '_stock'] = (df.groupby('isocode')[col_name]\n",
      "/var/folders/hj/n94x31sj08bdmgwjs6ybxbf40000gn/T/ipykernel_93000/4087785855.py:35: PerformanceWarning: DataFrame is highly fragmented.  This is usually the result of calling `frame.insert` many times, which has poor performance.  Consider joining all columns at once using pd.concat(axis=1) instead. To get a de-fragmented frame, use `newframe = frame.copy()`\n",
      "  df[col_name + '_stock'] = (df.groupby('isocode')[col_name]\n",
      "/var/folders/hj/n94x31sj08bdmgwjs6ybxbf40000gn/T/ipykernel_93000/4087785855.py:35: PerformanceWarning: DataFrame is highly fragmented.  This is usually the result of calling `frame.insert` many times, which has poor performance.  Consider joining all columns at once using pd.concat(axis=1) instead. To get a de-fragmented frame, use `newframe = frame.copy()`\n",
      "  df[col_name + '_stock'] = (df.groupby('isocode')[col_name]\n",
      "/var/folders/hj/n94x31sj08bdmgwjs6ybxbf40000gn/T/ipykernel_93000/4087785855.py:35: PerformanceWarning: DataFrame is highly fragmented.  This is usually the result of calling `frame.insert` many times, which has poor performance.  Consider joining all columns at once using pd.concat(axis=1) instead. To get a de-fragmented frame, use `newframe = frame.copy()`\n",
      "  df[col_name + '_stock'] = (df.groupby('isocode')[col_name]\n",
      "/var/folders/hj/n94x31sj08bdmgwjs6ybxbf40000gn/T/ipykernel_93000/4087785855.py:35: PerformanceWarning: DataFrame is highly fragmented.  This is usually the result of calling `frame.insert` many times, which has poor performance.  Consider joining all columns at once using pd.concat(axis=1) instead. To get a de-fragmented frame, use `newframe = frame.copy()`\n",
      "  df[col_name + '_stock'] = (df.groupby('isocode')[col_name]\n",
      "/var/folders/hj/n94x31sj08bdmgwjs6ybxbf40000gn/T/ipykernel_93000/4087785855.py:35: PerformanceWarning: DataFrame is highly fragmented.  This is usually the result of calling `frame.insert` many times, which has poor performance.  Consider joining all columns at once using pd.concat(axis=1) instead. To get a de-fragmented frame, use `newframe = frame.copy()`\n",
      "  df[col_name + '_stock'] = (df.groupby('isocode')[col_name]\n",
      "/var/folders/hj/n94x31sj08bdmgwjs6ybxbf40000gn/T/ipykernel_93000/4087785855.py:35: PerformanceWarning: DataFrame is highly fragmented.  This is usually the result of calling `frame.insert` many times, which has poor performance.  Consider joining all columns at once using pd.concat(axis=1) instead. To get a de-fragmented frame, use `newframe = frame.copy()`\n",
      "  df[col_name + '_stock'] = (df.groupby('isocode')[col_name]\n",
      "/var/folders/hj/n94x31sj08bdmgwjs6ybxbf40000gn/T/ipykernel_93000/4087785855.py:35: PerformanceWarning: DataFrame is highly fragmented.  This is usually the result of calling `frame.insert` many times, which has poor performance.  Consider joining all columns at once using pd.concat(axis=1) instead. To get a de-fragmented frame, use `newframe = frame.copy()`\n",
      "  df[col_name + '_stock'] = (df.groupby('isocode')[col_name]\n",
      "/var/folders/hj/n94x31sj08bdmgwjs6ybxbf40000gn/T/ipykernel_93000/4087785855.py:35: PerformanceWarning: DataFrame is highly fragmented.  This is usually the result of calling `frame.insert` many times, which has poor performance.  Consider joining all columns at once using pd.concat(axis=1) instead. To get a de-fragmented frame, use `newframe = frame.copy()`\n",
      "  df[col_name + '_stock'] = (df.groupby('isocode')[col_name]\n",
      "/var/folders/hj/n94x31sj08bdmgwjs6ybxbf40000gn/T/ipykernel_93000/4087785855.py:35: PerformanceWarning: DataFrame is highly fragmented.  This is usually the result of calling `frame.insert` many times, which has poor performance.  Consider joining all columns at once using pd.concat(axis=1) instead. To get a de-fragmented frame, use `newframe = frame.copy()`\n",
      "  df[col_name + '_stock'] = (df.groupby('isocode')[col_name]\n"
     ]
    }
   ],
   "source": [
    "#Stock function from class\n",
    "def stock_simple(x: pd.Series, decay: float = 0.8):\n",
    "    # xs is a stock of x inflow with a decay of 0.8\n",
    "    x = list(x.fillna(0))\n",
    "    xs = [] \n",
    "    for n in range(len(x)):\n",
    "        if n == 0: \n",
    "            xs.append(x[n]) # stock starts in initial value\n",
    "        else:\n",
    "            xs.append(x[n] + decay * xs[n-1])\n",
    "    return xs\n",
    "\n",
    "#Decimal representation of count_events share\n",
    "columns_to_divide = [col for col in df.columns if col.startswith('count_events_')]\n",
    "\n",
    "for col in columns_to_divide:\n",
    "    df[col] = df[col] / 100\n",
    "\n",
    "#Creating variable conflict\n",
    "df['conflict'] =  0\n",
    "df.loc[df['deaths'] >= 100, 'conflict'] = 1 #Threshold: 100 deaths\n",
    "\n",
    "#Creating stock variables\n",
    "# List of column prefixes\n",
    "count_events_prefixes = ['count_events_' + str(i) for i in range(1, 21)]\n",
    "\n",
    "# List of suffixes\n",
    "suffixes = ['', '_gov', '_opp']\n",
    "\n",
    "# Creating stock variables for each column\n",
    "for prefix in count_events_prefixes:\n",
    "    for suffix in suffixes:\n",
    "        col_name = prefix + suffix\n",
    "        if col_name in df.columns:\n",
    "            df[col_name + '_stock'] = (df.groupby('isocode')[col_name]\n",
    "                                       .apply(lambda x: stock_simple(x))\n",
    "                                       .explode().reset_index(drop=True))\n"
   ]
  },
  {
   "cell_type": "code",
   "execution_count": 1242,
   "metadata": {},
   "outputs": [],
   "source": [
    "def make_target(df, t):\n",
    "    # t is the number of periods for the shift\n",
    "\n",
    "    # loop through each period and generate the shift variables\n",
    "    for i in range(1, t+1):\n",
    "        col_name = f'conflict_f{i}'\n",
    "        df[col_name] = df.groupby('isocode')['conflict'].shift(-i)\n",
    "\n",
    "    # take the maximum for t periods forward and create the new variable\n",
    "    df['target_f{}'.format(t)] = df[[f'conflict_f{i}' for i in range(1, t+1)]].max(axis=1, skipna=False)\n",
    "\n",
    "    # drop the shift variables\n",
    "    df = df.drop(columns=[f'conflict_f{i}' for i in range(1, t+1)])\n",
    "\n",
    "    # make the onset variable which ignores periods of ongoing conflict\n",
    "    df['ons_target_f{}'.format(t)]=df['target_f{}'.format(t)]\n",
    "\n",
    "    df.loc[df['conflict'] == 1, 'ons_target_f{}'.format(t)] = np.nan\n",
    "    \n",
    "    return(df)\n"
   ]
  },
  {
   "cell_type": "code",
   "execution_count": 1243,
   "metadata": {},
   "outputs": [
    {
     "data": {
      "text/plain": [
       "2"
      ]
     },
     "execution_count": 1243,
     "metadata": {},
     "output_type": "execute_result"
    }
   ],
   "source": [
    "df.conflict.nunique()"
   ]
  },
  {
   "cell_type": "code",
   "execution_count": 1244,
   "metadata": {},
   "outputs": [
    {
     "data": {
      "text/plain": [
       "Index(['MonthYear', 'year', 'month', 'isocode', 'count_events_1',\n",
       "       'count_events_2', 'count_events_3', 'count_events_4', 'count_events_5',\n",
       "       'count_events_6',\n",
       "       ...\n",
       "       'count_events_17_opp_stock', 'count_events_18_stock',\n",
       "       'count_events_18_gov_stock', 'count_events_18_opp_stock',\n",
       "       'count_events_19_stock', 'count_events_19_gov_stock',\n",
       "       'count_events_19_opp_stock', 'count_events_20_stock',\n",
       "       'count_events_20_gov_stock', 'count_events_20_opp_stock'],\n",
       "      dtype='object', length=131)"
      ]
     },
     "execution_count": 1244,
     "metadata": {},
     "output_type": "execute_result"
    }
   ],
   "source": [
    "df.columns"
   ]
  },
  {
   "cell_type": "code",
   "execution_count": 1245,
   "metadata": {},
   "outputs": [],
   "source": [
    "def prepare_slice(count_events, year, month, dep, forward):\n",
    "    \n",
    "    data=df\n",
    "    \n",
    "    print(dep)\n",
    "    print('pre drop ', len(data))\n",
    "    \n",
    "    #the future data is the data we use to produce the fitted values(predicted probabilities) that are stored\n",
    "    future = data.drop(data[(data.year != year) | (data.month != month)].index)\t\n",
    "    data = data.drop(data[((data.year > year)) | ((data.year == year) & (data.month >= month))].index)\n",
    "\n",
    "    #make the target variable through the function above\n",
    "    data = make_target(data, forward)\n",
    "    \n",
    "    print(year)\n",
    "    print(month)\n",
    "\n",
    "    #making one model\n",
    "    fullmodel = []\n",
    "\n",
    "    for z in range(1, count_events + 1):\n",
    "        this = 'count_events_' + str(z) + '_stock'\n",
    "        fullmodel.append(this)\n",
    "        this = 'count_events_' + str(z)\n",
    "        fullmodel.append(this)\n",
    "        this = 'count_events_' + str(z) + '_opp'\n",
    "        fullmodel.append(this)\n",
    "        this = 'count_events_' + str(z) + '_gov'\n",
    "        fullmodel.append(this)\n",
    "        \n",
    "        \n",
    "         \n",
    "    together=[]\n",
    "    for thang in fullmodel:\n",
    "        together.append(thang)\n",
    "        \n",
    "    together.append('target_f{}'.format(forward))  # use the target variable created in make_target\n",
    "    together.append('isocode')\n",
    "    together.append('year')\n",
    "    together.append('month')\n",
    "\n",
    "    #model is the full or augmented model\n",
    "    data2 = data[together]\n",
    "    df1 = data2.dropna(how='any')\n",
    "    print('post drop model', len(df1))\n",
    "    df2 = df1['target_f{}'.format(forward)]  # use the target variable created in make_target\n",
    "    #dependent variable for full model\n",
    "    ys = df2.values.ravel()\n",
    "    \n",
    "    #now get the model back\n",
    "    together.remove('target_f{}'.format(forward))  # use the target variable created in make_target\n",
    "    \n",
    "    #prepare out of sample for the models\n",
    "    future2 = future[together]\n",
    "    future_df1 = future2.dropna(how='any')\n",
    "\n",
    "    #training data\n",
    "    X = df1[fullmodel]\n",
    "    \n",
    "    #data at time T for producing fitted values\n",
    "    X_future = future_df1[fullmodel]\n",
    "    \n",
    "    return ys, X, X_future, future_df1\n"
   ]
  },
  {
   "cell_type": "code",
   "execution_count": 1246,
   "metadata": {},
   "outputs": [
    {
     "name": "stdout",
     "output_type": "stream",
     "text": [
      "Checking forward depth 8 and minleafs 100\n",
      "2021\n",
      "1\n",
      "['ons_target_f1']\n",
      "pre drop  98640\n",
      "2021\n",
      "1\n",
      "post drop model 91920\n"
     ]
    }
   ],
   "source": [
    "gendata=1\n",
    "\n",
    "for depths in [8]:\n",
    "    for min_samples_leafs in [100]:\n",
    "        print(f'Checking forward depth {depths} and minleafs {min_samples_leafs}')\n",
    "\n",
    "        trees=700\n",
    "        min_samples_splits=2\n",
    "        \n",
    "        forward=1\n",
    "        count_events=20\n",
    "        startyearid=2021\n",
    "        deps=['ons_target_f{}'.format(forward)]\n",
    "\n",
    "        search=0\n",
    "        initialize=1\n",
    "\n",
    "        if initialize==1:\n",
    "            monthid=1\n",
    "            #my_file = Path(readin + \"forecast_data_forstudents.csv\")\n",
    "            data = df\n",
    "            future = data.drop(data[(data.year != startyearid) | (data.month != monthid)].index)\t\t\t\n",
    "            fittedvalues=['isocode', 'year', 'month']\n",
    "            fittedframe=future[fittedvalues]\n",
    "\n",
    "            print(startyearid)\n",
    "            print(monthid)\n",
    "            y, X, X_future, future_model = prepare_slice(count_events, startyearid, monthid, deps, forward)\n",
    "\n",
    "            fittedframe_future_top = future_model[fittedvalues]\n"
   ]
  },
  {
   "cell_type": "code",
   "execution_count": 1247,
   "metadata": {},
   "outputs": [
    {
     "data": {
      "text/html": [
       "<div>\n",
       "<style scoped>\n",
       "    .dataframe tbody tr th:only-of-type {\n",
       "        vertical-align: middle;\n",
       "    }\n",
       "\n",
       "    .dataframe tbody tr th {\n",
       "        vertical-align: top;\n",
       "    }\n",
       "\n",
       "    .dataframe thead th {\n",
       "        text-align: right;\n",
       "    }\n",
       "</style>\n",
       "<table border=\"1\" class=\"dataframe\">\n",
       "  <thead>\n",
       "    <tr style=\"text-align: right;\">\n",
       "      <th></th>\n",
       "      <th>count_events_1_stock</th>\n",
       "      <th>count_events_1</th>\n",
       "      <th>count_events_1_opp</th>\n",
       "      <th>count_events_1_gov</th>\n",
       "      <th>count_events_2_stock</th>\n",
       "      <th>count_events_2</th>\n",
       "      <th>count_events_2_opp</th>\n",
       "      <th>count_events_2_gov</th>\n",
       "      <th>count_events_3_stock</th>\n",
       "      <th>count_events_3</th>\n",
       "      <th>...</th>\n",
       "      <th>count_events_18_opp</th>\n",
       "      <th>count_events_18_gov</th>\n",
       "      <th>count_events_19_stock</th>\n",
       "      <th>count_events_19</th>\n",
       "      <th>count_events_19_opp</th>\n",
       "      <th>count_events_19_gov</th>\n",
       "      <th>count_events_20_stock</th>\n",
       "      <th>count_events_20</th>\n",
       "      <th>count_events_20_opp</th>\n",
       "      <th>count_events_20_gov</th>\n",
       "    </tr>\n",
       "  </thead>\n",
       "  <tbody>\n",
       "    <tr>\n",
       "      <th>0</th>\n",
       "      <td>0.0</td>\n",
       "      <td>4.62</td>\n",
       "      <td>0.40</td>\n",
       "      <td>1.88</td>\n",
       "      <td>0.0</td>\n",
       "      <td>2.56</td>\n",
       "      <td>0.20</td>\n",
       "      <td>0.90</td>\n",
       "      <td>0.0</td>\n",
       "      <td>3.38</td>\n",
       "      <td>...</td>\n",
       "      <td>0.14</td>\n",
       "      <td>0.08</td>\n",
       "      <td>0.0</td>\n",
       "      <td>8.34</td>\n",
       "      <td>0.76</td>\n",
       "      <td>2.62</td>\n",
       "      <td>0.0</td>\n",
       "      <td>0.0</td>\n",
       "      <td>0.0</td>\n",
       "      <td>0.0</td>\n",
       "    </tr>\n",
       "    <tr>\n",
       "      <th>1</th>\n",
       "      <td>0.0</td>\n",
       "      <td>9.16</td>\n",
       "      <td>0.60</td>\n",
       "      <td>3.62</td>\n",
       "      <td>0.0</td>\n",
       "      <td>5.16</td>\n",
       "      <td>0.50</td>\n",
       "      <td>2.34</td>\n",
       "      <td>0.0</td>\n",
       "      <td>6.30</td>\n",
       "      <td>...</td>\n",
       "      <td>0.20</td>\n",
       "      <td>0.58</td>\n",
       "      <td>0.0</td>\n",
       "      <td>9.78</td>\n",
       "      <td>1.72</td>\n",
       "      <td>3.20</td>\n",
       "      <td>0.0</td>\n",
       "      <td>0.0</td>\n",
       "      <td>0.0</td>\n",
       "      <td>0.0</td>\n",
       "    </tr>\n",
       "    <tr>\n",
       "      <th>2</th>\n",
       "      <td>0.0</td>\n",
       "      <td>5.46</td>\n",
       "      <td>0.46</td>\n",
       "      <td>2.26</td>\n",
       "      <td>0.0</td>\n",
       "      <td>2.74</td>\n",
       "      <td>0.20</td>\n",
       "      <td>1.40</td>\n",
       "      <td>0.04</td>\n",
       "      <td>2.06</td>\n",
       "      <td>...</td>\n",
       "      <td>0.28</td>\n",
       "      <td>0.30</td>\n",
       "      <td>0.0</td>\n",
       "      <td>10.84</td>\n",
       "      <td>2.18</td>\n",
       "      <td>3.78</td>\n",
       "      <td>0.0</td>\n",
       "      <td>0.0</td>\n",
       "      <td>0.0</td>\n",
       "      <td>0.0</td>\n",
       "    </tr>\n",
       "    <tr>\n",
       "      <th>3</th>\n",
       "      <td>0.0</td>\n",
       "      <td>3.64</td>\n",
       "      <td>0.28</td>\n",
       "      <td>1.68</td>\n",
       "      <td>0.0</td>\n",
       "      <td>2.62</td>\n",
       "      <td>0.14</td>\n",
       "      <td>1.26</td>\n",
       "      <td>0.032</td>\n",
       "      <td>1.82</td>\n",
       "      <td>...</td>\n",
       "      <td>0.40</td>\n",
       "      <td>0.62</td>\n",
       "      <td>0.0</td>\n",
       "      <td>10.00</td>\n",
       "      <td>2.58</td>\n",
       "      <td>3.94</td>\n",
       "      <td>0.0</td>\n",
       "      <td>0.0</td>\n",
       "      <td>0.0</td>\n",
       "      <td>0.0</td>\n",
       "    </tr>\n",
       "    <tr>\n",
       "      <th>4</th>\n",
       "      <td>0.0</td>\n",
       "      <td>3.12</td>\n",
       "      <td>0.28</td>\n",
       "      <td>1.74</td>\n",
       "      <td>0.0</td>\n",
       "      <td>1.50</td>\n",
       "      <td>0.04</td>\n",
       "      <td>0.74</td>\n",
       "      <td>0.0256</td>\n",
       "      <td>1.56</td>\n",
       "      <td>...</td>\n",
       "      <td>0.16</td>\n",
       "      <td>0.08</td>\n",
       "      <td>0.0</td>\n",
       "      <td>5.66</td>\n",
       "      <td>0.80</td>\n",
       "      <td>2.10</td>\n",
       "      <td>0.0</td>\n",
       "      <td>0.0</td>\n",
       "      <td>0.0</td>\n",
       "      <td>0.0</td>\n",
       "    </tr>\n",
       "    <tr>\n",
       "      <th>...</th>\n",
       "      <td>...</td>\n",
       "      <td>...</td>\n",
       "      <td>...</td>\n",
       "      <td>...</td>\n",
       "      <td>...</td>\n",
       "      <td>...</td>\n",
       "      <td>...</td>\n",
       "      <td>...</td>\n",
       "      <td>...</td>\n",
       "      <td>...</td>\n",
       "      <td>...</td>\n",
       "      <td>...</td>\n",
       "      <td>...</td>\n",
       "      <td>...</td>\n",
       "      <td>...</td>\n",
       "      <td>...</td>\n",
       "      <td>...</td>\n",
       "      <td>...</td>\n",
       "      <td>...</td>\n",
       "      <td>...</td>\n",
       "      <td>...</td>\n",
       "    </tr>\n",
       "    <tr>\n",
       "      <th>98607</th>\n",
       "      <td>251.052301</td>\n",
       "      <td>0.00</td>\n",
       "      <td>0.00</td>\n",
       "      <td>0.00</td>\n",
       "      <td>120.037537</td>\n",
       "      <td>0.00</td>\n",
       "      <td>0.00</td>\n",
       "      <td>0.00</td>\n",
       "      <td>78.318026</td>\n",
       "      <td>0.00</td>\n",
       "      <td>...</td>\n",
       "      <td>0.00</td>\n",
       "      <td>0.00</td>\n",
       "      <td>63.47361</td>\n",
       "      <td>0.00</td>\n",
       "      <td>0.00</td>\n",
       "      <td>0.00</td>\n",
       "      <td>0.479259</td>\n",
       "      <td>0.0</td>\n",
       "      <td>0.0</td>\n",
       "      <td>0.0</td>\n",
       "    </tr>\n",
       "    <tr>\n",
       "      <th>98608</th>\n",
       "      <td>250.44184</td>\n",
       "      <td>0.00</td>\n",
       "      <td>0.00</td>\n",
       "      <td>0.00</td>\n",
       "      <td>123.87003</td>\n",
       "      <td>0.00</td>\n",
       "      <td>0.00</td>\n",
       "      <td>0.00</td>\n",
       "      <td>76.674421</td>\n",
       "      <td>0.00</td>\n",
       "      <td>...</td>\n",
       "      <td>0.00</td>\n",
       "      <td>0.00</td>\n",
       "      <td>63.918888</td>\n",
       "      <td>0.00</td>\n",
       "      <td>0.00</td>\n",
       "      <td>0.00</td>\n",
       "      <td>0.503407</td>\n",
       "      <td>0.0</td>\n",
       "      <td>0.0</td>\n",
       "      <td>0.0</td>\n",
       "    </tr>\n",
       "    <tr>\n",
       "      <th>98609</th>\n",
       "      <td>257.473472</td>\n",
       "      <td>0.00</td>\n",
       "      <td>0.00</td>\n",
       "      <td>0.00</td>\n",
       "      <td>123.916024</td>\n",
       "      <td>0.00</td>\n",
       "      <td>0.00</td>\n",
       "      <td>0.00</td>\n",
       "      <td>84.459537</td>\n",
       "      <td>0.00</td>\n",
       "      <td>...</td>\n",
       "      <td>0.00</td>\n",
       "      <td>0.00</td>\n",
       "      <td>64.575111</td>\n",
       "      <td>0.00</td>\n",
       "      <td>0.00</td>\n",
       "      <td>0.00</td>\n",
       "      <td>0.442726</td>\n",
       "      <td>0.0</td>\n",
       "      <td>0.0</td>\n",
       "      <td>0.0</td>\n",
       "    </tr>\n",
       "    <tr>\n",
       "      <th>98610</th>\n",
       "      <td>238.318778</td>\n",
       "      <td>0.00</td>\n",
       "      <td>0.00</td>\n",
       "      <td>0.00</td>\n",
       "      <td>117.232819</td>\n",
       "      <td>0.00</td>\n",
       "      <td>0.00</td>\n",
       "      <td>0.00</td>\n",
       "      <td>78.68763</td>\n",
       "      <td>0.00</td>\n",
       "      <td>...</td>\n",
       "      <td>0.00</td>\n",
       "      <td>0.00</td>\n",
       "      <td>60.740088</td>\n",
       "      <td>0.00</td>\n",
       "      <td>0.00</td>\n",
       "      <td>0.00</td>\n",
       "      <td>0.354181</td>\n",
       "      <td>0.0</td>\n",
       "      <td>0.0</td>\n",
       "      <td>0.0</td>\n",
       "    </tr>\n",
       "    <tr>\n",
       "      <th>98611</th>\n",
       "      <td>221.035022</td>\n",
       "      <td>0.00</td>\n",
       "      <td>0.00</td>\n",
       "      <td>0.00</td>\n",
       "      <td>106.226255</td>\n",
       "      <td>0.00</td>\n",
       "      <td>0.00</td>\n",
       "      <td>0.00</td>\n",
       "      <td>70.130104</td>\n",
       "      <td>0.00</td>\n",
       "      <td>...</td>\n",
       "      <td>0.00</td>\n",
       "      <td>0.00</td>\n",
       "      <td>54.272071</td>\n",
       "      <td>0.00</td>\n",
       "      <td>0.00</td>\n",
       "      <td>0.00</td>\n",
       "      <td>0.283344</td>\n",
       "      <td>0.0</td>\n",
       "      <td>0.0</td>\n",
       "      <td>0.0</td>\n",
       "    </tr>\n",
       "  </tbody>\n",
       "</table>\n",
       "<p>91920 rows × 80 columns</p>\n",
       "</div>"
      ],
      "text/plain": [
       "      count_events_1_stock  count_events_1  count_events_1_opp  \\\n",
       "0                      0.0            4.62                0.40   \n",
       "1                      0.0            9.16                0.60   \n",
       "2                      0.0            5.46                0.46   \n",
       "3                      0.0            3.64                0.28   \n",
       "4                      0.0            3.12                0.28   \n",
       "...                    ...             ...                 ...   \n",
       "98607           251.052301            0.00                0.00   \n",
       "98608            250.44184            0.00                0.00   \n",
       "98609           257.473472            0.00                0.00   \n",
       "98610           238.318778            0.00                0.00   \n",
       "98611           221.035022            0.00                0.00   \n",
       "\n",
       "       count_events_1_gov count_events_2_stock  count_events_2  \\\n",
       "0                    1.88                  0.0            2.56   \n",
       "1                    3.62                  0.0            5.16   \n",
       "2                    2.26                  0.0            2.74   \n",
       "3                    1.68                  0.0            2.62   \n",
       "4                    1.74                  0.0            1.50   \n",
       "...                   ...                  ...             ...   \n",
       "98607                0.00           120.037537            0.00   \n",
       "98608                0.00            123.87003            0.00   \n",
       "98609                0.00           123.916024            0.00   \n",
       "98610                0.00           117.232819            0.00   \n",
       "98611                0.00           106.226255            0.00   \n",
       "\n",
       "       count_events_2_opp  count_events_2_gov count_events_3_stock  \\\n",
       "0                    0.20                0.90                  0.0   \n",
       "1                    0.50                2.34                  0.0   \n",
       "2                    0.20                1.40                 0.04   \n",
       "3                    0.14                1.26                0.032   \n",
       "4                    0.04                0.74               0.0256   \n",
       "...                   ...                 ...                  ...   \n",
       "98607                0.00                0.00            78.318026   \n",
       "98608                0.00                0.00            76.674421   \n",
       "98609                0.00                0.00            84.459537   \n",
       "98610                0.00                0.00             78.68763   \n",
       "98611                0.00                0.00            70.130104   \n",
       "\n",
       "       count_events_3  ...  count_events_18_opp  count_events_18_gov  \\\n",
       "0                3.38  ...                 0.14                 0.08   \n",
       "1                6.30  ...                 0.20                 0.58   \n",
       "2                2.06  ...                 0.28                 0.30   \n",
       "3                1.82  ...                 0.40                 0.62   \n",
       "4                1.56  ...                 0.16                 0.08   \n",
       "...               ...  ...                  ...                  ...   \n",
       "98607            0.00  ...                 0.00                 0.00   \n",
       "98608            0.00  ...                 0.00                 0.00   \n",
       "98609            0.00  ...                 0.00                 0.00   \n",
       "98610            0.00  ...                 0.00                 0.00   \n",
       "98611            0.00  ...                 0.00                 0.00   \n",
       "\n",
       "      count_events_19_stock  count_events_19  count_events_19_opp  \\\n",
       "0                       0.0             8.34                 0.76   \n",
       "1                       0.0             9.78                 1.72   \n",
       "2                       0.0            10.84                 2.18   \n",
       "3                       0.0            10.00                 2.58   \n",
       "4                       0.0             5.66                 0.80   \n",
       "...                     ...              ...                  ...   \n",
       "98607              63.47361             0.00                 0.00   \n",
       "98608             63.918888             0.00                 0.00   \n",
       "98609             64.575111             0.00                 0.00   \n",
       "98610             60.740088             0.00                 0.00   \n",
       "98611             54.272071             0.00                 0.00   \n",
       "\n",
       "       count_events_19_gov count_events_20_stock  count_events_20  \\\n",
       "0                     2.62                   0.0              0.0   \n",
       "1                     3.20                   0.0              0.0   \n",
       "2                     3.78                   0.0              0.0   \n",
       "3                     3.94                   0.0              0.0   \n",
       "4                     2.10                   0.0              0.0   \n",
       "...                    ...                   ...              ...   \n",
       "98607                 0.00              0.479259              0.0   \n",
       "98608                 0.00              0.503407              0.0   \n",
       "98609                 0.00              0.442726              0.0   \n",
       "98610                 0.00              0.354181              0.0   \n",
       "98611                 0.00              0.283344              0.0   \n",
       "\n",
       "       count_events_20_opp  count_events_20_gov  \n",
       "0                      0.0                  0.0  \n",
       "1                      0.0                  0.0  \n",
       "2                      0.0                  0.0  \n",
       "3                      0.0                  0.0  \n",
       "4                      0.0                  0.0  \n",
       "...                    ...                  ...  \n",
       "98607                  0.0                  0.0  \n",
       "98608                  0.0                  0.0  \n",
       "98609                  0.0                  0.0  \n",
       "98610                  0.0                  0.0  \n",
       "98611                  0.0                  0.0  \n",
       "\n",
       "[91920 rows x 80 columns]"
      ]
     },
     "execution_count": 1247,
     "metadata": {},
     "output_type": "execute_result"
    }
   ],
   "source": [
    "X"
   ]
  },
  {
   "cell_type": "code",
   "execution_count": 1248,
   "metadata": {},
   "outputs": [
    {
     "data": {
      "text/html": [
       "<div>\n",
       "<style scoped>\n",
       "    .dataframe tbody tr th:only-of-type {\n",
       "        vertical-align: middle;\n",
       "    }\n",
       "\n",
       "    .dataframe tbody tr th {\n",
       "        vertical-align: top;\n",
       "    }\n",
       "\n",
       "    .dataframe thead th {\n",
       "        text-align: right;\n",
       "    }\n",
       "</style>\n",
       "<table border=\"1\" class=\"dataframe\">\n",
       "  <thead>\n",
       "    <tr style=\"text-align: right;\">\n",
       "      <th></th>\n",
       "      <th>count_events_1_stock</th>\n",
       "      <th>count_events_1</th>\n",
       "      <th>count_events_1_opp</th>\n",
       "      <th>count_events_1_gov</th>\n",
       "      <th>count_events_2_stock</th>\n",
       "      <th>count_events_2</th>\n",
       "      <th>count_events_2_opp</th>\n",
       "      <th>count_events_2_gov</th>\n",
       "      <th>count_events_3_stock</th>\n",
       "      <th>count_events_3</th>\n",
       "      <th>...</th>\n",
       "      <th>count_events_19</th>\n",
       "      <th>count_events_19_opp</th>\n",
       "      <th>count_events_19_gov</th>\n",
       "      <th>count_events_20_stock</th>\n",
       "      <th>count_events_20</th>\n",
       "      <th>count_events_20_opp</th>\n",
       "      <th>count_events_20_gov</th>\n",
       "      <th>isocode</th>\n",
       "      <th>year</th>\n",
       "      <th>month</th>\n",
       "    </tr>\n",
       "  </thead>\n",
       "  <tbody>\n",
       "    <tr>\n",
       "      <th>384</th>\n",
       "      <td>2.55327</td>\n",
       "      <td>49.92</td>\n",
       "      <td>3.60</td>\n",
       "      <td>20.60</td>\n",
       "      <td>2.26015</td>\n",
       "      <td>20.96</td>\n",
       "      <td>1.42</td>\n",
       "      <td>9.42</td>\n",
       "      <td>3.006204</td>\n",
       "      <td>22.80</td>\n",
       "      <td>...</td>\n",
       "      <td>63.26</td>\n",
       "      <td>8.28</td>\n",
       "      <td>21.46</td>\n",
       "      <td>0.0</td>\n",
       "      <td>0.2</td>\n",
       "      <td>0.0</td>\n",
       "      <td>0.06</td>\n",
       "      <td>AFG</td>\n",
       "      <td>2021</td>\n",
       "      <td>1</td>\n",
       "    </tr>\n",
       "    <tr>\n",
       "      <th>795</th>\n",
       "      <td>316.583831</td>\n",
       "      <td>3.12</td>\n",
       "      <td>0.10</td>\n",
       "      <td>1.56</td>\n",
       "      <td>128.418244</td>\n",
       "      <td>1.68</td>\n",
       "      <td>0.00</td>\n",
       "      <td>0.52</td>\n",
       "      <td>157.980405</td>\n",
       "      <td>2.46</td>\n",
       "      <td>...</td>\n",
       "      <td>1.34</td>\n",
       "      <td>0.06</td>\n",
       "      <td>0.12</td>\n",
       "      <td>0.848317</td>\n",
       "      <td>0.0</td>\n",
       "      <td>0.0</td>\n",
       "      <td>0.00</td>\n",
       "      <td>AGO</td>\n",
       "      <td>2021</td>\n",
       "      <td>1</td>\n",
       "    </tr>\n",
       "    <tr>\n",
       "      <th>1206</th>\n",
       "      <td>23.287082</td>\n",
       "      <td>1.88</td>\n",
       "      <td>0.06</td>\n",
       "      <td>0.68</td>\n",
       "      <td>12.337394</td>\n",
       "      <td>0.90</td>\n",
       "      <td>0.00</td>\n",
       "      <td>0.22</td>\n",
       "      <td>14.541243</td>\n",
       "      <td>2.36</td>\n",
       "      <td>...</td>\n",
       "      <td>1.34</td>\n",
       "      <td>0.04</td>\n",
       "      <td>0.50</td>\n",
       "      <td>0.051495</td>\n",
       "      <td>0.0</td>\n",
       "      <td>0.0</td>\n",
       "      <td>0.00</td>\n",
       "      <td>ALB</td>\n",
       "      <td>2021</td>\n",
       "      <td>1</td>\n",
       "    </tr>\n",
       "    <tr>\n",
       "      <th>1617</th>\n",
       "      <td>1.273687</td>\n",
       "      <td>28.22</td>\n",
       "      <td>0.00</td>\n",
       "      <td>8.16</td>\n",
       "      <td>1.882802</td>\n",
       "      <td>16.84</td>\n",
       "      <td>0.02</td>\n",
       "      <td>4.92</td>\n",
       "      <td>0.685892</td>\n",
       "      <td>20.68</td>\n",
       "      <td>...</td>\n",
       "      <td>7.80</td>\n",
       "      <td>0.06</td>\n",
       "      <td>1.96</td>\n",
       "      <td>0.0</td>\n",
       "      <td>0.0</td>\n",
       "      <td>0.0</td>\n",
       "      <td>0.00</td>\n",
       "      <td>ARE</td>\n",
       "      <td>2021</td>\n",
       "      <td>1</td>\n",
       "    </tr>\n",
       "    <tr>\n",
       "      <th>2028</th>\n",
       "      <td>15.676086</td>\n",
       "      <td>9.94</td>\n",
       "      <td>0.08</td>\n",
       "      <td>2.12</td>\n",
       "      <td>9.103214</td>\n",
       "      <td>5.56</td>\n",
       "      <td>0.00</td>\n",
       "      <td>1.08</td>\n",
       "      <td>10.929625</td>\n",
       "      <td>6.92</td>\n",
       "      <td>...</td>\n",
       "      <td>3.40</td>\n",
       "      <td>0.06</td>\n",
       "      <td>0.72</td>\n",
       "      <td>0.245607</td>\n",
       "      <td>0.0</td>\n",
       "      <td>0.0</td>\n",
       "      <td>0.00</td>\n",
       "      <td>ARG</td>\n",
       "      <td>2021</td>\n",
       "      <td>1</td>\n",
       "    </tr>\n",
       "    <tr>\n",
       "      <th>...</th>\n",
       "      <td>...</td>\n",
       "      <td>...</td>\n",
       "      <td>...</td>\n",
       "      <td>...</td>\n",
       "      <td>...</td>\n",
       "      <td>...</td>\n",
       "      <td>...</td>\n",
       "      <td>...</td>\n",
       "      <td>...</td>\n",
       "      <td>...</td>\n",
       "      <td>...</td>\n",
       "      <td>...</td>\n",
       "      <td>...</td>\n",
       "      <td>...</td>\n",
       "      <td>...</td>\n",
       "      <td>...</td>\n",
       "      <td>...</td>\n",
       "      <td>...</td>\n",
       "      <td>...</td>\n",
       "      <td>...</td>\n",
       "      <td>...</td>\n",
       "    </tr>\n",
       "    <tr>\n",
       "      <th>96969</th>\n",
       "      <td>7.635847</td>\n",
       "      <td>0.28</td>\n",
       "      <td>0.00</td>\n",
       "      <td>0.12</td>\n",
       "      <td>4.579054</td>\n",
       "      <td>0.12</td>\n",
       "      <td>0.00</td>\n",
       "      <td>0.04</td>\n",
       "      <td>6.688316</td>\n",
       "      <td>0.02</td>\n",
       "      <td>...</td>\n",
       "      <td>0.08</td>\n",
       "      <td>0.00</td>\n",
       "      <td>0.00</td>\n",
       "      <td>0.253523</td>\n",
       "      <td>0.0</td>\n",
       "      <td>0.0</td>\n",
       "      <td>0.00</td>\n",
       "      <td>IMN</td>\n",
       "      <td>2021</td>\n",
       "      <td>1</td>\n",
       "    </tr>\n",
       "    <tr>\n",
       "      <th>97380</th>\n",
       "      <td>82.143732</td>\n",
       "      <td>0.00</td>\n",
       "      <td>0.00</td>\n",
       "      <td>0.00</td>\n",
       "      <td>38.73541</td>\n",
       "      <td>0.00</td>\n",
       "      <td>0.00</td>\n",
       "      <td>0.00</td>\n",
       "      <td>25.189862</td>\n",
       "      <td>0.00</td>\n",
       "      <td>...</td>\n",
       "      <td>0.00</td>\n",
       "      <td>0.00</td>\n",
       "      <td>0.00</td>\n",
       "      <td>0.264768</td>\n",
       "      <td>0.0</td>\n",
       "      <td>0.0</td>\n",
       "      <td>0.00</td>\n",
       "      <td>WLF</td>\n",
       "      <td>2021</td>\n",
       "      <td>1</td>\n",
       "    </tr>\n",
       "    <tr>\n",
       "      <th>97791</th>\n",
       "      <td>663.376686</td>\n",
       "      <td>0.10</td>\n",
       "      <td>0.00</td>\n",
       "      <td>0.00</td>\n",
       "      <td>330.906801</td>\n",
       "      <td>0.02</td>\n",
       "      <td>0.00</td>\n",
       "      <td>0.02</td>\n",
       "      <td>252.995526</td>\n",
       "      <td>0.00</td>\n",
       "      <td>...</td>\n",
       "      <td>0.00</td>\n",
       "      <td>0.00</td>\n",
       "      <td>0.00</td>\n",
       "      <td>0.874608</td>\n",
       "      <td>0.0</td>\n",
       "      <td>0.0</td>\n",
       "      <td>0.00</td>\n",
       "      <td>IOT</td>\n",
       "      <td>2021</td>\n",
       "      <td>1</td>\n",
       "    </tr>\n",
       "    <tr>\n",
       "      <th>98202</th>\n",
       "      <td>62.16251</td>\n",
       "      <td>0.00</td>\n",
       "      <td>0.00</td>\n",
       "      <td>0.00</td>\n",
       "      <td>36.865747</td>\n",
       "      <td>0.00</td>\n",
       "      <td>0.00</td>\n",
       "      <td>0.00</td>\n",
       "      <td>21.247873</td>\n",
       "      <td>0.00</td>\n",
       "      <td>...</td>\n",
       "      <td>0.00</td>\n",
       "      <td>0.00</td>\n",
       "      <td>0.00</td>\n",
       "      <td>0.050126</td>\n",
       "      <td>0.0</td>\n",
       "      <td>0.0</td>\n",
       "      <td>0.00</td>\n",
       "      <td>BVT</td>\n",
       "      <td>2021</td>\n",
       "      <td>1</td>\n",
       "    </tr>\n",
       "    <tr>\n",
       "      <th>98613</th>\n",
       "      <td>206.418414</td>\n",
       "      <td>0.00</td>\n",
       "      <td>0.00</td>\n",
       "      <td>0.00</td>\n",
       "      <td>100.936803</td>\n",
       "      <td>0.00</td>\n",
       "      <td>0.00</td>\n",
       "      <td>0.00</td>\n",
       "      <td>64.463266</td>\n",
       "      <td>0.00</td>\n",
       "      <td>...</td>\n",
       "      <td>0.00</td>\n",
       "      <td>0.00</td>\n",
       "      <td>0.00</td>\n",
       "      <td>0.23734</td>\n",
       "      <td>0.0</td>\n",
       "      <td>0.0</td>\n",
       "      <td>0.00</td>\n",
       "      <td>HMD</td>\n",
       "      <td>2021</td>\n",
       "      <td>1</td>\n",
       "    </tr>\n",
       "  </tbody>\n",
       "</table>\n",
       "<p>240 rows × 83 columns</p>\n",
       "</div>"
      ],
      "text/plain": [
       "      count_events_1_stock  count_events_1  count_events_1_opp  \\\n",
       "384                2.55327           49.92                3.60   \n",
       "795             316.583831            3.12                0.10   \n",
       "1206             23.287082            1.88                0.06   \n",
       "1617              1.273687           28.22                0.00   \n",
       "2028             15.676086            9.94                0.08   \n",
       "...                    ...             ...                 ...   \n",
       "96969             7.635847            0.28                0.00   \n",
       "97380            82.143732            0.00                0.00   \n",
       "97791           663.376686            0.10                0.00   \n",
       "98202             62.16251            0.00                0.00   \n",
       "98613           206.418414            0.00                0.00   \n",
       "\n",
       "       count_events_1_gov count_events_2_stock  count_events_2  \\\n",
       "384                 20.60              2.26015           20.96   \n",
       "795                  1.56           128.418244            1.68   \n",
       "1206                 0.68            12.337394            0.90   \n",
       "1617                 8.16             1.882802           16.84   \n",
       "2028                 2.12             9.103214            5.56   \n",
       "...                   ...                  ...             ...   \n",
       "96969                0.12             4.579054            0.12   \n",
       "97380                0.00             38.73541            0.00   \n",
       "97791                0.00           330.906801            0.02   \n",
       "98202                0.00            36.865747            0.00   \n",
       "98613                0.00           100.936803            0.00   \n",
       "\n",
       "       count_events_2_opp  count_events_2_gov count_events_3_stock  \\\n",
       "384                  1.42                9.42             3.006204   \n",
       "795                  0.00                0.52           157.980405   \n",
       "1206                 0.00                0.22            14.541243   \n",
       "1617                 0.02                4.92             0.685892   \n",
       "2028                 0.00                1.08            10.929625   \n",
       "...                   ...                 ...                  ...   \n",
       "96969                0.00                0.04             6.688316   \n",
       "97380                0.00                0.00            25.189862   \n",
       "97791                0.00                0.02           252.995526   \n",
       "98202                0.00                0.00            21.247873   \n",
       "98613                0.00                0.00            64.463266   \n",
       "\n",
       "       count_events_3  ...  count_events_19  count_events_19_opp  \\\n",
       "384             22.80  ...            63.26                 8.28   \n",
       "795              2.46  ...             1.34                 0.06   \n",
       "1206             2.36  ...             1.34                 0.04   \n",
       "1617            20.68  ...             7.80                 0.06   \n",
       "2028             6.92  ...             3.40                 0.06   \n",
       "...               ...  ...              ...                  ...   \n",
       "96969            0.02  ...             0.08                 0.00   \n",
       "97380            0.00  ...             0.00                 0.00   \n",
       "97791            0.00  ...             0.00                 0.00   \n",
       "98202            0.00  ...             0.00                 0.00   \n",
       "98613            0.00  ...             0.00                 0.00   \n",
       "\n",
       "      count_events_19_gov  count_events_20_stock  count_events_20  \\\n",
       "384                 21.46                    0.0              0.2   \n",
       "795                  0.12               0.848317              0.0   \n",
       "1206                 0.50               0.051495              0.0   \n",
       "1617                 1.96                    0.0              0.0   \n",
       "2028                 0.72               0.245607              0.0   \n",
       "...                   ...                    ...              ...   \n",
       "96969                0.00               0.253523              0.0   \n",
       "97380                0.00               0.264768              0.0   \n",
       "97791                0.00               0.874608              0.0   \n",
       "98202                0.00               0.050126              0.0   \n",
       "98613                0.00                0.23734              0.0   \n",
       "\n",
       "       count_events_20_opp count_events_20_gov  isocode  year  month  \n",
       "384                    0.0                0.06      AFG  2021      1  \n",
       "795                    0.0                0.00      AGO  2021      1  \n",
       "1206                   0.0                0.00      ALB  2021      1  \n",
       "1617                   0.0                0.00      ARE  2021      1  \n",
       "2028                   0.0                0.00      ARG  2021      1  \n",
       "...                    ...                 ...      ...   ...    ...  \n",
       "96969                  0.0                0.00      IMN  2021      1  \n",
       "97380                  0.0                0.00      WLF  2021      1  \n",
       "97791                  0.0                0.00      IOT  2021      1  \n",
       "98202                  0.0                0.00      BVT  2021      1  \n",
       "98613                  0.0                0.00      HMD  2021      1  \n",
       "\n",
       "[240 rows x 83 columns]"
      ]
     },
     "execution_count": 1248,
     "metadata": {},
     "output_type": "execute_result"
    }
   ],
   "source": [
    "future_model"
   ]
  },
  {
   "cell_type": "code",
   "execution_count": 1249,
   "metadata": {},
   "outputs": [
    {
     "data": {
      "text/html": [
       "<div>\n",
       "<style scoped>\n",
       "    .dataframe tbody tr th:only-of-type {\n",
       "        vertical-align: middle;\n",
       "    }\n",
       "\n",
       "    .dataframe tbody tr th {\n",
       "        vertical-align: top;\n",
       "    }\n",
       "\n",
       "    .dataframe thead th {\n",
       "        text-align: right;\n",
       "    }\n",
       "</style>\n",
       "<table border=\"1\" class=\"dataframe\">\n",
       "  <thead>\n",
       "    <tr style=\"text-align: right;\">\n",
       "      <th></th>\n",
       "      <th>count_events_1_stock</th>\n",
       "      <th>count_events_1</th>\n",
       "      <th>count_events_1_opp</th>\n",
       "      <th>count_events_1_gov</th>\n",
       "      <th>count_events_2_stock</th>\n",
       "      <th>count_events_2</th>\n",
       "      <th>count_events_2_opp</th>\n",
       "      <th>count_events_2_gov</th>\n",
       "      <th>count_events_3_stock</th>\n",
       "      <th>count_events_3</th>\n",
       "      <th>...</th>\n",
       "      <th>count_events_18_opp</th>\n",
       "      <th>count_events_18_gov</th>\n",
       "      <th>count_events_19_stock</th>\n",
       "      <th>count_events_19</th>\n",
       "      <th>count_events_19_opp</th>\n",
       "      <th>count_events_19_gov</th>\n",
       "      <th>count_events_20_stock</th>\n",
       "      <th>count_events_20</th>\n",
       "      <th>count_events_20_opp</th>\n",
       "      <th>count_events_20_gov</th>\n",
       "    </tr>\n",
       "  </thead>\n",
       "  <tbody>\n",
       "    <tr>\n",
       "      <th>384</th>\n",
       "      <td>2.55327</td>\n",
       "      <td>49.92</td>\n",
       "      <td>3.60</td>\n",
       "      <td>20.60</td>\n",
       "      <td>2.26015</td>\n",
       "      <td>20.96</td>\n",
       "      <td>1.42</td>\n",
       "      <td>9.42</td>\n",
       "      <td>3.006204</td>\n",
       "      <td>22.80</td>\n",
       "      <td>...</td>\n",
       "      <td>1.72</td>\n",
       "      <td>4.80</td>\n",
       "      <td>0.413295</td>\n",
       "      <td>63.26</td>\n",
       "      <td>8.28</td>\n",
       "      <td>21.46</td>\n",
       "      <td>0.0</td>\n",
       "      <td>0.2</td>\n",
       "      <td>0.0</td>\n",
       "      <td>0.06</td>\n",
       "    </tr>\n",
       "    <tr>\n",
       "      <th>795</th>\n",
       "      <td>316.583831</td>\n",
       "      <td>3.12</td>\n",
       "      <td>0.10</td>\n",
       "      <td>1.56</td>\n",
       "      <td>128.418244</td>\n",
       "      <td>1.68</td>\n",
       "      <td>0.00</td>\n",
       "      <td>0.52</td>\n",
       "      <td>157.980405</td>\n",
       "      <td>2.46</td>\n",
       "      <td>...</td>\n",
       "      <td>0.00</td>\n",
       "      <td>0.02</td>\n",
       "      <td>389.46546</td>\n",
       "      <td>1.34</td>\n",
       "      <td>0.06</td>\n",
       "      <td>0.12</td>\n",
       "      <td>0.848317</td>\n",
       "      <td>0.0</td>\n",
       "      <td>0.0</td>\n",
       "      <td>0.00</td>\n",
       "    </tr>\n",
       "    <tr>\n",
       "      <th>1206</th>\n",
       "      <td>23.287082</td>\n",
       "      <td>1.88</td>\n",
       "      <td>0.06</td>\n",
       "      <td>0.68</td>\n",
       "      <td>12.337394</td>\n",
       "      <td>0.90</td>\n",
       "      <td>0.00</td>\n",
       "      <td>0.22</td>\n",
       "      <td>14.541243</td>\n",
       "      <td>2.36</td>\n",
       "      <td>...</td>\n",
       "      <td>0.02</td>\n",
       "      <td>0.10</td>\n",
       "      <td>6.828473</td>\n",
       "      <td>1.34</td>\n",
       "      <td>0.04</td>\n",
       "      <td>0.50</td>\n",
       "      <td>0.051495</td>\n",
       "      <td>0.0</td>\n",
       "      <td>0.0</td>\n",
       "      <td>0.00</td>\n",
       "    </tr>\n",
       "    <tr>\n",
       "      <th>1617</th>\n",
       "      <td>1.273687</td>\n",
       "      <td>28.22</td>\n",
       "      <td>0.00</td>\n",
       "      <td>8.16</td>\n",
       "      <td>1.882802</td>\n",
       "      <td>16.84</td>\n",
       "      <td>0.02</td>\n",
       "      <td>4.92</td>\n",
       "      <td>0.685892</td>\n",
       "      <td>20.68</td>\n",
       "      <td>...</td>\n",
       "      <td>0.00</td>\n",
       "      <td>0.44</td>\n",
       "      <td>0.130018</td>\n",
       "      <td>7.80</td>\n",
       "      <td>0.06</td>\n",
       "      <td>1.96</td>\n",
       "      <td>0.0</td>\n",
       "      <td>0.0</td>\n",
       "      <td>0.0</td>\n",
       "      <td>0.00</td>\n",
       "    </tr>\n",
       "    <tr>\n",
       "      <th>2028</th>\n",
       "      <td>15.676086</td>\n",
       "      <td>9.94</td>\n",
       "      <td>0.08</td>\n",
       "      <td>2.12</td>\n",
       "      <td>9.103214</td>\n",
       "      <td>5.56</td>\n",
       "      <td>0.00</td>\n",
       "      <td>1.08</td>\n",
       "      <td>10.929625</td>\n",
       "      <td>6.92</td>\n",
       "      <td>...</td>\n",
       "      <td>0.02</td>\n",
       "      <td>0.08</td>\n",
       "      <td>7.92015</td>\n",
       "      <td>3.40</td>\n",
       "      <td>0.06</td>\n",
       "      <td>0.72</td>\n",
       "      <td>0.245607</td>\n",
       "      <td>0.0</td>\n",
       "      <td>0.0</td>\n",
       "      <td>0.00</td>\n",
       "    </tr>\n",
       "    <tr>\n",
       "      <th>...</th>\n",
       "      <td>...</td>\n",
       "      <td>...</td>\n",
       "      <td>...</td>\n",
       "      <td>...</td>\n",
       "      <td>...</td>\n",
       "      <td>...</td>\n",
       "      <td>...</td>\n",
       "      <td>...</td>\n",
       "      <td>...</td>\n",
       "      <td>...</td>\n",
       "      <td>...</td>\n",
       "      <td>...</td>\n",
       "      <td>...</td>\n",
       "      <td>...</td>\n",
       "      <td>...</td>\n",
       "      <td>...</td>\n",
       "      <td>...</td>\n",
       "      <td>...</td>\n",
       "      <td>...</td>\n",
       "      <td>...</td>\n",
       "      <td>...</td>\n",
       "    </tr>\n",
       "    <tr>\n",
       "      <th>96969</th>\n",
       "      <td>7.635847</td>\n",
       "      <td>0.28</td>\n",
       "      <td>0.00</td>\n",
       "      <td>0.12</td>\n",
       "      <td>4.579054</td>\n",
       "      <td>0.12</td>\n",
       "      <td>0.00</td>\n",
       "      <td>0.04</td>\n",
       "      <td>6.688316</td>\n",
       "      <td>0.02</td>\n",
       "      <td>...</td>\n",
       "      <td>0.00</td>\n",
       "      <td>0.00</td>\n",
       "      <td>4.061696</td>\n",
       "      <td>0.08</td>\n",
       "      <td>0.00</td>\n",
       "      <td>0.00</td>\n",
       "      <td>0.253523</td>\n",
       "      <td>0.0</td>\n",
       "      <td>0.0</td>\n",
       "      <td>0.00</td>\n",
       "    </tr>\n",
       "    <tr>\n",
       "      <th>97380</th>\n",
       "      <td>82.143732</td>\n",
       "      <td>0.00</td>\n",
       "      <td>0.00</td>\n",
       "      <td>0.00</td>\n",
       "      <td>38.73541</td>\n",
       "      <td>0.00</td>\n",
       "      <td>0.00</td>\n",
       "      <td>0.00</td>\n",
       "      <td>25.189862</td>\n",
       "      <td>0.00</td>\n",
       "      <td>...</td>\n",
       "      <td>0.00</td>\n",
       "      <td>0.00</td>\n",
       "      <td>82.07727</td>\n",
       "      <td>0.00</td>\n",
       "      <td>0.00</td>\n",
       "      <td>0.00</td>\n",
       "      <td>0.264768</td>\n",
       "      <td>0.0</td>\n",
       "      <td>0.0</td>\n",
       "      <td>0.00</td>\n",
       "    </tr>\n",
       "    <tr>\n",
       "      <th>97791</th>\n",
       "      <td>663.376686</td>\n",
       "      <td>0.10</td>\n",
       "      <td>0.00</td>\n",
       "      <td>0.00</td>\n",
       "      <td>330.906801</td>\n",
       "      <td>0.02</td>\n",
       "      <td>0.00</td>\n",
       "      <td>0.02</td>\n",
       "      <td>252.995526</td>\n",
       "      <td>0.00</td>\n",
       "      <td>...</td>\n",
       "      <td>0.00</td>\n",
       "      <td>0.00</td>\n",
       "      <td>280.362932</td>\n",
       "      <td>0.00</td>\n",
       "      <td>0.00</td>\n",
       "      <td>0.00</td>\n",
       "      <td>0.874608</td>\n",
       "      <td>0.0</td>\n",
       "      <td>0.0</td>\n",
       "      <td>0.00</td>\n",
       "    </tr>\n",
       "    <tr>\n",
       "      <th>98202</th>\n",
       "      <td>62.16251</td>\n",
       "      <td>0.00</td>\n",
       "      <td>0.00</td>\n",
       "      <td>0.00</td>\n",
       "      <td>36.865747</td>\n",
       "      <td>0.00</td>\n",
       "      <td>0.00</td>\n",
       "      <td>0.00</td>\n",
       "      <td>21.247873</td>\n",
       "      <td>0.00</td>\n",
       "      <td>...</td>\n",
       "      <td>0.00</td>\n",
       "      <td>0.00</td>\n",
       "      <td>11.531067</td>\n",
       "      <td>0.00</td>\n",
       "      <td>0.00</td>\n",
       "      <td>0.00</td>\n",
       "      <td>0.050126</td>\n",
       "      <td>0.0</td>\n",
       "      <td>0.0</td>\n",
       "      <td>0.00</td>\n",
       "    </tr>\n",
       "    <tr>\n",
       "      <th>98613</th>\n",
       "      <td>206.418414</td>\n",
       "      <td>0.00</td>\n",
       "      <td>0.00</td>\n",
       "      <td>0.00</td>\n",
       "      <td>100.936803</td>\n",
       "      <td>0.00</td>\n",
       "      <td>0.00</td>\n",
       "      <td>0.00</td>\n",
       "      <td>64.463266</td>\n",
       "      <td>0.00</td>\n",
       "      <td>...</td>\n",
       "      <td>0.00</td>\n",
       "      <td>0.00</td>\n",
       "      <td>51.942125</td>\n",
       "      <td>0.00</td>\n",
       "      <td>0.00</td>\n",
       "      <td>0.00</td>\n",
       "      <td>0.23734</td>\n",
       "      <td>0.0</td>\n",
       "      <td>0.0</td>\n",
       "      <td>0.00</td>\n",
       "    </tr>\n",
       "  </tbody>\n",
       "</table>\n",
       "<p>240 rows × 80 columns</p>\n",
       "</div>"
      ],
      "text/plain": [
       "      count_events_1_stock  count_events_1  count_events_1_opp  \\\n",
       "384                2.55327           49.92                3.60   \n",
       "795             316.583831            3.12                0.10   \n",
       "1206             23.287082            1.88                0.06   \n",
       "1617              1.273687           28.22                0.00   \n",
       "2028             15.676086            9.94                0.08   \n",
       "...                    ...             ...                 ...   \n",
       "96969             7.635847            0.28                0.00   \n",
       "97380            82.143732            0.00                0.00   \n",
       "97791           663.376686            0.10                0.00   \n",
       "98202             62.16251            0.00                0.00   \n",
       "98613           206.418414            0.00                0.00   \n",
       "\n",
       "       count_events_1_gov count_events_2_stock  count_events_2  \\\n",
       "384                 20.60              2.26015           20.96   \n",
       "795                  1.56           128.418244            1.68   \n",
       "1206                 0.68            12.337394            0.90   \n",
       "1617                 8.16             1.882802           16.84   \n",
       "2028                 2.12             9.103214            5.56   \n",
       "...                   ...                  ...             ...   \n",
       "96969                0.12             4.579054            0.12   \n",
       "97380                0.00             38.73541            0.00   \n",
       "97791                0.00           330.906801            0.02   \n",
       "98202                0.00            36.865747            0.00   \n",
       "98613                0.00           100.936803            0.00   \n",
       "\n",
       "       count_events_2_opp  count_events_2_gov count_events_3_stock  \\\n",
       "384                  1.42                9.42             3.006204   \n",
       "795                  0.00                0.52           157.980405   \n",
       "1206                 0.00                0.22            14.541243   \n",
       "1617                 0.02                4.92             0.685892   \n",
       "2028                 0.00                1.08            10.929625   \n",
       "...                   ...                 ...                  ...   \n",
       "96969                0.00                0.04             6.688316   \n",
       "97380                0.00                0.00            25.189862   \n",
       "97791                0.00                0.02           252.995526   \n",
       "98202                0.00                0.00            21.247873   \n",
       "98613                0.00                0.00            64.463266   \n",
       "\n",
       "       count_events_3  ...  count_events_18_opp  count_events_18_gov  \\\n",
       "384             22.80  ...                 1.72                 4.80   \n",
       "795              2.46  ...                 0.00                 0.02   \n",
       "1206             2.36  ...                 0.02                 0.10   \n",
       "1617            20.68  ...                 0.00                 0.44   \n",
       "2028             6.92  ...                 0.02                 0.08   \n",
       "...               ...  ...                  ...                  ...   \n",
       "96969            0.02  ...                 0.00                 0.00   \n",
       "97380            0.00  ...                 0.00                 0.00   \n",
       "97791            0.00  ...                 0.00                 0.00   \n",
       "98202            0.00  ...                 0.00                 0.00   \n",
       "98613            0.00  ...                 0.00                 0.00   \n",
       "\n",
       "      count_events_19_stock  count_events_19  count_events_19_opp  \\\n",
       "384                0.413295            63.26                 8.28   \n",
       "795               389.46546             1.34                 0.06   \n",
       "1206               6.828473             1.34                 0.04   \n",
       "1617               0.130018             7.80                 0.06   \n",
       "2028                7.92015             3.40                 0.06   \n",
       "...                     ...              ...                  ...   \n",
       "96969              4.061696             0.08                 0.00   \n",
       "97380              82.07727             0.00                 0.00   \n",
       "97791            280.362932             0.00                 0.00   \n",
       "98202             11.531067             0.00                 0.00   \n",
       "98613             51.942125             0.00                 0.00   \n",
       "\n",
       "       count_events_19_gov count_events_20_stock  count_events_20  \\\n",
       "384                  21.46                   0.0              0.2   \n",
       "795                   0.12              0.848317              0.0   \n",
       "1206                  0.50              0.051495              0.0   \n",
       "1617                  1.96                   0.0              0.0   \n",
       "2028                  0.72              0.245607              0.0   \n",
       "...                    ...                   ...              ...   \n",
       "96969                 0.00              0.253523              0.0   \n",
       "97380                 0.00              0.264768              0.0   \n",
       "97791                 0.00              0.874608              0.0   \n",
       "98202                 0.00              0.050126              0.0   \n",
       "98613                 0.00               0.23734              0.0   \n",
       "\n",
       "       count_events_20_opp  count_events_20_gov  \n",
       "384                    0.0                 0.06  \n",
       "795                    0.0                 0.00  \n",
       "1206                   0.0                 0.00  \n",
       "1617                   0.0                 0.00  \n",
       "2028                   0.0                 0.00  \n",
       "...                    ...                  ...  \n",
       "96969                  0.0                 0.00  \n",
       "97380                  0.0                 0.00  \n",
       "97791                  0.0                 0.00  \n",
       "98202                  0.0                 0.00  \n",
       "98613                  0.0                 0.00  \n",
       "\n",
       "[240 rows x 80 columns]"
      ]
     },
     "execution_count": 1249,
     "metadata": {},
     "output_type": "execute_result"
    }
   ],
   "source": [
    "X_future"
   ]
  },
  {
   "cell_type": "code",
   "execution_count": 1250,
   "metadata": {},
   "outputs": [],
   "source": [
    "def runsearch(Xs, ys):   \n",
    "    print(\"going in\")\n",
    "\n",
    "    model = RandomForestClassifier()\n",
    "    parameters = {'max_depth'         : [4, 8],\n",
    "                  'min_samples_leaf'    : [50, 100],\n",
    "                  'n_estimators': [700]}\n",
    "\n",
    "    grid = GridSearchCV(return_train_score=True, estimator=model, param_grid = parameters, cv = 3, n_jobs=-1, scoring='roc_auc', verbose=2)\n",
    "    grid.fit(Xs, ys)\n",
    "\n",
    "    print(grid.best_params_)\n",
    "    print(grid.best_score_)\n",
    "    print(grid.cv_results_)\n",
    "    \n",
    "    clf=RandomForestClassifier(**grid.best_params_)\n",
    "    \n",
    "    return clf"
   ]
  },
  {
   "cell_type": "code",
   "execution_count": 1251,
   "metadata": {},
   "outputs": [],
   "source": [
    "def setparams(treenumber, depthnumber, min_samples_number, min_samples_leaf_number):  \n",
    "    print(\"setting parameters\")\n",
    "    print(\"they are:\", treenumber, depthnumber, min_samples_number, min_samples_leaf_number)\n",
    "    \n",
    "    clf=RandomForestClassifier(n_estimators=treenumber,  max_depth =depthnumber, \n",
    "                               min_samples_split =min_samples_number, min_samples_leaf =  min_samples_leaf_number\n",
    "                             ,n_jobs=8)\n",
    "    return clf"
   ]
  },
  {
   "cell_type": "code",
   "execution_count": 1252,
   "metadata": {},
   "outputs": [
    {
     "name": "stdout",
     "output_type": "stream",
     "text": [
      "before 2023, going till 13\n",
      "2010\n",
      "1\n",
      "['ons_target_f1']\n",
      "pre drop  98640\n",
      "2010\n",
      "1\n",
      "post drop model 60240\n",
      "setting parameters\n",
      "they are: 700 8 2 100\n"
     ]
    },
    {
     "name": "stderr",
     "output_type": "stream",
     "text": [
      "/var/folders/hj/n94x31sj08bdmgwjs6ybxbf40000gn/T/ipykernel_93000/2916704791.py:42: SettingWithCopyWarning: \n",
      "A value is trying to be set on a copy of a slice from a DataFrame.\n",
      "Try using .loc[row_indexer,col_indexer] = value instead\n",
      "\n",
      "See the caveats in the documentation: https://pandas.pydata.org/pandas-docs/stable/user_guide/indexing.html#returning-a-view-versus-a-copy\n",
      "  fittedframe_future[deps[0]+'_pred'] = res[:, 1]\n"
     ]
    },
    {
     "name": "stdout",
     "output_type": "stream",
     "text": [
      "2010\n",
      "2\n",
      "['ons_target_f1']\n",
      "pre drop  98640\n",
      "2010\n",
      "2\n",
      "post drop model 60480\n",
      "setting parameters\n",
      "they are: 700 8 2 100\n"
     ]
    },
    {
     "name": "stderr",
     "output_type": "stream",
     "text": [
      "/var/folders/hj/n94x31sj08bdmgwjs6ybxbf40000gn/T/ipykernel_93000/2916704791.py:42: SettingWithCopyWarning: \n",
      "A value is trying to be set on a copy of a slice from a DataFrame.\n",
      "Try using .loc[row_indexer,col_indexer] = value instead\n",
      "\n",
      "See the caveats in the documentation: https://pandas.pydata.org/pandas-docs/stable/user_guide/indexing.html#returning-a-view-versus-a-copy\n",
      "  fittedframe_future[deps[0]+'_pred'] = res[:, 1]\n"
     ]
    },
    {
     "name": "stdout",
     "output_type": "stream",
     "text": [
      "2010\n",
      "3\n",
      "['ons_target_f1']\n",
      "pre drop  98640\n",
      "2010\n",
      "3\n",
      "post drop model 60720\n",
      "setting parameters\n",
      "they are: 700 8 2 100\n"
     ]
    },
    {
     "name": "stderr",
     "output_type": "stream",
     "text": [
      "/var/folders/hj/n94x31sj08bdmgwjs6ybxbf40000gn/T/ipykernel_93000/2916704791.py:42: SettingWithCopyWarning: \n",
      "A value is trying to be set on a copy of a slice from a DataFrame.\n",
      "Try using .loc[row_indexer,col_indexer] = value instead\n",
      "\n",
      "See the caveats in the documentation: https://pandas.pydata.org/pandas-docs/stable/user_guide/indexing.html#returning-a-view-versus-a-copy\n",
      "  fittedframe_future[deps[0]+'_pred'] = res[:, 1]\n"
     ]
    },
    {
     "name": "stdout",
     "output_type": "stream",
     "text": [
      "2010\n",
      "4\n",
      "['ons_target_f1']\n",
      "pre drop  98640\n",
      "2010\n",
      "4\n",
      "post drop model 60960\n",
      "setting parameters\n",
      "they are: 700 8 2 100\n"
     ]
    },
    {
     "name": "stderr",
     "output_type": "stream",
     "text": [
      "/var/folders/hj/n94x31sj08bdmgwjs6ybxbf40000gn/T/ipykernel_93000/2916704791.py:42: SettingWithCopyWarning: \n",
      "A value is trying to be set on a copy of a slice from a DataFrame.\n",
      "Try using .loc[row_indexer,col_indexer] = value instead\n",
      "\n",
      "See the caveats in the documentation: https://pandas.pydata.org/pandas-docs/stable/user_guide/indexing.html#returning-a-view-versus-a-copy\n",
      "  fittedframe_future[deps[0]+'_pred'] = res[:, 1]\n"
     ]
    },
    {
     "name": "stdout",
     "output_type": "stream",
     "text": [
      "2010\n",
      "5\n",
      "['ons_target_f1']\n",
      "pre drop  98640\n",
      "2010\n",
      "5\n",
      "post drop model 61200\n",
      "setting parameters\n",
      "they are: 700 8 2 100\n"
     ]
    },
    {
     "name": "stderr",
     "output_type": "stream",
     "text": [
      "/var/folders/hj/n94x31sj08bdmgwjs6ybxbf40000gn/T/ipykernel_93000/2916704791.py:42: SettingWithCopyWarning: \n",
      "A value is trying to be set on a copy of a slice from a DataFrame.\n",
      "Try using .loc[row_indexer,col_indexer] = value instead\n",
      "\n",
      "See the caveats in the documentation: https://pandas.pydata.org/pandas-docs/stable/user_guide/indexing.html#returning-a-view-versus-a-copy\n",
      "  fittedframe_future[deps[0]+'_pred'] = res[:, 1]\n"
     ]
    },
    {
     "name": "stdout",
     "output_type": "stream",
     "text": [
      "2010\n",
      "6\n",
      "['ons_target_f1']\n",
      "pre drop  98640\n",
      "2010\n",
      "6\n",
      "post drop model 61440\n",
      "setting parameters\n",
      "they are: 700 8 2 100\n"
     ]
    },
    {
     "name": "stderr",
     "output_type": "stream",
     "text": [
      "/var/folders/hj/n94x31sj08bdmgwjs6ybxbf40000gn/T/ipykernel_93000/2916704791.py:42: SettingWithCopyWarning: \n",
      "A value is trying to be set on a copy of a slice from a DataFrame.\n",
      "Try using .loc[row_indexer,col_indexer] = value instead\n",
      "\n",
      "See the caveats in the documentation: https://pandas.pydata.org/pandas-docs/stable/user_guide/indexing.html#returning-a-view-versus-a-copy\n",
      "  fittedframe_future[deps[0]+'_pred'] = res[:, 1]\n"
     ]
    },
    {
     "name": "stdout",
     "output_type": "stream",
     "text": [
      "2010\n",
      "7\n",
      "['ons_target_f1']\n",
      "pre drop  98640\n",
      "2010\n",
      "7\n",
      "post drop model 61680\n",
      "setting parameters\n",
      "they are: 700 8 2 100\n"
     ]
    },
    {
     "name": "stderr",
     "output_type": "stream",
     "text": [
      "/var/folders/hj/n94x31sj08bdmgwjs6ybxbf40000gn/T/ipykernel_93000/2916704791.py:42: SettingWithCopyWarning: \n",
      "A value is trying to be set on a copy of a slice from a DataFrame.\n",
      "Try using .loc[row_indexer,col_indexer] = value instead\n",
      "\n",
      "See the caveats in the documentation: https://pandas.pydata.org/pandas-docs/stable/user_guide/indexing.html#returning-a-view-versus-a-copy\n",
      "  fittedframe_future[deps[0]+'_pred'] = res[:, 1]\n"
     ]
    },
    {
     "name": "stdout",
     "output_type": "stream",
     "text": [
      "2010\n",
      "8\n",
      "['ons_target_f1']\n",
      "pre drop  98640\n",
      "2010\n",
      "8\n",
      "post drop model 61920\n",
      "setting parameters\n",
      "they are: 700 8 2 100\n"
     ]
    },
    {
     "name": "stderr",
     "output_type": "stream",
     "text": [
      "/var/folders/hj/n94x31sj08bdmgwjs6ybxbf40000gn/T/ipykernel_93000/2916704791.py:42: SettingWithCopyWarning: \n",
      "A value is trying to be set on a copy of a slice from a DataFrame.\n",
      "Try using .loc[row_indexer,col_indexer] = value instead\n",
      "\n",
      "See the caveats in the documentation: https://pandas.pydata.org/pandas-docs/stable/user_guide/indexing.html#returning-a-view-versus-a-copy\n",
      "  fittedframe_future[deps[0]+'_pred'] = res[:, 1]\n"
     ]
    },
    {
     "name": "stdout",
     "output_type": "stream",
     "text": [
      "2010\n",
      "9\n",
      "['ons_target_f1']\n",
      "pre drop  98640\n",
      "2010\n",
      "9\n",
      "post drop model 62160\n",
      "setting parameters\n",
      "they are: 700 8 2 100\n"
     ]
    },
    {
     "name": "stderr",
     "output_type": "stream",
     "text": [
      "/var/folders/hj/n94x31sj08bdmgwjs6ybxbf40000gn/T/ipykernel_93000/2916704791.py:42: SettingWithCopyWarning: \n",
      "A value is trying to be set on a copy of a slice from a DataFrame.\n",
      "Try using .loc[row_indexer,col_indexer] = value instead\n",
      "\n",
      "See the caveats in the documentation: https://pandas.pydata.org/pandas-docs/stable/user_guide/indexing.html#returning-a-view-versus-a-copy\n",
      "  fittedframe_future[deps[0]+'_pred'] = res[:, 1]\n"
     ]
    },
    {
     "name": "stdout",
     "output_type": "stream",
     "text": [
      "2010\n",
      "10\n",
      "['ons_target_f1']\n",
      "pre drop  98640\n",
      "2010\n",
      "10\n",
      "post drop model 62400\n",
      "setting parameters\n",
      "they are: 700 8 2 100\n"
     ]
    },
    {
     "name": "stderr",
     "output_type": "stream",
     "text": [
      "/var/folders/hj/n94x31sj08bdmgwjs6ybxbf40000gn/T/ipykernel_93000/2916704791.py:42: SettingWithCopyWarning: \n",
      "A value is trying to be set on a copy of a slice from a DataFrame.\n",
      "Try using .loc[row_indexer,col_indexer] = value instead\n",
      "\n",
      "See the caveats in the documentation: https://pandas.pydata.org/pandas-docs/stable/user_guide/indexing.html#returning-a-view-versus-a-copy\n",
      "  fittedframe_future[deps[0]+'_pred'] = res[:, 1]\n"
     ]
    },
    {
     "name": "stdout",
     "output_type": "stream",
     "text": [
      "2010\n",
      "11\n",
      "['ons_target_f1']\n",
      "pre drop  98640\n",
      "2010\n",
      "11\n",
      "post drop model 62640\n",
      "setting parameters\n",
      "they are: 700 8 2 100\n"
     ]
    },
    {
     "name": "stderr",
     "output_type": "stream",
     "text": [
      "/var/folders/hj/n94x31sj08bdmgwjs6ybxbf40000gn/T/ipykernel_93000/2916704791.py:42: SettingWithCopyWarning: \n",
      "A value is trying to be set on a copy of a slice from a DataFrame.\n",
      "Try using .loc[row_indexer,col_indexer] = value instead\n",
      "\n",
      "See the caveats in the documentation: https://pandas.pydata.org/pandas-docs/stable/user_guide/indexing.html#returning-a-view-versus-a-copy\n",
      "  fittedframe_future[deps[0]+'_pred'] = res[:, 1]\n"
     ]
    },
    {
     "name": "stdout",
     "output_type": "stream",
     "text": [
      "2010\n",
      "12\n",
      "['ons_target_f1']\n",
      "pre drop  98640\n",
      "2010\n",
      "12\n",
      "post drop model 62880\n",
      "setting parameters\n",
      "they are: 700 8 2 100\n"
     ]
    },
    {
     "name": "stderr",
     "output_type": "stream",
     "text": [
      "/var/folders/hj/n94x31sj08bdmgwjs6ybxbf40000gn/T/ipykernel_93000/2916704791.py:42: SettingWithCopyWarning: \n",
      "A value is trying to be set on a copy of a slice from a DataFrame.\n",
      "Try using .loc[row_indexer,col_indexer] = value instead\n",
      "\n",
      "See the caveats in the documentation: https://pandas.pydata.org/pandas-docs/stable/user_guide/indexing.html#returning-a-view-versus-a-copy\n",
      "  fittedframe_future[deps[0]+'_pred'] = res[:, 1]\n"
     ]
    },
    {
     "name": "stdout",
     "output_type": "stream",
     "text": [
      "before 2023, going till 13\n",
      "2011\n",
      "1\n",
      "['ons_target_f1']\n",
      "pre drop  98640\n",
      "2011\n",
      "1\n",
      "post drop model 63120\n",
      "setting parameters\n",
      "they are: 700 8 2 100\n"
     ]
    },
    {
     "name": "stderr",
     "output_type": "stream",
     "text": [
      "/var/folders/hj/n94x31sj08bdmgwjs6ybxbf40000gn/T/ipykernel_93000/2916704791.py:42: SettingWithCopyWarning: \n",
      "A value is trying to be set on a copy of a slice from a DataFrame.\n",
      "Try using .loc[row_indexer,col_indexer] = value instead\n",
      "\n",
      "See the caveats in the documentation: https://pandas.pydata.org/pandas-docs/stable/user_guide/indexing.html#returning-a-view-versus-a-copy\n",
      "  fittedframe_future[deps[0]+'_pred'] = res[:, 1]\n"
     ]
    },
    {
     "name": "stdout",
     "output_type": "stream",
     "text": [
      "2011\n",
      "2\n",
      "['ons_target_f1']\n",
      "pre drop  98640\n",
      "2011\n",
      "2\n",
      "post drop model 63360\n",
      "setting parameters\n",
      "they are: 700 8 2 100\n"
     ]
    },
    {
     "name": "stderr",
     "output_type": "stream",
     "text": [
      "/var/folders/hj/n94x31sj08bdmgwjs6ybxbf40000gn/T/ipykernel_93000/2916704791.py:42: SettingWithCopyWarning: \n",
      "A value is trying to be set on a copy of a slice from a DataFrame.\n",
      "Try using .loc[row_indexer,col_indexer] = value instead\n",
      "\n",
      "See the caveats in the documentation: https://pandas.pydata.org/pandas-docs/stable/user_guide/indexing.html#returning-a-view-versus-a-copy\n",
      "  fittedframe_future[deps[0]+'_pred'] = res[:, 1]\n"
     ]
    },
    {
     "name": "stdout",
     "output_type": "stream",
     "text": [
      "2011\n",
      "3\n",
      "['ons_target_f1']\n",
      "pre drop  98640\n",
      "2011\n",
      "3\n",
      "post drop model 63600\n",
      "setting parameters\n",
      "they are: 700 8 2 100\n"
     ]
    },
    {
     "name": "stderr",
     "output_type": "stream",
     "text": [
      "/var/folders/hj/n94x31sj08bdmgwjs6ybxbf40000gn/T/ipykernel_93000/2916704791.py:42: SettingWithCopyWarning: \n",
      "A value is trying to be set on a copy of a slice from a DataFrame.\n",
      "Try using .loc[row_indexer,col_indexer] = value instead\n",
      "\n",
      "See the caveats in the documentation: https://pandas.pydata.org/pandas-docs/stable/user_guide/indexing.html#returning-a-view-versus-a-copy\n",
      "  fittedframe_future[deps[0]+'_pred'] = res[:, 1]\n"
     ]
    },
    {
     "name": "stdout",
     "output_type": "stream",
     "text": [
      "2011\n",
      "4\n",
      "['ons_target_f1']\n",
      "pre drop  98640\n",
      "2011\n",
      "4\n",
      "post drop model 63840\n",
      "setting parameters\n",
      "they are: 700 8 2 100\n"
     ]
    },
    {
     "name": "stderr",
     "output_type": "stream",
     "text": [
      "/var/folders/hj/n94x31sj08bdmgwjs6ybxbf40000gn/T/ipykernel_93000/2916704791.py:42: SettingWithCopyWarning: \n",
      "A value is trying to be set on a copy of a slice from a DataFrame.\n",
      "Try using .loc[row_indexer,col_indexer] = value instead\n",
      "\n",
      "See the caveats in the documentation: https://pandas.pydata.org/pandas-docs/stable/user_guide/indexing.html#returning-a-view-versus-a-copy\n",
      "  fittedframe_future[deps[0]+'_pred'] = res[:, 1]\n"
     ]
    },
    {
     "name": "stdout",
     "output_type": "stream",
     "text": [
      "2011\n",
      "5\n",
      "['ons_target_f1']\n",
      "pre drop  98640\n",
      "2011\n",
      "5\n",
      "post drop model 64080\n",
      "setting parameters\n",
      "they are: 700 8 2 100\n"
     ]
    },
    {
     "name": "stderr",
     "output_type": "stream",
     "text": [
      "/var/folders/hj/n94x31sj08bdmgwjs6ybxbf40000gn/T/ipykernel_93000/2916704791.py:42: SettingWithCopyWarning: \n",
      "A value is trying to be set on a copy of a slice from a DataFrame.\n",
      "Try using .loc[row_indexer,col_indexer] = value instead\n",
      "\n",
      "See the caveats in the documentation: https://pandas.pydata.org/pandas-docs/stable/user_guide/indexing.html#returning-a-view-versus-a-copy\n",
      "  fittedframe_future[deps[0]+'_pred'] = res[:, 1]\n"
     ]
    },
    {
     "name": "stdout",
     "output_type": "stream",
     "text": [
      "2011\n",
      "6\n",
      "['ons_target_f1']\n",
      "pre drop  98640\n",
      "2011\n",
      "6\n",
      "post drop model 64320\n",
      "setting parameters\n",
      "they are: 700 8 2 100\n"
     ]
    },
    {
     "name": "stderr",
     "output_type": "stream",
     "text": [
      "/var/folders/hj/n94x31sj08bdmgwjs6ybxbf40000gn/T/ipykernel_93000/2916704791.py:42: SettingWithCopyWarning: \n",
      "A value is trying to be set on a copy of a slice from a DataFrame.\n",
      "Try using .loc[row_indexer,col_indexer] = value instead\n",
      "\n",
      "See the caveats in the documentation: https://pandas.pydata.org/pandas-docs/stable/user_guide/indexing.html#returning-a-view-versus-a-copy\n",
      "  fittedframe_future[deps[0]+'_pred'] = res[:, 1]\n"
     ]
    },
    {
     "name": "stdout",
     "output_type": "stream",
     "text": [
      "2011\n",
      "7\n",
      "['ons_target_f1']\n",
      "pre drop  98640\n",
      "2011\n",
      "7\n",
      "post drop model 64560\n",
      "setting parameters\n",
      "they are: 700 8 2 100\n"
     ]
    },
    {
     "name": "stderr",
     "output_type": "stream",
     "text": [
      "/var/folders/hj/n94x31sj08bdmgwjs6ybxbf40000gn/T/ipykernel_93000/2916704791.py:42: SettingWithCopyWarning: \n",
      "A value is trying to be set on a copy of a slice from a DataFrame.\n",
      "Try using .loc[row_indexer,col_indexer] = value instead\n",
      "\n",
      "See the caveats in the documentation: https://pandas.pydata.org/pandas-docs/stable/user_guide/indexing.html#returning-a-view-versus-a-copy\n",
      "  fittedframe_future[deps[0]+'_pred'] = res[:, 1]\n"
     ]
    },
    {
     "name": "stdout",
     "output_type": "stream",
     "text": [
      "2011\n",
      "8\n",
      "['ons_target_f1']\n",
      "pre drop  98640\n",
      "2011\n",
      "8\n",
      "post drop model 64800\n",
      "setting parameters\n",
      "they are: 700 8 2 100\n"
     ]
    },
    {
     "name": "stderr",
     "output_type": "stream",
     "text": [
      "/var/folders/hj/n94x31sj08bdmgwjs6ybxbf40000gn/T/ipykernel_93000/2916704791.py:42: SettingWithCopyWarning: \n",
      "A value is trying to be set on a copy of a slice from a DataFrame.\n",
      "Try using .loc[row_indexer,col_indexer] = value instead\n",
      "\n",
      "See the caveats in the documentation: https://pandas.pydata.org/pandas-docs/stable/user_guide/indexing.html#returning-a-view-versus-a-copy\n",
      "  fittedframe_future[deps[0]+'_pred'] = res[:, 1]\n"
     ]
    },
    {
     "name": "stdout",
     "output_type": "stream",
     "text": [
      "2011\n",
      "9\n",
      "['ons_target_f1']\n",
      "pre drop  98640\n",
      "2011\n",
      "9\n",
      "post drop model 65040\n",
      "setting parameters\n",
      "they are: 700 8 2 100\n"
     ]
    },
    {
     "name": "stderr",
     "output_type": "stream",
     "text": [
      "/var/folders/hj/n94x31sj08bdmgwjs6ybxbf40000gn/T/ipykernel_93000/2916704791.py:42: SettingWithCopyWarning: \n",
      "A value is trying to be set on a copy of a slice from a DataFrame.\n",
      "Try using .loc[row_indexer,col_indexer] = value instead\n",
      "\n",
      "See the caveats in the documentation: https://pandas.pydata.org/pandas-docs/stable/user_guide/indexing.html#returning-a-view-versus-a-copy\n",
      "  fittedframe_future[deps[0]+'_pred'] = res[:, 1]\n"
     ]
    },
    {
     "name": "stdout",
     "output_type": "stream",
     "text": [
      "2011\n",
      "10\n",
      "['ons_target_f1']\n",
      "pre drop  98640\n",
      "2011\n",
      "10\n",
      "post drop model 65280\n",
      "setting parameters\n",
      "they are: 700 8 2 100\n"
     ]
    },
    {
     "name": "stderr",
     "output_type": "stream",
     "text": [
      "/var/folders/hj/n94x31sj08bdmgwjs6ybxbf40000gn/T/ipykernel_93000/2916704791.py:42: SettingWithCopyWarning: \n",
      "A value is trying to be set on a copy of a slice from a DataFrame.\n",
      "Try using .loc[row_indexer,col_indexer] = value instead\n",
      "\n",
      "See the caveats in the documentation: https://pandas.pydata.org/pandas-docs/stable/user_guide/indexing.html#returning-a-view-versus-a-copy\n",
      "  fittedframe_future[deps[0]+'_pred'] = res[:, 1]\n"
     ]
    },
    {
     "name": "stdout",
     "output_type": "stream",
     "text": [
      "2011\n",
      "11\n",
      "['ons_target_f1']\n",
      "pre drop  98640\n",
      "2011\n",
      "11\n",
      "post drop model 65520\n",
      "setting parameters\n",
      "they are: 700 8 2 100\n"
     ]
    },
    {
     "name": "stderr",
     "output_type": "stream",
     "text": [
      "/var/folders/hj/n94x31sj08bdmgwjs6ybxbf40000gn/T/ipykernel_93000/2916704791.py:42: SettingWithCopyWarning: \n",
      "A value is trying to be set on a copy of a slice from a DataFrame.\n",
      "Try using .loc[row_indexer,col_indexer] = value instead\n",
      "\n",
      "See the caveats in the documentation: https://pandas.pydata.org/pandas-docs/stable/user_guide/indexing.html#returning-a-view-versus-a-copy\n",
      "  fittedframe_future[deps[0]+'_pred'] = res[:, 1]\n"
     ]
    },
    {
     "name": "stdout",
     "output_type": "stream",
     "text": [
      "2011\n",
      "12\n",
      "['ons_target_f1']\n",
      "pre drop  98640\n",
      "2011\n",
      "12\n",
      "post drop model 65760\n",
      "setting parameters\n",
      "they are: 700 8 2 100\n"
     ]
    },
    {
     "name": "stderr",
     "output_type": "stream",
     "text": [
      "/var/folders/hj/n94x31sj08bdmgwjs6ybxbf40000gn/T/ipykernel_93000/2916704791.py:42: SettingWithCopyWarning: \n",
      "A value is trying to be set on a copy of a slice from a DataFrame.\n",
      "Try using .loc[row_indexer,col_indexer] = value instead\n",
      "\n",
      "See the caveats in the documentation: https://pandas.pydata.org/pandas-docs/stable/user_guide/indexing.html#returning-a-view-versus-a-copy\n",
      "  fittedframe_future[deps[0]+'_pred'] = res[:, 1]\n"
     ]
    },
    {
     "name": "stdout",
     "output_type": "stream",
     "text": [
      "before 2023, going till 13\n",
      "2012\n",
      "1\n",
      "['ons_target_f1']\n",
      "pre drop  98640\n",
      "2012\n",
      "1\n",
      "post drop model 66000\n",
      "setting parameters\n",
      "they are: 700 8 2 100\n"
     ]
    },
    {
     "name": "stderr",
     "output_type": "stream",
     "text": [
      "/var/folders/hj/n94x31sj08bdmgwjs6ybxbf40000gn/T/ipykernel_93000/2916704791.py:42: SettingWithCopyWarning: \n",
      "A value is trying to be set on a copy of a slice from a DataFrame.\n",
      "Try using .loc[row_indexer,col_indexer] = value instead\n",
      "\n",
      "See the caveats in the documentation: https://pandas.pydata.org/pandas-docs/stable/user_guide/indexing.html#returning-a-view-versus-a-copy\n",
      "  fittedframe_future[deps[0]+'_pred'] = res[:, 1]\n"
     ]
    },
    {
     "name": "stdout",
     "output_type": "stream",
     "text": [
      "2012\n",
      "2\n",
      "['ons_target_f1']\n",
      "pre drop  98640\n",
      "2012\n",
      "2\n",
      "post drop model 66240\n",
      "setting parameters\n",
      "they are: 700 8 2 100\n"
     ]
    },
    {
     "name": "stderr",
     "output_type": "stream",
     "text": [
      "/var/folders/hj/n94x31sj08bdmgwjs6ybxbf40000gn/T/ipykernel_93000/2916704791.py:42: SettingWithCopyWarning: \n",
      "A value is trying to be set on a copy of a slice from a DataFrame.\n",
      "Try using .loc[row_indexer,col_indexer] = value instead\n",
      "\n",
      "See the caveats in the documentation: https://pandas.pydata.org/pandas-docs/stable/user_guide/indexing.html#returning-a-view-versus-a-copy\n",
      "  fittedframe_future[deps[0]+'_pred'] = res[:, 1]\n"
     ]
    },
    {
     "name": "stdout",
     "output_type": "stream",
     "text": [
      "2012\n",
      "3\n",
      "['ons_target_f1']\n",
      "pre drop  98640\n",
      "2012\n",
      "3\n",
      "post drop model 66480\n",
      "setting parameters\n",
      "they are: 700 8 2 100\n"
     ]
    },
    {
     "name": "stderr",
     "output_type": "stream",
     "text": [
      "/var/folders/hj/n94x31sj08bdmgwjs6ybxbf40000gn/T/ipykernel_93000/2916704791.py:42: SettingWithCopyWarning: \n",
      "A value is trying to be set on a copy of a slice from a DataFrame.\n",
      "Try using .loc[row_indexer,col_indexer] = value instead\n",
      "\n",
      "See the caveats in the documentation: https://pandas.pydata.org/pandas-docs/stable/user_guide/indexing.html#returning-a-view-versus-a-copy\n",
      "  fittedframe_future[deps[0]+'_pred'] = res[:, 1]\n"
     ]
    },
    {
     "name": "stdout",
     "output_type": "stream",
     "text": [
      "2012\n",
      "4\n",
      "['ons_target_f1']\n",
      "pre drop  98640\n",
      "2012\n",
      "4\n",
      "post drop model 66720\n",
      "setting parameters\n",
      "they are: 700 8 2 100\n"
     ]
    },
    {
     "name": "stderr",
     "output_type": "stream",
     "text": [
      "/var/folders/hj/n94x31sj08bdmgwjs6ybxbf40000gn/T/ipykernel_93000/2916704791.py:42: SettingWithCopyWarning: \n",
      "A value is trying to be set on a copy of a slice from a DataFrame.\n",
      "Try using .loc[row_indexer,col_indexer] = value instead\n",
      "\n",
      "See the caveats in the documentation: https://pandas.pydata.org/pandas-docs/stable/user_guide/indexing.html#returning-a-view-versus-a-copy\n",
      "  fittedframe_future[deps[0]+'_pred'] = res[:, 1]\n"
     ]
    },
    {
     "name": "stdout",
     "output_type": "stream",
     "text": [
      "2012\n",
      "5\n",
      "['ons_target_f1']\n",
      "pre drop  98640\n",
      "2012\n",
      "5\n",
      "post drop model 66960\n",
      "setting parameters\n",
      "they are: 700 8 2 100\n"
     ]
    },
    {
     "name": "stderr",
     "output_type": "stream",
     "text": [
      "/var/folders/hj/n94x31sj08bdmgwjs6ybxbf40000gn/T/ipykernel_93000/2916704791.py:42: SettingWithCopyWarning: \n",
      "A value is trying to be set on a copy of a slice from a DataFrame.\n",
      "Try using .loc[row_indexer,col_indexer] = value instead\n",
      "\n",
      "See the caveats in the documentation: https://pandas.pydata.org/pandas-docs/stable/user_guide/indexing.html#returning-a-view-versus-a-copy\n",
      "  fittedframe_future[deps[0]+'_pred'] = res[:, 1]\n"
     ]
    },
    {
     "name": "stdout",
     "output_type": "stream",
     "text": [
      "2012\n",
      "6\n",
      "['ons_target_f1']\n",
      "pre drop  98640\n",
      "2012\n",
      "6\n",
      "post drop model 67200\n",
      "setting parameters\n",
      "they are: 700 8 2 100\n"
     ]
    },
    {
     "name": "stderr",
     "output_type": "stream",
     "text": [
      "/var/folders/hj/n94x31sj08bdmgwjs6ybxbf40000gn/T/ipykernel_93000/2916704791.py:42: SettingWithCopyWarning: \n",
      "A value is trying to be set on a copy of a slice from a DataFrame.\n",
      "Try using .loc[row_indexer,col_indexer] = value instead\n",
      "\n",
      "See the caveats in the documentation: https://pandas.pydata.org/pandas-docs/stable/user_guide/indexing.html#returning-a-view-versus-a-copy\n",
      "  fittedframe_future[deps[0]+'_pred'] = res[:, 1]\n"
     ]
    },
    {
     "name": "stdout",
     "output_type": "stream",
     "text": [
      "2012\n",
      "7\n",
      "['ons_target_f1']\n",
      "pre drop  98640\n",
      "2012\n",
      "7\n",
      "post drop model 67440\n",
      "setting parameters\n",
      "they are: 700 8 2 100\n"
     ]
    },
    {
     "name": "stderr",
     "output_type": "stream",
     "text": [
      "/var/folders/hj/n94x31sj08bdmgwjs6ybxbf40000gn/T/ipykernel_93000/2916704791.py:42: SettingWithCopyWarning: \n",
      "A value is trying to be set on a copy of a slice from a DataFrame.\n",
      "Try using .loc[row_indexer,col_indexer] = value instead\n",
      "\n",
      "See the caveats in the documentation: https://pandas.pydata.org/pandas-docs/stable/user_guide/indexing.html#returning-a-view-versus-a-copy\n",
      "  fittedframe_future[deps[0]+'_pred'] = res[:, 1]\n"
     ]
    },
    {
     "name": "stdout",
     "output_type": "stream",
     "text": [
      "2012\n",
      "8\n",
      "['ons_target_f1']\n",
      "pre drop  98640\n",
      "2012\n",
      "8\n",
      "post drop model 67680\n",
      "setting parameters\n",
      "they are: 700 8 2 100\n"
     ]
    },
    {
     "name": "stderr",
     "output_type": "stream",
     "text": [
      "/var/folders/hj/n94x31sj08bdmgwjs6ybxbf40000gn/T/ipykernel_93000/2916704791.py:42: SettingWithCopyWarning: \n",
      "A value is trying to be set on a copy of a slice from a DataFrame.\n",
      "Try using .loc[row_indexer,col_indexer] = value instead\n",
      "\n",
      "See the caveats in the documentation: https://pandas.pydata.org/pandas-docs/stable/user_guide/indexing.html#returning-a-view-versus-a-copy\n",
      "  fittedframe_future[deps[0]+'_pred'] = res[:, 1]\n"
     ]
    },
    {
     "name": "stdout",
     "output_type": "stream",
     "text": [
      "2012\n",
      "9\n",
      "['ons_target_f1']\n",
      "pre drop  98640\n",
      "2012\n",
      "9\n",
      "post drop model 67920\n",
      "setting parameters\n",
      "they are: 700 8 2 100\n"
     ]
    },
    {
     "name": "stderr",
     "output_type": "stream",
     "text": [
      "/var/folders/hj/n94x31sj08bdmgwjs6ybxbf40000gn/T/ipykernel_93000/2916704791.py:42: SettingWithCopyWarning: \n",
      "A value is trying to be set on a copy of a slice from a DataFrame.\n",
      "Try using .loc[row_indexer,col_indexer] = value instead\n",
      "\n",
      "See the caveats in the documentation: https://pandas.pydata.org/pandas-docs/stable/user_guide/indexing.html#returning-a-view-versus-a-copy\n",
      "  fittedframe_future[deps[0]+'_pred'] = res[:, 1]\n"
     ]
    },
    {
     "name": "stdout",
     "output_type": "stream",
     "text": [
      "2012\n",
      "10\n",
      "['ons_target_f1']\n",
      "pre drop  98640\n",
      "2012\n",
      "10\n",
      "post drop model 68160\n",
      "setting parameters\n",
      "they are: 700 8 2 100\n"
     ]
    },
    {
     "name": "stderr",
     "output_type": "stream",
     "text": [
      "/var/folders/hj/n94x31sj08bdmgwjs6ybxbf40000gn/T/ipykernel_93000/2916704791.py:42: SettingWithCopyWarning: \n",
      "A value is trying to be set on a copy of a slice from a DataFrame.\n",
      "Try using .loc[row_indexer,col_indexer] = value instead\n",
      "\n",
      "See the caveats in the documentation: https://pandas.pydata.org/pandas-docs/stable/user_guide/indexing.html#returning-a-view-versus-a-copy\n",
      "  fittedframe_future[deps[0]+'_pred'] = res[:, 1]\n"
     ]
    },
    {
     "name": "stdout",
     "output_type": "stream",
     "text": [
      "2012\n",
      "11\n",
      "['ons_target_f1']\n",
      "pre drop  98640\n",
      "2012\n",
      "11\n",
      "post drop model 68400\n",
      "setting parameters\n",
      "they are: 700 8 2 100\n"
     ]
    },
    {
     "name": "stderr",
     "output_type": "stream",
     "text": [
      "/var/folders/hj/n94x31sj08bdmgwjs6ybxbf40000gn/T/ipykernel_93000/2916704791.py:42: SettingWithCopyWarning: \n",
      "A value is trying to be set on a copy of a slice from a DataFrame.\n",
      "Try using .loc[row_indexer,col_indexer] = value instead\n",
      "\n",
      "See the caveats in the documentation: https://pandas.pydata.org/pandas-docs/stable/user_guide/indexing.html#returning-a-view-versus-a-copy\n",
      "  fittedframe_future[deps[0]+'_pred'] = res[:, 1]\n"
     ]
    },
    {
     "name": "stdout",
     "output_type": "stream",
     "text": [
      "2012\n",
      "12\n",
      "['ons_target_f1']\n",
      "pre drop  98640\n",
      "2012\n",
      "12\n",
      "post drop model 68640\n",
      "setting parameters\n",
      "they are: 700 8 2 100\n"
     ]
    },
    {
     "name": "stderr",
     "output_type": "stream",
     "text": [
      "/var/folders/hj/n94x31sj08bdmgwjs6ybxbf40000gn/T/ipykernel_93000/2916704791.py:42: SettingWithCopyWarning: \n",
      "A value is trying to be set on a copy of a slice from a DataFrame.\n",
      "Try using .loc[row_indexer,col_indexer] = value instead\n",
      "\n",
      "See the caveats in the documentation: https://pandas.pydata.org/pandas-docs/stable/user_guide/indexing.html#returning-a-view-versus-a-copy\n",
      "  fittedframe_future[deps[0]+'_pred'] = res[:, 1]\n"
     ]
    },
    {
     "name": "stdout",
     "output_type": "stream",
     "text": [
      "before 2023, going till 13\n",
      "2013\n",
      "1\n",
      "['ons_target_f1']\n",
      "pre drop  98640\n",
      "2013\n",
      "1\n",
      "post drop model 68880\n",
      "setting parameters\n",
      "they are: 700 8 2 100\n"
     ]
    },
    {
     "name": "stderr",
     "output_type": "stream",
     "text": [
      "/var/folders/hj/n94x31sj08bdmgwjs6ybxbf40000gn/T/ipykernel_93000/2916704791.py:42: SettingWithCopyWarning: \n",
      "A value is trying to be set on a copy of a slice from a DataFrame.\n",
      "Try using .loc[row_indexer,col_indexer] = value instead\n",
      "\n",
      "See the caveats in the documentation: https://pandas.pydata.org/pandas-docs/stable/user_guide/indexing.html#returning-a-view-versus-a-copy\n",
      "  fittedframe_future[deps[0]+'_pred'] = res[:, 1]\n"
     ]
    },
    {
     "name": "stdout",
     "output_type": "stream",
     "text": [
      "2013\n",
      "2\n",
      "['ons_target_f1']\n",
      "pre drop  98640\n",
      "2013\n",
      "2\n",
      "post drop model 69120\n",
      "setting parameters\n",
      "they are: 700 8 2 100\n"
     ]
    },
    {
     "name": "stderr",
     "output_type": "stream",
     "text": [
      "/var/folders/hj/n94x31sj08bdmgwjs6ybxbf40000gn/T/ipykernel_93000/2916704791.py:42: SettingWithCopyWarning: \n",
      "A value is trying to be set on a copy of a slice from a DataFrame.\n",
      "Try using .loc[row_indexer,col_indexer] = value instead\n",
      "\n",
      "See the caveats in the documentation: https://pandas.pydata.org/pandas-docs/stable/user_guide/indexing.html#returning-a-view-versus-a-copy\n",
      "  fittedframe_future[deps[0]+'_pred'] = res[:, 1]\n"
     ]
    },
    {
     "name": "stdout",
     "output_type": "stream",
     "text": [
      "2013\n",
      "3\n",
      "['ons_target_f1']\n",
      "pre drop  98640\n",
      "2013\n",
      "3\n",
      "post drop model 69360\n",
      "setting parameters\n",
      "they are: 700 8 2 100\n"
     ]
    },
    {
     "name": "stderr",
     "output_type": "stream",
     "text": [
      "/var/folders/hj/n94x31sj08bdmgwjs6ybxbf40000gn/T/ipykernel_93000/2916704791.py:42: SettingWithCopyWarning: \n",
      "A value is trying to be set on a copy of a slice from a DataFrame.\n",
      "Try using .loc[row_indexer,col_indexer] = value instead\n",
      "\n",
      "See the caveats in the documentation: https://pandas.pydata.org/pandas-docs/stable/user_guide/indexing.html#returning-a-view-versus-a-copy\n",
      "  fittedframe_future[deps[0]+'_pred'] = res[:, 1]\n"
     ]
    },
    {
     "name": "stdout",
     "output_type": "stream",
     "text": [
      "2013\n",
      "4\n",
      "['ons_target_f1']\n",
      "pre drop  98640\n",
      "2013\n",
      "4\n",
      "post drop model 69600\n",
      "setting parameters\n",
      "they are: 700 8 2 100\n"
     ]
    },
    {
     "name": "stderr",
     "output_type": "stream",
     "text": [
      "/var/folders/hj/n94x31sj08bdmgwjs6ybxbf40000gn/T/ipykernel_93000/2916704791.py:42: SettingWithCopyWarning: \n",
      "A value is trying to be set on a copy of a slice from a DataFrame.\n",
      "Try using .loc[row_indexer,col_indexer] = value instead\n",
      "\n",
      "See the caveats in the documentation: https://pandas.pydata.org/pandas-docs/stable/user_guide/indexing.html#returning-a-view-versus-a-copy\n",
      "  fittedframe_future[deps[0]+'_pred'] = res[:, 1]\n"
     ]
    },
    {
     "name": "stdout",
     "output_type": "stream",
     "text": [
      "2013\n",
      "5\n",
      "['ons_target_f1']\n",
      "pre drop  98640\n",
      "2013\n",
      "5\n",
      "post drop model 69840\n",
      "setting parameters\n",
      "they are: 700 8 2 100\n"
     ]
    },
    {
     "name": "stderr",
     "output_type": "stream",
     "text": [
      "/var/folders/hj/n94x31sj08bdmgwjs6ybxbf40000gn/T/ipykernel_93000/2916704791.py:42: SettingWithCopyWarning: \n",
      "A value is trying to be set on a copy of a slice from a DataFrame.\n",
      "Try using .loc[row_indexer,col_indexer] = value instead\n",
      "\n",
      "See the caveats in the documentation: https://pandas.pydata.org/pandas-docs/stable/user_guide/indexing.html#returning-a-view-versus-a-copy\n",
      "  fittedframe_future[deps[0]+'_pred'] = res[:, 1]\n"
     ]
    },
    {
     "name": "stdout",
     "output_type": "stream",
     "text": [
      "2013\n",
      "6\n",
      "['ons_target_f1']\n",
      "pre drop  98640\n",
      "2013\n",
      "6\n",
      "post drop model 70080\n",
      "setting parameters\n",
      "they are: 700 8 2 100\n"
     ]
    },
    {
     "name": "stderr",
     "output_type": "stream",
     "text": [
      "/var/folders/hj/n94x31sj08bdmgwjs6ybxbf40000gn/T/ipykernel_93000/2916704791.py:42: SettingWithCopyWarning: \n",
      "A value is trying to be set on a copy of a slice from a DataFrame.\n",
      "Try using .loc[row_indexer,col_indexer] = value instead\n",
      "\n",
      "See the caveats in the documentation: https://pandas.pydata.org/pandas-docs/stable/user_guide/indexing.html#returning-a-view-versus-a-copy\n",
      "  fittedframe_future[deps[0]+'_pred'] = res[:, 1]\n"
     ]
    },
    {
     "name": "stdout",
     "output_type": "stream",
     "text": [
      "2013\n",
      "7\n",
      "['ons_target_f1']\n",
      "pre drop  98640\n",
      "2013\n",
      "7\n",
      "post drop model 70320\n",
      "setting parameters\n",
      "they are: 700 8 2 100\n"
     ]
    },
    {
     "name": "stderr",
     "output_type": "stream",
     "text": [
      "/var/folders/hj/n94x31sj08bdmgwjs6ybxbf40000gn/T/ipykernel_93000/2916704791.py:42: SettingWithCopyWarning: \n",
      "A value is trying to be set on a copy of a slice from a DataFrame.\n",
      "Try using .loc[row_indexer,col_indexer] = value instead\n",
      "\n",
      "See the caveats in the documentation: https://pandas.pydata.org/pandas-docs/stable/user_guide/indexing.html#returning-a-view-versus-a-copy\n",
      "  fittedframe_future[deps[0]+'_pred'] = res[:, 1]\n"
     ]
    },
    {
     "name": "stdout",
     "output_type": "stream",
     "text": [
      "2013\n",
      "8\n",
      "['ons_target_f1']\n",
      "pre drop  98640\n",
      "2013\n",
      "8\n",
      "post drop model 70560\n",
      "setting parameters\n",
      "they are: 700 8 2 100\n"
     ]
    },
    {
     "name": "stderr",
     "output_type": "stream",
     "text": [
      "/var/folders/hj/n94x31sj08bdmgwjs6ybxbf40000gn/T/ipykernel_93000/2916704791.py:42: SettingWithCopyWarning: \n",
      "A value is trying to be set on a copy of a slice from a DataFrame.\n",
      "Try using .loc[row_indexer,col_indexer] = value instead\n",
      "\n",
      "See the caveats in the documentation: https://pandas.pydata.org/pandas-docs/stable/user_guide/indexing.html#returning-a-view-versus-a-copy\n",
      "  fittedframe_future[deps[0]+'_pred'] = res[:, 1]\n"
     ]
    },
    {
     "name": "stdout",
     "output_type": "stream",
     "text": [
      "2013\n",
      "9\n",
      "['ons_target_f1']\n",
      "pre drop  98640\n",
      "2013\n",
      "9\n",
      "post drop model 70800\n",
      "setting parameters\n",
      "they are: 700 8 2 100\n"
     ]
    },
    {
     "name": "stderr",
     "output_type": "stream",
     "text": [
      "/var/folders/hj/n94x31sj08bdmgwjs6ybxbf40000gn/T/ipykernel_93000/2916704791.py:42: SettingWithCopyWarning: \n",
      "A value is trying to be set on a copy of a slice from a DataFrame.\n",
      "Try using .loc[row_indexer,col_indexer] = value instead\n",
      "\n",
      "See the caveats in the documentation: https://pandas.pydata.org/pandas-docs/stable/user_guide/indexing.html#returning-a-view-versus-a-copy\n",
      "  fittedframe_future[deps[0]+'_pred'] = res[:, 1]\n"
     ]
    },
    {
     "name": "stdout",
     "output_type": "stream",
     "text": [
      "2013\n",
      "10\n",
      "['ons_target_f1']\n",
      "pre drop  98640\n",
      "2013\n",
      "10\n",
      "post drop model 71040\n",
      "setting parameters\n",
      "they are: 700 8 2 100\n"
     ]
    },
    {
     "name": "stderr",
     "output_type": "stream",
     "text": [
      "/var/folders/hj/n94x31sj08bdmgwjs6ybxbf40000gn/T/ipykernel_93000/2916704791.py:42: SettingWithCopyWarning: \n",
      "A value is trying to be set on a copy of a slice from a DataFrame.\n",
      "Try using .loc[row_indexer,col_indexer] = value instead\n",
      "\n",
      "See the caveats in the documentation: https://pandas.pydata.org/pandas-docs/stable/user_guide/indexing.html#returning-a-view-versus-a-copy\n",
      "  fittedframe_future[deps[0]+'_pred'] = res[:, 1]\n"
     ]
    },
    {
     "name": "stdout",
     "output_type": "stream",
     "text": [
      "2013\n",
      "11\n",
      "['ons_target_f1']\n",
      "pre drop  98640\n",
      "2013\n",
      "11\n",
      "post drop model 71280\n",
      "setting parameters\n",
      "they are: 700 8 2 100\n"
     ]
    },
    {
     "name": "stderr",
     "output_type": "stream",
     "text": [
      "/var/folders/hj/n94x31sj08bdmgwjs6ybxbf40000gn/T/ipykernel_93000/2916704791.py:42: SettingWithCopyWarning: \n",
      "A value is trying to be set on a copy of a slice from a DataFrame.\n",
      "Try using .loc[row_indexer,col_indexer] = value instead\n",
      "\n",
      "See the caveats in the documentation: https://pandas.pydata.org/pandas-docs/stable/user_guide/indexing.html#returning-a-view-versus-a-copy\n",
      "  fittedframe_future[deps[0]+'_pred'] = res[:, 1]\n"
     ]
    },
    {
     "name": "stdout",
     "output_type": "stream",
     "text": [
      "2013\n",
      "12\n",
      "['ons_target_f1']\n",
      "pre drop  98640\n",
      "2013\n",
      "12\n",
      "post drop model 71520\n",
      "setting parameters\n",
      "they are: 700 8 2 100\n"
     ]
    },
    {
     "name": "stderr",
     "output_type": "stream",
     "text": [
      "/var/folders/hj/n94x31sj08bdmgwjs6ybxbf40000gn/T/ipykernel_93000/2916704791.py:42: SettingWithCopyWarning: \n",
      "A value is trying to be set on a copy of a slice from a DataFrame.\n",
      "Try using .loc[row_indexer,col_indexer] = value instead\n",
      "\n",
      "See the caveats in the documentation: https://pandas.pydata.org/pandas-docs/stable/user_guide/indexing.html#returning-a-view-versus-a-copy\n",
      "  fittedframe_future[deps[0]+'_pred'] = res[:, 1]\n"
     ]
    },
    {
     "name": "stdout",
     "output_type": "stream",
     "text": [
      "before 2023, going till 13\n",
      "2014\n",
      "1\n",
      "['ons_target_f1']\n",
      "pre drop  98640\n",
      "2014\n",
      "1\n",
      "post drop model 71760\n",
      "setting parameters\n",
      "they are: 700 8 2 100\n"
     ]
    },
    {
     "name": "stderr",
     "output_type": "stream",
     "text": [
      "/var/folders/hj/n94x31sj08bdmgwjs6ybxbf40000gn/T/ipykernel_93000/2916704791.py:42: SettingWithCopyWarning: \n",
      "A value is trying to be set on a copy of a slice from a DataFrame.\n",
      "Try using .loc[row_indexer,col_indexer] = value instead\n",
      "\n",
      "See the caveats in the documentation: https://pandas.pydata.org/pandas-docs/stable/user_guide/indexing.html#returning-a-view-versus-a-copy\n",
      "  fittedframe_future[deps[0]+'_pred'] = res[:, 1]\n"
     ]
    },
    {
     "name": "stdout",
     "output_type": "stream",
     "text": [
      "2014\n",
      "2\n",
      "['ons_target_f1']\n",
      "pre drop  98640\n",
      "2014\n",
      "2\n",
      "post drop model 72000\n",
      "setting parameters\n",
      "they are: 700 8 2 100\n"
     ]
    },
    {
     "name": "stderr",
     "output_type": "stream",
     "text": [
      "/var/folders/hj/n94x31sj08bdmgwjs6ybxbf40000gn/T/ipykernel_93000/2916704791.py:42: SettingWithCopyWarning: \n",
      "A value is trying to be set on a copy of a slice from a DataFrame.\n",
      "Try using .loc[row_indexer,col_indexer] = value instead\n",
      "\n",
      "See the caveats in the documentation: https://pandas.pydata.org/pandas-docs/stable/user_guide/indexing.html#returning-a-view-versus-a-copy\n",
      "  fittedframe_future[deps[0]+'_pred'] = res[:, 1]\n"
     ]
    },
    {
     "name": "stdout",
     "output_type": "stream",
     "text": [
      "2014\n",
      "3\n",
      "['ons_target_f1']\n",
      "pre drop  98640\n",
      "2014\n",
      "3\n",
      "post drop model 72240\n",
      "setting parameters\n",
      "they are: 700 8 2 100\n"
     ]
    },
    {
     "name": "stderr",
     "output_type": "stream",
     "text": [
      "/var/folders/hj/n94x31sj08bdmgwjs6ybxbf40000gn/T/ipykernel_93000/2916704791.py:42: SettingWithCopyWarning: \n",
      "A value is trying to be set on a copy of a slice from a DataFrame.\n",
      "Try using .loc[row_indexer,col_indexer] = value instead\n",
      "\n",
      "See the caveats in the documentation: https://pandas.pydata.org/pandas-docs/stable/user_guide/indexing.html#returning-a-view-versus-a-copy\n",
      "  fittedframe_future[deps[0]+'_pred'] = res[:, 1]\n"
     ]
    },
    {
     "name": "stdout",
     "output_type": "stream",
     "text": [
      "2014\n",
      "4\n",
      "['ons_target_f1']\n",
      "pre drop  98640\n",
      "2014\n",
      "4\n",
      "post drop model 72480\n",
      "setting parameters\n",
      "they are: 700 8 2 100\n"
     ]
    },
    {
     "name": "stderr",
     "output_type": "stream",
     "text": [
      "/var/folders/hj/n94x31sj08bdmgwjs6ybxbf40000gn/T/ipykernel_93000/2916704791.py:42: SettingWithCopyWarning: \n",
      "A value is trying to be set on a copy of a slice from a DataFrame.\n",
      "Try using .loc[row_indexer,col_indexer] = value instead\n",
      "\n",
      "See the caveats in the documentation: https://pandas.pydata.org/pandas-docs/stable/user_guide/indexing.html#returning-a-view-versus-a-copy\n",
      "  fittedframe_future[deps[0]+'_pred'] = res[:, 1]\n"
     ]
    },
    {
     "name": "stdout",
     "output_type": "stream",
     "text": [
      "2014\n",
      "5\n",
      "['ons_target_f1']\n",
      "pre drop  98640\n",
      "2014\n",
      "5\n",
      "post drop model 72720\n",
      "setting parameters\n",
      "they are: 700 8 2 100\n"
     ]
    },
    {
     "name": "stderr",
     "output_type": "stream",
     "text": [
      "/var/folders/hj/n94x31sj08bdmgwjs6ybxbf40000gn/T/ipykernel_93000/2916704791.py:42: SettingWithCopyWarning: \n",
      "A value is trying to be set on a copy of a slice from a DataFrame.\n",
      "Try using .loc[row_indexer,col_indexer] = value instead\n",
      "\n",
      "See the caveats in the documentation: https://pandas.pydata.org/pandas-docs/stable/user_guide/indexing.html#returning-a-view-versus-a-copy\n",
      "  fittedframe_future[deps[0]+'_pred'] = res[:, 1]\n"
     ]
    },
    {
     "name": "stdout",
     "output_type": "stream",
     "text": [
      "2014\n",
      "6\n",
      "['ons_target_f1']\n",
      "pre drop  98640\n",
      "2014\n",
      "6\n",
      "post drop model 72960\n",
      "setting parameters\n",
      "they are: 700 8 2 100\n"
     ]
    },
    {
     "name": "stderr",
     "output_type": "stream",
     "text": [
      "/var/folders/hj/n94x31sj08bdmgwjs6ybxbf40000gn/T/ipykernel_93000/2916704791.py:42: SettingWithCopyWarning: \n",
      "A value is trying to be set on a copy of a slice from a DataFrame.\n",
      "Try using .loc[row_indexer,col_indexer] = value instead\n",
      "\n",
      "See the caveats in the documentation: https://pandas.pydata.org/pandas-docs/stable/user_guide/indexing.html#returning-a-view-versus-a-copy\n",
      "  fittedframe_future[deps[0]+'_pred'] = res[:, 1]\n"
     ]
    },
    {
     "name": "stdout",
     "output_type": "stream",
     "text": [
      "2014\n",
      "7\n",
      "['ons_target_f1']\n",
      "pre drop  98640\n",
      "2014\n",
      "7\n",
      "post drop model 73200\n",
      "setting parameters\n",
      "they are: 700 8 2 100\n"
     ]
    },
    {
     "name": "stderr",
     "output_type": "stream",
     "text": [
      "/var/folders/hj/n94x31sj08bdmgwjs6ybxbf40000gn/T/ipykernel_93000/2916704791.py:42: SettingWithCopyWarning: \n",
      "A value is trying to be set on a copy of a slice from a DataFrame.\n",
      "Try using .loc[row_indexer,col_indexer] = value instead\n",
      "\n",
      "See the caveats in the documentation: https://pandas.pydata.org/pandas-docs/stable/user_guide/indexing.html#returning-a-view-versus-a-copy\n",
      "  fittedframe_future[deps[0]+'_pred'] = res[:, 1]\n"
     ]
    },
    {
     "name": "stdout",
     "output_type": "stream",
     "text": [
      "2014\n",
      "8\n",
      "['ons_target_f1']\n",
      "pre drop  98640\n",
      "2014\n",
      "8\n",
      "post drop model 73440\n",
      "setting parameters\n",
      "they are: 700 8 2 100\n"
     ]
    },
    {
     "name": "stderr",
     "output_type": "stream",
     "text": [
      "/var/folders/hj/n94x31sj08bdmgwjs6ybxbf40000gn/T/ipykernel_93000/2916704791.py:42: SettingWithCopyWarning: \n",
      "A value is trying to be set on a copy of a slice from a DataFrame.\n",
      "Try using .loc[row_indexer,col_indexer] = value instead\n",
      "\n",
      "See the caveats in the documentation: https://pandas.pydata.org/pandas-docs/stable/user_guide/indexing.html#returning-a-view-versus-a-copy\n",
      "  fittedframe_future[deps[0]+'_pred'] = res[:, 1]\n"
     ]
    },
    {
     "name": "stdout",
     "output_type": "stream",
     "text": [
      "2014\n",
      "9\n",
      "['ons_target_f1']\n",
      "pre drop  98640\n",
      "2014\n",
      "9\n",
      "post drop model 73680\n",
      "setting parameters\n",
      "they are: 700 8 2 100\n"
     ]
    },
    {
     "name": "stderr",
     "output_type": "stream",
     "text": [
      "/var/folders/hj/n94x31sj08bdmgwjs6ybxbf40000gn/T/ipykernel_93000/2916704791.py:42: SettingWithCopyWarning: \n",
      "A value is trying to be set on a copy of a slice from a DataFrame.\n",
      "Try using .loc[row_indexer,col_indexer] = value instead\n",
      "\n",
      "See the caveats in the documentation: https://pandas.pydata.org/pandas-docs/stable/user_guide/indexing.html#returning-a-view-versus-a-copy\n",
      "  fittedframe_future[deps[0]+'_pred'] = res[:, 1]\n"
     ]
    },
    {
     "name": "stdout",
     "output_type": "stream",
     "text": [
      "2014\n",
      "10\n",
      "['ons_target_f1']\n",
      "pre drop  98640\n",
      "2014\n",
      "10\n",
      "post drop model 73920\n",
      "setting parameters\n",
      "they are: 700 8 2 100\n"
     ]
    },
    {
     "name": "stderr",
     "output_type": "stream",
     "text": [
      "/var/folders/hj/n94x31sj08bdmgwjs6ybxbf40000gn/T/ipykernel_93000/2916704791.py:42: SettingWithCopyWarning: \n",
      "A value is trying to be set on a copy of a slice from a DataFrame.\n",
      "Try using .loc[row_indexer,col_indexer] = value instead\n",
      "\n",
      "See the caveats in the documentation: https://pandas.pydata.org/pandas-docs/stable/user_guide/indexing.html#returning-a-view-versus-a-copy\n",
      "  fittedframe_future[deps[0]+'_pred'] = res[:, 1]\n"
     ]
    },
    {
     "name": "stdout",
     "output_type": "stream",
     "text": [
      "2014\n",
      "11\n",
      "['ons_target_f1']\n",
      "pre drop  98640\n",
      "2014\n",
      "11\n",
      "post drop model 74160\n",
      "setting parameters\n",
      "they are: 700 8 2 100\n"
     ]
    },
    {
     "name": "stderr",
     "output_type": "stream",
     "text": [
      "/var/folders/hj/n94x31sj08bdmgwjs6ybxbf40000gn/T/ipykernel_93000/2916704791.py:42: SettingWithCopyWarning: \n",
      "A value is trying to be set on a copy of a slice from a DataFrame.\n",
      "Try using .loc[row_indexer,col_indexer] = value instead\n",
      "\n",
      "See the caveats in the documentation: https://pandas.pydata.org/pandas-docs/stable/user_guide/indexing.html#returning-a-view-versus-a-copy\n",
      "  fittedframe_future[deps[0]+'_pred'] = res[:, 1]\n"
     ]
    },
    {
     "name": "stdout",
     "output_type": "stream",
     "text": [
      "2014\n",
      "12\n",
      "['ons_target_f1']\n",
      "pre drop  98640\n",
      "2014\n",
      "12\n",
      "post drop model 74400\n",
      "setting parameters\n",
      "they are: 700 8 2 100\n"
     ]
    },
    {
     "name": "stderr",
     "output_type": "stream",
     "text": [
      "/var/folders/hj/n94x31sj08bdmgwjs6ybxbf40000gn/T/ipykernel_93000/2916704791.py:42: SettingWithCopyWarning: \n",
      "A value is trying to be set on a copy of a slice from a DataFrame.\n",
      "Try using .loc[row_indexer,col_indexer] = value instead\n",
      "\n",
      "See the caveats in the documentation: https://pandas.pydata.org/pandas-docs/stable/user_guide/indexing.html#returning-a-view-versus-a-copy\n",
      "  fittedframe_future[deps[0]+'_pred'] = res[:, 1]\n"
     ]
    },
    {
     "name": "stdout",
     "output_type": "stream",
     "text": [
      "before 2023, going till 13\n",
      "2015\n",
      "1\n",
      "['ons_target_f1']\n",
      "pre drop  98640\n",
      "2015\n",
      "1\n",
      "post drop model 74640\n",
      "setting parameters\n",
      "they are: 700 8 2 100\n"
     ]
    },
    {
     "name": "stderr",
     "output_type": "stream",
     "text": [
      "/var/folders/hj/n94x31sj08bdmgwjs6ybxbf40000gn/T/ipykernel_93000/2916704791.py:42: SettingWithCopyWarning: \n",
      "A value is trying to be set on a copy of a slice from a DataFrame.\n",
      "Try using .loc[row_indexer,col_indexer] = value instead\n",
      "\n",
      "See the caveats in the documentation: https://pandas.pydata.org/pandas-docs/stable/user_guide/indexing.html#returning-a-view-versus-a-copy\n",
      "  fittedframe_future[deps[0]+'_pred'] = res[:, 1]\n"
     ]
    },
    {
     "name": "stdout",
     "output_type": "stream",
     "text": [
      "2015\n",
      "2\n",
      "['ons_target_f1']\n",
      "pre drop  98640\n",
      "2015\n",
      "2\n",
      "post drop model 74880\n",
      "setting parameters\n",
      "they are: 700 8 2 100\n"
     ]
    },
    {
     "name": "stderr",
     "output_type": "stream",
     "text": [
      "/var/folders/hj/n94x31sj08bdmgwjs6ybxbf40000gn/T/ipykernel_93000/2916704791.py:42: SettingWithCopyWarning: \n",
      "A value is trying to be set on a copy of a slice from a DataFrame.\n",
      "Try using .loc[row_indexer,col_indexer] = value instead\n",
      "\n",
      "See the caveats in the documentation: https://pandas.pydata.org/pandas-docs/stable/user_guide/indexing.html#returning-a-view-versus-a-copy\n",
      "  fittedframe_future[deps[0]+'_pred'] = res[:, 1]\n"
     ]
    },
    {
     "name": "stdout",
     "output_type": "stream",
     "text": [
      "2015\n",
      "3\n",
      "['ons_target_f1']\n",
      "pre drop  98640\n",
      "2015\n",
      "3\n",
      "post drop model 75120\n",
      "setting parameters\n",
      "they are: 700 8 2 100\n"
     ]
    },
    {
     "name": "stderr",
     "output_type": "stream",
     "text": [
      "/var/folders/hj/n94x31sj08bdmgwjs6ybxbf40000gn/T/ipykernel_93000/2916704791.py:42: SettingWithCopyWarning: \n",
      "A value is trying to be set on a copy of a slice from a DataFrame.\n",
      "Try using .loc[row_indexer,col_indexer] = value instead\n",
      "\n",
      "See the caveats in the documentation: https://pandas.pydata.org/pandas-docs/stable/user_guide/indexing.html#returning-a-view-versus-a-copy\n",
      "  fittedframe_future[deps[0]+'_pred'] = res[:, 1]\n"
     ]
    },
    {
     "name": "stdout",
     "output_type": "stream",
     "text": [
      "2015\n",
      "4\n",
      "['ons_target_f1']\n",
      "pre drop  98640\n",
      "2015\n",
      "4\n",
      "post drop model 75360\n",
      "setting parameters\n",
      "they are: 700 8 2 100\n"
     ]
    },
    {
     "name": "stderr",
     "output_type": "stream",
     "text": [
      "/var/folders/hj/n94x31sj08bdmgwjs6ybxbf40000gn/T/ipykernel_93000/2916704791.py:42: SettingWithCopyWarning: \n",
      "A value is trying to be set on a copy of a slice from a DataFrame.\n",
      "Try using .loc[row_indexer,col_indexer] = value instead\n",
      "\n",
      "See the caveats in the documentation: https://pandas.pydata.org/pandas-docs/stable/user_guide/indexing.html#returning-a-view-versus-a-copy\n",
      "  fittedframe_future[deps[0]+'_pred'] = res[:, 1]\n"
     ]
    },
    {
     "name": "stdout",
     "output_type": "stream",
     "text": [
      "2015\n",
      "5\n",
      "['ons_target_f1']\n",
      "pre drop  98640\n",
      "2015\n",
      "5\n",
      "post drop model 75600\n",
      "setting parameters\n",
      "they are: 700 8 2 100\n"
     ]
    },
    {
     "name": "stderr",
     "output_type": "stream",
     "text": [
      "/var/folders/hj/n94x31sj08bdmgwjs6ybxbf40000gn/T/ipykernel_93000/2916704791.py:42: SettingWithCopyWarning: \n",
      "A value is trying to be set on a copy of a slice from a DataFrame.\n",
      "Try using .loc[row_indexer,col_indexer] = value instead\n",
      "\n",
      "See the caveats in the documentation: https://pandas.pydata.org/pandas-docs/stable/user_guide/indexing.html#returning-a-view-versus-a-copy\n",
      "  fittedframe_future[deps[0]+'_pred'] = res[:, 1]\n"
     ]
    },
    {
     "name": "stdout",
     "output_type": "stream",
     "text": [
      "2015\n",
      "6\n",
      "['ons_target_f1']\n",
      "pre drop  98640\n",
      "2015\n",
      "6\n",
      "post drop model 75840\n",
      "setting parameters\n",
      "they are: 700 8 2 100\n"
     ]
    },
    {
     "name": "stderr",
     "output_type": "stream",
     "text": [
      "/var/folders/hj/n94x31sj08bdmgwjs6ybxbf40000gn/T/ipykernel_93000/2916704791.py:42: SettingWithCopyWarning: \n",
      "A value is trying to be set on a copy of a slice from a DataFrame.\n",
      "Try using .loc[row_indexer,col_indexer] = value instead\n",
      "\n",
      "See the caveats in the documentation: https://pandas.pydata.org/pandas-docs/stable/user_guide/indexing.html#returning-a-view-versus-a-copy\n",
      "  fittedframe_future[deps[0]+'_pred'] = res[:, 1]\n"
     ]
    },
    {
     "name": "stdout",
     "output_type": "stream",
     "text": [
      "2015\n",
      "7\n",
      "['ons_target_f1']\n",
      "pre drop  98640\n",
      "2015\n",
      "7\n",
      "post drop model 76080\n",
      "setting parameters\n",
      "they are: 700 8 2 100\n"
     ]
    },
    {
     "name": "stderr",
     "output_type": "stream",
     "text": [
      "/var/folders/hj/n94x31sj08bdmgwjs6ybxbf40000gn/T/ipykernel_93000/2916704791.py:42: SettingWithCopyWarning: \n",
      "A value is trying to be set on a copy of a slice from a DataFrame.\n",
      "Try using .loc[row_indexer,col_indexer] = value instead\n",
      "\n",
      "See the caveats in the documentation: https://pandas.pydata.org/pandas-docs/stable/user_guide/indexing.html#returning-a-view-versus-a-copy\n",
      "  fittedframe_future[deps[0]+'_pred'] = res[:, 1]\n"
     ]
    },
    {
     "name": "stdout",
     "output_type": "stream",
     "text": [
      "2015\n",
      "8\n",
      "['ons_target_f1']\n",
      "pre drop  98640\n",
      "2015\n",
      "8\n",
      "post drop model 76320\n",
      "setting parameters\n",
      "they are: 700 8 2 100\n"
     ]
    },
    {
     "name": "stderr",
     "output_type": "stream",
     "text": [
      "/var/folders/hj/n94x31sj08bdmgwjs6ybxbf40000gn/T/ipykernel_93000/2916704791.py:42: SettingWithCopyWarning: \n",
      "A value is trying to be set on a copy of a slice from a DataFrame.\n",
      "Try using .loc[row_indexer,col_indexer] = value instead\n",
      "\n",
      "See the caveats in the documentation: https://pandas.pydata.org/pandas-docs/stable/user_guide/indexing.html#returning-a-view-versus-a-copy\n",
      "  fittedframe_future[deps[0]+'_pred'] = res[:, 1]\n"
     ]
    },
    {
     "name": "stdout",
     "output_type": "stream",
     "text": [
      "2015\n",
      "9\n",
      "['ons_target_f1']\n",
      "pre drop  98640\n",
      "2015\n",
      "9\n",
      "post drop model 76560\n",
      "setting parameters\n",
      "they are: 700 8 2 100\n"
     ]
    },
    {
     "name": "stderr",
     "output_type": "stream",
     "text": [
      "/var/folders/hj/n94x31sj08bdmgwjs6ybxbf40000gn/T/ipykernel_93000/2916704791.py:42: SettingWithCopyWarning: \n",
      "A value is trying to be set on a copy of a slice from a DataFrame.\n",
      "Try using .loc[row_indexer,col_indexer] = value instead\n",
      "\n",
      "See the caveats in the documentation: https://pandas.pydata.org/pandas-docs/stable/user_guide/indexing.html#returning-a-view-versus-a-copy\n",
      "  fittedframe_future[deps[0]+'_pred'] = res[:, 1]\n"
     ]
    },
    {
     "name": "stdout",
     "output_type": "stream",
     "text": [
      "2015\n",
      "10\n",
      "['ons_target_f1']\n",
      "pre drop  98640\n",
      "2015\n",
      "10\n",
      "post drop model 76800\n",
      "setting parameters\n",
      "they are: 700 8 2 100\n"
     ]
    },
    {
     "name": "stderr",
     "output_type": "stream",
     "text": [
      "/var/folders/hj/n94x31sj08bdmgwjs6ybxbf40000gn/T/ipykernel_93000/2916704791.py:42: SettingWithCopyWarning: \n",
      "A value is trying to be set on a copy of a slice from a DataFrame.\n",
      "Try using .loc[row_indexer,col_indexer] = value instead\n",
      "\n",
      "See the caveats in the documentation: https://pandas.pydata.org/pandas-docs/stable/user_guide/indexing.html#returning-a-view-versus-a-copy\n",
      "  fittedframe_future[deps[0]+'_pred'] = res[:, 1]\n"
     ]
    },
    {
     "name": "stdout",
     "output_type": "stream",
     "text": [
      "2015\n",
      "11\n",
      "['ons_target_f1']\n",
      "pre drop  98640\n",
      "2015\n",
      "11\n",
      "post drop model 77040\n",
      "setting parameters\n",
      "they are: 700 8 2 100\n"
     ]
    },
    {
     "name": "stderr",
     "output_type": "stream",
     "text": [
      "/var/folders/hj/n94x31sj08bdmgwjs6ybxbf40000gn/T/ipykernel_93000/2916704791.py:42: SettingWithCopyWarning: \n",
      "A value is trying to be set on a copy of a slice from a DataFrame.\n",
      "Try using .loc[row_indexer,col_indexer] = value instead\n",
      "\n",
      "See the caveats in the documentation: https://pandas.pydata.org/pandas-docs/stable/user_guide/indexing.html#returning-a-view-versus-a-copy\n",
      "  fittedframe_future[deps[0]+'_pred'] = res[:, 1]\n"
     ]
    },
    {
     "name": "stdout",
     "output_type": "stream",
     "text": [
      "2015\n",
      "12\n",
      "['ons_target_f1']\n",
      "pre drop  98640\n",
      "2015\n",
      "12\n",
      "post drop model 77280\n",
      "setting parameters\n",
      "they are: 700 8 2 100\n"
     ]
    },
    {
     "name": "stderr",
     "output_type": "stream",
     "text": [
      "/var/folders/hj/n94x31sj08bdmgwjs6ybxbf40000gn/T/ipykernel_93000/2916704791.py:42: SettingWithCopyWarning: \n",
      "A value is trying to be set on a copy of a slice from a DataFrame.\n",
      "Try using .loc[row_indexer,col_indexer] = value instead\n",
      "\n",
      "See the caveats in the documentation: https://pandas.pydata.org/pandas-docs/stable/user_guide/indexing.html#returning-a-view-versus-a-copy\n",
      "  fittedframe_future[deps[0]+'_pred'] = res[:, 1]\n"
     ]
    },
    {
     "name": "stdout",
     "output_type": "stream",
     "text": [
      "before 2023, going till 13\n",
      "2016\n",
      "1\n",
      "['ons_target_f1']\n",
      "pre drop  98640\n",
      "2016\n",
      "1\n",
      "post drop model 77520\n",
      "setting parameters\n",
      "they are: 700 8 2 100\n"
     ]
    },
    {
     "name": "stderr",
     "output_type": "stream",
     "text": [
      "/var/folders/hj/n94x31sj08bdmgwjs6ybxbf40000gn/T/ipykernel_93000/2916704791.py:42: SettingWithCopyWarning: \n",
      "A value is trying to be set on a copy of a slice from a DataFrame.\n",
      "Try using .loc[row_indexer,col_indexer] = value instead\n",
      "\n",
      "See the caveats in the documentation: https://pandas.pydata.org/pandas-docs/stable/user_guide/indexing.html#returning-a-view-versus-a-copy\n",
      "  fittedframe_future[deps[0]+'_pred'] = res[:, 1]\n"
     ]
    },
    {
     "name": "stdout",
     "output_type": "stream",
     "text": [
      "2016\n",
      "2\n",
      "['ons_target_f1']\n",
      "pre drop  98640\n",
      "2016\n",
      "2\n",
      "post drop model 77760\n",
      "setting parameters\n",
      "they are: 700 8 2 100\n"
     ]
    },
    {
     "name": "stderr",
     "output_type": "stream",
     "text": [
      "/var/folders/hj/n94x31sj08bdmgwjs6ybxbf40000gn/T/ipykernel_93000/2916704791.py:42: SettingWithCopyWarning: \n",
      "A value is trying to be set on a copy of a slice from a DataFrame.\n",
      "Try using .loc[row_indexer,col_indexer] = value instead\n",
      "\n",
      "See the caveats in the documentation: https://pandas.pydata.org/pandas-docs/stable/user_guide/indexing.html#returning-a-view-versus-a-copy\n",
      "  fittedframe_future[deps[0]+'_pred'] = res[:, 1]\n"
     ]
    },
    {
     "name": "stdout",
     "output_type": "stream",
     "text": [
      "2016\n",
      "3\n",
      "['ons_target_f1']\n",
      "pre drop  98640\n",
      "2016\n",
      "3\n",
      "post drop model 78000\n",
      "setting parameters\n",
      "they are: 700 8 2 100\n"
     ]
    },
    {
     "name": "stderr",
     "output_type": "stream",
     "text": [
      "/var/folders/hj/n94x31sj08bdmgwjs6ybxbf40000gn/T/ipykernel_93000/2916704791.py:42: SettingWithCopyWarning: \n",
      "A value is trying to be set on a copy of a slice from a DataFrame.\n",
      "Try using .loc[row_indexer,col_indexer] = value instead\n",
      "\n",
      "See the caveats in the documentation: https://pandas.pydata.org/pandas-docs/stable/user_guide/indexing.html#returning-a-view-versus-a-copy\n",
      "  fittedframe_future[deps[0]+'_pred'] = res[:, 1]\n"
     ]
    },
    {
     "name": "stdout",
     "output_type": "stream",
     "text": [
      "2016\n",
      "4\n",
      "['ons_target_f1']\n",
      "pre drop  98640\n",
      "2016\n",
      "4\n",
      "post drop model 78240\n",
      "setting parameters\n",
      "they are: 700 8 2 100\n"
     ]
    },
    {
     "name": "stderr",
     "output_type": "stream",
     "text": [
      "/var/folders/hj/n94x31sj08bdmgwjs6ybxbf40000gn/T/ipykernel_93000/2916704791.py:42: SettingWithCopyWarning: \n",
      "A value is trying to be set on a copy of a slice from a DataFrame.\n",
      "Try using .loc[row_indexer,col_indexer] = value instead\n",
      "\n",
      "See the caveats in the documentation: https://pandas.pydata.org/pandas-docs/stable/user_guide/indexing.html#returning-a-view-versus-a-copy\n",
      "  fittedframe_future[deps[0]+'_pred'] = res[:, 1]\n"
     ]
    },
    {
     "name": "stdout",
     "output_type": "stream",
     "text": [
      "2016\n",
      "5\n",
      "['ons_target_f1']\n",
      "pre drop  98640\n",
      "2016\n",
      "5\n",
      "post drop model 78480\n",
      "setting parameters\n",
      "they are: 700 8 2 100\n"
     ]
    },
    {
     "name": "stderr",
     "output_type": "stream",
     "text": [
      "/var/folders/hj/n94x31sj08bdmgwjs6ybxbf40000gn/T/ipykernel_93000/2916704791.py:42: SettingWithCopyWarning: \n",
      "A value is trying to be set on a copy of a slice from a DataFrame.\n",
      "Try using .loc[row_indexer,col_indexer] = value instead\n",
      "\n",
      "See the caveats in the documentation: https://pandas.pydata.org/pandas-docs/stable/user_guide/indexing.html#returning-a-view-versus-a-copy\n",
      "  fittedframe_future[deps[0]+'_pred'] = res[:, 1]\n"
     ]
    },
    {
     "name": "stdout",
     "output_type": "stream",
     "text": [
      "2016\n",
      "6\n",
      "['ons_target_f1']\n",
      "pre drop  98640\n",
      "2016\n",
      "6\n",
      "post drop model 78720\n",
      "setting parameters\n",
      "they are: 700 8 2 100\n"
     ]
    },
    {
     "name": "stderr",
     "output_type": "stream",
     "text": [
      "/var/folders/hj/n94x31sj08bdmgwjs6ybxbf40000gn/T/ipykernel_93000/2916704791.py:42: SettingWithCopyWarning: \n",
      "A value is trying to be set on a copy of a slice from a DataFrame.\n",
      "Try using .loc[row_indexer,col_indexer] = value instead\n",
      "\n",
      "See the caveats in the documentation: https://pandas.pydata.org/pandas-docs/stable/user_guide/indexing.html#returning-a-view-versus-a-copy\n",
      "  fittedframe_future[deps[0]+'_pred'] = res[:, 1]\n"
     ]
    },
    {
     "name": "stdout",
     "output_type": "stream",
     "text": [
      "2016\n",
      "7\n",
      "['ons_target_f1']\n",
      "pre drop  98640\n",
      "2016\n",
      "7\n",
      "post drop model 78960\n",
      "setting parameters\n",
      "they are: 700 8 2 100\n"
     ]
    },
    {
     "name": "stderr",
     "output_type": "stream",
     "text": [
      "/var/folders/hj/n94x31sj08bdmgwjs6ybxbf40000gn/T/ipykernel_93000/2916704791.py:42: SettingWithCopyWarning: \n",
      "A value is trying to be set on a copy of a slice from a DataFrame.\n",
      "Try using .loc[row_indexer,col_indexer] = value instead\n",
      "\n",
      "See the caveats in the documentation: https://pandas.pydata.org/pandas-docs/stable/user_guide/indexing.html#returning-a-view-versus-a-copy\n",
      "  fittedframe_future[deps[0]+'_pred'] = res[:, 1]\n"
     ]
    },
    {
     "name": "stdout",
     "output_type": "stream",
     "text": [
      "2016\n",
      "8\n",
      "['ons_target_f1']\n",
      "pre drop  98640\n",
      "2016\n",
      "8\n",
      "post drop model 79200\n",
      "setting parameters\n",
      "they are: 700 8 2 100\n"
     ]
    },
    {
     "name": "stderr",
     "output_type": "stream",
     "text": [
      "/var/folders/hj/n94x31sj08bdmgwjs6ybxbf40000gn/T/ipykernel_93000/2916704791.py:42: SettingWithCopyWarning: \n",
      "A value is trying to be set on a copy of a slice from a DataFrame.\n",
      "Try using .loc[row_indexer,col_indexer] = value instead\n",
      "\n",
      "See the caveats in the documentation: https://pandas.pydata.org/pandas-docs/stable/user_guide/indexing.html#returning-a-view-versus-a-copy\n",
      "  fittedframe_future[deps[0]+'_pred'] = res[:, 1]\n"
     ]
    },
    {
     "name": "stdout",
     "output_type": "stream",
     "text": [
      "2016\n",
      "9\n",
      "['ons_target_f1']\n",
      "pre drop  98640\n",
      "2016\n",
      "9\n",
      "post drop model 79440\n",
      "setting parameters\n",
      "they are: 700 8 2 100\n"
     ]
    },
    {
     "name": "stderr",
     "output_type": "stream",
     "text": [
      "/var/folders/hj/n94x31sj08bdmgwjs6ybxbf40000gn/T/ipykernel_93000/2916704791.py:42: SettingWithCopyWarning: \n",
      "A value is trying to be set on a copy of a slice from a DataFrame.\n",
      "Try using .loc[row_indexer,col_indexer] = value instead\n",
      "\n",
      "See the caveats in the documentation: https://pandas.pydata.org/pandas-docs/stable/user_guide/indexing.html#returning-a-view-versus-a-copy\n",
      "  fittedframe_future[deps[0]+'_pred'] = res[:, 1]\n"
     ]
    },
    {
     "name": "stdout",
     "output_type": "stream",
     "text": [
      "2016\n",
      "10\n",
      "['ons_target_f1']\n",
      "pre drop  98640\n",
      "2016\n",
      "10\n",
      "post drop model 79680\n",
      "setting parameters\n",
      "they are: 700 8 2 100\n"
     ]
    },
    {
     "name": "stderr",
     "output_type": "stream",
     "text": [
      "/var/folders/hj/n94x31sj08bdmgwjs6ybxbf40000gn/T/ipykernel_93000/2916704791.py:42: SettingWithCopyWarning: \n",
      "A value is trying to be set on a copy of a slice from a DataFrame.\n",
      "Try using .loc[row_indexer,col_indexer] = value instead\n",
      "\n",
      "See the caveats in the documentation: https://pandas.pydata.org/pandas-docs/stable/user_guide/indexing.html#returning-a-view-versus-a-copy\n",
      "  fittedframe_future[deps[0]+'_pred'] = res[:, 1]\n"
     ]
    },
    {
     "name": "stdout",
     "output_type": "stream",
     "text": [
      "2016\n",
      "11\n",
      "['ons_target_f1']\n",
      "pre drop  98640\n",
      "2016\n",
      "11\n",
      "post drop model 79920\n",
      "setting parameters\n",
      "they are: 700 8 2 100\n"
     ]
    },
    {
     "name": "stderr",
     "output_type": "stream",
     "text": [
      "/var/folders/hj/n94x31sj08bdmgwjs6ybxbf40000gn/T/ipykernel_93000/2916704791.py:42: SettingWithCopyWarning: \n",
      "A value is trying to be set on a copy of a slice from a DataFrame.\n",
      "Try using .loc[row_indexer,col_indexer] = value instead\n",
      "\n",
      "See the caveats in the documentation: https://pandas.pydata.org/pandas-docs/stable/user_guide/indexing.html#returning-a-view-versus-a-copy\n",
      "  fittedframe_future[deps[0]+'_pred'] = res[:, 1]\n"
     ]
    },
    {
     "name": "stdout",
     "output_type": "stream",
     "text": [
      "2016\n",
      "12\n",
      "['ons_target_f1']\n",
      "pre drop  98640\n",
      "2016\n",
      "12\n",
      "post drop model 80160\n",
      "setting parameters\n",
      "they are: 700 8 2 100\n"
     ]
    },
    {
     "name": "stderr",
     "output_type": "stream",
     "text": [
      "/var/folders/hj/n94x31sj08bdmgwjs6ybxbf40000gn/T/ipykernel_93000/2916704791.py:42: SettingWithCopyWarning: \n",
      "A value is trying to be set on a copy of a slice from a DataFrame.\n",
      "Try using .loc[row_indexer,col_indexer] = value instead\n",
      "\n",
      "See the caveats in the documentation: https://pandas.pydata.org/pandas-docs/stable/user_guide/indexing.html#returning-a-view-versus-a-copy\n",
      "  fittedframe_future[deps[0]+'_pred'] = res[:, 1]\n"
     ]
    },
    {
     "name": "stdout",
     "output_type": "stream",
     "text": [
      "before 2023, going till 13\n",
      "2017\n",
      "1\n",
      "['ons_target_f1']\n",
      "pre drop  98640\n",
      "2017\n",
      "1\n",
      "post drop model 80400\n",
      "setting parameters\n",
      "they are: 700 8 2 100\n"
     ]
    },
    {
     "name": "stderr",
     "output_type": "stream",
     "text": [
      "/var/folders/hj/n94x31sj08bdmgwjs6ybxbf40000gn/T/ipykernel_93000/2916704791.py:42: SettingWithCopyWarning: \n",
      "A value is trying to be set on a copy of a slice from a DataFrame.\n",
      "Try using .loc[row_indexer,col_indexer] = value instead\n",
      "\n",
      "See the caveats in the documentation: https://pandas.pydata.org/pandas-docs/stable/user_guide/indexing.html#returning-a-view-versus-a-copy\n",
      "  fittedframe_future[deps[0]+'_pred'] = res[:, 1]\n"
     ]
    },
    {
     "name": "stdout",
     "output_type": "stream",
     "text": [
      "2017\n",
      "2\n",
      "['ons_target_f1']\n",
      "pre drop  98640\n",
      "2017\n",
      "2\n",
      "post drop model 80640\n",
      "setting parameters\n",
      "they are: 700 8 2 100\n"
     ]
    },
    {
     "name": "stderr",
     "output_type": "stream",
     "text": [
      "/var/folders/hj/n94x31sj08bdmgwjs6ybxbf40000gn/T/ipykernel_93000/2916704791.py:42: SettingWithCopyWarning: \n",
      "A value is trying to be set on a copy of a slice from a DataFrame.\n",
      "Try using .loc[row_indexer,col_indexer] = value instead\n",
      "\n",
      "See the caveats in the documentation: https://pandas.pydata.org/pandas-docs/stable/user_guide/indexing.html#returning-a-view-versus-a-copy\n",
      "  fittedframe_future[deps[0]+'_pred'] = res[:, 1]\n"
     ]
    },
    {
     "name": "stdout",
     "output_type": "stream",
     "text": [
      "2017\n",
      "3\n",
      "['ons_target_f1']\n",
      "pre drop  98640\n",
      "2017\n",
      "3\n",
      "post drop model 80880\n",
      "setting parameters\n",
      "they are: 700 8 2 100\n"
     ]
    },
    {
     "name": "stderr",
     "output_type": "stream",
     "text": [
      "/var/folders/hj/n94x31sj08bdmgwjs6ybxbf40000gn/T/ipykernel_93000/2916704791.py:42: SettingWithCopyWarning: \n",
      "A value is trying to be set on a copy of a slice from a DataFrame.\n",
      "Try using .loc[row_indexer,col_indexer] = value instead\n",
      "\n",
      "See the caveats in the documentation: https://pandas.pydata.org/pandas-docs/stable/user_guide/indexing.html#returning-a-view-versus-a-copy\n",
      "  fittedframe_future[deps[0]+'_pred'] = res[:, 1]\n"
     ]
    },
    {
     "name": "stdout",
     "output_type": "stream",
     "text": [
      "2017\n",
      "4\n",
      "['ons_target_f1']\n",
      "pre drop  98640\n",
      "2017\n",
      "4\n",
      "post drop model 81120\n",
      "setting parameters\n",
      "they are: 700 8 2 100\n"
     ]
    },
    {
     "name": "stderr",
     "output_type": "stream",
     "text": [
      "/var/folders/hj/n94x31sj08bdmgwjs6ybxbf40000gn/T/ipykernel_93000/2916704791.py:42: SettingWithCopyWarning: \n",
      "A value is trying to be set on a copy of a slice from a DataFrame.\n",
      "Try using .loc[row_indexer,col_indexer] = value instead\n",
      "\n",
      "See the caveats in the documentation: https://pandas.pydata.org/pandas-docs/stable/user_guide/indexing.html#returning-a-view-versus-a-copy\n",
      "  fittedframe_future[deps[0]+'_pred'] = res[:, 1]\n"
     ]
    },
    {
     "name": "stdout",
     "output_type": "stream",
     "text": [
      "2017\n",
      "5\n",
      "['ons_target_f1']\n",
      "pre drop  98640\n",
      "2017\n",
      "5\n",
      "post drop model 81360\n",
      "setting parameters\n",
      "they are: 700 8 2 100\n"
     ]
    },
    {
     "name": "stderr",
     "output_type": "stream",
     "text": [
      "/var/folders/hj/n94x31sj08bdmgwjs6ybxbf40000gn/T/ipykernel_93000/2916704791.py:42: SettingWithCopyWarning: \n",
      "A value is trying to be set on a copy of a slice from a DataFrame.\n",
      "Try using .loc[row_indexer,col_indexer] = value instead\n",
      "\n",
      "See the caveats in the documentation: https://pandas.pydata.org/pandas-docs/stable/user_guide/indexing.html#returning-a-view-versus-a-copy\n",
      "  fittedframe_future[deps[0]+'_pred'] = res[:, 1]\n"
     ]
    },
    {
     "name": "stdout",
     "output_type": "stream",
     "text": [
      "2017\n",
      "6\n",
      "['ons_target_f1']\n",
      "pre drop  98640\n",
      "2017\n",
      "6\n",
      "post drop model 81600\n",
      "setting parameters\n",
      "they are: 700 8 2 100\n"
     ]
    },
    {
     "name": "stderr",
     "output_type": "stream",
     "text": [
      "/var/folders/hj/n94x31sj08bdmgwjs6ybxbf40000gn/T/ipykernel_93000/2916704791.py:42: SettingWithCopyWarning: \n",
      "A value is trying to be set on a copy of a slice from a DataFrame.\n",
      "Try using .loc[row_indexer,col_indexer] = value instead\n",
      "\n",
      "See the caveats in the documentation: https://pandas.pydata.org/pandas-docs/stable/user_guide/indexing.html#returning-a-view-versus-a-copy\n",
      "  fittedframe_future[deps[0]+'_pred'] = res[:, 1]\n"
     ]
    },
    {
     "name": "stdout",
     "output_type": "stream",
     "text": [
      "2017\n",
      "7\n",
      "['ons_target_f1']\n",
      "pre drop  98640\n",
      "2017\n",
      "7\n",
      "post drop model 81840\n",
      "setting parameters\n",
      "they are: 700 8 2 100\n"
     ]
    },
    {
     "name": "stderr",
     "output_type": "stream",
     "text": [
      "/var/folders/hj/n94x31sj08bdmgwjs6ybxbf40000gn/T/ipykernel_93000/2916704791.py:42: SettingWithCopyWarning: \n",
      "A value is trying to be set on a copy of a slice from a DataFrame.\n",
      "Try using .loc[row_indexer,col_indexer] = value instead\n",
      "\n",
      "See the caveats in the documentation: https://pandas.pydata.org/pandas-docs/stable/user_guide/indexing.html#returning-a-view-versus-a-copy\n",
      "  fittedframe_future[deps[0]+'_pred'] = res[:, 1]\n"
     ]
    },
    {
     "name": "stdout",
     "output_type": "stream",
     "text": [
      "2017\n",
      "8\n",
      "['ons_target_f1']\n",
      "pre drop  98640\n",
      "2017\n",
      "8\n",
      "post drop model 82080\n",
      "setting parameters\n",
      "they are: 700 8 2 100\n"
     ]
    },
    {
     "name": "stderr",
     "output_type": "stream",
     "text": [
      "/var/folders/hj/n94x31sj08bdmgwjs6ybxbf40000gn/T/ipykernel_93000/2916704791.py:42: SettingWithCopyWarning: \n",
      "A value is trying to be set on a copy of a slice from a DataFrame.\n",
      "Try using .loc[row_indexer,col_indexer] = value instead\n",
      "\n",
      "See the caveats in the documentation: https://pandas.pydata.org/pandas-docs/stable/user_guide/indexing.html#returning-a-view-versus-a-copy\n",
      "  fittedframe_future[deps[0]+'_pred'] = res[:, 1]\n"
     ]
    },
    {
     "name": "stdout",
     "output_type": "stream",
     "text": [
      "2017\n",
      "9\n",
      "['ons_target_f1']\n",
      "pre drop  98640\n",
      "2017\n",
      "9\n",
      "post drop model 82320\n",
      "setting parameters\n",
      "they are: 700 8 2 100\n"
     ]
    },
    {
     "name": "stderr",
     "output_type": "stream",
     "text": [
      "/var/folders/hj/n94x31sj08bdmgwjs6ybxbf40000gn/T/ipykernel_93000/2916704791.py:42: SettingWithCopyWarning: \n",
      "A value is trying to be set on a copy of a slice from a DataFrame.\n",
      "Try using .loc[row_indexer,col_indexer] = value instead\n",
      "\n",
      "See the caveats in the documentation: https://pandas.pydata.org/pandas-docs/stable/user_guide/indexing.html#returning-a-view-versus-a-copy\n",
      "  fittedframe_future[deps[0]+'_pred'] = res[:, 1]\n"
     ]
    },
    {
     "name": "stdout",
     "output_type": "stream",
     "text": [
      "2017\n",
      "10\n",
      "['ons_target_f1']\n",
      "pre drop  98640\n",
      "2017\n",
      "10\n",
      "post drop model 82560\n",
      "setting parameters\n",
      "they are: 700 8 2 100\n"
     ]
    },
    {
     "name": "stderr",
     "output_type": "stream",
     "text": [
      "/var/folders/hj/n94x31sj08bdmgwjs6ybxbf40000gn/T/ipykernel_93000/2916704791.py:42: SettingWithCopyWarning: \n",
      "A value is trying to be set on a copy of a slice from a DataFrame.\n",
      "Try using .loc[row_indexer,col_indexer] = value instead\n",
      "\n",
      "See the caveats in the documentation: https://pandas.pydata.org/pandas-docs/stable/user_guide/indexing.html#returning-a-view-versus-a-copy\n",
      "  fittedframe_future[deps[0]+'_pred'] = res[:, 1]\n"
     ]
    },
    {
     "name": "stdout",
     "output_type": "stream",
     "text": [
      "2017\n",
      "11\n",
      "['ons_target_f1']\n",
      "pre drop  98640\n",
      "2017\n",
      "11\n",
      "post drop model 82800\n",
      "setting parameters\n",
      "they are: 700 8 2 100\n"
     ]
    },
    {
     "name": "stderr",
     "output_type": "stream",
     "text": [
      "/var/folders/hj/n94x31sj08bdmgwjs6ybxbf40000gn/T/ipykernel_93000/2916704791.py:42: SettingWithCopyWarning: \n",
      "A value is trying to be set on a copy of a slice from a DataFrame.\n",
      "Try using .loc[row_indexer,col_indexer] = value instead\n",
      "\n",
      "See the caveats in the documentation: https://pandas.pydata.org/pandas-docs/stable/user_guide/indexing.html#returning-a-view-versus-a-copy\n",
      "  fittedframe_future[deps[0]+'_pred'] = res[:, 1]\n"
     ]
    },
    {
     "name": "stdout",
     "output_type": "stream",
     "text": [
      "2017\n",
      "12\n",
      "['ons_target_f1']\n",
      "pre drop  98640\n",
      "2017\n",
      "12\n",
      "post drop model 83040\n",
      "setting parameters\n",
      "they are: 700 8 2 100\n"
     ]
    },
    {
     "name": "stderr",
     "output_type": "stream",
     "text": [
      "/var/folders/hj/n94x31sj08bdmgwjs6ybxbf40000gn/T/ipykernel_93000/2916704791.py:42: SettingWithCopyWarning: \n",
      "A value is trying to be set on a copy of a slice from a DataFrame.\n",
      "Try using .loc[row_indexer,col_indexer] = value instead\n",
      "\n",
      "See the caveats in the documentation: https://pandas.pydata.org/pandas-docs/stable/user_guide/indexing.html#returning-a-view-versus-a-copy\n",
      "  fittedframe_future[deps[0]+'_pred'] = res[:, 1]\n"
     ]
    },
    {
     "name": "stdout",
     "output_type": "stream",
     "text": [
      "before 2023, going till 13\n",
      "2018\n",
      "1\n",
      "['ons_target_f1']\n",
      "pre drop  98640\n",
      "2018\n",
      "1\n",
      "post drop model 83280\n",
      "setting parameters\n",
      "they are: 700 8 2 100\n"
     ]
    },
    {
     "name": "stderr",
     "output_type": "stream",
     "text": [
      "/var/folders/hj/n94x31sj08bdmgwjs6ybxbf40000gn/T/ipykernel_93000/2916704791.py:42: SettingWithCopyWarning: \n",
      "A value is trying to be set on a copy of a slice from a DataFrame.\n",
      "Try using .loc[row_indexer,col_indexer] = value instead\n",
      "\n",
      "See the caveats in the documentation: https://pandas.pydata.org/pandas-docs/stable/user_guide/indexing.html#returning-a-view-versus-a-copy\n",
      "  fittedframe_future[deps[0]+'_pred'] = res[:, 1]\n"
     ]
    },
    {
     "name": "stdout",
     "output_type": "stream",
     "text": [
      "2018\n",
      "2\n",
      "['ons_target_f1']\n",
      "pre drop  98640\n",
      "2018\n",
      "2\n",
      "post drop model 83520\n",
      "setting parameters\n",
      "they are: 700 8 2 100\n"
     ]
    },
    {
     "name": "stderr",
     "output_type": "stream",
     "text": [
      "/var/folders/hj/n94x31sj08bdmgwjs6ybxbf40000gn/T/ipykernel_93000/2916704791.py:42: SettingWithCopyWarning: \n",
      "A value is trying to be set on a copy of a slice from a DataFrame.\n",
      "Try using .loc[row_indexer,col_indexer] = value instead\n",
      "\n",
      "See the caveats in the documentation: https://pandas.pydata.org/pandas-docs/stable/user_guide/indexing.html#returning-a-view-versus-a-copy\n",
      "  fittedframe_future[deps[0]+'_pred'] = res[:, 1]\n"
     ]
    },
    {
     "name": "stdout",
     "output_type": "stream",
     "text": [
      "2018\n",
      "3\n",
      "['ons_target_f1']\n",
      "pre drop  98640\n",
      "2018\n",
      "3\n",
      "post drop model 83760\n",
      "setting parameters\n",
      "they are: 700 8 2 100\n"
     ]
    },
    {
     "name": "stderr",
     "output_type": "stream",
     "text": [
      "/var/folders/hj/n94x31sj08bdmgwjs6ybxbf40000gn/T/ipykernel_93000/2916704791.py:42: SettingWithCopyWarning: \n",
      "A value is trying to be set on a copy of a slice from a DataFrame.\n",
      "Try using .loc[row_indexer,col_indexer] = value instead\n",
      "\n",
      "See the caveats in the documentation: https://pandas.pydata.org/pandas-docs/stable/user_guide/indexing.html#returning-a-view-versus-a-copy\n",
      "  fittedframe_future[deps[0]+'_pred'] = res[:, 1]\n"
     ]
    },
    {
     "name": "stdout",
     "output_type": "stream",
     "text": [
      "2018\n",
      "4\n",
      "['ons_target_f1']\n",
      "pre drop  98640\n",
      "2018\n",
      "4\n",
      "post drop model 84000\n",
      "setting parameters\n",
      "they are: 700 8 2 100\n"
     ]
    },
    {
     "name": "stderr",
     "output_type": "stream",
     "text": [
      "/var/folders/hj/n94x31sj08bdmgwjs6ybxbf40000gn/T/ipykernel_93000/2916704791.py:42: SettingWithCopyWarning: \n",
      "A value is trying to be set on a copy of a slice from a DataFrame.\n",
      "Try using .loc[row_indexer,col_indexer] = value instead\n",
      "\n",
      "See the caveats in the documentation: https://pandas.pydata.org/pandas-docs/stable/user_guide/indexing.html#returning-a-view-versus-a-copy\n",
      "  fittedframe_future[deps[0]+'_pred'] = res[:, 1]\n"
     ]
    },
    {
     "name": "stdout",
     "output_type": "stream",
     "text": [
      "2018\n",
      "5\n",
      "['ons_target_f1']\n",
      "pre drop  98640\n",
      "2018\n",
      "5\n",
      "post drop model 84240\n",
      "setting parameters\n",
      "they are: 700 8 2 100\n"
     ]
    },
    {
     "name": "stderr",
     "output_type": "stream",
     "text": [
      "/var/folders/hj/n94x31sj08bdmgwjs6ybxbf40000gn/T/ipykernel_93000/2916704791.py:42: SettingWithCopyWarning: \n",
      "A value is trying to be set on a copy of a slice from a DataFrame.\n",
      "Try using .loc[row_indexer,col_indexer] = value instead\n",
      "\n",
      "See the caveats in the documentation: https://pandas.pydata.org/pandas-docs/stable/user_guide/indexing.html#returning-a-view-versus-a-copy\n",
      "  fittedframe_future[deps[0]+'_pred'] = res[:, 1]\n"
     ]
    },
    {
     "name": "stdout",
     "output_type": "stream",
     "text": [
      "2018\n",
      "6\n",
      "['ons_target_f1']\n",
      "pre drop  98640\n",
      "2018\n",
      "6\n",
      "post drop model 84480\n",
      "setting parameters\n",
      "they are: 700 8 2 100\n"
     ]
    },
    {
     "name": "stderr",
     "output_type": "stream",
     "text": [
      "/var/folders/hj/n94x31sj08bdmgwjs6ybxbf40000gn/T/ipykernel_93000/2916704791.py:42: SettingWithCopyWarning: \n",
      "A value is trying to be set on a copy of a slice from a DataFrame.\n",
      "Try using .loc[row_indexer,col_indexer] = value instead\n",
      "\n",
      "See the caveats in the documentation: https://pandas.pydata.org/pandas-docs/stable/user_guide/indexing.html#returning-a-view-versus-a-copy\n",
      "  fittedframe_future[deps[0]+'_pred'] = res[:, 1]\n"
     ]
    },
    {
     "name": "stdout",
     "output_type": "stream",
     "text": [
      "2018\n",
      "7\n",
      "['ons_target_f1']\n",
      "pre drop  98640\n",
      "2018\n",
      "7\n",
      "post drop model 84720\n",
      "setting parameters\n",
      "they are: 700 8 2 100\n"
     ]
    },
    {
     "name": "stderr",
     "output_type": "stream",
     "text": [
      "/var/folders/hj/n94x31sj08bdmgwjs6ybxbf40000gn/T/ipykernel_93000/2916704791.py:42: SettingWithCopyWarning: \n",
      "A value is trying to be set on a copy of a slice from a DataFrame.\n",
      "Try using .loc[row_indexer,col_indexer] = value instead\n",
      "\n",
      "See the caveats in the documentation: https://pandas.pydata.org/pandas-docs/stable/user_guide/indexing.html#returning-a-view-versus-a-copy\n",
      "  fittedframe_future[deps[0]+'_pred'] = res[:, 1]\n"
     ]
    },
    {
     "name": "stdout",
     "output_type": "stream",
     "text": [
      "2018\n",
      "8\n",
      "['ons_target_f1']\n",
      "pre drop  98640\n",
      "2018\n",
      "8\n",
      "post drop model 84960\n",
      "setting parameters\n",
      "they are: 700 8 2 100\n"
     ]
    },
    {
     "name": "stderr",
     "output_type": "stream",
     "text": [
      "/var/folders/hj/n94x31sj08bdmgwjs6ybxbf40000gn/T/ipykernel_93000/2916704791.py:42: SettingWithCopyWarning: \n",
      "A value is trying to be set on a copy of a slice from a DataFrame.\n",
      "Try using .loc[row_indexer,col_indexer] = value instead\n",
      "\n",
      "See the caveats in the documentation: https://pandas.pydata.org/pandas-docs/stable/user_guide/indexing.html#returning-a-view-versus-a-copy\n",
      "  fittedframe_future[deps[0]+'_pred'] = res[:, 1]\n"
     ]
    },
    {
     "name": "stdout",
     "output_type": "stream",
     "text": [
      "2018\n",
      "9\n",
      "['ons_target_f1']\n",
      "pre drop  98640\n",
      "2018\n",
      "9\n",
      "post drop model 85200\n",
      "setting parameters\n",
      "they are: 700 8 2 100\n"
     ]
    },
    {
     "name": "stderr",
     "output_type": "stream",
     "text": [
      "/var/folders/hj/n94x31sj08bdmgwjs6ybxbf40000gn/T/ipykernel_93000/2916704791.py:42: SettingWithCopyWarning: \n",
      "A value is trying to be set on a copy of a slice from a DataFrame.\n",
      "Try using .loc[row_indexer,col_indexer] = value instead\n",
      "\n",
      "See the caveats in the documentation: https://pandas.pydata.org/pandas-docs/stable/user_guide/indexing.html#returning-a-view-versus-a-copy\n",
      "  fittedframe_future[deps[0]+'_pred'] = res[:, 1]\n"
     ]
    },
    {
     "name": "stdout",
     "output_type": "stream",
     "text": [
      "2018\n",
      "10\n",
      "['ons_target_f1']\n",
      "pre drop  98640\n",
      "2018\n",
      "10\n",
      "post drop model 85440\n",
      "setting parameters\n",
      "they are: 700 8 2 100\n"
     ]
    },
    {
     "name": "stderr",
     "output_type": "stream",
     "text": [
      "/var/folders/hj/n94x31sj08bdmgwjs6ybxbf40000gn/T/ipykernel_93000/2916704791.py:42: SettingWithCopyWarning: \n",
      "A value is trying to be set on a copy of a slice from a DataFrame.\n",
      "Try using .loc[row_indexer,col_indexer] = value instead\n",
      "\n",
      "See the caveats in the documentation: https://pandas.pydata.org/pandas-docs/stable/user_guide/indexing.html#returning-a-view-versus-a-copy\n",
      "  fittedframe_future[deps[0]+'_pred'] = res[:, 1]\n"
     ]
    },
    {
     "name": "stdout",
     "output_type": "stream",
     "text": [
      "2018\n",
      "11\n",
      "['ons_target_f1']\n",
      "pre drop  98640\n",
      "2018\n",
      "11\n",
      "post drop model 85680\n",
      "setting parameters\n",
      "they are: 700 8 2 100\n"
     ]
    },
    {
     "name": "stderr",
     "output_type": "stream",
     "text": [
      "/var/folders/hj/n94x31sj08bdmgwjs6ybxbf40000gn/T/ipykernel_93000/2916704791.py:42: SettingWithCopyWarning: \n",
      "A value is trying to be set on a copy of a slice from a DataFrame.\n",
      "Try using .loc[row_indexer,col_indexer] = value instead\n",
      "\n",
      "See the caveats in the documentation: https://pandas.pydata.org/pandas-docs/stable/user_guide/indexing.html#returning-a-view-versus-a-copy\n",
      "  fittedframe_future[deps[0]+'_pred'] = res[:, 1]\n"
     ]
    },
    {
     "name": "stdout",
     "output_type": "stream",
     "text": [
      "2018\n",
      "12\n",
      "['ons_target_f1']\n",
      "pre drop  98640\n",
      "2018\n",
      "12\n",
      "post drop model 85920\n",
      "setting parameters\n",
      "they are: 700 8 2 100\n"
     ]
    },
    {
     "name": "stderr",
     "output_type": "stream",
     "text": [
      "/var/folders/hj/n94x31sj08bdmgwjs6ybxbf40000gn/T/ipykernel_93000/2916704791.py:42: SettingWithCopyWarning: \n",
      "A value is trying to be set on a copy of a slice from a DataFrame.\n",
      "Try using .loc[row_indexer,col_indexer] = value instead\n",
      "\n",
      "See the caveats in the documentation: https://pandas.pydata.org/pandas-docs/stable/user_guide/indexing.html#returning-a-view-versus-a-copy\n",
      "  fittedframe_future[deps[0]+'_pred'] = res[:, 1]\n"
     ]
    },
    {
     "name": "stdout",
     "output_type": "stream",
     "text": [
      "before 2023, going till 13\n",
      "2019\n",
      "1\n",
      "['ons_target_f1']\n",
      "pre drop  98640\n",
      "2019\n",
      "1\n",
      "post drop model 86160\n",
      "setting parameters\n",
      "they are: 700 8 2 100\n"
     ]
    },
    {
     "name": "stderr",
     "output_type": "stream",
     "text": [
      "/var/folders/hj/n94x31sj08bdmgwjs6ybxbf40000gn/T/ipykernel_93000/2916704791.py:42: SettingWithCopyWarning: \n",
      "A value is trying to be set on a copy of a slice from a DataFrame.\n",
      "Try using .loc[row_indexer,col_indexer] = value instead\n",
      "\n",
      "See the caveats in the documentation: https://pandas.pydata.org/pandas-docs/stable/user_guide/indexing.html#returning-a-view-versus-a-copy\n",
      "  fittedframe_future[deps[0]+'_pred'] = res[:, 1]\n"
     ]
    },
    {
     "name": "stdout",
     "output_type": "stream",
     "text": [
      "2019\n",
      "2\n",
      "['ons_target_f1']\n",
      "pre drop  98640\n",
      "2019\n",
      "2\n",
      "post drop model 86400\n",
      "setting parameters\n",
      "they are: 700 8 2 100\n"
     ]
    },
    {
     "name": "stderr",
     "output_type": "stream",
     "text": [
      "/var/folders/hj/n94x31sj08bdmgwjs6ybxbf40000gn/T/ipykernel_93000/2916704791.py:42: SettingWithCopyWarning: \n",
      "A value is trying to be set on a copy of a slice from a DataFrame.\n",
      "Try using .loc[row_indexer,col_indexer] = value instead\n",
      "\n",
      "See the caveats in the documentation: https://pandas.pydata.org/pandas-docs/stable/user_guide/indexing.html#returning-a-view-versus-a-copy\n",
      "  fittedframe_future[deps[0]+'_pred'] = res[:, 1]\n"
     ]
    },
    {
     "name": "stdout",
     "output_type": "stream",
     "text": [
      "2019\n",
      "3\n",
      "['ons_target_f1']\n",
      "pre drop  98640\n",
      "2019\n",
      "3\n",
      "post drop model 86640\n",
      "setting parameters\n",
      "they are: 700 8 2 100\n"
     ]
    },
    {
     "name": "stderr",
     "output_type": "stream",
     "text": [
      "/var/folders/hj/n94x31sj08bdmgwjs6ybxbf40000gn/T/ipykernel_93000/2916704791.py:42: SettingWithCopyWarning: \n",
      "A value is trying to be set on a copy of a slice from a DataFrame.\n",
      "Try using .loc[row_indexer,col_indexer] = value instead\n",
      "\n",
      "See the caveats in the documentation: https://pandas.pydata.org/pandas-docs/stable/user_guide/indexing.html#returning-a-view-versus-a-copy\n",
      "  fittedframe_future[deps[0]+'_pred'] = res[:, 1]\n"
     ]
    },
    {
     "name": "stdout",
     "output_type": "stream",
     "text": [
      "2019\n",
      "4\n",
      "['ons_target_f1']\n",
      "pre drop  98640\n",
      "2019\n",
      "4\n",
      "post drop model 86880\n",
      "setting parameters\n",
      "they are: 700 8 2 100\n"
     ]
    },
    {
     "name": "stderr",
     "output_type": "stream",
     "text": [
      "/var/folders/hj/n94x31sj08bdmgwjs6ybxbf40000gn/T/ipykernel_93000/2916704791.py:42: SettingWithCopyWarning: \n",
      "A value is trying to be set on a copy of a slice from a DataFrame.\n",
      "Try using .loc[row_indexer,col_indexer] = value instead\n",
      "\n",
      "See the caveats in the documentation: https://pandas.pydata.org/pandas-docs/stable/user_guide/indexing.html#returning-a-view-versus-a-copy\n",
      "  fittedframe_future[deps[0]+'_pred'] = res[:, 1]\n"
     ]
    },
    {
     "name": "stdout",
     "output_type": "stream",
     "text": [
      "2019\n",
      "5\n",
      "['ons_target_f1']\n",
      "pre drop  98640\n",
      "2019\n",
      "5\n",
      "post drop model 87120\n",
      "setting parameters\n",
      "they are: 700 8 2 100\n"
     ]
    },
    {
     "name": "stderr",
     "output_type": "stream",
     "text": [
      "/var/folders/hj/n94x31sj08bdmgwjs6ybxbf40000gn/T/ipykernel_93000/2916704791.py:42: SettingWithCopyWarning: \n",
      "A value is trying to be set on a copy of a slice from a DataFrame.\n",
      "Try using .loc[row_indexer,col_indexer] = value instead\n",
      "\n",
      "See the caveats in the documentation: https://pandas.pydata.org/pandas-docs/stable/user_guide/indexing.html#returning-a-view-versus-a-copy\n",
      "  fittedframe_future[deps[0]+'_pred'] = res[:, 1]\n"
     ]
    },
    {
     "name": "stdout",
     "output_type": "stream",
     "text": [
      "2019\n",
      "6\n",
      "['ons_target_f1']\n",
      "pre drop  98640\n",
      "2019\n",
      "6\n",
      "post drop model 87360\n",
      "setting parameters\n",
      "they are: 700 8 2 100\n"
     ]
    },
    {
     "name": "stderr",
     "output_type": "stream",
     "text": [
      "/var/folders/hj/n94x31sj08bdmgwjs6ybxbf40000gn/T/ipykernel_93000/2916704791.py:42: SettingWithCopyWarning: \n",
      "A value is trying to be set on a copy of a slice from a DataFrame.\n",
      "Try using .loc[row_indexer,col_indexer] = value instead\n",
      "\n",
      "See the caveats in the documentation: https://pandas.pydata.org/pandas-docs/stable/user_guide/indexing.html#returning-a-view-versus-a-copy\n",
      "  fittedframe_future[deps[0]+'_pred'] = res[:, 1]\n"
     ]
    },
    {
     "name": "stdout",
     "output_type": "stream",
     "text": [
      "2019\n",
      "7\n",
      "['ons_target_f1']\n",
      "pre drop  98640\n",
      "2019\n",
      "7\n",
      "post drop model 87600\n",
      "setting parameters\n",
      "they are: 700 8 2 100\n"
     ]
    },
    {
     "name": "stderr",
     "output_type": "stream",
     "text": [
      "/var/folders/hj/n94x31sj08bdmgwjs6ybxbf40000gn/T/ipykernel_93000/2916704791.py:42: SettingWithCopyWarning: \n",
      "A value is trying to be set on a copy of a slice from a DataFrame.\n",
      "Try using .loc[row_indexer,col_indexer] = value instead\n",
      "\n",
      "See the caveats in the documentation: https://pandas.pydata.org/pandas-docs/stable/user_guide/indexing.html#returning-a-view-versus-a-copy\n",
      "  fittedframe_future[deps[0]+'_pred'] = res[:, 1]\n"
     ]
    },
    {
     "name": "stdout",
     "output_type": "stream",
     "text": [
      "2019\n",
      "8\n",
      "['ons_target_f1']\n",
      "pre drop  98640\n",
      "2019\n",
      "8\n",
      "post drop model 87840\n",
      "setting parameters\n",
      "they are: 700 8 2 100\n"
     ]
    },
    {
     "name": "stderr",
     "output_type": "stream",
     "text": [
      "/var/folders/hj/n94x31sj08bdmgwjs6ybxbf40000gn/T/ipykernel_93000/2916704791.py:42: SettingWithCopyWarning: \n",
      "A value is trying to be set on a copy of a slice from a DataFrame.\n",
      "Try using .loc[row_indexer,col_indexer] = value instead\n",
      "\n",
      "See the caveats in the documentation: https://pandas.pydata.org/pandas-docs/stable/user_guide/indexing.html#returning-a-view-versus-a-copy\n",
      "  fittedframe_future[deps[0]+'_pred'] = res[:, 1]\n"
     ]
    },
    {
     "name": "stdout",
     "output_type": "stream",
     "text": [
      "2019\n",
      "9\n",
      "['ons_target_f1']\n",
      "pre drop  98640\n",
      "2019\n",
      "9\n",
      "post drop model 88080\n",
      "setting parameters\n",
      "they are: 700 8 2 100\n"
     ]
    },
    {
     "name": "stderr",
     "output_type": "stream",
     "text": [
      "/var/folders/hj/n94x31sj08bdmgwjs6ybxbf40000gn/T/ipykernel_93000/2916704791.py:42: SettingWithCopyWarning: \n",
      "A value is trying to be set on a copy of a slice from a DataFrame.\n",
      "Try using .loc[row_indexer,col_indexer] = value instead\n",
      "\n",
      "See the caveats in the documentation: https://pandas.pydata.org/pandas-docs/stable/user_guide/indexing.html#returning-a-view-versus-a-copy\n",
      "  fittedframe_future[deps[0]+'_pred'] = res[:, 1]\n"
     ]
    },
    {
     "name": "stdout",
     "output_type": "stream",
     "text": [
      "2019\n",
      "10\n",
      "['ons_target_f1']\n",
      "pre drop  98640\n",
      "2019\n",
      "10\n",
      "post drop model 88320\n",
      "setting parameters\n",
      "they are: 700 8 2 100\n"
     ]
    },
    {
     "name": "stderr",
     "output_type": "stream",
     "text": [
      "/var/folders/hj/n94x31sj08bdmgwjs6ybxbf40000gn/T/ipykernel_93000/2916704791.py:42: SettingWithCopyWarning: \n",
      "A value is trying to be set on a copy of a slice from a DataFrame.\n",
      "Try using .loc[row_indexer,col_indexer] = value instead\n",
      "\n",
      "See the caveats in the documentation: https://pandas.pydata.org/pandas-docs/stable/user_guide/indexing.html#returning-a-view-versus-a-copy\n",
      "  fittedframe_future[deps[0]+'_pred'] = res[:, 1]\n"
     ]
    },
    {
     "name": "stdout",
     "output_type": "stream",
     "text": [
      "2019\n",
      "11\n",
      "['ons_target_f1']\n",
      "pre drop  98640\n",
      "2019\n",
      "11\n",
      "post drop model 88560\n",
      "setting parameters\n",
      "they are: 700 8 2 100\n"
     ]
    },
    {
     "name": "stderr",
     "output_type": "stream",
     "text": [
      "/var/folders/hj/n94x31sj08bdmgwjs6ybxbf40000gn/T/ipykernel_93000/2916704791.py:42: SettingWithCopyWarning: \n",
      "A value is trying to be set on a copy of a slice from a DataFrame.\n",
      "Try using .loc[row_indexer,col_indexer] = value instead\n",
      "\n",
      "See the caveats in the documentation: https://pandas.pydata.org/pandas-docs/stable/user_guide/indexing.html#returning-a-view-versus-a-copy\n",
      "  fittedframe_future[deps[0]+'_pred'] = res[:, 1]\n"
     ]
    },
    {
     "name": "stdout",
     "output_type": "stream",
     "text": [
      "2019\n",
      "12\n",
      "['ons_target_f1']\n",
      "pre drop  98640\n",
      "2019\n",
      "12\n",
      "post drop model 88800\n",
      "setting parameters\n",
      "they are: 700 8 2 100\n"
     ]
    },
    {
     "name": "stderr",
     "output_type": "stream",
     "text": [
      "/var/folders/hj/n94x31sj08bdmgwjs6ybxbf40000gn/T/ipykernel_93000/2916704791.py:42: SettingWithCopyWarning: \n",
      "A value is trying to be set on a copy of a slice from a DataFrame.\n",
      "Try using .loc[row_indexer,col_indexer] = value instead\n",
      "\n",
      "See the caveats in the documentation: https://pandas.pydata.org/pandas-docs/stable/user_guide/indexing.html#returning-a-view-versus-a-copy\n",
      "  fittedframe_future[deps[0]+'_pred'] = res[:, 1]\n"
     ]
    },
    {
     "name": "stdout",
     "output_type": "stream",
     "text": [
      "before 2023, going till 13\n",
      "2020\n",
      "1\n",
      "['ons_target_f1']\n",
      "pre drop  98640\n",
      "2020\n",
      "1\n",
      "post drop model 89040\n",
      "setting parameters\n",
      "they are: 700 8 2 100\n"
     ]
    },
    {
     "name": "stderr",
     "output_type": "stream",
     "text": [
      "/var/folders/hj/n94x31sj08bdmgwjs6ybxbf40000gn/T/ipykernel_93000/2916704791.py:42: SettingWithCopyWarning: \n",
      "A value is trying to be set on a copy of a slice from a DataFrame.\n",
      "Try using .loc[row_indexer,col_indexer] = value instead\n",
      "\n",
      "See the caveats in the documentation: https://pandas.pydata.org/pandas-docs/stable/user_guide/indexing.html#returning-a-view-versus-a-copy\n",
      "  fittedframe_future[deps[0]+'_pred'] = res[:, 1]\n"
     ]
    },
    {
     "name": "stdout",
     "output_type": "stream",
     "text": [
      "2020\n",
      "2\n",
      "['ons_target_f1']\n",
      "pre drop  98640\n",
      "2020\n",
      "2\n",
      "post drop model 89280\n",
      "setting parameters\n",
      "they are: 700 8 2 100\n"
     ]
    },
    {
     "name": "stderr",
     "output_type": "stream",
     "text": [
      "/var/folders/hj/n94x31sj08bdmgwjs6ybxbf40000gn/T/ipykernel_93000/2916704791.py:42: SettingWithCopyWarning: \n",
      "A value is trying to be set on a copy of a slice from a DataFrame.\n",
      "Try using .loc[row_indexer,col_indexer] = value instead\n",
      "\n",
      "See the caveats in the documentation: https://pandas.pydata.org/pandas-docs/stable/user_guide/indexing.html#returning-a-view-versus-a-copy\n",
      "  fittedframe_future[deps[0]+'_pred'] = res[:, 1]\n"
     ]
    },
    {
     "name": "stdout",
     "output_type": "stream",
     "text": [
      "2020\n",
      "3\n",
      "['ons_target_f1']\n",
      "pre drop  98640\n",
      "2020\n",
      "3\n",
      "post drop model 89520\n",
      "setting parameters\n",
      "they are: 700 8 2 100\n"
     ]
    },
    {
     "name": "stderr",
     "output_type": "stream",
     "text": [
      "/var/folders/hj/n94x31sj08bdmgwjs6ybxbf40000gn/T/ipykernel_93000/2916704791.py:42: SettingWithCopyWarning: \n",
      "A value is trying to be set on a copy of a slice from a DataFrame.\n",
      "Try using .loc[row_indexer,col_indexer] = value instead\n",
      "\n",
      "See the caveats in the documentation: https://pandas.pydata.org/pandas-docs/stable/user_guide/indexing.html#returning-a-view-versus-a-copy\n",
      "  fittedframe_future[deps[0]+'_pred'] = res[:, 1]\n"
     ]
    },
    {
     "name": "stdout",
     "output_type": "stream",
     "text": [
      "2020\n",
      "4\n",
      "['ons_target_f1']\n",
      "pre drop  98640\n",
      "2020\n",
      "4\n",
      "post drop model 89760\n",
      "setting parameters\n",
      "they are: 700 8 2 100\n"
     ]
    },
    {
     "name": "stderr",
     "output_type": "stream",
     "text": [
      "/var/folders/hj/n94x31sj08bdmgwjs6ybxbf40000gn/T/ipykernel_93000/2916704791.py:42: SettingWithCopyWarning: \n",
      "A value is trying to be set on a copy of a slice from a DataFrame.\n",
      "Try using .loc[row_indexer,col_indexer] = value instead\n",
      "\n",
      "See the caveats in the documentation: https://pandas.pydata.org/pandas-docs/stable/user_guide/indexing.html#returning-a-view-versus-a-copy\n",
      "  fittedframe_future[deps[0]+'_pred'] = res[:, 1]\n"
     ]
    },
    {
     "name": "stdout",
     "output_type": "stream",
     "text": [
      "2020\n",
      "5\n",
      "['ons_target_f1']\n",
      "pre drop  98640\n",
      "2020\n",
      "5\n",
      "post drop model 90000\n",
      "setting parameters\n",
      "they are: 700 8 2 100\n"
     ]
    },
    {
     "name": "stderr",
     "output_type": "stream",
     "text": [
      "/var/folders/hj/n94x31sj08bdmgwjs6ybxbf40000gn/T/ipykernel_93000/2916704791.py:42: SettingWithCopyWarning: \n",
      "A value is trying to be set on a copy of a slice from a DataFrame.\n",
      "Try using .loc[row_indexer,col_indexer] = value instead\n",
      "\n",
      "See the caveats in the documentation: https://pandas.pydata.org/pandas-docs/stable/user_guide/indexing.html#returning-a-view-versus-a-copy\n",
      "  fittedframe_future[deps[0]+'_pred'] = res[:, 1]\n"
     ]
    },
    {
     "name": "stdout",
     "output_type": "stream",
     "text": [
      "2020\n",
      "6\n",
      "['ons_target_f1']\n",
      "pre drop  98640\n",
      "2020\n",
      "6\n",
      "post drop model 90240\n",
      "setting parameters\n",
      "they are: 700 8 2 100\n"
     ]
    },
    {
     "name": "stderr",
     "output_type": "stream",
     "text": [
      "/var/folders/hj/n94x31sj08bdmgwjs6ybxbf40000gn/T/ipykernel_93000/2916704791.py:42: SettingWithCopyWarning: \n",
      "A value is trying to be set on a copy of a slice from a DataFrame.\n",
      "Try using .loc[row_indexer,col_indexer] = value instead\n",
      "\n",
      "See the caveats in the documentation: https://pandas.pydata.org/pandas-docs/stable/user_guide/indexing.html#returning-a-view-versus-a-copy\n",
      "  fittedframe_future[deps[0]+'_pred'] = res[:, 1]\n"
     ]
    },
    {
     "name": "stdout",
     "output_type": "stream",
     "text": [
      "2020\n",
      "7\n",
      "['ons_target_f1']\n",
      "pre drop  98640\n",
      "2020\n",
      "7\n",
      "post drop model 90480\n",
      "setting parameters\n",
      "they are: 700 8 2 100\n"
     ]
    },
    {
     "name": "stderr",
     "output_type": "stream",
     "text": [
      "/var/folders/hj/n94x31sj08bdmgwjs6ybxbf40000gn/T/ipykernel_93000/2916704791.py:42: SettingWithCopyWarning: \n",
      "A value is trying to be set on a copy of a slice from a DataFrame.\n",
      "Try using .loc[row_indexer,col_indexer] = value instead\n",
      "\n",
      "See the caveats in the documentation: https://pandas.pydata.org/pandas-docs/stable/user_guide/indexing.html#returning-a-view-versus-a-copy\n",
      "  fittedframe_future[deps[0]+'_pred'] = res[:, 1]\n"
     ]
    },
    {
     "name": "stdout",
     "output_type": "stream",
     "text": [
      "2020\n",
      "8\n",
      "['ons_target_f1']\n",
      "pre drop  98640\n",
      "2020\n",
      "8\n",
      "post drop model 90720\n",
      "setting parameters\n",
      "they are: 700 8 2 100\n"
     ]
    },
    {
     "name": "stderr",
     "output_type": "stream",
     "text": [
      "/var/folders/hj/n94x31sj08bdmgwjs6ybxbf40000gn/T/ipykernel_93000/2916704791.py:42: SettingWithCopyWarning: \n",
      "A value is trying to be set on a copy of a slice from a DataFrame.\n",
      "Try using .loc[row_indexer,col_indexer] = value instead\n",
      "\n",
      "See the caveats in the documentation: https://pandas.pydata.org/pandas-docs/stable/user_guide/indexing.html#returning-a-view-versus-a-copy\n",
      "  fittedframe_future[deps[0]+'_pred'] = res[:, 1]\n"
     ]
    },
    {
     "name": "stdout",
     "output_type": "stream",
     "text": [
      "2020\n",
      "9\n",
      "['ons_target_f1']\n",
      "pre drop  98640\n",
      "2020\n",
      "9\n",
      "post drop model 90960\n",
      "setting parameters\n",
      "they are: 700 8 2 100\n"
     ]
    },
    {
     "name": "stderr",
     "output_type": "stream",
     "text": [
      "/var/folders/hj/n94x31sj08bdmgwjs6ybxbf40000gn/T/ipykernel_93000/2916704791.py:42: SettingWithCopyWarning: \n",
      "A value is trying to be set on a copy of a slice from a DataFrame.\n",
      "Try using .loc[row_indexer,col_indexer] = value instead\n",
      "\n",
      "See the caveats in the documentation: https://pandas.pydata.org/pandas-docs/stable/user_guide/indexing.html#returning-a-view-versus-a-copy\n",
      "  fittedframe_future[deps[0]+'_pred'] = res[:, 1]\n"
     ]
    },
    {
     "name": "stdout",
     "output_type": "stream",
     "text": [
      "2020\n",
      "10\n",
      "['ons_target_f1']\n",
      "pre drop  98640\n",
      "2020\n",
      "10\n",
      "post drop model 91200\n",
      "setting parameters\n",
      "they are: 700 8 2 100\n"
     ]
    },
    {
     "name": "stderr",
     "output_type": "stream",
     "text": [
      "/var/folders/hj/n94x31sj08bdmgwjs6ybxbf40000gn/T/ipykernel_93000/2916704791.py:42: SettingWithCopyWarning: \n",
      "A value is trying to be set on a copy of a slice from a DataFrame.\n",
      "Try using .loc[row_indexer,col_indexer] = value instead\n",
      "\n",
      "See the caveats in the documentation: https://pandas.pydata.org/pandas-docs/stable/user_guide/indexing.html#returning-a-view-versus-a-copy\n",
      "  fittedframe_future[deps[0]+'_pred'] = res[:, 1]\n"
     ]
    },
    {
     "name": "stdout",
     "output_type": "stream",
     "text": [
      "2020\n",
      "11\n",
      "['ons_target_f1']\n",
      "pre drop  98640\n",
      "2020\n",
      "11\n",
      "post drop model 91440\n",
      "setting parameters\n",
      "they are: 700 8 2 100\n"
     ]
    },
    {
     "name": "stderr",
     "output_type": "stream",
     "text": [
      "/var/folders/hj/n94x31sj08bdmgwjs6ybxbf40000gn/T/ipykernel_93000/2916704791.py:42: SettingWithCopyWarning: \n",
      "A value is trying to be set on a copy of a slice from a DataFrame.\n",
      "Try using .loc[row_indexer,col_indexer] = value instead\n",
      "\n",
      "See the caveats in the documentation: https://pandas.pydata.org/pandas-docs/stable/user_guide/indexing.html#returning-a-view-versus-a-copy\n",
      "  fittedframe_future[deps[0]+'_pred'] = res[:, 1]\n"
     ]
    },
    {
     "name": "stdout",
     "output_type": "stream",
     "text": [
      "2020\n",
      "12\n",
      "['ons_target_f1']\n",
      "pre drop  98640\n",
      "2020\n",
      "12\n",
      "post drop model 91680\n",
      "setting parameters\n",
      "they are: 700 8 2 100\n"
     ]
    },
    {
     "name": "stderr",
     "output_type": "stream",
     "text": [
      "/var/folders/hj/n94x31sj08bdmgwjs6ybxbf40000gn/T/ipykernel_93000/2916704791.py:42: SettingWithCopyWarning: \n",
      "A value is trying to be set on a copy of a slice from a DataFrame.\n",
      "Try using .loc[row_indexer,col_indexer] = value instead\n",
      "\n",
      "See the caveats in the documentation: https://pandas.pydata.org/pandas-docs/stable/user_guide/indexing.html#returning-a-view-versus-a-copy\n",
      "  fittedframe_future[deps[0]+'_pred'] = res[:, 1]\n"
     ]
    },
    {
     "name": "stdout",
     "output_type": "stream",
     "text": [
      "before 2023, going till 13\n",
      "2021\n",
      "1\n",
      "['ons_target_f1']\n",
      "pre drop  98640\n",
      "2021\n",
      "1\n",
      "post drop model 91920\n",
      "setting parameters\n",
      "they are: 700 8 2 100\n"
     ]
    },
    {
     "name": "stderr",
     "output_type": "stream",
     "text": [
      "/var/folders/hj/n94x31sj08bdmgwjs6ybxbf40000gn/T/ipykernel_93000/2916704791.py:42: SettingWithCopyWarning: \n",
      "A value is trying to be set on a copy of a slice from a DataFrame.\n",
      "Try using .loc[row_indexer,col_indexer] = value instead\n",
      "\n",
      "See the caveats in the documentation: https://pandas.pydata.org/pandas-docs/stable/user_guide/indexing.html#returning-a-view-versus-a-copy\n",
      "  fittedframe_future[deps[0]+'_pred'] = res[:, 1]\n"
     ]
    },
    {
     "name": "stdout",
     "output_type": "stream",
     "text": [
      "2021\n",
      "2\n",
      "['ons_target_f1']\n",
      "pre drop  98640\n",
      "2021\n",
      "2\n",
      "post drop model 92160\n",
      "setting parameters\n",
      "they are: 700 8 2 100\n"
     ]
    },
    {
     "name": "stderr",
     "output_type": "stream",
     "text": [
      "/var/folders/hj/n94x31sj08bdmgwjs6ybxbf40000gn/T/ipykernel_93000/2916704791.py:42: SettingWithCopyWarning: \n",
      "A value is trying to be set on a copy of a slice from a DataFrame.\n",
      "Try using .loc[row_indexer,col_indexer] = value instead\n",
      "\n",
      "See the caveats in the documentation: https://pandas.pydata.org/pandas-docs/stable/user_guide/indexing.html#returning-a-view-versus-a-copy\n",
      "  fittedframe_future[deps[0]+'_pred'] = res[:, 1]\n"
     ]
    },
    {
     "name": "stdout",
     "output_type": "stream",
     "text": [
      "2021\n",
      "3\n",
      "['ons_target_f1']\n",
      "pre drop  98640\n",
      "2021\n",
      "3\n",
      "post drop model 92400\n",
      "setting parameters\n",
      "they are: 700 8 2 100\n"
     ]
    },
    {
     "name": "stderr",
     "output_type": "stream",
     "text": [
      "/var/folders/hj/n94x31sj08bdmgwjs6ybxbf40000gn/T/ipykernel_93000/2916704791.py:42: SettingWithCopyWarning: \n",
      "A value is trying to be set on a copy of a slice from a DataFrame.\n",
      "Try using .loc[row_indexer,col_indexer] = value instead\n",
      "\n",
      "See the caveats in the documentation: https://pandas.pydata.org/pandas-docs/stable/user_guide/indexing.html#returning-a-view-versus-a-copy\n",
      "  fittedframe_future[deps[0]+'_pred'] = res[:, 1]\n"
     ]
    },
    {
     "name": "stdout",
     "output_type": "stream",
     "text": [
      "2021\n",
      "4\n",
      "['ons_target_f1']\n",
      "pre drop  98640\n",
      "2021\n",
      "4\n",
      "post drop model 92640\n",
      "setting parameters\n",
      "they are: 700 8 2 100\n"
     ]
    },
    {
     "name": "stderr",
     "output_type": "stream",
     "text": [
      "/var/folders/hj/n94x31sj08bdmgwjs6ybxbf40000gn/T/ipykernel_93000/2916704791.py:42: SettingWithCopyWarning: \n",
      "A value is trying to be set on a copy of a slice from a DataFrame.\n",
      "Try using .loc[row_indexer,col_indexer] = value instead\n",
      "\n",
      "See the caveats in the documentation: https://pandas.pydata.org/pandas-docs/stable/user_guide/indexing.html#returning-a-view-versus-a-copy\n",
      "  fittedframe_future[deps[0]+'_pred'] = res[:, 1]\n"
     ]
    },
    {
     "name": "stdout",
     "output_type": "stream",
     "text": [
      "2021\n",
      "5\n",
      "['ons_target_f1']\n",
      "pre drop  98640\n",
      "2021\n",
      "5\n",
      "post drop model 92880\n",
      "setting parameters\n",
      "they are: 700 8 2 100\n"
     ]
    },
    {
     "name": "stderr",
     "output_type": "stream",
     "text": [
      "/var/folders/hj/n94x31sj08bdmgwjs6ybxbf40000gn/T/ipykernel_93000/2916704791.py:42: SettingWithCopyWarning: \n",
      "A value is trying to be set on a copy of a slice from a DataFrame.\n",
      "Try using .loc[row_indexer,col_indexer] = value instead\n",
      "\n",
      "See the caveats in the documentation: https://pandas.pydata.org/pandas-docs/stable/user_guide/indexing.html#returning-a-view-versus-a-copy\n",
      "  fittedframe_future[deps[0]+'_pred'] = res[:, 1]\n"
     ]
    },
    {
     "name": "stdout",
     "output_type": "stream",
     "text": [
      "2021\n",
      "6\n",
      "['ons_target_f1']\n",
      "pre drop  98640\n",
      "2021\n",
      "6\n",
      "post drop model 93120\n",
      "setting parameters\n",
      "they are: 700 8 2 100\n"
     ]
    },
    {
     "name": "stderr",
     "output_type": "stream",
     "text": [
      "/var/folders/hj/n94x31sj08bdmgwjs6ybxbf40000gn/T/ipykernel_93000/2916704791.py:42: SettingWithCopyWarning: \n",
      "A value is trying to be set on a copy of a slice from a DataFrame.\n",
      "Try using .loc[row_indexer,col_indexer] = value instead\n",
      "\n",
      "See the caveats in the documentation: https://pandas.pydata.org/pandas-docs/stable/user_guide/indexing.html#returning-a-view-versus-a-copy\n",
      "  fittedframe_future[deps[0]+'_pred'] = res[:, 1]\n"
     ]
    },
    {
     "name": "stdout",
     "output_type": "stream",
     "text": [
      "2021\n",
      "7\n",
      "['ons_target_f1']\n",
      "pre drop  98640\n",
      "2021\n",
      "7\n",
      "post drop model 93360\n",
      "setting parameters\n",
      "they are: 700 8 2 100\n"
     ]
    },
    {
     "name": "stderr",
     "output_type": "stream",
     "text": [
      "/var/folders/hj/n94x31sj08bdmgwjs6ybxbf40000gn/T/ipykernel_93000/2916704791.py:42: SettingWithCopyWarning: \n",
      "A value is trying to be set on a copy of a slice from a DataFrame.\n",
      "Try using .loc[row_indexer,col_indexer] = value instead\n",
      "\n",
      "See the caveats in the documentation: https://pandas.pydata.org/pandas-docs/stable/user_guide/indexing.html#returning-a-view-versus-a-copy\n",
      "  fittedframe_future[deps[0]+'_pred'] = res[:, 1]\n"
     ]
    },
    {
     "name": "stdout",
     "output_type": "stream",
     "text": [
      "2021\n",
      "8\n",
      "['ons_target_f1']\n",
      "pre drop  98640\n",
      "2021\n",
      "8\n",
      "post drop model 93600\n",
      "setting parameters\n",
      "they are: 700 8 2 100\n"
     ]
    },
    {
     "name": "stderr",
     "output_type": "stream",
     "text": [
      "/var/folders/hj/n94x31sj08bdmgwjs6ybxbf40000gn/T/ipykernel_93000/2916704791.py:42: SettingWithCopyWarning: \n",
      "A value is trying to be set on a copy of a slice from a DataFrame.\n",
      "Try using .loc[row_indexer,col_indexer] = value instead\n",
      "\n",
      "See the caveats in the documentation: https://pandas.pydata.org/pandas-docs/stable/user_guide/indexing.html#returning-a-view-versus-a-copy\n",
      "  fittedframe_future[deps[0]+'_pred'] = res[:, 1]\n"
     ]
    },
    {
     "name": "stdout",
     "output_type": "stream",
     "text": [
      "2021\n",
      "9\n",
      "['ons_target_f1']\n",
      "pre drop  98640\n",
      "2021\n",
      "9\n",
      "post drop model 93840\n",
      "setting parameters\n",
      "they are: 700 8 2 100\n"
     ]
    },
    {
     "name": "stderr",
     "output_type": "stream",
     "text": [
      "/var/folders/hj/n94x31sj08bdmgwjs6ybxbf40000gn/T/ipykernel_93000/2916704791.py:42: SettingWithCopyWarning: \n",
      "A value is trying to be set on a copy of a slice from a DataFrame.\n",
      "Try using .loc[row_indexer,col_indexer] = value instead\n",
      "\n",
      "See the caveats in the documentation: https://pandas.pydata.org/pandas-docs/stable/user_guide/indexing.html#returning-a-view-versus-a-copy\n",
      "  fittedframe_future[deps[0]+'_pred'] = res[:, 1]\n"
     ]
    },
    {
     "name": "stdout",
     "output_type": "stream",
     "text": [
      "2021\n",
      "10\n",
      "['ons_target_f1']\n",
      "pre drop  98640\n",
      "2021\n",
      "10\n",
      "post drop model 94080\n",
      "setting parameters\n",
      "they are: 700 8 2 100\n"
     ]
    },
    {
     "name": "stderr",
     "output_type": "stream",
     "text": [
      "/var/folders/hj/n94x31sj08bdmgwjs6ybxbf40000gn/T/ipykernel_93000/2916704791.py:42: SettingWithCopyWarning: \n",
      "A value is trying to be set on a copy of a slice from a DataFrame.\n",
      "Try using .loc[row_indexer,col_indexer] = value instead\n",
      "\n",
      "See the caveats in the documentation: https://pandas.pydata.org/pandas-docs/stable/user_guide/indexing.html#returning-a-view-versus-a-copy\n",
      "  fittedframe_future[deps[0]+'_pred'] = res[:, 1]\n"
     ]
    },
    {
     "name": "stdout",
     "output_type": "stream",
     "text": [
      "2021\n",
      "11\n",
      "['ons_target_f1']\n",
      "pre drop  98640\n",
      "2021\n",
      "11\n",
      "post drop model 94320\n",
      "setting parameters\n",
      "they are: 700 8 2 100\n"
     ]
    },
    {
     "name": "stderr",
     "output_type": "stream",
     "text": [
      "/var/folders/hj/n94x31sj08bdmgwjs6ybxbf40000gn/T/ipykernel_93000/2916704791.py:42: SettingWithCopyWarning: \n",
      "A value is trying to be set on a copy of a slice from a DataFrame.\n",
      "Try using .loc[row_indexer,col_indexer] = value instead\n",
      "\n",
      "See the caveats in the documentation: https://pandas.pydata.org/pandas-docs/stable/user_guide/indexing.html#returning-a-view-versus-a-copy\n",
      "  fittedframe_future[deps[0]+'_pred'] = res[:, 1]\n"
     ]
    },
    {
     "name": "stdout",
     "output_type": "stream",
     "text": [
      "2021\n",
      "12\n",
      "['ons_target_f1']\n",
      "pre drop  98640\n",
      "2021\n",
      "12\n",
      "post drop model 94560\n",
      "setting parameters\n",
      "they are: 700 8 2 100\n"
     ]
    },
    {
     "name": "stderr",
     "output_type": "stream",
     "text": [
      "/var/folders/hj/n94x31sj08bdmgwjs6ybxbf40000gn/T/ipykernel_93000/2916704791.py:42: SettingWithCopyWarning: \n",
      "A value is trying to be set on a copy of a slice from a DataFrame.\n",
      "Try using .loc[row_indexer,col_indexer] = value instead\n",
      "\n",
      "See the caveats in the documentation: https://pandas.pydata.org/pandas-docs/stable/user_guide/indexing.html#returning-a-view-versus-a-copy\n",
      "  fittedframe_future[deps[0]+'_pred'] = res[:, 1]\n"
     ]
    },
    {
     "name": "stdout",
     "output_type": "stream",
     "text": [
      "before 2023, going till 13\n",
      "2022\n",
      "1\n",
      "['ons_target_f1']\n",
      "pre drop  98640\n",
      "2022\n",
      "1\n",
      "post drop model 94800\n",
      "setting parameters\n",
      "they are: 700 8 2 100\n"
     ]
    },
    {
     "name": "stderr",
     "output_type": "stream",
     "text": [
      "/var/folders/hj/n94x31sj08bdmgwjs6ybxbf40000gn/T/ipykernel_93000/2916704791.py:42: SettingWithCopyWarning: \n",
      "A value is trying to be set on a copy of a slice from a DataFrame.\n",
      "Try using .loc[row_indexer,col_indexer] = value instead\n",
      "\n",
      "See the caveats in the documentation: https://pandas.pydata.org/pandas-docs/stable/user_guide/indexing.html#returning-a-view-versus-a-copy\n",
      "  fittedframe_future[deps[0]+'_pred'] = res[:, 1]\n"
     ]
    },
    {
     "name": "stdout",
     "output_type": "stream",
     "text": [
      "2022\n",
      "2\n",
      "['ons_target_f1']\n",
      "pre drop  98640\n",
      "2022\n",
      "2\n",
      "post drop model 95040\n",
      "setting parameters\n",
      "they are: 700 8 2 100\n"
     ]
    },
    {
     "name": "stderr",
     "output_type": "stream",
     "text": [
      "/var/folders/hj/n94x31sj08bdmgwjs6ybxbf40000gn/T/ipykernel_93000/2916704791.py:42: SettingWithCopyWarning: \n",
      "A value is trying to be set on a copy of a slice from a DataFrame.\n",
      "Try using .loc[row_indexer,col_indexer] = value instead\n",
      "\n",
      "See the caveats in the documentation: https://pandas.pydata.org/pandas-docs/stable/user_guide/indexing.html#returning-a-view-versus-a-copy\n",
      "  fittedframe_future[deps[0]+'_pred'] = res[:, 1]\n"
     ]
    },
    {
     "name": "stdout",
     "output_type": "stream",
     "text": [
      "2022\n",
      "3\n",
      "['ons_target_f1']\n",
      "pre drop  98640\n",
      "2022\n",
      "3\n",
      "post drop model 95280\n",
      "setting parameters\n",
      "they are: 700 8 2 100\n"
     ]
    },
    {
     "name": "stderr",
     "output_type": "stream",
     "text": [
      "/var/folders/hj/n94x31sj08bdmgwjs6ybxbf40000gn/T/ipykernel_93000/2916704791.py:42: SettingWithCopyWarning: \n",
      "A value is trying to be set on a copy of a slice from a DataFrame.\n",
      "Try using .loc[row_indexer,col_indexer] = value instead\n",
      "\n",
      "See the caveats in the documentation: https://pandas.pydata.org/pandas-docs/stable/user_guide/indexing.html#returning-a-view-versus-a-copy\n",
      "  fittedframe_future[deps[0]+'_pred'] = res[:, 1]\n"
     ]
    },
    {
     "name": "stdout",
     "output_type": "stream",
     "text": [
      "2022\n",
      "4\n",
      "['ons_target_f1']\n",
      "pre drop  98640\n",
      "2022\n",
      "4\n",
      "post drop model 95520\n",
      "setting parameters\n",
      "they are: 700 8 2 100\n"
     ]
    },
    {
     "name": "stderr",
     "output_type": "stream",
     "text": [
      "/var/folders/hj/n94x31sj08bdmgwjs6ybxbf40000gn/T/ipykernel_93000/2916704791.py:42: SettingWithCopyWarning: \n",
      "A value is trying to be set on a copy of a slice from a DataFrame.\n",
      "Try using .loc[row_indexer,col_indexer] = value instead\n",
      "\n",
      "See the caveats in the documentation: https://pandas.pydata.org/pandas-docs/stable/user_guide/indexing.html#returning-a-view-versus-a-copy\n",
      "  fittedframe_future[deps[0]+'_pred'] = res[:, 1]\n"
     ]
    },
    {
     "name": "stdout",
     "output_type": "stream",
     "text": [
      "2022\n",
      "5\n",
      "['ons_target_f1']\n",
      "pre drop  98640\n",
      "2022\n",
      "5\n",
      "post drop model 95760\n",
      "setting parameters\n",
      "they are: 700 8 2 100\n"
     ]
    },
    {
     "name": "stderr",
     "output_type": "stream",
     "text": [
      "/var/folders/hj/n94x31sj08bdmgwjs6ybxbf40000gn/T/ipykernel_93000/2916704791.py:42: SettingWithCopyWarning: \n",
      "A value is trying to be set on a copy of a slice from a DataFrame.\n",
      "Try using .loc[row_indexer,col_indexer] = value instead\n",
      "\n",
      "See the caveats in the documentation: https://pandas.pydata.org/pandas-docs/stable/user_guide/indexing.html#returning-a-view-versus-a-copy\n",
      "  fittedframe_future[deps[0]+'_pred'] = res[:, 1]\n"
     ]
    },
    {
     "name": "stdout",
     "output_type": "stream",
     "text": [
      "2022\n",
      "6\n",
      "['ons_target_f1']\n",
      "pre drop  98640\n",
      "2022\n",
      "6\n",
      "post drop model 96000\n",
      "setting parameters\n",
      "they are: 700 8 2 100\n"
     ]
    },
    {
     "name": "stderr",
     "output_type": "stream",
     "text": [
      "/var/folders/hj/n94x31sj08bdmgwjs6ybxbf40000gn/T/ipykernel_93000/2916704791.py:42: SettingWithCopyWarning: \n",
      "A value is trying to be set on a copy of a slice from a DataFrame.\n",
      "Try using .loc[row_indexer,col_indexer] = value instead\n",
      "\n",
      "See the caveats in the documentation: https://pandas.pydata.org/pandas-docs/stable/user_guide/indexing.html#returning-a-view-versus-a-copy\n",
      "  fittedframe_future[deps[0]+'_pred'] = res[:, 1]\n"
     ]
    },
    {
     "name": "stdout",
     "output_type": "stream",
     "text": [
      "2022\n",
      "7\n",
      "['ons_target_f1']\n",
      "pre drop  98640\n",
      "2022\n",
      "7\n",
      "post drop model 96240\n",
      "setting parameters\n",
      "they are: 700 8 2 100\n"
     ]
    },
    {
     "name": "stderr",
     "output_type": "stream",
     "text": [
      "/var/folders/hj/n94x31sj08bdmgwjs6ybxbf40000gn/T/ipykernel_93000/2916704791.py:42: SettingWithCopyWarning: \n",
      "A value is trying to be set on a copy of a slice from a DataFrame.\n",
      "Try using .loc[row_indexer,col_indexer] = value instead\n",
      "\n",
      "See the caveats in the documentation: https://pandas.pydata.org/pandas-docs/stable/user_guide/indexing.html#returning-a-view-versus-a-copy\n",
      "  fittedframe_future[deps[0]+'_pred'] = res[:, 1]\n"
     ]
    },
    {
     "name": "stdout",
     "output_type": "stream",
     "text": [
      "2022\n",
      "8\n",
      "['ons_target_f1']\n",
      "pre drop  98640\n",
      "2022\n",
      "8\n",
      "post drop model 96480\n",
      "setting parameters\n",
      "they are: 700 8 2 100\n"
     ]
    },
    {
     "name": "stderr",
     "output_type": "stream",
     "text": [
      "/var/folders/hj/n94x31sj08bdmgwjs6ybxbf40000gn/T/ipykernel_93000/2916704791.py:42: SettingWithCopyWarning: \n",
      "A value is trying to be set on a copy of a slice from a DataFrame.\n",
      "Try using .loc[row_indexer,col_indexer] = value instead\n",
      "\n",
      "See the caveats in the documentation: https://pandas.pydata.org/pandas-docs/stable/user_guide/indexing.html#returning-a-view-versus-a-copy\n",
      "  fittedframe_future[deps[0]+'_pred'] = res[:, 1]\n"
     ]
    },
    {
     "name": "stdout",
     "output_type": "stream",
     "text": [
      "2022\n",
      "9\n",
      "['ons_target_f1']\n",
      "pre drop  98640\n",
      "2022\n",
      "9\n",
      "post drop model 96720\n",
      "setting parameters\n",
      "they are: 700 8 2 100\n"
     ]
    },
    {
     "name": "stderr",
     "output_type": "stream",
     "text": [
      "/var/folders/hj/n94x31sj08bdmgwjs6ybxbf40000gn/T/ipykernel_93000/2916704791.py:42: SettingWithCopyWarning: \n",
      "A value is trying to be set on a copy of a slice from a DataFrame.\n",
      "Try using .loc[row_indexer,col_indexer] = value instead\n",
      "\n",
      "See the caveats in the documentation: https://pandas.pydata.org/pandas-docs/stable/user_guide/indexing.html#returning-a-view-versus-a-copy\n",
      "  fittedframe_future[deps[0]+'_pred'] = res[:, 1]\n"
     ]
    },
    {
     "name": "stdout",
     "output_type": "stream",
     "text": [
      "2022\n",
      "10\n",
      "['ons_target_f1']\n",
      "pre drop  98640\n",
      "2022\n",
      "10\n",
      "post drop model 96960\n",
      "setting parameters\n",
      "they are: 700 8 2 100\n"
     ]
    },
    {
     "name": "stderr",
     "output_type": "stream",
     "text": [
      "/var/folders/hj/n94x31sj08bdmgwjs6ybxbf40000gn/T/ipykernel_93000/2916704791.py:42: SettingWithCopyWarning: \n",
      "A value is trying to be set on a copy of a slice from a DataFrame.\n",
      "Try using .loc[row_indexer,col_indexer] = value instead\n",
      "\n",
      "See the caveats in the documentation: https://pandas.pydata.org/pandas-docs/stable/user_guide/indexing.html#returning-a-view-versus-a-copy\n",
      "  fittedframe_future[deps[0]+'_pred'] = res[:, 1]\n"
     ]
    },
    {
     "name": "stdout",
     "output_type": "stream",
     "text": [
      "2022\n",
      "11\n",
      "['ons_target_f1']\n",
      "pre drop  98640\n",
      "2022\n",
      "11\n",
      "post drop model 97200\n",
      "setting parameters\n",
      "they are: 700 8 2 100\n"
     ]
    },
    {
     "name": "stderr",
     "output_type": "stream",
     "text": [
      "/var/folders/hj/n94x31sj08bdmgwjs6ybxbf40000gn/T/ipykernel_93000/2916704791.py:42: SettingWithCopyWarning: \n",
      "A value is trying to be set on a copy of a slice from a DataFrame.\n",
      "Try using .loc[row_indexer,col_indexer] = value instead\n",
      "\n",
      "See the caveats in the documentation: https://pandas.pydata.org/pandas-docs/stable/user_guide/indexing.html#returning-a-view-versus-a-copy\n",
      "  fittedframe_future[deps[0]+'_pred'] = res[:, 1]\n"
     ]
    },
    {
     "name": "stdout",
     "output_type": "stream",
     "text": [
      "2022\n",
      "12\n",
      "['ons_target_f1']\n",
      "pre drop  98640\n",
      "2022\n",
      "12\n",
      "post drop model 97440\n",
      "setting parameters\n",
      "they are: 700 8 2 100\n"
     ]
    },
    {
     "name": "stderr",
     "output_type": "stream",
     "text": [
      "/var/folders/hj/n94x31sj08bdmgwjs6ybxbf40000gn/T/ipykernel_93000/2916704791.py:42: SettingWithCopyWarning: \n",
      "A value is trying to be set on a copy of a slice from a DataFrame.\n",
      "Try using .loc[row_indexer,col_indexer] = value instead\n",
      "\n",
      "See the caveats in the documentation: https://pandas.pydata.org/pandas-docs/stable/user_guide/indexing.html#returning-a-view-versus-a-copy\n",
      "  fittedframe_future[deps[0]+'_pred'] = res[:, 1]\n"
     ]
    },
    {
     "name": "stdout",
     "output_type": "stream",
     "text": [
      "in 2023, going till 4\n",
      "2023\n",
      "1\n",
      "['ons_target_f1']\n",
      "pre drop  98640\n",
      "2023\n",
      "1\n",
      "post drop model 97680\n",
      "setting parameters\n",
      "they are: 700 8 2 100\n"
     ]
    },
    {
     "name": "stderr",
     "output_type": "stream",
     "text": [
      "/var/folders/hj/n94x31sj08bdmgwjs6ybxbf40000gn/T/ipykernel_93000/2916704791.py:42: SettingWithCopyWarning: \n",
      "A value is trying to be set on a copy of a slice from a DataFrame.\n",
      "Try using .loc[row_indexer,col_indexer] = value instead\n",
      "\n",
      "See the caveats in the documentation: https://pandas.pydata.org/pandas-docs/stable/user_guide/indexing.html#returning-a-view-versus-a-copy\n",
      "  fittedframe_future[deps[0]+'_pred'] = res[:, 1]\n"
     ]
    },
    {
     "name": "stdout",
     "output_type": "stream",
     "text": [
      "2023\n",
      "2\n",
      "['ons_target_f1']\n",
      "pre drop  98640\n",
      "2023\n",
      "2\n",
      "post drop model 97920\n",
      "setting parameters\n",
      "they are: 700 8 2 100\n"
     ]
    },
    {
     "name": "stderr",
     "output_type": "stream",
     "text": [
      "/var/folders/hj/n94x31sj08bdmgwjs6ybxbf40000gn/T/ipykernel_93000/2916704791.py:42: SettingWithCopyWarning: \n",
      "A value is trying to be set on a copy of a slice from a DataFrame.\n",
      "Try using .loc[row_indexer,col_indexer] = value instead\n",
      "\n",
      "See the caveats in the documentation: https://pandas.pydata.org/pandas-docs/stable/user_guide/indexing.html#returning-a-view-versus-a-copy\n",
      "  fittedframe_future[deps[0]+'_pred'] = res[:, 1]\n"
     ]
    },
    {
     "name": "stdout",
     "output_type": "stream",
     "text": [
      "2023\n",
      "3\n",
      "['ons_target_f1']\n",
      "pre drop  98640\n",
      "2023\n",
      "3\n",
      "post drop model 98160\n",
      "setting parameters\n",
      "they are: 700 8 2 100\n"
     ]
    },
    {
     "name": "stderr",
     "output_type": "stream",
     "text": [
      "/var/folders/hj/n94x31sj08bdmgwjs6ybxbf40000gn/T/ipykernel_93000/2916704791.py:42: SettingWithCopyWarning: \n",
      "A value is trying to be set on a copy of a slice from a DataFrame.\n",
      "Try using .loc[row_indexer,col_indexer] = value instead\n",
      "\n",
      "See the caveats in the documentation: https://pandas.pydata.org/pandas-docs/stable/user_guide/indexing.html#returning-a-view-versus-a-copy\n",
      "  fittedframe_future[deps[0]+'_pred'] = res[:, 1]\n"
     ]
    }
   ],
   "source": [
    "gendata=1\n",
    "\n",
    "depths = 8\n",
    "trees = 700\n",
    "min_samples_splits = 2\n",
    "min_samples_leafs = 100\n",
    "forward = 1\n",
    "startyearid = 2010\n",
    "deps = ['ons_target_f{}'.format(forward)]\n",
    "initialize = 1\n",
    "search = 0\n",
    "\n",
    "# Initialize an empty dataframe for storing fitted values\n",
    "fittedvalues=['isocode', 'year', 'month']\n",
    "fittedframe = pd.DataFrame(columns=['isocode','year','month'])\n",
    "\n",
    "for yearid in range(startyearid, 2024):\n",
    "    if yearid<2023:\n",
    "        maxmonth = 13\n",
    "        print(\"before 2023, going till\", maxmonth)\n",
    "    else:\n",
    "        maxmonth = 4\n",
    "        print(\"in 2023, going till\", maxmonth)\n",
    "\n",
    "    for monthid in range(1, maxmonth):\n",
    "        print(yearid)\n",
    "        print(monthid)\n",
    "\n",
    "        y, X, X_future, future_model = prepare_slice(count_events, yearid, monthid, deps, forward)\n",
    "        fittedframe_future = future_model[fittedvalues]\n",
    "        \n",
    "        # Perform grid search or set parameters directly\n",
    "        if search == 1:\n",
    "            print(\"entering search\")\n",
    "            clf = runsearch(X, y)\n",
    "        else:\n",
    "            clf = setparams(trees, depths, min_samples_splits, min_samples_leafs)\n",
    "\n",
    "        # Fit the model and make predictions\n",
    "        clf.fit(X, y)\n",
    "        res = clf.predict_proba(X_future)\n",
    "        fittedframe_future[deps[0]+'_pred'] = res[:, 1]\n",
    "\n",
    "        # Append the predictions to the fittedframe\n",
    "        fittedframe = pd.concat([fittedframe, fittedframe_future])\n",
    "\n",
    "gendata = 1\n",
    "fittedframe.to_csv(\"{}_predictions.csv\".format(deps[0]))\n"
   ]
  },
  {
   "cell_type": "code",
   "execution_count": 1253,
   "metadata": {},
   "outputs": [
    {
     "name": "stdout",
     "output_type": "stream",
     "text": [
      "<class 'pandas.core.frame.DataFrame'>\n",
      "Int64Index: 98640 entries, 0 to 98639\n",
      "Columns: 134 entries, MonthYear to ons_target_f1\n",
      "dtypes: float64(68), int64(4), object(62)\n",
      "memory usage: 101.6+ MB\n"
     ]
    }
   ],
   "source": [
    "data = df\n",
    "\n",
    "for deps in [['ons_target_f{}'.format(forward)]]:\n",
    "    \n",
    "    my_file = Path(\"{}_predictions.csv\".format(deps[0]))\n",
    "\n",
    "    predictions = pd.read_table(my_file, sep=',').iloc[:, 1:]\n",
    "\n",
    "    # Select only rows where the prediction is not NaN\n",
    "    fittedvalues = predictions.dropna(subset=['{}_pred'.format(deps[0])])\n",
    "\n",
    "    # Merge the predictions into the original dataframe\n",
    "    data = data.merge(fittedvalues, how='left', on=['isocode', 'year', 'month'])\n",
    "\n",
    "# Add dependent variables again\n",
    "combined = make_target(data, forward)\n",
    "combined.info()\n"
   ]
  },
  {
   "cell_type": "code",
   "execution_count": 1254,
   "metadata": {},
   "outputs": [
    {
     "data": {
      "text/plain": [
       "0        NaN\n",
       "1        1.0\n",
       "2        NaN\n",
       "3        NaN\n",
       "4        NaN\n",
       "        ... \n",
       "98635    0.0\n",
       "98636    0.0\n",
       "98637    0.0\n",
       "98638    0.0\n",
       "98639    NaN\n",
       "Name: ons_target_f1, Length: 98640, dtype: float64"
      ]
     },
     "execution_count": 1254,
     "metadata": {},
     "output_type": "execute_result"
    }
   ],
   "source": [
    "combined.ons_target_f1"
   ]
  },
  {
   "cell_type": "code",
   "execution_count": 1255,
   "metadata": {},
   "outputs": [
    {
     "data": {
      "image/png": "[encoded data removed]",
      "text/plain": [
       "<Figure size 1000x600 with 1 Axes>"
      ]
     },
     "metadata": {},
     "output_type": "display_data"
    },
    {
     "data": {
      "image/png": "[encoded data removed]",
      "text/plain": [
       "<Figure size 1000x600 with 1 Axes>"
      ]
     },
     "metadata": {},
     "output_type": "display_data"
    }
   ],
   "source": [
    "import numpy as np\n",
    "import matplotlib.pyplot as plt\n",
    "from sklearn.metrics import roc_curve, roc_auc_score, precision_recall_curve, auc\n",
    "\n",
    "# True labels (y_true)\n",
    "y_true = combined['ons_target_f1']\n",
    "\n",
    "# Predictions from your model\n",
    "y_pred = combined['ons_target_f1_pred']\n",
    "\n",
    "# Filter out rows with missing values\n",
    "valid_indices = np.logical_not(np.isnan(y_true) | np.isnan(y_pred))\n",
    "y_true = y_true[valid_indices]\n",
    "y_pred = y_pred[valid_indices]\n",
    "\n",
    "# Calculate ROC AUC scores\n",
    "roc_auc = roc_auc_score(y_true, y_pred)\n",
    "\n",
    "# Calculate Precision and Recall scores\n",
    "precision, recall, _ = precision_recall_curve(y_true, y_pred)\n",
    "\n",
    "# Plot ROC AUC curves\n",
    "plt.figure(figsize=(10, 6))\n",
    "plt.plot(*roc_curve(y_true, y_pred)[:2], label='Model (AUC = {:.2f})'.format(roc_auc))\n",
    "plt.plot([0, 1], [0, 1], 'k--')  # Random guessing line\n",
    "plt.xlabel('False Positive Rate')\n",
    "plt.ylabel('True Positive Rate')\n",
    "plt.title('ROC AUC Curve')\n",
    "plt.legend(loc='lower right')\n",
    "plt.grid(True)\n",
    "plt.show()\n",
    "\n",
    "# Plot Precision-Recall curves\n",
    "plt.figure(figsize=(10, 6))\n",
    "plt.plot(recall, precision, label='Model')\n",
    "plt.xlabel('Recall')\n",
    "plt.ylabel('Precision')\n",
    "plt.title('Precision-Recall Curve')\n",
    "plt.legend(loc='lower left')\n",
    "plt.grid(True)\n",
    "plt.show()\n"
   ]
  },
  {
   "cell_type": "code",
   "execution_count": 1256,
   "metadata": {},
   "outputs": [
    {
     "name": "stdout",
     "output_type": "stream",
     "text": [
      "Feature: count_events_1_stock, Importance: 0.007169124726829833\n",
      "Feature: count_events_1, Importance: 0.010669231303428141\n",
      "Feature: count_events_1_opp, Importance: 0.01176973854149746\n",
      "Feature: count_events_1_gov, Importance: 0.005364765416825369\n",
      "Feature: count_events_2_stock, Importance: 0.005822500128702974\n",
      "Feature: count_events_2, Importance: 0.011252546800073489\n",
      "Feature: count_events_2_opp, Importance: 0.0023965586497165445\n",
      "Feature: count_events_2_gov, Importance: 0.006021920472261517\n",
      "Feature: count_events_3_stock, Importance: 0.004762014715864413\n",
      "Feature: count_events_3, Importance: 0.023794044956923065\n",
      "Feature: count_events_3_opp, Importance: 0.007867859978770438\n",
      "Feature: count_events_3_gov, Importance: 0.008361909598567118\n",
      "Feature: count_events_4_stock, Importance: 0.006015873245240265\n",
      "Feature: count_events_4, Importance: 0.013289899012791331\n",
      "Feature: count_events_4_opp, Importance: 0.014210867904292834\n",
      "Feature: count_events_4_gov, Importance: 0.005593808264295239\n",
      "Feature: count_events_5_stock, Importance: 0.006008392554804503\n",
      "Feature: count_events_5, Importance: 0.0175021851294069\n",
      "Feature: count_events_5_opp, Importance: 0.0050776456407371495\n",
      "Feature: count_events_5_gov, Importance: 0.005138869495299345\n",
      "Feature: count_events_6_stock, Importance: 0.007969383895863881\n",
      "Feature: count_events_6, Importance: 0.009873372007499931\n",
      "Feature: count_events_6_opp, Importance: 0.01643472801834735\n",
      "Feature: count_events_6_gov, Importance: 0.0013755414080762664\n",
      "Feature: count_events_7_stock, Importance: 0.009620109639908886\n",
      "Feature: count_events_7, Importance: 0.004034692153009715\n",
      "Feature: count_events_7_opp, Importance: 0.005347655948488213\n",
      "Feature: count_events_7_gov, Importance: 0.0022670025193922095\n",
      "Feature: count_events_8_stock, Importance: 0.00600704898417238\n",
      "Feature: count_events_8, Importance: 0.003973593316329215\n",
      "Feature: count_events_8_opp, Importance: 0.016802201761917213\n",
      "Feature: count_events_8_gov, Importance: 0.0035256616719283817\n",
      "Feature: count_events_9_stock, Importance: 0.006189324184317372\n",
      "Feature: count_events_9, Importance: 0.021696625872509867\n",
      "Feature: count_events_9_opp, Importance: 0.001725121628044476\n",
      "Feature: count_events_9_gov, Importance: 0.012671753843599863\n",
      "Feature: count_events_10_stock, Importance: 0.006042365788632261\n",
      "Feature: count_events_10, Importance: 0.005035609407316353\n",
      "Feature: count_events_10_opp, Importance: 0.002963706590384418\n",
      "Feature: count_events_10_gov, Importance: 0.0031555648206499738\n",
      "Feature: count_events_11_stock, Importance: 0.006298301906973684\n",
      "Feature: count_events_11, Importance: 0.007811781070650482\n",
      "Feature: count_events_11_opp, Importance: 0.016133659704934647\n",
      "Feature: count_events_11_gov, Importance: 0.004517677302573174\n",
      "Feature: count_events_12_stock, Importance: 0.003275457846400048\n",
      "Feature: count_events_12, Importance: 0.010311421154967077\n",
      "Feature: count_events_12_opp, Importance: 0.0029921911362272282\n",
      "Feature: count_events_12_gov, Importance: 0.0017175610141577154\n",
      "Feature: count_events_13_stock, Importance: 0.008736864157253875\n",
      "Feature: count_events_13, Importance: 0.003778329919794272\n",
      "Feature: count_events_13_opp, Importance: 0.017267765433322178\n",
      "Feature: count_events_13_gov, Importance: 0.0029341871133149425\n",
      "Feature: count_events_14_stock, Importance: 0.0033484547286854066\n",
      "Feature: count_events_14, Importance: 0.005799024438119431\n",
      "Feature: count_events_14_opp, Importance: 0.009605278724054036\n",
      "Feature: count_events_14_gov, Importance: 0.002187682426974572\n",
      "Feature: count_events_15_stock, Importance: 0.00627239767657655\n",
      "Feature: count_events_15, Importance: 0.009731197539549794\n",
      "Feature: count_events_15_opp, Importance: 0.019074353579897875\n",
      "Feature: count_events_15_gov, Importance: 0.008135606495937335\n",
      "Feature: count_events_16_stock, Importance: 0.004588265097993561\n",
      "Feature: count_events_16, Importance: 0.01089179510482828\n",
      "Feature: count_events_16_opp, Importance: 0.000900024955367731\n",
      "Feature: count_events_16_gov, Importance: 0.003895892689282009\n",
      "Feature: count_events_17_stock, Importance: 0.004064519165237952\n",
      "Feature: count_events_17, Importance: 0.02150217741719507\n",
      "Feature: count_events_17_opp, Importance: 0.005736876775882861\n",
      "Feature: count_events_17_gov, Importance: 0.009906022522272013\n",
      "Feature: count_events_18_stock, Importance: 0.004601647729761395\n",
      "Feature: count_events_18, Importance: 0.026703053824843326\n",
      "Feature: count_events_18_opp, Importance: 0.07566004768830194\n",
      "Feature: count_events_18_gov, Importance: 0.036414382949910604\n",
      "Feature: count_events_19_stock, Importance: 0.004835742093253044\n",
      "Feature: count_events_19, Importance: 0.06142413040024432\n",
      "Feature: count_events_19_opp, Importance: 0.16841657996603304\n",
      "Feature: count_events_19_gov, Importance: 0.07074371869197167\n",
      "Feature: count_events_20_stock, Importance: 0.004516186831915058\n",
      "Feature: count_events_20, Importance: 0.008764193993935842\n",
      "Feature: count_events_20_opp, Importance: 0.00033816917673078374\n",
      "Feature: count_events_20_gov, Importance: 0.001366559557959099\n"
     ]
    },
    {
     "data": {
      "image/png": "[encoded data removed]",
      "text/plain": [
       "<Figure size 640x480 with 1 Axes>"
      ]
     },
     "metadata": {},
     "output_type": "display_data"
    }
   ],
   "source": [
    "importances = clf.feature_importances_\n",
    "\n",
    "# name and importance of each feature\n",
    "for feature_name, importance in zip(X.columns, importances):\n",
    "    print(f\"Feature: {feature_name}, Importance: {importance}\")\n",
    "\n",
    "feature_importances_df = pd.DataFrame({\n",
    "    \"Feature\": X.columns,\n",
    "    \"Importance\": importances\n",
    "})\n",
    "\n",
    "# sorting DataFrame to make the plot more readable\n",
    "feature_importances_df = feature_importances_df.sort_values(by=\"Importance\", ascending=False).head(10)\n",
    "\n",
    "# bar plot\n",
    "feature_importances_df.plot(kind=\"bar\", x=\"Feature\", y=\"Importance\")\n",
    "plt.title(\"Feature importances from RandomForestClassifier\")\n",
    "plt.ylabel(\"Importance\")\n",
    "plt.xlabel(\"Feature\")\n",
    "plt.show()\n"
   ]
  },
  {
   "cell_type": "code",
   "execution_count": 1257,
   "metadata": {},
   "outputs": [
    {
     "data": {
      "text/plain": [
       "394      0.513160\n",
       "395      0.438649\n",
       "396      0.376388\n",
       "397      0.301068\n",
       "398      0.347934\n",
       "           ...   \n",
       "98634    0.000342\n",
       "98635    0.000356\n",
       "98636    0.000353\n",
       "98637    0.000382\n",
       "98638    0.000387\n",
       "Name: ons_target_f1_pred, Length: 36458, dtype: float64"
      ]
     },
     "execution_count": 1257,
     "metadata": {},
     "output_type": "execute_result"
    }
   ],
   "source": [
    "y_pred"
   ]
  },
  {
   "cell_type": "code",
   "execution_count": 1258,
   "metadata": {},
   "outputs": [],
   "source": [
    "y_pred_binary = (y_pred < 0.5).astype(int)\n"
   ]
  },
  {
   "cell_type": "code",
   "execution_count": 1259,
   "metadata": {},
   "outputs": [],
   "source": [
    "from sklearn.linear_model import LogisticRegression\n",
    "\n",
    "def setparams_lr(C, penalty, solver):\n",
    "    print(\"setting parameters\")\n",
    "    print(\"they are:\", C, penalty, solver)\n",
    "    \n",
    "    lr = LogisticRegression(C=C, penalty=penalty, solver=solver, n_jobs=8)\n",
    "    return lr\n",
    "\n",
    "C = 1.0\n",
    "penalty = 'l2'\n",
    "solver = 'lbfgs'\n",
    "initialize = 1\n",
    "search = 0"
   ]
  },
  {
   "cell_type": "code",
   "execution_count": 1260,
   "metadata": {},
   "outputs": [
    {
     "name": "stdout",
     "output_type": "stream",
     "text": [
      "before 2023, going till 13\n",
      "2010\n",
      "1\n",
      "['ons_target_f1']\n",
      "pre drop  98640\n",
      "2010\n",
      "1\n",
      "post drop model 60240\n",
      "setting parameters\n",
      "they are: 1.0 l2 lbfgs\n"
     ]
    },
    {
     "name": "stderr",
     "output_type": "stream",
     "text": [
      "/Users/luisquinonespr/miniforge3/lib/python3.9/site-packages/sklearn/linear_model/_logistic.py:458: ConvergenceWarning: lbfgs failed to converge (status=1):\n",
      "STOP: TOTAL NO. of ITERATIONS REACHED LIMIT.\n",
      "\n",
      "Increase the number of iterations (max_iter) or scale the data as shown in:\n",
      "    https://scikit-learn.org/stable/modules/preprocessing.html\n",
      "Please also refer to the documentation for alternative solver options:\n",
      "    https://scikit-learn.org/stable/modules/linear_model.html#logistic-regression\n",
      "  n_iter_i = _check_optimize_result(\n",
      "/var/folders/hj/n94x31sj08bdmgwjs6ybxbf40000gn/T/ipykernel_93000/2770474830.py:40: SettingWithCopyWarning: \n",
      "A value is trying to be set on a copy of a slice from a DataFrame.\n",
      "Try using .loc[row_indexer,col_indexer] = value instead\n",
      "\n",
      "See the caveats in the documentation: https://pandas.pydata.org/pandas-docs/stable/user_guide/indexing.html#returning-a-view-versus-a-copy\n",
      "  fittedframe_future[deps[0]+'_pred'] = res[:, 1]\n"
     ]
    },
    {
     "name": "stdout",
     "output_type": "stream",
     "text": [
      "2010\n",
      "2\n",
      "['ons_target_f1']\n",
      "pre drop  98640\n",
      "2010\n",
      "2\n",
      "post drop model 60480\n",
      "setting parameters\n",
      "they are: 1.0 l2 lbfgs\n"
     ]
    },
    {
     "name": "stderr",
     "output_type": "stream",
     "text": [
      "/Users/luisquinonespr/miniforge3/lib/python3.9/site-packages/sklearn/linear_model/_logistic.py:458: ConvergenceWarning: lbfgs failed to converge (status=1):\n",
      "STOP: TOTAL NO. of ITERATIONS REACHED LIMIT.\n",
      "\n",
      "Increase the number of iterations (max_iter) or scale the data as shown in:\n",
      "    https://scikit-learn.org/stable/modules/preprocessing.html\n",
      "Please also refer to the documentation for alternative solver options:\n",
      "    https://scikit-learn.org/stable/modules/linear_model.html#logistic-regression\n",
      "  n_iter_i = _check_optimize_result(\n",
      "/var/folders/hj/n94x31sj08bdmgwjs6ybxbf40000gn/T/ipykernel_93000/2770474830.py:40: SettingWithCopyWarning: \n",
      "A value is trying to be set on a copy of a slice from a DataFrame.\n",
      "Try using .loc[row_indexer,col_indexer] = value instead\n",
      "\n",
      "See the caveats in the documentation: https://pandas.pydata.org/pandas-docs/stable/user_guide/indexing.html#returning-a-view-versus-a-copy\n",
      "  fittedframe_future[deps[0]+'_pred'] = res[:, 1]\n"
     ]
    },
    {
     "name": "stdout",
     "output_type": "stream",
     "text": [
      "2010\n",
      "3\n",
      "['ons_target_f1']\n",
      "pre drop  98640\n",
      "2010\n",
      "3\n",
      "post drop model 60720\n",
      "setting parameters\n",
      "they are: 1.0 l2 lbfgs\n"
     ]
    },
    {
     "name": "stderr",
     "output_type": "stream",
     "text": [
      "/Users/luisquinonespr/miniforge3/lib/python3.9/site-packages/sklearn/linear_model/_logistic.py:458: ConvergenceWarning: lbfgs failed to converge (status=1):\n",
      "STOP: TOTAL NO. of ITERATIONS REACHED LIMIT.\n",
      "\n",
      "Increase the number of iterations (max_iter) or scale the data as shown in:\n",
      "    https://scikit-learn.org/stable/modules/preprocessing.html\n",
      "Please also refer to the documentation for alternative solver options:\n",
      "    https://scikit-learn.org/stable/modules/linear_model.html#logistic-regression\n",
      "  n_iter_i = _check_optimize_result(\n",
      "/var/folders/hj/n94x31sj08bdmgwjs6ybxbf40000gn/T/ipykernel_93000/2770474830.py:40: SettingWithCopyWarning: \n",
      "A value is trying to be set on a copy of a slice from a DataFrame.\n",
      "Try using .loc[row_indexer,col_indexer] = value instead\n",
      "\n",
      "See the caveats in the documentation: https://pandas.pydata.org/pandas-docs/stable/user_guide/indexing.html#returning-a-view-versus-a-copy\n",
      "  fittedframe_future[deps[0]+'_pred'] = res[:, 1]\n"
     ]
    },
    {
     "name": "stdout",
     "output_type": "stream",
     "text": [
      "2010\n",
      "4\n",
      "['ons_target_f1']\n",
      "pre drop  98640\n",
      "2010\n",
      "4\n",
      "post drop model 60960\n",
      "setting parameters\n",
      "they are: 1.0 l2 lbfgs\n"
     ]
    },
    {
     "name": "stderr",
     "output_type": "stream",
     "text": [
      "/var/folders/hj/n94x31sj08bdmgwjs6ybxbf40000gn/T/ipykernel_93000/2770474830.py:40: SettingWithCopyWarning: \n",
      "A value is trying to be set on a copy of a slice from a DataFrame.\n",
      "Try using .loc[row_indexer,col_indexer] = value instead\n",
      "\n",
      "See the caveats in the documentation: https://pandas.pydata.org/pandas-docs/stable/user_guide/indexing.html#returning-a-view-versus-a-copy\n",
      "  fittedframe_future[deps[0]+'_pred'] = res[:, 1]\n"
     ]
    },
    {
     "name": "stdout",
     "output_type": "stream",
     "text": [
      "2010\n",
      "5\n",
      "['ons_target_f1']\n",
      "pre drop  98640\n",
      "2010\n",
      "5\n",
      "post drop model 61200\n",
      "setting parameters\n",
      "they are: 1.0 l2 lbfgs\n"
     ]
    },
    {
     "name": "stderr",
     "output_type": "stream",
     "text": [
      "/var/folders/hj/n94x31sj08bdmgwjs6ybxbf40000gn/T/ipykernel_93000/2770474830.py:40: SettingWithCopyWarning: \n",
      "A value is trying to be set on a copy of a slice from a DataFrame.\n",
      "Try using .loc[row_indexer,col_indexer] = value instead\n",
      "\n",
      "See the caveats in the documentation: https://pandas.pydata.org/pandas-docs/stable/user_guide/indexing.html#returning-a-view-versus-a-copy\n",
      "  fittedframe_future[deps[0]+'_pred'] = res[:, 1]\n"
     ]
    },
    {
     "name": "stdout",
     "output_type": "stream",
     "text": [
      "2010\n",
      "6\n",
      "['ons_target_f1']\n",
      "pre drop  98640\n",
      "2010\n",
      "6\n",
      "post drop model 61440\n",
      "setting parameters\n",
      "they are: 1.0 l2 lbfgs\n"
     ]
    },
    {
     "name": "stderr",
     "output_type": "stream",
     "text": [
      "/Users/luisquinonespr/miniforge3/lib/python3.9/site-packages/sklearn/linear_model/_logistic.py:458: ConvergenceWarning: lbfgs failed to converge (status=1):\n",
      "STOP: TOTAL NO. of ITERATIONS REACHED LIMIT.\n",
      "\n",
      "Increase the number of iterations (max_iter) or scale the data as shown in:\n",
      "    https://scikit-learn.org/stable/modules/preprocessing.html\n",
      "Please also refer to the documentation for alternative solver options:\n",
      "    https://scikit-learn.org/stable/modules/linear_model.html#logistic-regression\n",
      "  n_iter_i = _check_optimize_result(\n",
      "/var/folders/hj/n94x31sj08bdmgwjs6ybxbf40000gn/T/ipykernel_93000/2770474830.py:40: SettingWithCopyWarning: \n",
      "A value is trying to be set on a copy of a slice from a DataFrame.\n",
      "Try using .loc[row_indexer,col_indexer] = value instead\n",
      "\n",
      "See the caveats in the documentation: https://pandas.pydata.org/pandas-docs/stable/user_guide/indexing.html#returning-a-view-versus-a-copy\n",
      "  fittedframe_future[deps[0]+'_pred'] = res[:, 1]\n"
     ]
    },
    {
     "name": "stdout",
     "output_type": "stream",
     "text": [
      "2010\n",
      "7\n",
      "['ons_target_f1']\n",
      "pre drop  98640\n",
      "2010\n",
      "7\n",
      "post drop model 61680\n",
      "setting parameters\n",
      "they are: 1.0 l2 lbfgs\n"
     ]
    },
    {
     "name": "stderr",
     "output_type": "stream",
     "text": [
      "/Users/luisquinonespr/miniforge3/lib/python3.9/site-packages/sklearn/linear_model/_logistic.py:458: ConvergenceWarning: lbfgs failed to converge (status=1):\n",
      "STOP: TOTAL NO. of ITERATIONS REACHED LIMIT.\n",
      "\n",
      "Increase the number of iterations (max_iter) or scale the data as shown in:\n",
      "    https://scikit-learn.org/stable/modules/preprocessing.html\n",
      "Please also refer to the documentation for alternative solver options:\n",
      "    https://scikit-learn.org/stable/modules/linear_model.html#logistic-regression\n",
      "  n_iter_i = _check_optimize_result(\n",
      "/var/folders/hj/n94x31sj08bdmgwjs6ybxbf40000gn/T/ipykernel_93000/2770474830.py:40: SettingWithCopyWarning: \n",
      "A value is trying to be set on a copy of a slice from a DataFrame.\n",
      "Try using .loc[row_indexer,col_indexer] = value instead\n",
      "\n",
      "See the caveats in the documentation: https://pandas.pydata.org/pandas-docs/stable/user_guide/indexing.html#returning-a-view-versus-a-copy\n",
      "  fittedframe_future[deps[0]+'_pred'] = res[:, 1]\n"
     ]
    },
    {
     "name": "stdout",
     "output_type": "stream",
     "text": [
      "2010\n",
      "8\n",
      "['ons_target_f1']\n",
      "pre drop  98640\n",
      "2010\n",
      "8\n",
      "post drop model 61920\n",
      "setting parameters\n",
      "they are: 1.0 l2 lbfgs\n"
     ]
    },
    {
     "name": "stderr",
     "output_type": "stream",
     "text": [
      "/Users/luisquinonespr/miniforge3/lib/python3.9/site-packages/sklearn/linear_model/_logistic.py:458: ConvergenceWarning: lbfgs failed to converge (status=1):\n",
      "STOP: TOTAL NO. of ITERATIONS REACHED LIMIT.\n",
      "\n",
      "Increase the number of iterations (max_iter) or scale the data as shown in:\n",
      "    https://scikit-learn.org/stable/modules/preprocessing.html\n",
      "Please also refer to the documentation for alternative solver options:\n",
      "    https://scikit-learn.org/stable/modules/linear_model.html#logistic-regression\n",
      "  n_iter_i = _check_optimize_result(\n",
      "/var/folders/hj/n94x31sj08bdmgwjs6ybxbf40000gn/T/ipykernel_93000/2770474830.py:40: SettingWithCopyWarning: \n",
      "A value is trying to be set on a copy of a slice from a DataFrame.\n",
      "Try using .loc[row_indexer,col_indexer] = value instead\n",
      "\n",
      "See the caveats in the documentation: https://pandas.pydata.org/pandas-docs/stable/user_guide/indexing.html#returning-a-view-versus-a-copy\n",
      "  fittedframe_future[deps[0]+'_pred'] = res[:, 1]\n"
     ]
    },
    {
     "name": "stdout",
     "output_type": "stream",
     "text": [
      "2010\n",
      "9\n",
      "['ons_target_f1']\n",
      "pre drop  98640\n",
      "2010\n",
      "9\n",
      "post drop model 62160\n",
      "setting parameters\n",
      "they are: 1.0 l2 lbfgs\n"
     ]
    },
    {
     "name": "stderr",
     "output_type": "stream",
     "text": [
      "/var/folders/hj/n94x31sj08bdmgwjs6ybxbf40000gn/T/ipykernel_93000/2770474830.py:40: SettingWithCopyWarning: \n",
      "A value is trying to be set on a copy of a slice from a DataFrame.\n",
      "Try using .loc[row_indexer,col_indexer] = value instead\n",
      "\n",
      "See the caveats in the documentation: https://pandas.pydata.org/pandas-docs/stable/user_guide/indexing.html#returning-a-view-versus-a-copy\n",
      "  fittedframe_future[deps[0]+'_pred'] = res[:, 1]\n"
     ]
    },
    {
     "name": "stdout",
     "output_type": "stream",
     "text": [
      "2010\n",
      "10\n",
      "['ons_target_f1']\n",
      "pre drop  98640\n",
      "2010\n",
      "10\n",
      "post drop model 62400\n",
      "setting parameters\n",
      "they are: 1.0 l2 lbfgs\n"
     ]
    },
    {
     "name": "stderr",
     "output_type": "stream",
     "text": [
      "/Users/luisquinonespr/miniforge3/lib/python3.9/site-packages/sklearn/linear_model/_logistic.py:458: ConvergenceWarning: lbfgs failed to converge (status=1):\n",
      "STOP: TOTAL NO. of ITERATIONS REACHED LIMIT.\n",
      "\n",
      "Increase the number of iterations (max_iter) or scale the data as shown in:\n",
      "    https://scikit-learn.org/stable/modules/preprocessing.html\n",
      "Please also refer to the documentation for alternative solver options:\n",
      "    https://scikit-learn.org/stable/modules/linear_model.html#logistic-regression\n",
      "  n_iter_i = _check_optimize_result(\n",
      "/var/folders/hj/n94x31sj08bdmgwjs6ybxbf40000gn/T/ipykernel_93000/2770474830.py:40: SettingWithCopyWarning: \n",
      "A value is trying to be set on a copy of a slice from a DataFrame.\n",
      "Try using .loc[row_indexer,col_indexer] = value instead\n",
      "\n",
      "See the caveats in the documentation: https://pandas.pydata.org/pandas-docs/stable/user_guide/indexing.html#returning-a-view-versus-a-copy\n",
      "  fittedframe_future[deps[0]+'_pred'] = res[:, 1]\n"
     ]
    },
    {
     "name": "stdout",
     "output_type": "stream",
     "text": [
      "2010\n",
      "11\n",
      "['ons_target_f1']\n",
      "pre drop  98640\n",
      "2010\n",
      "11\n",
      "post drop model 62640\n",
      "setting parameters\n",
      "they are: 1.0 l2 lbfgs\n"
     ]
    },
    {
     "name": "stderr",
     "output_type": "stream",
     "text": [
      "/Users/luisquinonespr/miniforge3/lib/python3.9/site-packages/sklearn/linear_model/_logistic.py:458: ConvergenceWarning: lbfgs failed to converge (status=1):\n",
      "STOP: TOTAL NO. of ITERATIONS REACHED LIMIT.\n",
      "\n",
      "Increase the number of iterations (max_iter) or scale the data as shown in:\n",
      "    https://scikit-learn.org/stable/modules/preprocessing.html\n",
      "Please also refer to the documentation for alternative solver options:\n",
      "    https://scikit-learn.org/stable/modules/linear_model.html#logistic-regression\n",
      "  n_iter_i = _check_optimize_result(\n",
      "/var/folders/hj/n94x31sj08bdmgwjs6ybxbf40000gn/T/ipykernel_93000/2770474830.py:40: SettingWithCopyWarning: \n",
      "A value is trying to be set on a copy of a slice from a DataFrame.\n",
      "Try using .loc[row_indexer,col_indexer] = value instead\n",
      "\n",
      "See the caveats in the documentation: https://pandas.pydata.org/pandas-docs/stable/user_guide/indexing.html#returning-a-view-versus-a-copy\n",
      "  fittedframe_future[deps[0]+'_pred'] = res[:, 1]\n"
     ]
    },
    {
     "name": "stdout",
     "output_type": "stream",
     "text": [
      "2010\n",
      "12\n",
      "['ons_target_f1']\n",
      "pre drop  98640\n",
      "2010\n",
      "12\n",
      "post drop model 62880\n",
      "setting parameters\n",
      "they are: 1.0 l2 lbfgs\n"
     ]
    },
    {
     "name": "stderr",
     "output_type": "stream",
     "text": [
      "/var/folders/hj/n94x31sj08bdmgwjs6ybxbf40000gn/T/ipykernel_93000/2770474830.py:40: SettingWithCopyWarning: \n",
      "A value is trying to be set on a copy of a slice from a DataFrame.\n",
      "Try using .loc[row_indexer,col_indexer] = value instead\n",
      "\n",
      "See the caveats in the documentation: https://pandas.pydata.org/pandas-docs/stable/user_guide/indexing.html#returning-a-view-versus-a-copy\n",
      "  fittedframe_future[deps[0]+'_pred'] = res[:, 1]\n"
     ]
    },
    {
     "name": "stdout",
     "output_type": "stream",
     "text": [
      "before 2023, going till 13\n",
      "2011\n",
      "1\n",
      "['ons_target_f1']\n",
      "pre drop  98640\n",
      "2011\n",
      "1\n",
      "post drop model 63120\n",
      "setting parameters\n",
      "they are: 1.0 l2 lbfgs\n"
     ]
    },
    {
     "name": "stderr",
     "output_type": "stream",
     "text": [
      "/var/folders/hj/n94x31sj08bdmgwjs6ybxbf40000gn/T/ipykernel_93000/2770474830.py:40: SettingWithCopyWarning: \n",
      "A value is trying to be set on a copy of a slice from a DataFrame.\n",
      "Try using .loc[row_indexer,col_indexer] = value instead\n",
      "\n",
      "See the caveats in the documentation: https://pandas.pydata.org/pandas-docs/stable/user_guide/indexing.html#returning-a-view-versus-a-copy\n",
      "  fittedframe_future[deps[0]+'_pred'] = res[:, 1]\n"
     ]
    },
    {
     "name": "stdout",
     "output_type": "stream",
     "text": [
      "2011\n",
      "2\n",
      "['ons_target_f1']\n",
      "pre drop  98640\n",
      "2011\n",
      "2\n",
      "post drop model 63360\n",
      "setting parameters\n",
      "they are: 1.0 l2 lbfgs\n"
     ]
    },
    {
     "name": "stderr",
     "output_type": "stream",
     "text": [
      "/var/folders/hj/n94x31sj08bdmgwjs6ybxbf40000gn/T/ipykernel_93000/2770474830.py:40: SettingWithCopyWarning: \n",
      "A value is trying to be set on a copy of a slice from a DataFrame.\n",
      "Try using .loc[row_indexer,col_indexer] = value instead\n",
      "\n",
      "See the caveats in the documentation: https://pandas.pydata.org/pandas-docs/stable/user_guide/indexing.html#returning-a-view-versus-a-copy\n",
      "  fittedframe_future[deps[0]+'_pred'] = res[:, 1]\n"
     ]
    },
    {
     "name": "stdout",
     "output_type": "stream",
     "text": [
      "2011\n",
      "3\n",
      "['ons_target_f1']\n",
      "pre drop  98640\n",
      "2011\n",
      "3\n",
      "post drop model 63600\n",
      "setting parameters\n",
      "they are: 1.0 l2 lbfgs\n"
     ]
    },
    {
     "name": "stderr",
     "output_type": "stream",
     "text": [
      "/var/folders/hj/n94x31sj08bdmgwjs6ybxbf40000gn/T/ipykernel_93000/2770474830.py:40: SettingWithCopyWarning: \n",
      "A value is trying to be set on a copy of a slice from a DataFrame.\n",
      "Try using .loc[row_indexer,col_indexer] = value instead\n",
      "\n",
      "See the caveats in the documentation: https://pandas.pydata.org/pandas-docs/stable/user_guide/indexing.html#returning-a-view-versus-a-copy\n",
      "  fittedframe_future[deps[0]+'_pred'] = res[:, 1]\n"
     ]
    },
    {
     "name": "stdout",
     "output_type": "stream",
     "text": [
      "2011\n",
      "4\n",
      "['ons_target_f1']\n",
      "pre drop  98640\n",
      "2011\n",
      "4\n",
      "post drop model 63840\n",
      "setting parameters\n",
      "they are: 1.0 l2 lbfgs\n"
     ]
    },
    {
     "name": "stderr",
     "output_type": "stream",
     "text": [
      "/var/folders/hj/n94x31sj08bdmgwjs6ybxbf40000gn/T/ipykernel_93000/2770474830.py:40: SettingWithCopyWarning: \n",
      "A value is trying to be set on a copy of a slice from a DataFrame.\n",
      "Try using .loc[row_indexer,col_indexer] = value instead\n",
      "\n",
      "See the caveats in the documentation: https://pandas.pydata.org/pandas-docs/stable/user_guide/indexing.html#returning-a-view-versus-a-copy\n",
      "  fittedframe_future[deps[0]+'_pred'] = res[:, 1]\n"
     ]
    },
    {
     "name": "stdout",
     "output_type": "stream",
     "text": [
      "2011\n",
      "5\n",
      "['ons_target_f1']\n",
      "pre drop  98640\n",
      "2011\n",
      "5\n",
      "post drop model 64080\n",
      "setting parameters\n",
      "they are: 1.0 l2 lbfgs\n"
     ]
    },
    {
     "name": "stderr",
     "output_type": "stream",
     "text": [
      "/var/folders/hj/n94x31sj08bdmgwjs6ybxbf40000gn/T/ipykernel_93000/2770474830.py:40: SettingWithCopyWarning: \n",
      "A value is trying to be set on a copy of a slice from a DataFrame.\n",
      "Try using .loc[row_indexer,col_indexer] = value instead\n",
      "\n",
      "See the caveats in the documentation: https://pandas.pydata.org/pandas-docs/stable/user_guide/indexing.html#returning-a-view-versus-a-copy\n",
      "  fittedframe_future[deps[0]+'_pred'] = res[:, 1]\n"
     ]
    },
    {
     "name": "stdout",
     "output_type": "stream",
     "text": [
      "2011\n",
      "6\n",
      "['ons_target_f1']\n",
      "pre drop  98640\n",
      "2011\n",
      "6\n",
      "post drop model 64320\n",
      "setting parameters\n",
      "they are: 1.0 l2 lbfgs\n"
     ]
    },
    {
     "name": "stderr",
     "output_type": "stream",
     "text": [
      "/var/folders/hj/n94x31sj08bdmgwjs6ybxbf40000gn/T/ipykernel_93000/2770474830.py:40: SettingWithCopyWarning: \n",
      "A value is trying to be set on a copy of a slice from a DataFrame.\n",
      "Try using .loc[row_indexer,col_indexer] = value instead\n",
      "\n",
      "See the caveats in the documentation: https://pandas.pydata.org/pandas-docs/stable/user_guide/indexing.html#returning-a-view-versus-a-copy\n",
      "  fittedframe_future[deps[0]+'_pred'] = res[:, 1]\n"
     ]
    },
    {
     "name": "stdout",
     "output_type": "stream",
     "text": [
      "2011\n",
      "7\n",
      "['ons_target_f1']\n",
      "pre drop  98640\n",
      "2011\n",
      "7\n",
      "post drop model 64560\n",
      "setting parameters\n",
      "they are: 1.0 l2 lbfgs\n"
     ]
    },
    {
     "name": "stderr",
     "output_type": "stream",
     "text": [
      "/var/folders/hj/n94x31sj08bdmgwjs6ybxbf40000gn/T/ipykernel_93000/2770474830.py:40: SettingWithCopyWarning: \n",
      "A value is trying to be set on a copy of a slice from a DataFrame.\n",
      "Try using .loc[row_indexer,col_indexer] = value instead\n",
      "\n",
      "See the caveats in the documentation: https://pandas.pydata.org/pandas-docs/stable/user_guide/indexing.html#returning-a-view-versus-a-copy\n",
      "  fittedframe_future[deps[0]+'_pred'] = res[:, 1]\n"
     ]
    },
    {
     "name": "stdout",
     "output_type": "stream",
     "text": [
      "2011\n",
      "8\n",
      "['ons_target_f1']\n",
      "pre drop  98640\n",
      "2011\n",
      "8\n",
      "post drop model 64800\n",
      "setting parameters\n",
      "they are: 1.0 l2 lbfgs\n"
     ]
    },
    {
     "name": "stderr",
     "output_type": "stream",
     "text": [
      "/var/folders/hj/n94x31sj08bdmgwjs6ybxbf40000gn/T/ipykernel_93000/2770474830.py:40: SettingWithCopyWarning: \n",
      "A value is trying to be set on a copy of a slice from a DataFrame.\n",
      "Try using .loc[row_indexer,col_indexer] = value instead\n",
      "\n",
      "See the caveats in the documentation: https://pandas.pydata.org/pandas-docs/stable/user_guide/indexing.html#returning-a-view-versus-a-copy\n",
      "  fittedframe_future[deps[0]+'_pred'] = res[:, 1]\n"
     ]
    },
    {
     "name": "stdout",
     "output_type": "stream",
     "text": [
      "2011\n",
      "9\n",
      "['ons_target_f1']\n",
      "pre drop  98640\n",
      "2011\n",
      "9\n",
      "post drop model 65040\n",
      "setting parameters\n",
      "they are: 1.0 l2 lbfgs\n"
     ]
    },
    {
     "name": "stderr",
     "output_type": "stream",
     "text": [
      "/var/folders/hj/n94x31sj08bdmgwjs6ybxbf40000gn/T/ipykernel_93000/2770474830.py:40: SettingWithCopyWarning: \n",
      "A value is trying to be set on a copy of a slice from a DataFrame.\n",
      "Try using .loc[row_indexer,col_indexer] = value instead\n",
      "\n",
      "See the caveats in the documentation: https://pandas.pydata.org/pandas-docs/stable/user_guide/indexing.html#returning-a-view-versus-a-copy\n",
      "  fittedframe_future[deps[0]+'_pred'] = res[:, 1]\n"
     ]
    },
    {
     "name": "stdout",
     "output_type": "stream",
     "text": [
      "2011\n",
      "10\n",
      "['ons_target_f1']\n",
      "pre drop  98640\n",
      "2011\n",
      "10\n",
      "post drop model 65280\n",
      "setting parameters\n",
      "they are: 1.0 l2 lbfgs\n"
     ]
    },
    {
     "name": "stderr",
     "output_type": "stream",
     "text": [
      "/var/folders/hj/n94x31sj08bdmgwjs6ybxbf40000gn/T/ipykernel_93000/2770474830.py:40: SettingWithCopyWarning: \n",
      "A value is trying to be set on a copy of a slice from a DataFrame.\n",
      "Try using .loc[row_indexer,col_indexer] = value instead\n",
      "\n",
      "See the caveats in the documentation: https://pandas.pydata.org/pandas-docs/stable/user_guide/indexing.html#returning-a-view-versus-a-copy\n",
      "  fittedframe_future[deps[0]+'_pred'] = res[:, 1]\n"
     ]
    },
    {
     "name": "stdout",
     "output_type": "stream",
     "text": [
      "2011\n",
      "11\n",
      "['ons_target_f1']\n",
      "pre drop  98640\n",
      "2011\n",
      "11\n",
      "post drop model 65520\n",
      "setting parameters\n",
      "they are: 1.0 l2 lbfgs\n"
     ]
    },
    {
     "name": "stderr",
     "output_type": "stream",
     "text": [
      "/var/folders/hj/n94x31sj08bdmgwjs6ybxbf40000gn/T/ipykernel_93000/2770474830.py:40: SettingWithCopyWarning: \n",
      "A value is trying to be set on a copy of a slice from a DataFrame.\n",
      "Try using .loc[row_indexer,col_indexer] = value instead\n",
      "\n",
      "See the caveats in the documentation: https://pandas.pydata.org/pandas-docs/stable/user_guide/indexing.html#returning-a-view-versus-a-copy\n",
      "  fittedframe_future[deps[0]+'_pred'] = res[:, 1]\n"
     ]
    },
    {
     "name": "stdout",
     "output_type": "stream",
     "text": [
      "2011\n",
      "12\n",
      "['ons_target_f1']\n",
      "pre drop  98640\n",
      "2011\n",
      "12\n",
      "post drop model 65760\n",
      "setting parameters\n",
      "they are: 1.0 l2 lbfgs\n"
     ]
    },
    {
     "name": "stderr",
     "output_type": "stream",
     "text": [
      "/var/folders/hj/n94x31sj08bdmgwjs6ybxbf40000gn/T/ipykernel_93000/2770474830.py:40: SettingWithCopyWarning: \n",
      "A value is trying to be set on a copy of a slice from a DataFrame.\n",
      "Try using .loc[row_indexer,col_indexer] = value instead\n",
      "\n",
      "See the caveats in the documentation: https://pandas.pydata.org/pandas-docs/stable/user_guide/indexing.html#returning-a-view-versus-a-copy\n",
      "  fittedframe_future[deps[0]+'_pred'] = res[:, 1]\n"
     ]
    },
    {
     "name": "stdout",
     "output_type": "stream",
     "text": [
      "before 2023, going till 13\n",
      "2012\n",
      "1\n",
      "['ons_target_f1']\n",
      "pre drop  98640\n",
      "2012\n",
      "1\n",
      "post drop model 66000\n",
      "setting parameters\n",
      "they are: 1.0 l2 lbfgs\n"
     ]
    },
    {
     "name": "stderr",
     "output_type": "stream",
     "text": [
      "/var/folders/hj/n94x31sj08bdmgwjs6ybxbf40000gn/T/ipykernel_93000/2770474830.py:40: SettingWithCopyWarning: \n",
      "A value is trying to be set on a copy of a slice from a DataFrame.\n",
      "Try using .loc[row_indexer,col_indexer] = value instead\n",
      "\n",
      "See the caveats in the documentation: https://pandas.pydata.org/pandas-docs/stable/user_guide/indexing.html#returning-a-view-versus-a-copy\n",
      "  fittedframe_future[deps[0]+'_pred'] = res[:, 1]\n"
     ]
    },
    {
     "name": "stdout",
     "output_type": "stream",
     "text": [
      "2012\n",
      "2\n",
      "['ons_target_f1']\n",
      "pre drop  98640\n",
      "2012\n",
      "2\n",
      "post drop model 66240\n",
      "setting parameters\n",
      "they are: 1.0 l2 lbfgs\n"
     ]
    },
    {
     "name": "stderr",
     "output_type": "stream",
     "text": [
      "/var/folders/hj/n94x31sj08bdmgwjs6ybxbf40000gn/T/ipykernel_93000/2770474830.py:40: SettingWithCopyWarning: \n",
      "A value is trying to be set on a copy of a slice from a DataFrame.\n",
      "Try using .loc[row_indexer,col_indexer] = value instead\n",
      "\n",
      "See the caveats in the documentation: https://pandas.pydata.org/pandas-docs/stable/user_guide/indexing.html#returning-a-view-versus-a-copy\n",
      "  fittedframe_future[deps[0]+'_pred'] = res[:, 1]\n"
     ]
    },
    {
     "name": "stdout",
     "output_type": "stream",
     "text": [
      "2012\n",
      "3\n",
      "['ons_target_f1']\n",
      "pre drop  98640\n",
      "2012\n",
      "3\n",
      "post drop model 66480\n",
      "setting parameters\n",
      "they are: 1.0 l2 lbfgs\n"
     ]
    },
    {
     "name": "stderr",
     "output_type": "stream",
     "text": [
      "/var/folders/hj/n94x31sj08bdmgwjs6ybxbf40000gn/T/ipykernel_93000/2770474830.py:40: SettingWithCopyWarning: \n",
      "A value is trying to be set on a copy of a slice from a DataFrame.\n",
      "Try using .loc[row_indexer,col_indexer] = value instead\n",
      "\n",
      "See the caveats in the documentation: https://pandas.pydata.org/pandas-docs/stable/user_guide/indexing.html#returning-a-view-versus-a-copy\n",
      "  fittedframe_future[deps[0]+'_pred'] = res[:, 1]\n"
     ]
    },
    {
     "name": "stdout",
     "output_type": "stream",
     "text": [
      "2012\n",
      "4\n",
      "['ons_target_f1']\n",
      "pre drop  98640\n",
      "2012\n",
      "4\n",
      "post drop model 66720\n",
      "setting parameters\n",
      "they are: 1.0 l2 lbfgs\n"
     ]
    },
    {
     "name": "stderr",
     "output_type": "stream",
     "text": [
      "/var/folders/hj/n94x31sj08bdmgwjs6ybxbf40000gn/T/ipykernel_93000/2770474830.py:40: SettingWithCopyWarning: \n",
      "A value is trying to be set on a copy of a slice from a DataFrame.\n",
      "Try using .loc[row_indexer,col_indexer] = value instead\n",
      "\n",
      "See the caveats in the documentation: https://pandas.pydata.org/pandas-docs/stable/user_guide/indexing.html#returning-a-view-versus-a-copy\n",
      "  fittedframe_future[deps[0]+'_pred'] = res[:, 1]\n"
     ]
    },
    {
     "name": "stdout",
     "output_type": "stream",
     "text": [
      "2012\n",
      "5\n",
      "['ons_target_f1']\n",
      "pre drop  98640\n",
      "2012\n",
      "5\n",
      "post drop model 66960\n",
      "setting parameters\n",
      "they are: 1.0 l2 lbfgs\n"
     ]
    },
    {
     "name": "stderr",
     "output_type": "stream",
     "text": [
      "/var/folders/hj/n94x31sj08bdmgwjs6ybxbf40000gn/T/ipykernel_93000/2770474830.py:40: SettingWithCopyWarning: \n",
      "A value is trying to be set on a copy of a slice from a DataFrame.\n",
      "Try using .loc[row_indexer,col_indexer] = value instead\n",
      "\n",
      "See the caveats in the documentation: https://pandas.pydata.org/pandas-docs/stable/user_guide/indexing.html#returning-a-view-versus-a-copy\n",
      "  fittedframe_future[deps[0]+'_pred'] = res[:, 1]\n"
     ]
    },
    {
     "name": "stdout",
     "output_type": "stream",
     "text": [
      "2012\n",
      "6\n",
      "['ons_target_f1']\n",
      "pre drop  98640\n",
      "2012\n",
      "6\n",
      "post drop model 67200\n",
      "setting parameters\n",
      "they are: 1.0 l2 lbfgs\n"
     ]
    },
    {
     "name": "stderr",
     "output_type": "stream",
     "text": [
      "/var/folders/hj/n94x31sj08bdmgwjs6ybxbf40000gn/T/ipykernel_93000/2770474830.py:40: SettingWithCopyWarning: \n",
      "A value is trying to be set on a copy of a slice from a DataFrame.\n",
      "Try using .loc[row_indexer,col_indexer] = value instead\n",
      "\n",
      "See the caveats in the documentation: https://pandas.pydata.org/pandas-docs/stable/user_guide/indexing.html#returning-a-view-versus-a-copy\n",
      "  fittedframe_future[deps[0]+'_pred'] = res[:, 1]\n"
     ]
    },
    {
     "name": "stdout",
     "output_type": "stream",
     "text": [
      "2012\n",
      "7\n",
      "['ons_target_f1']\n",
      "pre drop  98640\n",
      "2012\n",
      "7\n",
      "post drop model 67440\n",
      "setting parameters\n",
      "they are: 1.0 l2 lbfgs\n"
     ]
    },
    {
     "name": "stderr",
     "output_type": "stream",
     "text": [
      "/var/folders/hj/n94x31sj08bdmgwjs6ybxbf40000gn/T/ipykernel_93000/2770474830.py:40: SettingWithCopyWarning: \n",
      "A value is trying to be set on a copy of a slice from a DataFrame.\n",
      "Try using .loc[row_indexer,col_indexer] = value instead\n",
      "\n",
      "See the caveats in the documentation: https://pandas.pydata.org/pandas-docs/stable/user_guide/indexing.html#returning-a-view-versus-a-copy\n",
      "  fittedframe_future[deps[0]+'_pred'] = res[:, 1]\n"
     ]
    },
    {
     "name": "stdout",
     "output_type": "stream",
     "text": [
      "2012\n",
      "8\n",
      "['ons_target_f1']\n",
      "pre drop  98640\n",
      "2012\n",
      "8\n",
      "post drop model 67680\n",
      "setting parameters\n",
      "they are: 1.0 l2 lbfgs\n"
     ]
    },
    {
     "name": "stderr",
     "output_type": "stream",
     "text": [
      "/var/folders/hj/n94x31sj08bdmgwjs6ybxbf40000gn/T/ipykernel_93000/2770474830.py:40: SettingWithCopyWarning: \n",
      "A value is trying to be set on a copy of a slice from a DataFrame.\n",
      "Try using .loc[row_indexer,col_indexer] = value instead\n",
      "\n",
      "See the caveats in the documentation: https://pandas.pydata.org/pandas-docs/stable/user_guide/indexing.html#returning-a-view-versus-a-copy\n",
      "  fittedframe_future[deps[0]+'_pred'] = res[:, 1]\n"
     ]
    },
    {
     "name": "stdout",
     "output_type": "stream",
     "text": [
      "2012\n",
      "9\n",
      "['ons_target_f1']\n",
      "pre drop  98640\n",
      "2012\n",
      "9\n",
      "post drop model 67920\n",
      "setting parameters\n",
      "they are: 1.0 l2 lbfgs\n"
     ]
    },
    {
     "name": "stderr",
     "output_type": "stream",
     "text": [
      "/var/folders/hj/n94x31sj08bdmgwjs6ybxbf40000gn/T/ipykernel_93000/2770474830.py:40: SettingWithCopyWarning: \n",
      "A value is trying to be set on a copy of a slice from a DataFrame.\n",
      "Try using .loc[row_indexer,col_indexer] = value instead\n",
      "\n",
      "See the caveats in the documentation: https://pandas.pydata.org/pandas-docs/stable/user_guide/indexing.html#returning-a-view-versus-a-copy\n",
      "  fittedframe_future[deps[0]+'_pred'] = res[:, 1]\n"
     ]
    },
    {
     "name": "stdout",
     "output_type": "stream",
     "text": [
      "2012\n",
      "10\n",
      "['ons_target_f1']\n",
      "pre drop  98640\n",
      "2012\n",
      "10\n",
      "post drop model 68160\n",
      "setting parameters\n",
      "they are: 1.0 l2 lbfgs\n"
     ]
    },
    {
     "name": "stderr",
     "output_type": "stream",
     "text": [
      "/var/folders/hj/n94x31sj08bdmgwjs6ybxbf40000gn/T/ipykernel_93000/2770474830.py:40: SettingWithCopyWarning: \n",
      "A value is trying to be set on a copy of a slice from a DataFrame.\n",
      "Try using .loc[row_indexer,col_indexer] = value instead\n",
      "\n",
      "See the caveats in the documentation: https://pandas.pydata.org/pandas-docs/stable/user_guide/indexing.html#returning-a-view-versus-a-copy\n",
      "  fittedframe_future[deps[0]+'_pred'] = res[:, 1]\n"
     ]
    },
    {
     "name": "stdout",
     "output_type": "stream",
     "text": [
      "2012\n",
      "11\n",
      "['ons_target_f1']\n",
      "pre drop  98640\n",
      "2012\n",
      "11\n",
      "post drop model 68400\n",
      "setting parameters\n",
      "they are: 1.0 l2 lbfgs\n"
     ]
    },
    {
     "name": "stderr",
     "output_type": "stream",
     "text": [
      "/var/folders/hj/n94x31sj08bdmgwjs6ybxbf40000gn/T/ipykernel_93000/2770474830.py:40: SettingWithCopyWarning: \n",
      "A value is trying to be set on a copy of a slice from a DataFrame.\n",
      "Try using .loc[row_indexer,col_indexer] = value instead\n",
      "\n",
      "See the caveats in the documentation: https://pandas.pydata.org/pandas-docs/stable/user_guide/indexing.html#returning-a-view-versus-a-copy\n",
      "  fittedframe_future[deps[0]+'_pred'] = res[:, 1]\n"
     ]
    },
    {
     "name": "stdout",
     "output_type": "stream",
     "text": [
      "2012\n",
      "12\n",
      "['ons_target_f1']\n",
      "pre drop  98640\n",
      "2012\n",
      "12\n",
      "post drop model 68640\n",
      "setting parameters\n",
      "they are: 1.0 l2 lbfgs\n"
     ]
    },
    {
     "name": "stderr",
     "output_type": "stream",
     "text": [
      "/var/folders/hj/n94x31sj08bdmgwjs6ybxbf40000gn/T/ipykernel_93000/2770474830.py:40: SettingWithCopyWarning: \n",
      "A value is trying to be set on a copy of a slice from a DataFrame.\n",
      "Try using .loc[row_indexer,col_indexer] = value instead\n",
      "\n",
      "See the caveats in the documentation: https://pandas.pydata.org/pandas-docs/stable/user_guide/indexing.html#returning-a-view-versus-a-copy\n",
      "  fittedframe_future[deps[0]+'_pred'] = res[:, 1]\n"
     ]
    },
    {
     "name": "stdout",
     "output_type": "stream",
     "text": [
      "before 2023, going till 13\n",
      "2013\n",
      "1\n",
      "['ons_target_f1']\n",
      "pre drop  98640\n",
      "2013\n",
      "1\n",
      "post drop model 68880\n",
      "setting parameters\n",
      "they are: 1.0 l2 lbfgs\n"
     ]
    },
    {
     "name": "stderr",
     "output_type": "stream",
     "text": [
      "/var/folders/hj/n94x31sj08bdmgwjs6ybxbf40000gn/T/ipykernel_93000/2770474830.py:40: SettingWithCopyWarning: \n",
      "A value is trying to be set on a copy of a slice from a DataFrame.\n",
      "Try using .loc[row_indexer,col_indexer] = value instead\n",
      "\n",
      "See the caveats in the documentation: https://pandas.pydata.org/pandas-docs/stable/user_guide/indexing.html#returning-a-view-versus-a-copy\n",
      "  fittedframe_future[deps[0]+'_pred'] = res[:, 1]\n"
     ]
    },
    {
     "name": "stdout",
     "output_type": "stream",
     "text": [
      "2013\n",
      "2\n",
      "['ons_target_f1']\n",
      "pre drop  98640\n",
      "2013\n",
      "2\n",
      "post drop model 69120\n",
      "setting parameters\n",
      "they are: 1.0 l2 lbfgs\n"
     ]
    },
    {
     "name": "stderr",
     "output_type": "stream",
     "text": [
      "/var/folders/hj/n94x31sj08bdmgwjs6ybxbf40000gn/T/ipykernel_93000/2770474830.py:40: SettingWithCopyWarning: \n",
      "A value is trying to be set on a copy of a slice from a DataFrame.\n",
      "Try using .loc[row_indexer,col_indexer] = value instead\n",
      "\n",
      "See the caveats in the documentation: https://pandas.pydata.org/pandas-docs/stable/user_guide/indexing.html#returning-a-view-versus-a-copy\n",
      "  fittedframe_future[deps[0]+'_pred'] = res[:, 1]\n"
     ]
    },
    {
     "name": "stdout",
     "output_type": "stream",
     "text": [
      "2013\n",
      "3\n",
      "['ons_target_f1']\n",
      "pre drop  98640\n",
      "2013\n",
      "3\n",
      "post drop model 69360\n",
      "setting parameters\n",
      "they are: 1.0 l2 lbfgs\n"
     ]
    },
    {
     "name": "stderr",
     "output_type": "stream",
     "text": [
      "/var/folders/hj/n94x31sj08bdmgwjs6ybxbf40000gn/T/ipykernel_93000/2770474830.py:40: SettingWithCopyWarning: \n",
      "A value is trying to be set on a copy of a slice from a DataFrame.\n",
      "Try using .loc[row_indexer,col_indexer] = value instead\n",
      "\n",
      "See the caveats in the documentation: https://pandas.pydata.org/pandas-docs/stable/user_guide/indexing.html#returning-a-view-versus-a-copy\n",
      "  fittedframe_future[deps[0]+'_pred'] = res[:, 1]\n"
     ]
    },
    {
     "name": "stdout",
     "output_type": "stream",
     "text": [
      "2013\n",
      "4\n",
      "['ons_target_f1']\n",
      "pre drop  98640\n",
      "2013\n",
      "4\n",
      "post drop model 69600\n",
      "setting parameters\n",
      "they are: 1.0 l2 lbfgs\n"
     ]
    },
    {
     "name": "stderr",
     "output_type": "stream",
     "text": [
      "/var/folders/hj/n94x31sj08bdmgwjs6ybxbf40000gn/T/ipykernel_93000/2770474830.py:40: SettingWithCopyWarning: \n",
      "A value is trying to be set on a copy of a slice from a DataFrame.\n",
      "Try using .loc[row_indexer,col_indexer] = value instead\n",
      "\n",
      "See the caveats in the documentation: https://pandas.pydata.org/pandas-docs/stable/user_guide/indexing.html#returning-a-view-versus-a-copy\n",
      "  fittedframe_future[deps[0]+'_pred'] = res[:, 1]\n"
     ]
    },
    {
     "name": "stdout",
     "output_type": "stream",
     "text": [
      "2013\n",
      "5\n",
      "['ons_target_f1']\n",
      "pre drop  98640\n",
      "2013\n",
      "5\n",
      "post drop model 69840\n",
      "setting parameters\n",
      "they are: 1.0 l2 lbfgs\n"
     ]
    },
    {
     "name": "stderr",
     "output_type": "stream",
     "text": [
      "/var/folders/hj/n94x31sj08bdmgwjs6ybxbf40000gn/T/ipykernel_93000/2770474830.py:40: SettingWithCopyWarning: \n",
      "A value is trying to be set on a copy of a slice from a DataFrame.\n",
      "Try using .loc[row_indexer,col_indexer] = value instead\n",
      "\n",
      "See the caveats in the documentation: https://pandas.pydata.org/pandas-docs/stable/user_guide/indexing.html#returning-a-view-versus-a-copy\n",
      "  fittedframe_future[deps[0]+'_pred'] = res[:, 1]\n"
     ]
    },
    {
     "name": "stdout",
     "output_type": "stream",
     "text": [
      "2013\n",
      "6\n",
      "['ons_target_f1']\n",
      "pre drop  98640\n",
      "2013\n",
      "6\n",
      "post drop model 70080\n",
      "setting parameters\n",
      "they are: 1.0 l2 lbfgs\n"
     ]
    },
    {
     "name": "stderr",
     "output_type": "stream",
     "text": [
      "/var/folders/hj/n94x31sj08bdmgwjs6ybxbf40000gn/T/ipykernel_93000/2770474830.py:40: SettingWithCopyWarning: \n",
      "A value is trying to be set on a copy of a slice from a DataFrame.\n",
      "Try using .loc[row_indexer,col_indexer] = value instead\n",
      "\n",
      "See the caveats in the documentation: https://pandas.pydata.org/pandas-docs/stable/user_guide/indexing.html#returning-a-view-versus-a-copy\n",
      "  fittedframe_future[deps[0]+'_pred'] = res[:, 1]\n"
     ]
    },
    {
     "name": "stdout",
     "output_type": "stream",
     "text": [
      "2013\n",
      "7\n",
      "['ons_target_f1']\n",
      "pre drop  98640\n",
      "2013\n",
      "7\n",
      "post drop model 70320\n",
      "setting parameters\n",
      "they are: 1.0 l2 lbfgs\n"
     ]
    },
    {
     "name": "stderr",
     "output_type": "stream",
     "text": [
      "/var/folders/hj/n94x31sj08bdmgwjs6ybxbf40000gn/T/ipykernel_93000/2770474830.py:40: SettingWithCopyWarning: \n",
      "A value is trying to be set on a copy of a slice from a DataFrame.\n",
      "Try using .loc[row_indexer,col_indexer] = value instead\n",
      "\n",
      "See the caveats in the documentation: https://pandas.pydata.org/pandas-docs/stable/user_guide/indexing.html#returning-a-view-versus-a-copy\n",
      "  fittedframe_future[deps[0]+'_pred'] = res[:, 1]\n"
     ]
    },
    {
     "name": "stdout",
     "output_type": "stream",
     "text": [
      "2013\n",
      "8\n",
      "['ons_target_f1']\n",
      "pre drop  98640\n",
      "2013\n",
      "8\n",
      "post drop model 70560\n",
      "setting parameters\n",
      "they are: 1.0 l2 lbfgs\n"
     ]
    },
    {
     "name": "stderr",
     "output_type": "stream",
     "text": [
      "/var/folders/hj/n94x31sj08bdmgwjs6ybxbf40000gn/T/ipykernel_93000/2770474830.py:40: SettingWithCopyWarning: \n",
      "A value is trying to be set on a copy of a slice from a DataFrame.\n",
      "Try using .loc[row_indexer,col_indexer] = value instead\n",
      "\n",
      "See the caveats in the documentation: https://pandas.pydata.org/pandas-docs/stable/user_guide/indexing.html#returning-a-view-versus-a-copy\n",
      "  fittedframe_future[deps[0]+'_pred'] = res[:, 1]\n"
     ]
    },
    {
     "name": "stdout",
     "output_type": "stream",
     "text": [
      "2013\n",
      "9\n",
      "['ons_target_f1']\n",
      "pre drop  98640\n",
      "2013\n",
      "9\n",
      "post drop model 70800\n",
      "setting parameters\n",
      "they are: 1.0 l2 lbfgs\n"
     ]
    },
    {
     "name": "stderr",
     "output_type": "stream",
     "text": [
      "/var/folders/hj/n94x31sj08bdmgwjs6ybxbf40000gn/T/ipykernel_93000/2770474830.py:40: SettingWithCopyWarning: \n",
      "A value is trying to be set on a copy of a slice from a DataFrame.\n",
      "Try using .loc[row_indexer,col_indexer] = value instead\n",
      "\n",
      "See the caveats in the documentation: https://pandas.pydata.org/pandas-docs/stable/user_guide/indexing.html#returning-a-view-versus-a-copy\n",
      "  fittedframe_future[deps[0]+'_pred'] = res[:, 1]\n"
     ]
    },
    {
     "name": "stdout",
     "output_type": "stream",
     "text": [
      "2013\n",
      "10\n",
      "['ons_target_f1']\n",
      "pre drop  98640\n",
      "2013\n",
      "10\n",
      "post drop model 71040\n",
      "setting parameters\n",
      "they are: 1.0 l2 lbfgs\n"
     ]
    },
    {
     "name": "stderr",
     "output_type": "stream",
     "text": [
      "/var/folders/hj/n94x31sj08bdmgwjs6ybxbf40000gn/T/ipykernel_93000/2770474830.py:40: SettingWithCopyWarning: \n",
      "A value is trying to be set on a copy of a slice from a DataFrame.\n",
      "Try using .loc[row_indexer,col_indexer] = value instead\n",
      "\n",
      "See the caveats in the documentation: https://pandas.pydata.org/pandas-docs/stable/user_guide/indexing.html#returning-a-view-versus-a-copy\n",
      "  fittedframe_future[deps[0]+'_pred'] = res[:, 1]\n"
     ]
    },
    {
     "name": "stdout",
     "output_type": "stream",
     "text": [
      "2013\n",
      "11\n",
      "['ons_target_f1']\n",
      "pre drop  98640\n",
      "2013\n",
      "11\n",
      "post drop model 71280\n",
      "setting parameters\n",
      "they are: 1.0 l2 lbfgs\n"
     ]
    },
    {
     "name": "stderr",
     "output_type": "stream",
     "text": [
      "/var/folders/hj/n94x31sj08bdmgwjs6ybxbf40000gn/T/ipykernel_93000/2770474830.py:40: SettingWithCopyWarning: \n",
      "A value is trying to be set on a copy of a slice from a DataFrame.\n",
      "Try using .loc[row_indexer,col_indexer] = value instead\n",
      "\n",
      "See the caveats in the documentation: https://pandas.pydata.org/pandas-docs/stable/user_guide/indexing.html#returning-a-view-versus-a-copy\n",
      "  fittedframe_future[deps[0]+'_pred'] = res[:, 1]\n"
     ]
    },
    {
     "name": "stdout",
     "output_type": "stream",
     "text": [
      "2013\n",
      "12\n",
      "['ons_target_f1']\n",
      "pre drop  98640\n",
      "2013\n",
      "12\n",
      "post drop model 71520\n",
      "setting parameters\n",
      "they are: 1.0 l2 lbfgs\n"
     ]
    },
    {
     "name": "stderr",
     "output_type": "stream",
     "text": [
      "/var/folders/hj/n94x31sj08bdmgwjs6ybxbf40000gn/T/ipykernel_93000/2770474830.py:40: SettingWithCopyWarning: \n",
      "A value is trying to be set on a copy of a slice from a DataFrame.\n",
      "Try using .loc[row_indexer,col_indexer] = value instead\n",
      "\n",
      "See the caveats in the documentation: https://pandas.pydata.org/pandas-docs/stable/user_guide/indexing.html#returning-a-view-versus-a-copy\n",
      "  fittedframe_future[deps[0]+'_pred'] = res[:, 1]\n"
     ]
    },
    {
     "name": "stdout",
     "output_type": "stream",
     "text": [
      "before 2023, going till 13\n",
      "2014\n",
      "1\n",
      "['ons_target_f1']\n",
      "pre drop  98640\n",
      "2014\n",
      "1\n",
      "post drop model 71760\n",
      "setting parameters\n",
      "they are: 1.0 l2 lbfgs\n"
     ]
    },
    {
     "name": "stderr",
     "output_type": "stream",
     "text": [
      "/var/folders/hj/n94x31sj08bdmgwjs6ybxbf40000gn/T/ipykernel_93000/2770474830.py:40: SettingWithCopyWarning: \n",
      "A value is trying to be set on a copy of a slice from a DataFrame.\n",
      "Try using .loc[row_indexer,col_indexer] = value instead\n",
      "\n",
      "See the caveats in the documentation: https://pandas.pydata.org/pandas-docs/stable/user_guide/indexing.html#returning-a-view-versus-a-copy\n",
      "  fittedframe_future[deps[0]+'_pred'] = res[:, 1]\n"
     ]
    },
    {
     "name": "stdout",
     "output_type": "stream",
     "text": [
      "2014\n",
      "2\n",
      "['ons_target_f1']\n",
      "pre drop  98640\n",
      "2014\n",
      "2\n",
      "post drop model 72000\n",
      "setting parameters\n",
      "they are: 1.0 l2 lbfgs\n"
     ]
    },
    {
     "name": "stderr",
     "output_type": "stream",
     "text": [
      "/var/folders/hj/n94x31sj08bdmgwjs6ybxbf40000gn/T/ipykernel_93000/2770474830.py:40: SettingWithCopyWarning: \n",
      "A value is trying to be set on a copy of a slice from a DataFrame.\n",
      "Try using .loc[row_indexer,col_indexer] = value instead\n",
      "\n",
      "See the caveats in the documentation: https://pandas.pydata.org/pandas-docs/stable/user_guide/indexing.html#returning-a-view-versus-a-copy\n",
      "  fittedframe_future[deps[0]+'_pred'] = res[:, 1]\n"
     ]
    },
    {
     "name": "stdout",
     "output_type": "stream",
     "text": [
      "2014\n",
      "3\n",
      "['ons_target_f1']\n",
      "pre drop  98640\n",
      "2014\n",
      "3\n",
      "post drop model 72240\n",
      "setting parameters\n",
      "they are: 1.0 l2 lbfgs\n"
     ]
    },
    {
     "name": "stderr",
     "output_type": "stream",
     "text": [
      "/var/folders/hj/n94x31sj08bdmgwjs6ybxbf40000gn/T/ipykernel_93000/2770474830.py:40: SettingWithCopyWarning: \n",
      "A value is trying to be set on a copy of a slice from a DataFrame.\n",
      "Try using .loc[row_indexer,col_indexer] = value instead\n",
      "\n",
      "See the caveats in the documentation: https://pandas.pydata.org/pandas-docs/stable/user_guide/indexing.html#returning-a-view-versus-a-copy\n",
      "  fittedframe_future[deps[0]+'_pred'] = res[:, 1]\n"
     ]
    },
    {
     "name": "stdout",
     "output_type": "stream",
     "text": [
      "2014\n",
      "4\n",
      "['ons_target_f1']\n",
      "pre drop  98640\n",
      "2014\n",
      "4\n",
      "post drop model 72480\n",
      "setting parameters\n",
      "they are: 1.0 l2 lbfgs\n"
     ]
    },
    {
     "name": "stderr",
     "output_type": "stream",
     "text": [
      "/var/folders/hj/n94x31sj08bdmgwjs6ybxbf40000gn/T/ipykernel_93000/2770474830.py:40: SettingWithCopyWarning: \n",
      "A value is trying to be set on a copy of a slice from a DataFrame.\n",
      "Try using .loc[row_indexer,col_indexer] = value instead\n",
      "\n",
      "See the caveats in the documentation: https://pandas.pydata.org/pandas-docs/stable/user_guide/indexing.html#returning-a-view-versus-a-copy\n",
      "  fittedframe_future[deps[0]+'_pred'] = res[:, 1]\n"
     ]
    },
    {
     "name": "stdout",
     "output_type": "stream",
     "text": [
      "2014\n",
      "5\n",
      "['ons_target_f1']\n",
      "pre drop  98640\n",
      "2014\n",
      "5\n",
      "post drop model 72720\n",
      "setting parameters\n",
      "they are: 1.0 l2 lbfgs\n"
     ]
    },
    {
     "name": "stderr",
     "output_type": "stream",
     "text": [
      "/var/folders/hj/n94x31sj08bdmgwjs6ybxbf40000gn/T/ipykernel_93000/2770474830.py:40: SettingWithCopyWarning: \n",
      "A value is trying to be set on a copy of a slice from a DataFrame.\n",
      "Try using .loc[row_indexer,col_indexer] = value instead\n",
      "\n",
      "See the caveats in the documentation: https://pandas.pydata.org/pandas-docs/stable/user_guide/indexing.html#returning-a-view-versus-a-copy\n",
      "  fittedframe_future[deps[0]+'_pred'] = res[:, 1]\n"
     ]
    },
    {
     "name": "stdout",
     "output_type": "stream",
     "text": [
      "2014\n",
      "6\n",
      "['ons_target_f1']\n",
      "pre drop  98640\n",
      "2014\n",
      "6\n",
      "post drop model 72960\n",
      "setting parameters\n",
      "they are: 1.0 l2 lbfgs\n"
     ]
    },
    {
     "name": "stderr",
     "output_type": "stream",
     "text": [
      "/var/folders/hj/n94x31sj08bdmgwjs6ybxbf40000gn/T/ipykernel_93000/2770474830.py:40: SettingWithCopyWarning: \n",
      "A value is trying to be set on a copy of a slice from a DataFrame.\n",
      "Try using .loc[row_indexer,col_indexer] = value instead\n",
      "\n",
      "See the caveats in the documentation: https://pandas.pydata.org/pandas-docs/stable/user_guide/indexing.html#returning-a-view-versus-a-copy\n",
      "  fittedframe_future[deps[0]+'_pred'] = res[:, 1]\n"
     ]
    },
    {
     "name": "stdout",
     "output_type": "stream",
     "text": [
      "2014\n",
      "7\n",
      "['ons_target_f1']\n",
      "pre drop  98640\n",
      "2014\n",
      "7\n",
      "post drop model 73200\n",
      "setting parameters\n",
      "they are: 1.0 l2 lbfgs\n"
     ]
    },
    {
     "name": "stderr",
     "output_type": "stream",
     "text": [
      "/var/folders/hj/n94x31sj08bdmgwjs6ybxbf40000gn/T/ipykernel_93000/2770474830.py:40: SettingWithCopyWarning: \n",
      "A value is trying to be set on a copy of a slice from a DataFrame.\n",
      "Try using .loc[row_indexer,col_indexer] = value instead\n",
      "\n",
      "See the caveats in the documentation: https://pandas.pydata.org/pandas-docs/stable/user_guide/indexing.html#returning-a-view-versus-a-copy\n",
      "  fittedframe_future[deps[0]+'_pred'] = res[:, 1]\n"
     ]
    },
    {
     "name": "stdout",
     "output_type": "stream",
     "text": [
      "2014\n",
      "8\n",
      "['ons_target_f1']\n",
      "pre drop  98640\n",
      "2014\n",
      "8\n",
      "post drop model 73440\n",
      "setting parameters\n",
      "they are: 1.0 l2 lbfgs\n"
     ]
    },
    {
     "name": "stderr",
     "output_type": "stream",
     "text": [
      "/var/folders/hj/n94x31sj08bdmgwjs6ybxbf40000gn/T/ipykernel_93000/2770474830.py:40: SettingWithCopyWarning: \n",
      "A value is trying to be set on a copy of a slice from a DataFrame.\n",
      "Try using .loc[row_indexer,col_indexer] = value instead\n",
      "\n",
      "See the caveats in the documentation: https://pandas.pydata.org/pandas-docs/stable/user_guide/indexing.html#returning-a-view-versus-a-copy\n",
      "  fittedframe_future[deps[0]+'_pred'] = res[:, 1]\n"
     ]
    },
    {
     "name": "stdout",
     "output_type": "stream",
     "text": [
      "2014\n",
      "9\n",
      "['ons_target_f1']\n",
      "pre drop  98640\n",
      "2014\n",
      "9\n",
      "post drop model 73680\n",
      "setting parameters\n",
      "they are: 1.0 l2 lbfgs\n"
     ]
    },
    {
     "name": "stderr",
     "output_type": "stream",
     "text": [
      "/var/folders/hj/n94x31sj08bdmgwjs6ybxbf40000gn/T/ipykernel_93000/2770474830.py:40: SettingWithCopyWarning: \n",
      "A value is trying to be set on a copy of a slice from a DataFrame.\n",
      "Try using .loc[row_indexer,col_indexer] = value instead\n",
      "\n",
      "See the caveats in the documentation: https://pandas.pydata.org/pandas-docs/stable/user_guide/indexing.html#returning-a-view-versus-a-copy\n",
      "  fittedframe_future[deps[0]+'_pred'] = res[:, 1]\n"
     ]
    },
    {
     "name": "stdout",
     "output_type": "stream",
     "text": [
      "2014\n",
      "10\n",
      "['ons_target_f1']\n",
      "pre drop  98640\n",
      "2014\n",
      "10\n",
      "post drop model 73920\n",
      "setting parameters\n",
      "they are: 1.0 l2 lbfgs\n"
     ]
    },
    {
     "name": "stderr",
     "output_type": "stream",
     "text": [
      "/var/folders/hj/n94x31sj08bdmgwjs6ybxbf40000gn/T/ipykernel_93000/2770474830.py:40: SettingWithCopyWarning: \n",
      "A value is trying to be set on a copy of a slice from a DataFrame.\n",
      "Try using .loc[row_indexer,col_indexer] = value instead\n",
      "\n",
      "See the caveats in the documentation: https://pandas.pydata.org/pandas-docs/stable/user_guide/indexing.html#returning-a-view-versus-a-copy\n",
      "  fittedframe_future[deps[0]+'_pred'] = res[:, 1]\n"
     ]
    },
    {
     "name": "stdout",
     "output_type": "stream",
     "text": [
      "2014\n",
      "11\n",
      "['ons_target_f1']\n",
      "pre drop  98640\n",
      "2014\n",
      "11\n",
      "post drop model 74160\n",
      "setting parameters\n",
      "they are: 1.0 l2 lbfgs\n"
     ]
    },
    {
     "name": "stderr",
     "output_type": "stream",
     "text": [
      "/var/folders/hj/n94x31sj08bdmgwjs6ybxbf40000gn/T/ipykernel_93000/2770474830.py:40: SettingWithCopyWarning: \n",
      "A value is trying to be set on a copy of a slice from a DataFrame.\n",
      "Try using .loc[row_indexer,col_indexer] = value instead\n",
      "\n",
      "See the caveats in the documentation: https://pandas.pydata.org/pandas-docs/stable/user_guide/indexing.html#returning-a-view-versus-a-copy\n",
      "  fittedframe_future[deps[0]+'_pred'] = res[:, 1]\n"
     ]
    },
    {
     "name": "stdout",
     "output_type": "stream",
     "text": [
      "2014\n",
      "12\n",
      "['ons_target_f1']\n",
      "pre drop  98640\n",
      "2014\n",
      "12\n",
      "post drop model 74400\n",
      "setting parameters\n",
      "they are: 1.0 l2 lbfgs\n"
     ]
    },
    {
     "name": "stderr",
     "output_type": "stream",
     "text": [
      "/var/folders/hj/n94x31sj08bdmgwjs6ybxbf40000gn/T/ipykernel_93000/2770474830.py:40: SettingWithCopyWarning: \n",
      "A value is trying to be set on a copy of a slice from a DataFrame.\n",
      "Try using .loc[row_indexer,col_indexer] = value instead\n",
      "\n",
      "See the caveats in the documentation: https://pandas.pydata.org/pandas-docs/stable/user_guide/indexing.html#returning-a-view-versus-a-copy\n",
      "  fittedframe_future[deps[0]+'_pred'] = res[:, 1]\n"
     ]
    },
    {
     "name": "stdout",
     "output_type": "stream",
     "text": [
      "before 2023, going till 13\n",
      "2015\n",
      "1\n",
      "['ons_target_f1']\n",
      "pre drop  98640\n",
      "2015\n",
      "1\n",
      "post drop model 74640\n",
      "setting parameters\n",
      "they are: 1.0 l2 lbfgs\n"
     ]
    },
    {
     "name": "stderr",
     "output_type": "stream",
     "text": [
      "/var/folders/hj/n94x31sj08bdmgwjs6ybxbf40000gn/T/ipykernel_93000/2770474830.py:40: SettingWithCopyWarning: \n",
      "A value is trying to be set on a copy of a slice from a DataFrame.\n",
      "Try using .loc[row_indexer,col_indexer] = value instead\n",
      "\n",
      "See the caveats in the documentation: https://pandas.pydata.org/pandas-docs/stable/user_guide/indexing.html#returning-a-view-versus-a-copy\n",
      "  fittedframe_future[deps[0]+'_pred'] = res[:, 1]\n"
     ]
    },
    {
     "name": "stdout",
     "output_type": "stream",
     "text": [
      "2015\n",
      "2\n",
      "['ons_target_f1']\n",
      "pre drop  98640\n",
      "2015\n",
      "2\n",
      "post drop model 74880\n",
      "setting parameters\n",
      "they are: 1.0 l2 lbfgs\n"
     ]
    },
    {
     "name": "stderr",
     "output_type": "stream",
     "text": [
      "/var/folders/hj/n94x31sj08bdmgwjs6ybxbf40000gn/T/ipykernel_93000/2770474830.py:40: SettingWithCopyWarning: \n",
      "A value is trying to be set on a copy of a slice from a DataFrame.\n",
      "Try using .loc[row_indexer,col_indexer] = value instead\n",
      "\n",
      "See the caveats in the documentation: https://pandas.pydata.org/pandas-docs/stable/user_guide/indexing.html#returning-a-view-versus-a-copy\n",
      "  fittedframe_future[deps[0]+'_pred'] = res[:, 1]\n"
     ]
    },
    {
     "name": "stdout",
     "output_type": "stream",
     "text": [
      "2015\n",
      "3\n",
      "['ons_target_f1']\n",
      "pre drop  98640\n",
      "2015\n",
      "3\n",
      "post drop model 75120\n",
      "setting parameters\n",
      "they are: 1.0 l2 lbfgs\n"
     ]
    },
    {
     "name": "stderr",
     "output_type": "stream",
     "text": [
      "/var/folders/hj/n94x31sj08bdmgwjs6ybxbf40000gn/T/ipykernel_93000/2770474830.py:40: SettingWithCopyWarning: \n",
      "A value is trying to be set on a copy of a slice from a DataFrame.\n",
      "Try using .loc[row_indexer,col_indexer] = value instead\n",
      "\n",
      "See the caveats in the documentation: https://pandas.pydata.org/pandas-docs/stable/user_guide/indexing.html#returning-a-view-versus-a-copy\n",
      "  fittedframe_future[deps[0]+'_pred'] = res[:, 1]\n"
     ]
    },
    {
     "name": "stdout",
     "output_type": "stream",
     "text": [
      "2015\n",
      "4\n",
      "['ons_target_f1']\n",
      "pre drop  98640\n",
      "2015\n",
      "4\n",
      "post drop model 75360\n",
      "setting parameters\n",
      "they are: 1.0 l2 lbfgs\n"
     ]
    },
    {
     "name": "stderr",
     "output_type": "stream",
     "text": [
      "/var/folders/hj/n94x31sj08bdmgwjs6ybxbf40000gn/T/ipykernel_93000/2770474830.py:40: SettingWithCopyWarning: \n",
      "A value is trying to be set on a copy of a slice from a DataFrame.\n",
      "Try using .loc[row_indexer,col_indexer] = value instead\n",
      "\n",
      "See the caveats in the documentation: https://pandas.pydata.org/pandas-docs/stable/user_guide/indexing.html#returning-a-view-versus-a-copy\n",
      "  fittedframe_future[deps[0]+'_pred'] = res[:, 1]\n"
     ]
    },
    {
     "name": "stdout",
     "output_type": "stream",
     "text": [
      "2015\n",
      "5\n",
      "['ons_target_f1']\n",
      "pre drop  98640\n",
      "2015\n",
      "5\n",
      "post drop model 75600\n",
      "setting parameters\n",
      "they are: 1.0 l2 lbfgs\n"
     ]
    },
    {
     "name": "stderr",
     "output_type": "stream",
     "text": [
      "/var/folders/hj/n94x31sj08bdmgwjs6ybxbf40000gn/T/ipykernel_93000/2770474830.py:40: SettingWithCopyWarning: \n",
      "A value is trying to be set on a copy of a slice from a DataFrame.\n",
      "Try using .loc[row_indexer,col_indexer] = value instead\n",
      "\n",
      "See the caveats in the documentation: https://pandas.pydata.org/pandas-docs/stable/user_guide/indexing.html#returning-a-view-versus-a-copy\n",
      "  fittedframe_future[deps[0]+'_pred'] = res[:, 1]\n"
     ]
    },
    {
     "name": "stdout",
     "output_type": "stream",
     "text": [
      "2015\n",
      "6\n",
      "['ons_target_f1']\n",
      "pre drop  98640\n",
      "2015\n",
      "6\n",
      "post drop model 75840\n",
      "setting parameters\n",
      "they are: 1.0 l2 lbfgs\n"
     ]
    },
    {
     "name": "stderr",
     "output_type": "stream",
     "text": [
      "/var/folders/hj/n94x31sj08bdmgwjs6ybxbf40000gn/T/ipykernel_93000/2770474830.py:40: SettingWithCopyWarning: \n",
      "A value is trying to be set on a copy of a slice from a DataFrame.\n",
      "Try using .loc[row_indexer,col_indexer] = value instead\n",
      "\n",
      "See the caveats in the documentation: https://pandas.pydata.org/pandas-docs/stable/user_guide/indexing.html#returning-a-view-versus-a-copy\n",
      "  fittedframe_future[deps[0]+'_pred'] = res[:, 1]\n"
     ]
    },
    {
     "name": "stdout",
     "output_type": "stream",
     "text": [
      "2015\n",
      "7\n",
      "['ons_target_f1']\n",
      "pre drop  98640\n",
      "2015\n",
      "7\n",
      "post drop model 76080\n",
      "setting parameters\n",
      "they are: 1.0 l2 lbfgs\n"
     ]
    },
    {
     "name": "stderr",
     "output_type": "stream",
     "text": [
      "/var/folders/hj/n94x31sj08bdmgwjs6ybxbf40000gn/T/ipykernel_93000/2770474830.py:40: SettingWithCopyWarning: \n",
      "A value is trying to be set on a copy of a slice from a DataFrame.\n",
      "Try using .loc[row_indexer,col_indexer] = value instead\n",
      "\n",
      "See the caveats in the documentation: https://pandas.pydata.org/pandas-docs/stable/user_guide/indexing.html#returning-a-view-versus-a-copy\n",
      "  fittedframe_future[deps[0]+'_pred'] = res[:, 1]\n"
     ]
    },
    {
     "name": "stdout",
     "output_type": "stream",
     "text": [
      "2015\n",
      "8\n",
      "['ons_target_f1']\n",
      "pre drop  98640\n",
      "2015\n",
      "8\n",
      "post drop model 76320\n",
      "setting parameters\n",
      "they are: 1.0 l2 lbfgs\n"
     ]
    },
    {
     "name": "stderr",
     "output_type": "stream",
     "text": [
      "/var/folders/hj/n94x31sj08bdmgwjs6ybxbf40000gn/T/ipykernel_93000/2770474830.py:40: SettingWithCopyWarning: \n",
      "A value is trying to be set on a copy of a slice from a DataFrame.\n",
      "Try using .loc[row_indexer,col_indexer] = value instead\n",
      "\n",
      "See the caveats in the documentation: https://pandas.pydata.org/pandas-docs/stable/user_guide/indexing.html#returning-a-view-versus-a-copy\n",
      "  fittedframe_future[deps[0]+'_pred'] = res[:, 1]\n"
     ]
    },
    {
     "name": "stdout",
     "output_type": "stream",
     "text": [
      "2015\n",
      "9\n",
      "['ons_target_f1']\n",
      "pre drop  98640\n",
      "2015\n",
      "9\n",
      "post drop model 76560\n",
      "setting parameters\n",
      "they are: 1.0 l2 lbfgs\n"
     ]
    },
    {
     "name": "stderr",
     "output_type": "stream",
     "text": [
      "/var/folders/hj/n94x31sj08bdmgwjs6ybxbf40000gn/T/ipykernel_93000/2770474830.py:40: SettingWithCopyWarning: \n",
      "A value is trying to be set on a copy of a slice from a DataFrame.\n",
      "Try using .loc[row_indexer,col_indexer] = value instead\n",
      "\n",
      "See the caveats in the documentation: https://pandas.pydata.org/pandas-docs/stable/user_guide/indexing.html#returning-a-view-versus-a-copy\n",
      "  fittedframe_future[deps[0]+'_pred'] = res[:, 1]\n"
     ]
    },
    {
     "name": "stdout",
     "output_type": "stream",
     "text": [
      "2015\n",
      "10\n",
      "['ons_target_f1']\n",
      "pre drop  98640\n",
      "2015\n",
      "10\n",
      "post drop model 76800\n",
      "setting parameters\n",
      "they are: 1.0 l2 lbfgs\n"
     ]
    },
    {
     "name": "stderr",
     "output_type": "stream",
     "text": [
      "/var/folders/hj/n94x31sj08bdmgwjs6ybxbf40000gn/T/ipykernel_93000/2770474830.py:40: SettingWithCopyWarning: \n",
      "A value is trying to be set on a copy of a slice from a DataFrame.\n",
      "Try using .loc[row_indexer,col_indexer] = value instead\n",
      "\n",
      "See the caveats in the documentation: https://pandas.pydata.org/pandas-docs/stable/user_guide/indexing.html#returning-a-view-versus-a-copy\n",
      "  fittedframe_future[deps[0]+'_pred'] = res[:, 1]\n"
     ]
    },
    {
     "name": "stdout",
     "output_type": "stream",
     "text": [
      "2015\n",
      "11\n",
      "['ons_target_f1']\n",
      "pre drop  98640\n",
      "2015\n",
      "11\n",
      "post drop model 77040\n",
      "setting parameters\n",
      "they are: 1.0 l2 lbfgs\n"
     ]
    },
    {
     "name": "stderr",
     "output_type": "stream",
     "text": [
      "/var/folders/hj/n94x31sj08bdmgwjs6ybxbf40000gn/T/ipykernel_93000/2770474830.py:40: SettingWithCopyWarning: \n",
      "A value is trying to be set on a copy of a slice from a DataFrame.\n",
      "Try using .loc[row_indexer,col_indexer] = value instead\n",
      "\n",
      "See the caveats in the documentation: https://pandas.pydata.org/pandas-docs/stable/user_guide/indexing.html#returning-a-view-versus-a-copy\n",
      "  fittedframe_future[deps[0]+'_pred'] = res[:, 1]\n"
     ]
    },
    {
     "name": "stdout",
     "output_type": "stream",
     "text": [
      "2015\n",
      "12\n",
      "['ons_target_f1']\n",
      "pre drop  98640\n",
      "2015\n",
      "12\n",
      "post drop model 77280\n",
      "setting parameters\n",
      "they are: 1.0 l2 lbfgs\n"
     ]
    },
    {
     "name": "stderr",
     "output_type": "stream",
     "text": [
      "/var/folders/hj/n94x31sj08bdmgwjs6ybxbf40000gn/T/ipykernel_93000/2770474830.py:40: SettingWithCopyWarning: \n",
      "A value is trying to be set on a copy of a slice from a DataFrame.\n",
      "Try using .loc[row_indexer,col_indexer] = value instead\n",
      "\n",
      "See the caveats in the documentation: https://pandas.pydata.org/pandas-docs/stable/user_guide/indexing.html#returning-a-view-versus-a-copy\n",
      "  fittedframe_future[deps[0]+'_pred'] = res[:, 1]\n"
     ]
    },
    {
     "name": "stdout",
     "output_type": "stream",
     "text": [
      "before 2023, going till 13\n",
      "2016\n",
      "1\n",
      "['ons_target_f1']\n",
      "pre drop  98640\n",
      "2016\n",
      "1\n",
      "post drop model 77520\n",
      "setting parameters\n",
      "they are: 1.0 l2 lbfgs\n"
     ]
    },
    {
     "name": "stderr",
     "output_type": "stream",
     "text": [
      "/var/folders/hj/n94x31sj08bdmgwjs6ybxbf40000gn/T/ipykernel_93000/2770474830.py:40: SettingWithCopyWarning: \n",
      "A value is trying to be set on a copy of a slice from a DataFrame.\n",
      "Try using .loc[row_indexer,col_indexer] = value instead\n",
      "\n",
      "See the caveats in the documentation: https://pandas.pydata.org/pandas-docs/stable/user_guide/indexing.html#returning-a-view-versus-a-copy\n",
      "  fittedframe_future[deps[0]+'_pred'] = res[:, 1]\n"
     ]
    },
    {
     "name": "stdout",
     "output_type": "stream",
     "text": [
      "2016\n",
      "2\n",
      "['ons_target_f1']\n",
      "pre drop  98640\n",
      "2016\n",
      "2\n",
      "post drop model 77760\n",
      "setting parameters\n",
      "they are: 1.0 l2 lbfgs\n"
     ]
    },
    {
     "name": "stderr",
     "output_type": "stream",
     "text": [
      "/var/folders/hj/n94x31sj08bdmgwjs6ybxbf40000gn/T/ipykernel_93000/2770474830.py:40: SettingWithCopyWarning: \n",
      "A value is trying to be set on a copy of a slice from a DataFrame.\n",
      "Try using .loc[row_indexer,col_indexer] = value instead\n",
      "\n",
      "See the caveats in the documentation: https://pandas.pydata.org/pandas-docs/stable/user_guide/indexing.html#returning-a-view-versus-a-copy\n",
      "  fittedframe_future[deps[0]+'_pred'] = res[:, 1]\n"
     ]
    },
    {
     "name": "stdout",
     "output_type": "stream",
     "text": [
      "2016\n",
      "3\n",
      "['ons_target_f1']\n",
      "pre drop  98640\n",
      "2016\n",
      "3\n",
      "post drop model 78000\n",
      "setting parameters\n",
      "they are: 1.0 l2 lbfgs\n"
     ]
    },
    {
     "name": "stderr",
     "output_type": "stream",
     "text": [
      "/var/folders/hj/n94x31sj08bdmgwjs6ybxbf40000gn/T/ipykernel_93000/2770474830.py:40: SettingWithCopyWarning: \n",
      "A value is trying to be set on a copy of a slice from a DataFrame.\n",
      "Try using .loc[row_indexer,col_indexer] = value instead\n",
      "\n",
      "See the caveats in the documentation: https://pandas.pydata.org/pandas-docs/stable/user_guide/indexing.html#returning-a-view-versus-a-copy\n",
      "  fittedframe_future[deps[0]+'_pred'] = res[:, 1]\n"
     ]
    },
    {
     "name": "stdout",
     "output_type": "stream",
     "text": [
      "2016\n",
      "4\n",
      "['ons_target_f1']\n",
      "pre drop  98640\n",
      "2016\n",
      "4\n",
      "post drop model 78240\n",
      "setting parameters\n",
      "they are: 1.0 l2 lbfgs\n"
     ]
    },
    {
     "name": "stderr",
     "output_type": "stream",
     "text": [
      "/var/folders/hj/n94x31sj08bdmgwjs6ybxbf40000gn/T/ipykernel_93000/2770474830.py:40: SettingWithCopyWarning: \n",
      "A value is trying to be set on a copy of a slice from a DataFrame.\n",
      "Try using .loc[row_indexer,col_indexer] = value instead\n",
      "\n",
      "See the caveats in the documentation: https://pandas.pydata.org/pandas-docs/stable/user_guide/indexing.html#returning-a-view-versus-a-copy\n",
      "  fittedframe_future[deps[0]+'_pred'] = res[:, 1]\n"
     ]
    },
    {
     "name": "stdout",
     "output_type": "stream",
     "text": [
      "2016\n",
      "5\n",
      "['ons_target_f1']\n",
      "pre drop  98640\n",
      "2016\n",
      "5\n",
      "post drop model 78480\n",
      "setting parameters\n",
      "they are: 1.0 l2 lbfgs\n"
     ]
    },
    {
     "name": "stderr",
     "output_type": "stream",
     "text": [
      "/var/folders/hj/n94x31sj08bdmgwjs6ybxbf40000gn/T/ipykernel_93000/2770474830.py:40: SettingWithCopyWarning: \n",
      "A value is trying to be set on a copy of a slice from a DataFrame.\n",
      "Try using .loc[row_indexer,col_indexer] = value instead\n",
      "\n",
      "See the caveats in the documentation: https://pandas.pydata.org/pandas-docs/stable/user_guide/indexing.html#returning-a-view-versus-a-copy\n",
      "  fittedframe_future[deps[0]+'_pred'] = res[:, 1]\n"
     ]
    },
    {
     "name": "stdout",
     "output_type": "stream",
     "text": [
      "2016\n",
      "6\n",
      "['ons_target_f1']\n",
      "pre drop  98640\n",
      "2016\n",
      "6\n",
      "post drop model 78720\n",
      "setting parameters\n",
      "they are: 1.0 l2 lbfgs\n"
     ]
    },
    {
     "name": "stderr",
     "output_type": "stream",
     "text": [
      "/var/folders/hj/n94x31sj08bdmgwjs6ybxbf40000gn/T/ipykernel_93000/2770474830.py:40: SettingWithCopyWarning: \n",
      "A value is trying to be set on a copy of a slice from a DataFrame.\n",
      "Try using .loc[row_indexer,col_indexer] = value instead\n",
      "\n",
      "See the caveats in the documentation: https://pandas.pydata.org/pandas-docs/stable/user_guide/indexing.html#returning-a-view-versus-a-copy\n",
      "  fittedframe_future[deps[0]+'_pred'] = res[:, 1]\n"
     ]
    },
    {
     "name": "stdout",
     "output_type": "stream",
     "text": [
      "2016\n",
      "7\n",
      "['ons_target_f1']\n",
      "pre drop  98640\n",
      "2016\n",
      "7\n",
      "post drop model 78960\n",
      "setting parameters\n",
      "they are: 1.0 l2 lbfgs\n"
     ]
    },
    {
     "name": "stderr",
     "output_type": "stream",
     "text": [
      "/var/folders/hj/n94x31sj08bdmgwjs6ybxbf40000gn/T/ipykernel_93000/2770474830.py:40: SettingWithCopyWarning: \n",
      "A value is trying to be set on a copy of a slice from a DataFrame.\n",
      "Try using .loc[row_indexer,col_indexer] = value instead\n",
      "\n",
      "See the caveats in the documentation: https://pandas.pydata.org/pandas-docs/stable/user_guide/indexing.html#returning-a-view-versus-a-copy\n",
      "  fittedframe_future[deps[0]+'_pred'] = res[:, 1]\n"
     ]
    },
    {
     "name": "stdout",
     "output_type": "stream",
     "text": [
      "2016\n",
      "8\n",
      "['ons_target_f1']\n",
      "pre drop  98640\n",
      "2016\n",
      "8\n",
      "post drop model 79200\n",
      "setting parameters\n",
      "they are: 1.0 l2 lbfgs\n"
     ]
    },
    {
     "name": "stderr",
     "output_type": "stream",
     "text": [
      "/var/folders/hj/n94x31sj08bdmgwjs6ybxbf40000gn/T/ipykernel_93000/2770474830.py:40: SettingWithCopyWarning: \n",
      "A value is trying to be set on a copy of a slice from a DataFrame.\n",
      "Try using .loc[row_indexer,col_indexer] = value instead\n",
      "\n",
      "See the caveats in the documentation: https://pandas.pydata.org/pandas-docs/stable/user_guide/indexing.html#returning-a-view-versus-a-copy\n",
      "  fittedframe_future[deps[0]+'_pred'] = res[:, 1]\n"
     ]
    },
    {
     "name": "stdout",
     "output_type": "stream",
     "text": [
      "2016\n",
      "9\n",
      "['ons_target_f1']\n",
      "pre drop  98640\n",
      "2016\n",
      "9\n",
      "post drop model 79440\n",
      "setting parameters\n",
      "they are: 1.0 l2 lbfgs\n"
     ]
    },
    {
     "name": "stderr",
     "output_type": "stream",
     "text": [
      "/var/folders/hj/n94x31sj08bdmgwjs6ybxbf40000gn/T/ipykernel_93000/2770474830.py:40: SettingWithCopyWarning: \n",
      "A value is trying to be set on a copy of a slice from a DataFrame.\n",
      "Try using .loc[row_indexer,col_indexer] = value instead\n",
      "\n",
      "See the caveats in the documentation: https://pandas.pydata.org/pandas-docs/stable/user_guide/indexing.html#returning-a-view-versus-a-copy\n",
      "  fittedframe_future[deps[0]+'_pred'] = res[:, 1]\n"
     ]
    },
    {
     "name": "stdout",
     "output_type": "stream",
     "text": [
      "2016\n",
      "10\n",
      "['ons_target_f1']\n",
      "pre drop  98640\n",
      "2016\n",
      "10\n",
      "post drop model 79680\n",
      "setting parameters\n",
      "they are: 1.0 l2 lbfgs\n"
     ]
    },
    {
     "name": "stderr",
     "output_type": "stream",
     "text": [
      "/var/folders/hj/n94x31sj08bdmgwjs6ybxbf40000gn/T/ipykernel_93000/2770474830.py:40: SettingWithCopyWarning: \n",
      "A value is trying to be set on a copy of a slice from a DataFrame.\n",
      "Try using .loc[row_indexer,col_indexer] = value instead\n",
      "\n",
      "See the caveats in the documentation: https://pandas.pydata.org/pandas-docs/stable/user_guide/indexing.html#returning-a-view-versus-a-copy\n",
      "  fittedframe_future[deps[0]+'_pred'] = res[:, 1]\n"
     ]
    },
    {
     "name": "stdout",
     "output_type": "stream",
     "text": [
      "2016\n",
      "11\n",
      "['ons_target_f1']\n",
      "pre drop  98640\n",
      "2016\n",
      "11\n",
      "post drop model 79920\n",
      "setting parameters\n",
      "they are: 1.0 l2 lbfgs\n"
     ]
    },
    {
     "name": "stderr",
     "output_type": "stream",
     "text": [
      "/var/folders/hj/n94x31sj08bdmgwjs6ybxbf40000gn/T/ipykernel_93000/2770474830.py:40: SettingWithCopyWarning: \n",
      "A value is trying to be set on a copy of a slice from a DataFrame.\n",
      "Try using .loc[row_indexer,col_indexer] = value instead\n",
      "\n",
      "See the caveats in the documentation: https://pandas.pydata.org/pandas-docs/stable/user_guide/indexing.html#returning-a-view-versus-a-copy\n",
      "  fittedframe_future[deps[0]+'_pred'] = res[:, 1]\n"
     ]
    },
    {
     "name": "stdout",
     "output_type": "stream",
     "text": [
      "2016\n",
      "12\n",
      "['ons_target_f1']\n",
      "pre drop  98640\n",
      "2016\n",
      "12\n",
      "post drop model 80160\n",
      "setting parameters\n",
      "they are: 1.0 l2 lbfgs\n"
     ]
    },
    {
     "name": "stderr",
     "output_type": "stream",
     "text": [
      "/var/folders/hj/n94x31sj08bdmgwjs6ybxbf40000gn/T/ipykernel_93000/2770474830.py:40: SettingWithCopyWarning: \n",
      "A value is trying to be set on a copy of a slice from a DataFrame.\n",
      "Try using .loc[row_indexer,col_indexer] = value instead\n",
      "\n",
      "See the caveats in the documentation: https://pandas.pydata.org/pandas-docs/stable/user_guide/indexing.html#returning-a-view-versus-a-copy\n",
      "  fittedframe_future[deps[0]+'_pred'] = res[:, 1]\n"
     ]
    },
    {
     "name": "stdout",
     "output_type": "stream",
     "text": [
      "before 2023, going till 13\n",
      "2017\n",
      "1\n",
      "['ons_target_f1']\n",
      "pre drop  98640\n",
      "2017\n",
      "1\n",
      "post drop model 80400\n",
      "setting parameters\n",
      "they are: 1.0 l2 lbfgs\n"
     ]
    },
    {
     "name": "stderr",
     "output_type": "stream",
     "text": [
      "/var/folders/hj/n94x31sj08bdmgwjs6ybxbf40000gn/T/ipykernel_93000/2770474830.py:40: SettingWithCopyWarning: \n",
      "A value is trying to be set on a copy of a slice from a DataFrame.\n",
      "Try using .loc[row_indexer,col_indexer] = value instead\n",
      "\n",
      "See the caveats in the documentation: https://pandas.pydata.org/pandas-docs/stable/user_guide/indexing.html#returning-a-view-versus-a-copy\n",
      "  fittedframe_future[deps[0]+'_pred'] = res[:, 1]\n"
     ]
    },
    {
     "name": "stdout",
     "output_type": "stream",
     "text": [
      "2017\n",
      "2\n",
      "['ons_target_f1']\n",
      "pre drop  98640\n",
      "2017\n",
      "2\n",
      "post drop model 80640\n",
      "setting parameters\n",
      "they are: 1.0 l2 lbfgs\n"
     ]
    },
    {
     "name": "stderr",
     "output_type": "stream",
     "text": [
      "/var/folders/hj/n94x31sj08bdmgwjs6ybxbf40000gn/T/ipykernel_93000/2770474830.py:40: SettingWithCopyWarning: \n",
      "A value is trying to be set on a copy of a slice from a DataFrame.\n",
      "Try using .loc[row_indexer,col_indexer] = value instead\n",
      "\n",
      "See the caveats in the documentation: https://pandas.pydata.org/pandas-docs/stable/user_guide/indexing.html#returning-a-view-versus-a-copy\n",
      "  fittedframe_future[deps[0]+'_pred'] = res[:, 1]\n"
     ]
    },
    {
     "name": "stdout",
     "output_type": "stream",
     "text": [
      "2017\n",
      "3\n",
      "['ons_target_f1']\n",
      "pre drop  98640\n",
      "2017\n",
      "3\n",
      "post drop model 80880\n",
      "setting parameters\n",
      "they are: 1.0 l2 lbfgs\n"
     ]
    },
    {
     "name": "stderr",
     "output_type": "stream",
     "text": [
      "/var/folders/hj/n94x31sj08bdmgwjs6ybxbf40000gn/T/ipykernel_93000/2770474830.py:40: SettingWithCopyWarning: \n",
      "A value is trying to be set on a copy of a slice from a DataFrame.\n",
      "Try using .loc[row_indexer,col_indexer] = value instead\n",
      "\n",
      "See the caveats in the documentation: https://pandas.pydata.org/pandas-docs/stable/user_guide/indexing.html#returning-a-view-versus-a-copy\n",
      "  fittedframe_future[deps[0]+'_pred'] = res[:, 1]\n"
     ]
    },
    {
     "name": "stdout",
     "output_type": "stream",
     "text": [
      "2017\n",
      "4\n",
      "['ons_target_f1']\n",
      "pre drop  98640\n",
      "2017\n",
      "4\n",
      "post drop model 81120\n",
      "setting parameters\n",
      "they are: 1.0 l2 lbfgs\n"
     ]
    },
    {
     "name": "stderr",
     "output_type": "stream",
     "text": [
      "/var/folders/hj/n94x31sj08bdmgwjs6ybxbf40000gn/T/ipykernel_93000/2770474830.py:40: SettingWithCopyWarning: \n",
      "A value is trying to be set on a copy of a slice from a DataFrame.\n",
      "Try using .loc[row_indexer,col_indexer] = value instead\n",
      "\n",
      "See the caveats in the documentation: https://pandas.pydata.org/pandas-docs/stable/user_guide/indexing.html#returning-a-view-versus-a-copy\n",
      "  fittedframe_future[deps[0]+'_pred'] = res[:, 1]\n"
     ]
    },
    {
     "name": "stdout",
     "output_type": "stream",
     "text": [
      "2017\n",
      "5\n",
      "['ons_target_f1']\n",
      "pre drop  98640\n",
      "2017\n",
      "5\n",
      "post drop model 81360\n",
      "setting parameters\n",
      "they are: 1.0 l2 lbfgs\n"
     ]
    },
    {
     "name": "stderr",
     "output_type": "stream",
     "text": [
      "/var/folders/hj/n94x31sj08bdmgwjs6ybxbf40000gn/T/ipykernel_93000/2770474830.py:40: SettingWithCopyWarning: \n",
      "A value is trying to be set on a copy of a slice from a DataFrame.\n",
      "Try using .loc[row_indexer,col_indexer] = value instead\n",
      "\n",
      "See the caveats in the documentation: https://pandas.pydata.org/pandas-docs/stable/user_guide/indexing.html#returning-a-view-versus-a-copy\n",
      "  fittedframe_future[deps[0]+'_pred'] = res[:, 1]\n"
     ]
    },
    {
     "name": "stdout",
     "output_type": "stream",
     "text": [
      "2017\n",
      "6\n",
      "['ons_target_f1']\n",
      "pre drop  98640\n",
      "2017\n",
      "6\n",
      "post drop model 81600\n",
      "setting parameters\n",
      "they are: 1.0 l2 lbfgs\n"
     ]
    },
    {
     "name": "stderr",
     "output_type": "stream",
     "text": [
      "/var/folders/hj/n94x31sj08bdmgwjs6ybxbf40000gn/T/ipykernel_93000/2770474830.py:40: SettingWithCopyWarning: \n",
      "A value is trying to be set on a copy of a slice from a DataFrame.\n",
      "Try using .loc[row_indexer,col_indexer] = value instead\n",
      "\n",
      "See the caveats in the documentation: https://pandas.pydata.org/pandas-docs/stable/user_guide/indexing.html#returning-a-view-versus-a-copy\n",
      "  fittedframe_future[deps[0]+'_pred'] = res[:, 1]\n"
     ]
    },
    {
     "name": "stdout",
     "output_type": "stream",
     "text": [
      "2017\n",
      "7\n",
      "['ons_target_f1']\n",
      "pre drop  98640\n",
      "2017\n",
      "7\n",
      "post drop model 81840\n",
      "setting parameters\n",
      "they are: 1.0 l2 lbfgs\n"
     ]
    },
    {
     "name": "stderr",
     "output_type": "stream",
     "text": [
      "/var/folders/hj/n94x31sj08bdmgwjs6ybxbf40000gn/T/ipykernel_93000/2770474830.py:40: SettingWithCopyWarning: \n",
      "A value is trying to be set on a copy of a slice from a DataFrame.\n",
      "Try using .loc[row_indexer,col_indexer] = value instead\n",
      "\n",
      "See the caveats in the documentation: https://pandas.pydata.org/pandas-docs/stable/user_guide/indexing.html#returning-a-view-versus-a-copy\n",
      "  fittedframe_future[deps[0]+'_pred'] = res[:, 1]\n"
     ]
    },
    {
     "name": "stdout",
     "output_type": "stream",
     "text": [
      "2017\n",
      "8\n",
      "['ons_target_f1']\n",
      "pre drop  98640\n",
      "2017\n",
      "8\n",
      "post drop model 82080\n",
      "setting parameters\n",
      "they are: 1.0 l2 lbfgs\n"
     ]
    },
    {
     "name": "stderr",
     "output_type": "stream",
     "text": [
      "/var/folders/hj/n94x31sj08bdmgwjs6ybxbf40000gn/T/ipykernel_93000/2770474830.py:40: SettingWithCopyWarning: \n",
      "A value is trying to be set on a copy of a slice from a DataFrame.\n",
      "Try using .loc[row_indexer,col_indexer] = value instead\n",
      "\n",
      "See the caveats in the documentation: https://pandas.pydata.org/pandas-docs/stable/user_guide/indexing.html#returning-a-view-versus-a-copy\n",
      "  fittedframe_future[deps[0]+'_pred'] = res[:, 1]\n"
     ]
    },
    {
     "name": "stdout",
     "output_type": "stream",
     "text": [
      "2017\n",
      "9\n",
      "['ons_target_f1']\n",
      "pre drop  98640\n",
      "2017\n",
      "9\n",
      "post drop model 82320\n",
      "setting parameters\n",
      "they are: 1.0 l2 lbfgs\n"
     ]
    },
    {
     "name": "stderr",
     "output_type": "stream",
     "text": [
      "/var/folders/hj/n94x31sj08bdmgwjs6ybxbf40000gn/T/ipykernel_93000/2770474830.py:40: SettingWithCopyWarning: \n",
      "A value is trying to be set on a copy of a slice from a DataFrame.\n",
      "Try using .loc[row_indexer,col_indexer] = value instead\n",
      "\n",
      "See the caveats in the documentation: https://pandas.pydata.org/pandas-docs/stable/user_guide/indexing.html#returning-a-view-versus-a-copy\n",
      "  fittedframe_future[deps[0]+'_pred'] = res[:, 1]\n"
     ]
    },
    {
     "name": "stdout",
     "output_type": "stream",
     "text": [
      "2017\n",
      "10\n",
      "['ons_target_f1']\n",
      "pre drop  98640\n",
      "2017\n",
      "10\n",
      "post drop model 82560\n",
      "setting parameters\n",
      "they are: 1.0 l2 lbfgs\n"
     ]
    },
    {
     "name": "stderr",
     "output_type": "stream",
     "text": [
      "/var/folders/hj/n94x31sj08bdmgwjs6ybxbf40000gn/T/ipykernel_93000/2770474830.py:40: SettingWithCopyWarning: \n",
      "A value is trying to be set on a copy of a slice from a DataFrame.\n",
      "Try using .loc[row_indexer,col_indexer] = value instead\n",
      "\n",
      "See the caveats in the documentation: https://pandas.pydata.org/pandas-docs/stable/user_guide/indexing.html#returning-a-view-versus-a-copy\n",
      "  fittedframe_future[deps[0]+'_pred'] = res[:, 1]\n"
     ]
    },
    {
     "name": "stdout",
     "output_type": "stream",
     "text": [
      "2017\n",
      "11\n",
      "['ons_target_f1']\n",
      "pre drop  98640\n",
      "2017\n",
      "11\n",
      "post drop model 82800\n",
      "setting parameters\n",
      "they are: 1.0 l2 lbfgs\n"
     ]
    },
    {
     "name": "stderr",
     "output_type": "stream",
     "text": [
      "/var/folders/hj/n94x31sj08bdmgwjs6ybxbf40000gn/T/ipykernel_93000/2770474830.py:40: SettingWithCopyWarning: \n",
      "A value is trying to be set on a copy of a slice from a DataFrame.\n",
      "Try using .loc[row_indexer,col_indexer] = value instead\n",
      "\n",
      "See the caveats in the documentation: https://pandas.pydata.org/pandas-docs/stable/user_guide/indexing.html#returning-a-view-versus-a-copy\n",
      "  fittedframe_future[deps[0]+'_pred'] = res[:, 1]\n"
     ]
    },
    {
     "name": "stdout",
     "output_type": "stream",
     "text": [
      "2017\n",
      "12\n",
      "['ons_target_f1']\n",
      "pre drop  98640\n",
      "2017\n",
      "12\n",
      "post drop model 83040\n",
      "setting parameters\n",
      "they are: 1.0 l2 lbfgs\n"
     ]
    },
    {
     "name": "stderr",
     "output_type": "stream",
     "text": [
      "/var/folders/hj/n94x31sj08bdmgwjs6ybxbf40000gn/T/ipykernel_93000/2770474830.py:40: SettingWithCopyWarning: \n",
      "A value is trying to be set on a copy of a slice from a DataFrame.\n",
      "Try using .loc[row_indexer,col_indexer] = value instead\n",
      "\n",
      "See the caveats in the documentation: https://pandas.pydata.org/pandas-docs/stable/user_guide/indexing.html#returning-a-view-versus-a-copy\n",
      "  fittedframe_future[deps[0]+'_pred'] = res[:, 1]\n"
     ]
    },
    {
     "name": "stdout",
     "output_type": "stream",
     "text": [
      "before 2023, going till 13\n",
      "2018\n",
      "1\n",
      "['ons_target_f1']\n",
      "pre drop  98640\n",
      "2018\n",
      "1\n",
      "post drop model 83280\n",
      "setting parameters\n",
      "they are: 1.0 l2 lbfgs\n"
     ]
    },
    {
     "name": "stderr",
     "output_type": "stream",
     "text": [
      "/var/folders/hj/n94x31sj08bdmgwjs6ybxbf40000gn/T/ipykernel_93000/2770474830.py:40: SettingWithCopyWarning: \n",
      "A value is trying to be set on a copy of a slice from a DataFrame.\n",
      "Try using .loc[row_indexer,col_indexer] = value instead\n",
      "\n",
      "See the caveats in the documentation: https://pandas.pydata.org/pandas-docs/stable/user_guide/indexing.html#returning-a-view-versus-a-copy\n",
      "  fittedframe_future[deps[0]+'_pred'] = res[:, 1]\n"
     ]
    },
    {
     "name": "stdout",
     "output_type": "stream",
     "text": [
      "2018\n",
      "2\n",
      "['ons_target_f1']\n",
      "pre drop  98640\n",
      "2018\n",
      "2\n",
      "post drop model 83520\n",
      "setting parameters\n",
      "they are: 1.0 l2 lbfgs\n"
     ]
    },
    {
     "name": "stderr",
     "output_type": "stream",
     "text": [
      "/var/folders/hj/n94x31sj08bdmgwjs6ybxbf40000gn/T/ipykernel_93000/2770474830.py:40: SettingWithCopyWarning: \n",
      "A value is trying to be set on a copy of a slice from a DataFrame.\n",
      "Try using .loc[row_indexer,col_indexer] = value instead\n",
      "\n",
      "See the caveats in the documentation: https://pandas.pydata.org/pandas-docs/stable/user_guide/indexing.html#returning-a-view-versus-a-copy\n",
      "  fittedframe_future[deps[0]+'_pred'] = res[:, 1]\n"
     ]
    },
    {
     "name": "stdout",
     "output_type": "stream",
     "text": [
      "2018\n",
      "3\n",
      "['ons_target_f1']\n",
      "pre drop  98640\n",
      "2018\n",
      "3\n",
      "post drop model 83760\n",
      "setting parameters\n",
      "they are: 1.0 l2 lbfgs\n"
     ]
    },
    {
     "name": "stderr",
     "output_type": "stream",
     "text": [
      "/var/folders/hj/n94x31sj08bdmgwjs6ybxbf40000gn/T/ipykernel_93000/2770474830.py:40: SettingWithCopyWarning: \n",
      "A value is trying to be set on a copy of a slice from a DataFrame.\n",
      "Try using .loc[row_indexer,col_indexer] = value instead\n",
      "\n",
      "See the caveats in the documentation: https://pandas.pydata.org/pandas-docs/stable/user_guide/indexing.html#returning-a-view-versus-a-copy\n",
      "  fittedframe_future[deps[0]+'_pred'] = res[:, 1]\n"
     ]
    },
    {
     "name": "stdout",
     "output_type": "stream",
     "text": [
      "2018\n",
      "4\n",
      "['ons_target_f1']\n",
      "pre drop  98640\n",
      "2018\n",
      "4\n",
      "post drop model 84000\n",
      "setting parameters\n",
      "they are: 1.0 l2 lbfgs\n"
     ]
    },
    {
     "name": "stderr",
     "output_type": "stream",
     "text": [
      "/var/folders/hj/n94x31sj08bdmgwjs6ybxbf40000gn/T/ipykernel_93000/2770474830.py:40: SettingWithCopyWarning: \n",
      "A value is trying to be set on a copy of a slice from a DataFrame.\n",
      "Try using .loc[row_indexer,col_indexer] = value instead\n",
      "\n",
      "See the caveats in the documentation: https://pandas.pydata.org/pandas-docs/stable/user_guide/indexing.html#returning-a-view-versus-a-copy\n",
      "  fittedframe_future[deps[0]+'_pred'] = res[:, 1]\n"
     ]
    },
    {
     "name": "stdout",
     "output_type": "stream",
     "text": [
      "2018\n",
      "5\n",
      "['ons_target_f1']\n",
      "pre drop  98640\n",
      "2018\n",
      "5\n",
      "post drop model 84240\n",
      "setting parameters\n",
      "they are: 1.0 l2 lbfgs\n"
     ]
    },
    {
     "name": "stderr",
     "output_type": "stream",
     "text": [
      "/var/folders/hj/n94x31sj08bdmgwjs6ybxbf40000gn/T/ipykernel_93000/2770474830.py:40: SettingWithCopyWarning: \n",
      "A value is trying to be set on a copy of a slice from a DataFrame.\n",
      "Try using .loc[row_indexer,col_indexer] = value instead\n",
      "\n",
      "See the caveats in the documentation: https://pandas.pydata.org/pandas-docs/stable/user_guide/indexing.html#returning-a-view-versus-a-copy\n",
      "  fittedframe_future[deps[0]+'_pred'] = res[:, 1]\n"
     ]
    },
    {
     "name": "stdout",
     "output_type": "stream",
     "text": [
      "2018\n",
      "6\n",
      "['ons_target_f1']\n",
      "pre drop  98640\n",
      "2018\n",
      "6\n",
      "post drop model 84480\n",
      "setting parameters\n",
      "they are: 1.0 l2 lbfgs\n"
     ]
    },
    {
     "name": "stderr",
     "output_type": "stream",
     "text": [
      "/var/folders/hj/n94x31sj08bdmgwjs6ybxbf40000gn/T/ipykernel_93000/2770474830.py:40: SettingWithCopyWarning: \n",
      "A value is trying to be set on a copy of a slice from a DataFrame.\n",
      "Try using .loc[row_indexer,col_indexer] = value instead\n",
      "\n",
      "See the caveats in the documentation: https://pandas.pydata.org/pandas-docs/stable/user_guide/indexing.html#returning-a-view-versus-a-copy\n",
      "  fittedframe_future[deps[0]+'_pred'] = res[:, 1]\n"
     ]
    },
    {
     "name": "stdout",
     "output_type": "stream",
     "text": [
      "2018\n",
      "7\n",
      "['ons_target_f1']\n",
      "pre drop  98640\n",
      "2018\n",
      "7\n",
      "post drop model 84720\n",
      "setting parameters\n",
      "they are: 1.0 l2 lbfgs\n"
     ]
    },
    {
     "name": "stderr",
     "output_type": "stream",
     "text": [
      "/var/folders/hj/n94x31sj08bdmgwjs6ybxbf40000gn/T/ipykernel_93000/2770474830.py:40: SettingWithCopyWarning: \n",
      "A value is trying to be set on a copy of a slice from a DataFrame.\n",
      "Try using .loc[row_indexer,col_indexer] = value instead\n",
      "\n",
      "See the caveats in the documentation: https://pandas.pydata.org/pandas-docs/stable/user_guide/indexing.html#returning-a-view-versus-a-copy\n",
      "  fittedframe_future[deps[0]+'_pred'] = res[:, 1]\n"
     ]
    },
    {
     "name": "stdout",
     "output_type": "stream",
     "text": [
      "2018\n",
      "8\n",
      "['ons_target_f1']\n",
      "pre drop  98640\n",
      "2018\n",
      "8\n",
      "post drop model 84960\n",
      "setting parameters\n",
      "they are: 1.0 l2 lbfgs\n"
     ]
    },
    {
     "name": "stderr",
     "output_type": "stream",
     "text": [
      "/var/folders/hj/n94x31sj08bdmgwjs6ybxbf40000gn/T/ipykernel_93000/2770474830.py:40: SettingWithCopyWarning: \n",
      "A value is trying to be set on a copy of a slice from a DataFrame.\n",
      "Try using .loc[row_indexer,col_indexer] = value instead\n",
      "\n",
      "See the caveats in the documentation: https://pandas.pydata.org/pandas-docs/stable/user_guide/indexing.html#returning-a-view-versus-a-copy\n",
      "  fittedframe_future[deps[0]+'_pred'] = res[:, 1]\n"
     ]
    },
    {
     "name": "stdout",
     "output_type": "stream",
     "text": [
      "2018\n",
      "9\n",
      "['ons_target_f1']\n",
      "pre drop  98640\n",
      "2018\n",
      "9\n",
      "post drop model 85200\n",
      "setting parameters\n",
      "they are: 1.0 l2 lbfgs\n"
     ]
    },
    {
     "name": "stderr",
     "output_type": "stream",
     "text": [
      "/var/folders/hj/n94x31sj08bdmgwjs6ybxbf40000gn/T/ipykernel_93000/2770474830.py:40: SettingWithCopyWarning: \n",
      "A value is trying to be set on a copy of a slice from a DataFrame.\n",
      "Try using .loc[row_indexer,col_indexer] = value instead\n",
      "\n",
      "See the caveats in the documentation: https://pandas.pydata.org/pandas-docs/stable/user_guide/indexing.html#returning-a-view-versus-a-copy\n",
      "  fittedframe_future[deps[0]+'_pred'] = res[:, 1]\n"
     ]
    },
    {
     "name": "stdout",
     "output_type": "stream",
     "text": [
      "2018\n",
      "10\n",
      "['ons_target_f1']\n",
      "pre drop  98640\n",
      "2018\n",
      "10\n",
      "post drop model 85440\n",
      "setting parameters\n",
      "they are: 1.0 l2 lbfgs\n"
     ]
    },
    {
     "name": "stderr",
     "output_type": "stream",
     "text": [
      "/var/folders/hj/n94x31sj08bdmgwjs6ybxbf40000gn/T/ipykernel_93000/2770474830.py:40: SettingWithCopyWarning: \n",
      "A value is trying to be set on a copy of a slice from a DataFrame.\n",
      "Try using .loc[row_indexer,col_indexer] = value instead\n",
      "\n",
      "See the caveats in the documentation: https://pandas.pydata.org/pandas-docs/stable/user_guide/indexing.html#returning-a-view-versus-a-copy\n",
      "  fittedframe_future[deps[0]+'_pred'] = res[:, 1]\n"
     ]
    },
    {
     "name": "stdout",
     "output_type": "stream",
     "text": [
      "2018\n",
      "11\n",
      "['ons_target_f1']\n",
      "pre drop  98640\n",
      "2018\n",
      "11\n",
      "post drop model 85680\n",
      "setting parameters\n",
      "they are: 1.0 l2 lbfgs\n"
     ]
    },
    {
     "name": "stderr",
     "output_type": "stream",
     "text": [
      "/var/folders/hj/n94x31sj08bdmgwjs6ybxbf40000gn/T/ipykernel_93000/2770474830.py:40: SettingWithCopyWarning: \n",
      "A value is trying to be set on a copy of a slice from a DataFrame.\n",
      "Try using .loc[row_indexer,col_indexer] = value instead\n",
      "\n",
      "See the caveats in the documentation: https://pandas.pydata.org/pandas-docs/stable/user_guide/indexing.html#returning-a-view-versus-a-copy\n",
      "  fittedframe_future[deps[0]+'_pred'] = res[:, 1]\n"
     ]
    },
    {
     "name": "stdout",
     "output_type": "stream",
     "text": [
      "2018\n",
      "12\n",
      "['ons_target_f1']\n",
      "pre drop  98640\n",
      "2018\n",
      "12\n",
      "post drop model 85920\n",
      "setting parameters\n",
      "they are: 1.0 l2 lbfgs\n"
     ]
    },
    {
     "name": "stderr",
     "output_type": "stream",
     "text": [
      "/var/folders/hj/n94x31sj08bdmgwjs6ybxbf40000gn/T/ipykernel_93000/2770474830.py:40: SettingWithCopyWarning: \n",
      "A value is trying to be set on a copy of a slice from a DataFrame.\n",
      "Try using .loc[row_indexer,col_indexer] = value instead\n",
      "\n",
      "See the caveats in the documentation: https://pandas.pydata.org/pandas-docs/stable/user_guide/indexing.html#returning-a-view-versus-a-copy\n",
      "  fittedframe_future[deps[0]+'_pred'] = res[:, 1]\n"
     ]
    },
    {
     "name": "stdout",
     "output_type": "stream",
     "text": [
      "before 2023, going till 13\n",
      "2019\n",
      "1\n",
      "['ons_target_f1']\n",
      "pre drop  98640\n",
      "2019\n",
      "1\n",
      "post drop model 86160\n",
      "setting parameters\n",
      "they are: 1.0 l2 lbfgs\n"
     ]
    },
    {
     "name": "stderr",
     "output_type": "stream",
     "text": [
      "/var/folders/hj/n94x31sj08bdmgwjs6ybxbf40000gn/T/ipykernel_93000/2770474830.py:40: SettingWithCopyWarning: \n",
      "A value is trying to be set on a copy of a slice from a DataFrame.\n",
      "Try using .loc[row_indexer,col_indexer] = value instead\n",
      "\n",
      "See the caveats in the documentation: https://pandas.pydata.org/pandas-docs/stable/user_guide/indexing.html#returning-a-view-versus-a-copy\n",
      "  fittedframe_future[deps[0]+'_pred'] = res[:, 1]\n"
     ]
    },
    {
     "name": "stdout",
     "output_type": "stream",
     "text": [
      "2019\n",
      "2\n",
      "['ons_target_f1']\n",
      "pre drop  98640\n",
      "2019\n",
      "2\n",
      "post drop model 86400\n",
      "setting parameters\n",
      "they are: 1.0 l2 lbfgs\n"
     ]
    },
    {
     "name": "stderr",
     "output_type": "stream",
     "text": [
      "/var/folders/hj/n94x31sj08bdmgwjs6ybxbf40000gn/T/ipykernel_93000/2770474830.py:40: SettingWithCopyWarning: \n",
      "A value is trying to be set on a copy of a slice from a DataFrame.\n",
      "Try using .loc[row_indexer,col_indexer] = value instead\n",
      "\n",
      "See the caveats in the documentation: https://pandas.pydata.org/pandas-docs/stable/user_guide/indexing.html#returning-a-view-versus-a-copy\n",
      "  fittedframe_future[deps[0]+'_pred'] = res[:, 1]\n"
     ]
    },
    {
     "name": "stdout",
     "output_type": "stream",
     "text": [
      "2019\n",
      "3\n",
      "['ons_target_f1']\n",
      "pre drop  98640\n",
      "2019\n",
      "3\n",
      "post drop model 86640\n",
      "setting parameters\n",
      "they are: 1.0 l2 lbfgs\n"
     ]
    },
    {
     "name": "stderr",
     "output_type": "stream",
     "text": [
      "/var/folders/hj/n94x31sj08bdmgwjs6ybxbf40000gn/T/ipykernel_93000/2770474830.py:40: SettingWithCopyWarning: \n",
      "A value is trying to be set on a copy of a slice from a DataFrame.\n",
      "Try using .loc[row_indexer,col_indexer] = value instead\n",
      "\n",
      "See the caveats in the documentation: https://pandas.pydata.org/pandas-docs/stable/user_guide/indexing.html#returning-a-view-versus-a-copy\n",
      "  fittedframe_future[deps[0]+'_pred'] = res[:, 1]\n"
     ]
    },
    {
     "name": "stdout",
     "output_type": "stream",
     "text": [
      "2019\n",
      "4\n",
      "['ons_target_f1']\n",
      "pre drop  98640\n",
      "2019\n",
      "4\n",
      "post drop model 86880\n",
      "setting parameters\n",
      "they are: 1.0 l2 lbfgs\n"
     ]
    },
    {
     "name": "stderr",
     "output_type": "stream",
     "text": [
      "/var/folders/hj/n94x31sj08bdmgwjs6ybxbf40000gn/T/ipykernel_93000/2770474830.py:40: SettingWithCopyWarning: \n",
      "A value is trying to be set on a copy of a slice from a DataFrame.\n",
      "Try using .loc[row_indexer,col_indexer] = value instead\n",
      "\n",
      "See the caveats in the documentation: https://pandas.pydata.org/pandas-docs/stable/user_guide/indexing.html#returning-a-view-versus-a-copy\n",
      "  fittedframe_future[deps[0]+'_pred'] = res[:, 1]\n"
     ]
    },
    {
     "name": "stdout",
     "output_type": "stream",
     "text": [
      "2019\n",
      "5\n",
      "['ons_target_f1']\n",
      "pre drop  98640\n",
      "2019\n",
      "5\n",
      "post drop model 87120\n",
      "setting parameters\n",
      "they are: 1.0 l2 lbfgs\n"
     ]
    },
    {
     "name": "stderr",
     "output_type": "stream",
     "text": [
      "/var/folders/hj/n94x31sj08bdmgwjs6ybxbf40000gn/T/ipykernel_93000/2770474830.py:40: SettingWithCopyWarning: \n",
      "A value is trying to be set on a copy of a slice from a DataFrame.\n",
      "Try using .loc[row_indexer,col_indexer] = value instead\n",
      "\n",
      "See the caveats in the documentation: https://pandas.pydata.org/pandas-docs/stable/user_guide/indexing.html#returning-a-view-versus-a-copy\n",
      "  fittedframe_future[deps[0]+'_pred'] = res[:, 1]\n"
     ]
    },
    {
     "name": "stdout",
     "output_type": "stream",
     "text": [
      "2019\n",
      "6\n",
      "['ons_target_f1']\n",
      "pre drop  98640\n",
      "2019\n",
      "6\n",
      "post drop model 87360\n",
      "setting parameters\n",
      "they are: 1.0 l2 lbfgs\n"
     ]
    },
    {
     "name": "stderr",
     "output_type": "stream",
     "text": [
      "/var/folders/hj/n94x31sj08bdmgwjs6ybxbf40000gn/T/ipykernel_93000/2770474830.py:40: SettingWithCopyWarning: \n",
      "A value is trying to be set on a copy of a slice from a DataFrame.\n",
      "Try using .loc[row_indexer,col_indexer] = value instead\n",
      "\n",
      "See the caveats in the documentation: https://pandas.pydata.org/pandas-docs/stable/user_guide/indexing.html#returning-a-view-versus-a-copy\n",
      "  fittedframe_future[deps[0]+'_pred'] = res[:, 1]\n"
     ]
    },
    {
     "name": "stdout",
     "output_type": "stream",
     "text": [
      "2019\n",
      "7\n",
      "['ons_target_f1']\n",
      "pre drop  98640\n",
      "2019\n",
      "7\n",
      "post drop model 87600\n",
      "setting parameters\n",
      "they are: 1.0 l2 lbfgs\n"
     ]
    },
    {
     "name": "stderr",
     "output_type": "stream",
     "text": [
      "/var/folders/hj/n94x31sj08bdmgwjs6ybxbf40000gn/T/ipykernel_93000/2770474830.py:40: SettingWithCopyWarning: \n",
      "A value is trying to be set on a copy of a slice from a DataFrame.\n",
      "Try using .loc[row_indexer,col_indexer] = value instead\n",
      "\n",
      "See the caveats in the documentation: https://pandas.pydata.org/pandas-docs/stable/user_guide/indexing.html#returning-a-view-versus-a-copy\n",
      "  fittedframe_future[deps[0]+'_pred'] = res[:, 1]\n"
     ]
    },
    {
     "name": "stdout",
     "output_type": "stream",
     "text": [
      "2019\n",
      "8\n",
      "['ons_target_f1']\n",
      "pre drop  98640\n",
      "2019\n",
      "8\n",
      "post drop model 87840\n",
      "setting parameters\n",
      "they are: 1.0 l2 lbfgs\n"
     ]
    },
    {
     "name": "stderr",
     "output_type": "stream",
     "text": [
      "/var/folders/hj/n94x31sj08bdmgwjs6ybxbf40000gn/T/ipykernel_93000/2770474830.py:40: SettingWithCopyWarning: \n",
      "A value is trying to be set on a copy of a slice from a DataFrame.\n",
      "Try using .loc[row_indexer,col_indexer] = value instead\n",
      "\n",
      "See the caveats in the documentation: https://pandas.pydata.org/pandas-docs/stable/user_guide/indexing.html#returning-a-view-versus-a-copy\n",
      "  fittedframe_future[deps[0]+'_pred'] = res[:, 1]\n"
     ]
    },
    {
     "name": "stdout",
     "output_type": "stream",
     "text": [
      "2019\n",
      "9\n",
      "['ons_target_f1']\n",
      "pre drop  98640\n",
      "2019\n",
      "9\n",
      "post drop model 88080\n",
      "setting parameters\n",
      "they are: 1.0 l2 lbfgs\n"
     ]
    },
    {
     "name": "stderr",
     "output_type": "stream",
     "text": [
      "/var/folders/hj/n94x31sj08bdmgwjs6ybxbf40000gn/T/ipykernel_93000/2770474830.py:40: SettingWithCopyWarning: \n",
      "A value is trying to be set on a copy of a slice from a DataFrame.\n",
      "Try using .loc[row_indexer,col_indexer] = value instead\n",
      "\n",
      "See the caveats in the documentation: https://pandas.pydata.org/pandas-docs/stable/user_guide/indexing.html#returning-a-view-versus-a-copy\n",
      "  fittedframe_future[deps[0]+'_pred'] = res[:, 1]\n"
     ]
    },
    {
     "name": "stdout",
     "output_type": "stream",
     "text": [
      "2019\n",
      "10\n",
      "['ons_target_f1']\n",
      "pre drop  98640\n",
      "2019\n",
      "10\n",
      "post drop model 88320\n",
      "setting parameters\n",
      "they are: 1.0 l2 lbfgs\n"
     ]
    },
    {
     "name": "stderr",
     "output_type": "stream",
     "text": [
      "/var/folders/hj/n94x31sj08bdmgwjs6ybxbf40000gn/T/ipykernel_93000/2770474830.py:40: SettingWithCopyWarning: \n",
      "A value is trying to be set on a copy of a slice from a DataFrame.\n",
      "Try using .loc[row_indexer,col_indexer] = value instead\n",
      "\n",
      "See the caveats in the documentation: https://pandas.pydata.org/pandas-docs/stable/user_guide/indexing.html#returning-a-view-versus-a-copy\n",
      "  fittedframe_future[deps[0]+'_pred'] = res[:, 1]\n"
     ]
    },
    {
     "name": "stdout",
     "output_type": "stream",
     "text": [
      "2019\n",
      "11\n",
      "['ons_target_f1']\n",
      "pre drop  98640\n",
      "2019\n",
      "11\n",
      "post drop model 88560\n",
      "setting parameters\n",
      "they are: 1.0 l2 lbfgs\n"
     ]
    },
    {
     "name": "stderr",
     "output_type": "stream",
     "text": [
      "/var/folders/hj/n94x31sj08bdmgwjs6ybxbf40000gn/T/ipykernel_93000/2770474830.py:40: SettingWithCopyWarning: \n",
      "A value is trying to be set on a copy of a slice from a DataFrame.\n",
      "Try using .loc[row_indexer,col_indexer] = value instead\n",
      "\n",
      "See the caveats in the documentation: https://pandas.pydata.org/pandas-docs/stable/user_guide/indexing.html#returning-a-view-versus-a-copy\n",
      "  fittedframe_future[deps[0]+'_pred'] = res[:, 1]\n"
     ]
    },
    {
     "name": "stdout",
     "output_type": "stream",
     "text": [
      "2019\n",
      "12\n",
      "['ons_target_f1']\n",
      "pre drop  98640\n",
      "2019\n",
      "12\n",
      "post drop model 88800\n",
      "setting parameters\n",
      "they are: 1.0 l2 lbfgs\n"
     ]
    },
    {
     "name": "stderr",
     "output_type": "stream",
     "text": [
      "/var/folders/hj/n94x31sj08bdmgwjs6ybxbf40000gn/T/ipykernel_93000/2770474830.py:40: SettingWithCopyWarning: \n",
      "A value is trying to be set on a copy of a slice from a DataFrame.\n",
      "Try using .loc[row_indexer,col_indexer] = value instead\n",
      "\n",
      "See the caveats in the documentation: https://pandas.pydata.org/pandas-docs/stable/user_guide/indexing.html#returning-a-view-versus-a-copy\n",
      "  fittedframe_future[deps[0]+'_pred'] = res[:, 1]\n"
     ]
    },
    {
     "name": "stdout",
     "output_type": "stream",
     "text": [
      "before 2023, going till 13\n",
      "2020\n",
      "1\n",
      "['ons_target_f1']\n",
      "pre drop  98640\n",
      "2020\n",
      "1\n",
      "post drop model 89040\n",
      "setting parameters\n",
      "they are: 1.0 l2 lbfgs\n"
     ]
    },
    {
     "name": "stderr",
     "output_type": "stream",
     "text": [
      "/var/folders/hj/n94x31sj08bdmgwjs6ybxbf40000gn/T/ipykernel_93000/2770474830.py:40: SettingWithCopyWarning: \n",
      "A value is trying to be set on a copy of a slice from a DataFrame.\n",
      "Try using .loc[row_indexer,col_indexer] = value instead\n",
      "\n",
      "See the caveats in the documentation: https://pandas.pydata.org/pandas-docs/stable/user_guide/indexing.html#returning-a-view-versus-a-copy\n",
      "  fittedframe_future[deps[0]+'_pred'] = res[:, 1]\n"
     ]
    },
    {
     "name": "stdout",
     "output_type": "stream",
     "text": [
      "2020\n",
      "2\n",
      "['ons_target_f1']\n",
      "pre drop  98640\n",
      "2020\n",
      "2\n",
      "post drop model 89280\n",
      "setting parameters\n",
      "they are: 1.0 l2 lbfgs\n"
     ]
    },
    {
     "name": "stderr",
     "output_type": "stream",
     "text": [
      "/var/folders/hj/n94x31sj08bdmgwjs6ybxbf40000gn/T/ipykernel_93000/2770474830.py:40: SettingWithCopyWarning: \n",
      "A value is trying to be set on a copy of a slice from a DataFrame.\n",
      "Try using .loc[row_indexer,col_indexer] = value instead\n",
      "\n",
      "See the caveats in the documentation: https://pandas.pydata.org/pandas-docs/stable/user_guide/indexing.html#returning-a-view-versus-a-copy\n",
      "  fittedframe_future[deps[0]+'_pred'] = res[:, 1]\n"
     ]
    },
    {
     "name": "stdout",
     "output_type": "stream",
     "text": [
      "2020\n",
      "3\n",
      "['ons_target_f1']\n",
      "pre drop  98640\n",
      "2020\n",
      "3\n",
      "post drop model 89520\n",
      "setting parameters\n",
      "they are: 1.0 l2 lbfgs\n"
     ]
    },
    {
     "name": "stderr",
     "output_type": "stream",
     "text": [
      "/var/folders/hj/n94x31sj08bdmgwjs6ybxbf40000gn/T/ipykernel_93000/2770474830.py:40: SettingWithCopyWarning: \n",
      "A value is trying to be set on a copy of a slice from a DataFrame.\n",
      "Try using .loc[row_indexer,col_indexer] = value instead\n",
      "\n",
      "See the caveats in the documentation: https://pandas.pydata.org/pandas-docs/stable/user_guide/indexing.html#returning-a-view-versus-a-copy\n",
      "  fittedframe_future[deps[0]+'_pred'] = res[:, 1]\n"
     ]
    },
    {
     "name": "stdout",
     "output_type": "stream",
     "text": [
      "2020\n",
      "4\n",
      "['ons_target_f1']\n",
      "pre drop  98640\n",
      "2020\n",
      "4\n",
      "post drop model 89760\n",
      "setting parameters\n",
      "they are: 1.0 l2 lbfgs\n"
     ]
    },
    {
     "name": "stderr",
     "output_type": "stream",
     "text": [
      "/var/folders/hj/n94x31sj08bdmgwjs6ybxbf40000gn/T/ipykernel_93000/2770474830.py:40: SettingWithCopyWarning: \n",
      "A value is trying to be set on a copy of a slice from a DataFrame.\n",
      "Try using .loc[row_indexer,col_indexer] = value instead\n",
      "\n",
      "See the caveats in the documentation: https://pandas.pydata.org/pandas-docs/stable/user_guide/indexing.html#returning-a-view-versus-a-copy\n",
      "  fittedframe_future[deps[0]+'_pred'] = res[:, 1]\n"
     ]
    },
    {
     "name": "stdout",
     "output_type": "stream",
     "text": [
      "2020\n",
      "5\n",
      "['ons_target_f1']\n",
      "pre drop  98640\n",
      "2020\n",
      "5\n",
      "post drop model 90000\n",
      "setting parameters\n",
      "they are: 1.0 l2 lbfgs\n"
     ]
    },
    {
     "name": "stderr",
     "output_type": "stream",
     "text": [
      "/var/folders/hj/n94x31sj08bdmgwjs6ybxbf40000gn/T/ipykernel_93000/2770474830.py:40: SettingWithCopyWarning: \n",
      "A value is trying to be set on a copy of a slice from a DataFrame.\n",
      "Try using .loc[row_indexer,col_indexer] = value instead\n",
      "\n",
      "See the caveats in the documentation: https://pandas.pydata.org/pandas-docs/stable/user_guide/indexing.html#returning-a-view-versus-a-copy\n",
      "  fittedframe_future[deps[0]+'_pred'] = res[:, 1]\n"
     ]
    },
    {
     "name": "stdout",
     "output_type": "stream",
     "text": [
      "2020\n",
      "6\n",
      "['ons_target_f1']\n",
      "pre drop  98640\n",
      "2020\n",
      "6\n",
      "post drop model 90240\n",
      "setting parameters\n",
      "they are: 1.0 l2 lbfgs\n"
     ]
    },
    {
     "name": "stderr",
     "output_type": "stream",
     "text": [
      "/var/folders/hj/n94x31sj08bdmgwjs6ybxbf40000gn/T/ipykernel_93000/2770474830.py:40: SettingWithCopyWarning: \n",
      "A value is trying to be set on a copy of a slice from a DataFrame.\n",
      "Try using .loc[row_indexer,col_indexer] = value instead\n",
      "\n",
      "See the caveats in the documentation: https://pandas.pydata.org/pandas-docs/stable/user_guide/indexing.html#returning-a-view-versus-a-copy\n",
      "  fittedframe_future[deps[0]+'_pred'] = res[:, 1]\n"
     ]
    },
    {
     "name": "stdout",
     "output_type": "stream",
     "text": [
      "2020\n",
      "7\n",
      "['ons_target_f1']\n",
      "pre drop  98640\n",
      "2020\n",
      "7\n",
      "post drop model 90480\n",
      "setting parameters\n",
      "they are: 1.0 l2 lbfgs\n"
     ]
    },
    {
     "name": "stderr",
     "output_type": "stream",
     "text": [
      "/var/folders/hj/n94x31sj08bdmgwjs6ybxbf40000gn/T/ipykernel_93000/2770474830.py:40: SettingWithCopyWarning: \n",
      "A value is trying to be set on a copy of a slice from a DataFrame.\n",
      "Try using .loc[row_indexer,col_indexer] = value instead\n",
      "\n",
      "See the caveats in the documentation: https://pandas.pydata.org/pandas-docs/stable/user_guide/indexing.html#returning-a-view-versus-a-copy\n",
      "  fittedframe_future[deps[0]+'_pred'] = res[:, 1]\n"
     ]
    },
    {
     "name": "stdout",
     "output_type": "stream",
     "text": [
      "2020\n",
      "8\n",
      "['ons_target_f1']\n",
      "pre drop  98640\n",
      "2020\n",
      "8\n",
      "post drop model 90720\n",
      "setting parameters\n",
      "they are: 1.0 l2 lbfgs\n"
     ]
    },
    {
     "name": "stderr",
     "output_type": "stream",
     "text": [
      "/var/folders/hj/n94x31sj08bdmgwjs6ybxbf40000gn/T/ipykernel_93000/2770474830.py:40: SettingWithCopyWarning: \n",
      "A value is trying to be set on a copy of a slice from a DataFrame.\n",
      "Try using .loc[row_indexer,col_indexer] = value instead\n",
      "\n",
      "See the caveats in the documentation: https://pandas.pydata.org/pandas-docs/stable/user_guide/indexing.html#returning-a-view-versus-a-copy\n",
      "  fittedframe_future[deps[0]+'_pred'] = res[:, 1]\n"
     ]
    },
    {
     "name": "stdout",
     "output_type": "stream",
     "text": [
      "2020\n",
      "9\n",
      "['ons_target_f1']\n",
      "pre drop  98640\n",
      "2020\n",
      "9\n",
      "post drop model 90960\n",
      "setting parameters\n",
      "they are: 1.0 l2 lbfgs\n"
     ]
    },
    {
     "name": "stderr",
     "output_type": "stream",
     "text": [
      "/var/folders/hj/n94x31sj08bdmgwjs6ybxbf40000gn/T/ipykernel_93000/2770474830.py:40: SettingWithCopyWarning: \n",
      "A value is trying to be set on a copy of a slice from a DataFrame.\n",
      "Try using .loc[row_indexer,col_indexer] = value instead\n",
      "\n",
      "See the caveats in the documentation: https://pandas.pydata.org/pandas-docs/stable/user_guide/indexing.html#returning-a-view-versus-a-copy\n",
      "  fittedframe_future[deps[0]+'_pred'] = res[:, 1]\n"
     ]
    },
    {
     "name": "stdout",
     "output_type": "stream",
     "text": [
      "2020\n",
      "10\n",
      "['ons_target_f1']\n",
      "pre drop  98640\n",
      "2020\n",
      "10\n",
      "post drop model 91200\n",
      "setting parameters\n",
      "they are: 1.0 l2 lbfgs\n"
     ]
    },
    {
     "name": "stderr",
     "output_type": "stream",
     "text": [
      "/var/folders/hj/n94x31sj08bdmgwjs6ybxbf40000gn/T/ipykernel_93000/2770474830.py:40: SettingWithCopyWarning: \n",
      "A value is trying to be set on a copy of a slice from a DataFrame.\n",
      "Try using .loc[row_indexer,col_indexer] = value instead\n",
      "\n",
      "See the caveats in the documentation: https://pandas.pydata.org/pandas-docs/stable/user_guide/indexing.html#returning-a-view-versus-a-copy\n",
      "  fittedframe_future[deps[0]+'_pred'] = res[:, 1]\n"
     ]
    },
    {
     "name": "stdout",
     "output_type": "stream",
     "text": [
      "2020\n",
      "11\n",
      "['ons_target_f1']\n",
      "pre drop  98640\n",
      "2020\n",
      "11\n",
      "post drop model 91440\n",
      "setting parameters\n",
      "they are: 1.0 l2 lbfgs\n"
     ]
    },
    {
     "name": "stderr",
     "output_type": "stream",
     "text": [
      "/var/folders/hj/n94x31sj08bdmgwjs6ybxbf40000gn/T/ipykernel_93000/2770474830.py:40: SettingWithCopyWarning: \n",
      "A value is trying to be set on a copy of a slice from a DataFrame.\n",
      "Try using .loc[row_indexer,col_indexer] = value instead\n",
      "\n",
      "See the caveats in the documentation: https://pandas.pydata.org/pandas-docs/stable/user_guide/indexing.html#returning-a-view-versus-a-copy\n",
      "  fittedframe_future[deps[0]+'_pred'] = res[:, 1]\n"
     ]
    },
    {
     "name": "stdout",
     "output_type": "stream",
     "text": [
      "2020\n",
      "12\n",
      "['ons_target_f1']\n",
      "pre drop  98640\n",
      "2020\n",
      "12\n",
      "post drop model 91680\n",
      "setting parameters\n",
      "they are: 1.0 l2 lbfgs\n"
     ]
    },
    {
     "name": "stderr",
     "output_type": "stream",
     "text": [
      "/var/folders/hj/n94x31sj08bdmgwjs6ybxbf40000gn/T/ipykernel_93000/2770474830.py:40: SettingWithCopyWarning: \n",
      "A value is trying to be set on a copy of a slice from a DataFrame.\n",
      "Try using .loc[row_indexer,col_indexer] = value instead\n",
      "\n",
      "See the caveats in the documentation: https://pandas.pydata.org/pandas-docs/stable/user_guide/indexing.html#returning-a-view-versus-a-copy\n",
      "  fittedframe_future[deps[0]+'_pred'] = res[:, 1]\n"
     ]
    },
    {
     "name": "stdout",
     "output_type": "stream",
     "text": [
      "before 2023, going till 13\n",
      "2021\n",
      "1\n",
      "['ons_target_f1']\n",
      "pre drop  98640\n",
      "2021\n",
      "1\n",
      "post drop model 91920\n",
      "setting parameters\n",
      "they are: 1.0 l2 lbfgs\n"
     ]
    },
    {
     "name": "stderr",
     "output_type": "stream",
     "text": [
      "/var/folders/hj/n94x31sj08bdmgwjs6ybxbf40000gn/T/ipykernel_93000/2770474830.py:40: SettingWithCopyWarning: \n",
      "A value is trying to be set on a copy of a slice from a DataFrame.\n",
      "Try using .loc[row_indexer,col_indexer] = value instead\n",
      "\n",
      "See the caveats in the documentation: https://pandas.pydata.org/pandas-docs/stable/user_guide/indexing.html#returning-a-view-versus-a-copy\n",
      "  fittedframe_future[deps[0]+'_pred'] = res[:, 1]\n"
     ]
    },
    {
     "name": "stdout",
     "output_type": "stream",
     "text": [
      "2021\n",
      "2\n",
      "['ons_target_f1']\n",
      "pre drop  98640\n",
      "2021\n",
      "2\n",
      "post drop model 92160\n",
      "setting parameters\n",
      "they are: 1.0 l2 lbfgs\n"
     ]
    },
    {
     "name": "stderr",
     "output_type": "stream",
     "text": [
      "/var/folders/hj/n94x31sj08bdmgwjs6ybxbf40000gn/T/ipykernel_93000/2770474830.py:40: SettingWithCopyWarning: \n",
      "A value is trying to be set on a copy of a slice from a DataFrame.\n",
      "Try using .loc[row_indexer,col_indexer] = value instead\n",
      "\n",
      "See the caveats in the documentation: https://pandas.pydata.org/pandas-docs/stable/user_guide/indexing.html#returning-a-view-versus-a-copy\n",
      "  fittedframe_future[deps[0]+'_pred'] = res[:, 1]\n"
     ]
    },
    {
     "name": "stdout",
     "output_type": "stream",
     "text": [
      "2021\n",
      "3\n",
      "['ons_target_f1']\n",
      "pre drop  98640\n",
      "2021\n",
      "3\n",
      "post drop model 92400\n",
      "setting parameters\n",
      "they are: 1.0 l2 lbfgs\n"
     ]
    },
    {
     "name": "stderr",
     "output_type": "stream",
     "text": [
      "/var/folders/hj/n94x31sj08bdmgwjs6ybxbf40000gn/T/ipykernel_93000/2770474830.py:40: SettingWithCopyWarning: \n",
      "A value is trying to be set on a copy of a slice from a DataFrame.\n",
      "Try using .loc[row_indexer,col_indexer] = value instead\n",
      "\n",
      "See the caveats in the documentation: https://pandas.pydata.org/pandas-docs/stable/user_guide/indexing.html#returning-a-view-versus-a-copy\n",
      "  fittedframe_future[deps[0]+'_pred'] = res[:, 1]\n"
     ]
    },
    {
     "name": "stdout",
     "output_type": "stream",
     "text": [
      "2021\n",
      "4\n",
      "['ons_target_f1']\n",
      "pre drop  98640\n",
      "2021\n",
      "4\n",
      "post drop model 92640\n",
      "setting parameters\n",
      "they are: 1.0 l2 lbfgs\n"
     ]
    },
    {
     "name": "stderr",
     "output_type": "stream",
     "text": [
      "/var/folders/hj/n94x31sj08bdmgwjs6ybxbf40000gn/T/ipykernel_93000/2770474830.py:40: SettingWithCopyWarning: \n",
      "A value is trying to be set on a copy of a slice from a DataFrame.\n",
      "Try using .loc[row_indexer,col_indexer] = value instead\n",
      "\n",
      "See the caveats in the documentation: https://pandas.pydata.org/pandas-docs/stable/user_guide/indexing.html#returning-a-view-versus-a-copy\n",
      "  fittedframe_future[deps[0]+'_pred'] = res[:, 1]\n"
     ]
    },
    {
     "name": "stdout",
     "output_type": "stream",
     "text": [
      "2021\n",
      "5\n",
      "['ons_target_f1']\n",
      "pre drop  98640\n",
      "2021\n",
      "5\n",
      "post drop model 92880\n",
      "setting parameters\n",
      "they are: 1.0 l2 lbfgs\n"
     ]
    },
    {
     "name": "stderr",
     "output_type": "stream",
     "text": [
      "/var/folders/hj/n94x31sj08bdmgwjs6ybxbf40000gn/T/ipykernel_93000/2770474830.py:40: SettingWithCopyWarning: \n",
      "A value is trying to be set on a copy of a slice from a DataFrame.\n",
      "Try using .loc[row_indexer,col_indexer] = value instead\n",
      "\n",
      "See the caveats in the documentation: https://pandas.pydata.org/pandas-docs/stable/user_guide/indexing.html#returning-a-view-versus-a-copy\n",
      "  fittedframe_future[deps[0]+'_pred'] = res[:, 1]\n"
     ]
    },
    {
     "name": "stdout",
     "output_type": "stream",
     "text": [
      "2021\n",
      "6\n",
      "['ons_target_f1']\n",
      "pre drop  98640\n",
      "2021\n",
      "6\n",
      "post drop model 93120\n",
      "setting parameters\n",
      "they are: 1.0 l2 lbfgs\n"
     ]
    },
    {
     "name": "stderr",
     "output_type": "stream",
     "text": [
      "/var/folders/hj/n94x31sj08bdmgwjs6ybxbf40000gn/T/ipykernel_93000/2770474830.py:40: SettingWithCopyWarning: \n",
      "A value is trying to be set on a copy of a slice from a DataFrame.\n",
      "Try using .loc[row_indexer,col_indexer] = value instead\n",
      "\n",
      "See the caveats in the documentation: https://pandas.pydata.org/pandas-docs/stable/user_guide/indexing.html#returning-a-view-versus-a-copy\n",
      "  fittedframe_future[deps[0]+'_pred'] = res[:, 1]\n"
     ]
    },
    {
     "name": "stdout",
     "output_type": "stream",
     "text": [
      "2021\n",
      "7\n",
      "['ons_target_f1']\n",
      "pre drop  98640\n",
      "2021\n",
      "7\n",
      "post drop model 93360\n",
      "setting parameters\n",
      "they are: 1.0 l2 lbfgs\n"
     ]
    },
    {
     "name": "stderr",
     "output_type": "stream",
     "text": [
      "/var/folders/hj/n94x31sj08bdmgwjs6ybxbf40000gn/T/ipykernel_93000/2770474830.py:40: SettingWithCopyWarning: \n",
      "A value is trying to be set on a copy of a slice from a DataFrame.\n",
      "Try using .loc[row_indexer,col_indexer] = value instead\n",
      "\n",
      "See the caveats in the documentation: https://pandas.pydata.org/pandas-docs/stable/user_guide/indexing.html#returning-a-view-versus-a-copy\n",
      "  fittedframe_future[deps[0]+'_pred'] = res[:, 1]\n"
     ]
    },
    {
     "name": "stdout",
     "output_type": "stream",
     "text": [
      "2021\n",
      "8\n",
      "['ons_target_f1']\n",
      "pre drop  98640\n",
      "2021\n",
      "8\n",
      "post drop model 93600\n",
      "setting parameters\n",
      "they are: 1.0 l2 lbfgs\n"
     ]
    },
    {
     "name": "stderr",
     "output_type": "stream",
     "text": [
      "/var/folders/hj/n94x31sj08bdmgwjs6ybxbf40000gn/T/ipykernel_93000/2770474830.py:40: SettingWithCopyWarning: \n",
      "A value is trying to be set on a copy of a slice from a DataFrame.\n",
      "Try using .loc[row_indexer,col_indexer] = value instead\n",
      "\n",
      "See the caveats in the documentation: https://pandas.pydata.org/pandas-docs/stable/user_guide/indexing.html#returning-a-view-versus-a-copy\n",
      "  fittedframe_future[deps[0]+'_pred'] = res[:, 1]\n"
     ]
    },
    {
     "name": "stdout",
     "output_type": "stream",
     "text": [
      "2021\n",
      "9\n",
      "['ons_target_f1']\n",
      "pre drop  98640\n",
      "2021\n",
      "9\n",
      "post drop model 93840\n",
      "setting parameters\n",
      "they are: 1.0 l2 lbfgs\n"
     ]
    },
    {
     "name": "stderr",
     "output_type": "stream",
     "text": [
      "/var/folders/hj/n94x31sj08bdmgwjs6ybxbf40000gn/T/ipykernel_93000/2770474830.py:40: SettingWithCopyWarning: \n",
      "A value is trying to be set on a copy of a slice from a DataFrame.\n",
      "Try using .loc[row_indexer,col_indexer] = value instead\n",
      "\n",
      "See the caveats in the documentation: https://pandas.pydata.org/pandas-docs/stable/user_guide/indexing.html#returning-a-view-versus-a-copy\n",
      "  fittedframe_future[deps[0]+'_pred'] = res[:, 1]\n"
     ]
    },
    {
     "name": "stdout",
     "output_type": "stream",
     "text": [
      "2021\n",
      "10\n",
      "['ons_target_f1']\n",
      "pre drop  98640\n",
      "2021\n",
      "10\n",
      "post drop model 94080\n",
      "setting parameters\n",
      "they are: 1.0 l2 lbfgs\n"
     ]
    },
    {
     "name": "stderr",
     "output_type": "stream",
     "text": [
      "/var/folders/hj/n94x31sj08bdmgwjs6ybxbf40000gn/T/ipykernel_93000/2770474830.py:40: SettingWithCopyWarning: \n",
      "A value is trying to be set on a copy of a slice from a DataFrame.\n",
      "Try using .loc[row_indexer,col_indexer] = value instead\n",
      "\n",
      "See the caveats in the documentation: https://pandas.pydata.org/pandas-docs/stable/user_guide/indexing.html#returning-a-view-versus-a-copy\n",
      "  fittedframe_future[deps[0]+'_pred'] = res[:, 1]\n"
     ]
    },
    {
     "name": "stdout",
     "output_type": "stream",
     "text": [
      "2021\n",
      "11\n",
      "['ons_target_f1']\n",
      "pre drop  98640\n",
      "2021\n",
      "11\n",
      "post drop model 94320\n",
      "setting parameters\n",
      "they are: 1.0 l2 lbfgs\n"
     ]
    },
    {
     "name": "stderr",
     "output_type": "stream",
     "text": [
      "/var/folders/hj/n94x31sj08bdmgwjs6ybxbf40000gn/T/ipykernel_93000/2770474830.py:40: SettingWithCopyWarning: \n",
      "A value is trying to be set on a copy of a slice from a DataFrame.\n",
      "Try using .loc[row_indexer,col_indexer] = value instead\n",
      "\n",
      "See the caveats in the documentation: https://pandas.pydata.org/pandas-docs/stable/user_guide/indexing.html#returning-a-view-versus-a-copy\n",
      "  fittedframe_future[deps[0]+'_pred'] = res[:, 1]\n"
     ]
    },
    {
     "name": "stdout",
     "output_type": "stream",
     "text": [
      "2021\n",
      "12\n",
      "['ons_target_f1']\n",
      "pre drop  98640\n",
      "2021\n",
      "12\n",
      "post drop model 94560\n",
      "setting parameters\n",
      "they are: 1.0 l2 lbfgs\n"
     ]
    },
    {
     "name": "stderr",
     "output_type": "stream",
     "text": [
      "/var/folders/hj/n94x31sj08bdmgwjs6ybxbf40000gn/T/ipykernel_93000/2770474830.py:40: SettingWithCopyWarning: \n",
      "A value is trying to be set on a copy of a slice from a DataFrame.\n",
      "Try using .loc[row_indexer,col_indexer] = value instead\n",
      "\n",
      "See the caveats in the documentation: https://pandas.pydata.org/pandas-docs/stable/user_guide/indexing.html#returning-a-view-versus-a-copy\n",
      "  fittedframe_future[deps[0]+'_pred'] = res[:, 1]\n"
     ]
    },
    {
     "name": "stdout",
     "output_type": "stream",
     "text": [
      "before 2023, going till 13\n",
      "2022\n",
      "1\n",
      "['ons_target_f1']\n",
      "pre drop  98640\n",
      "2022\n",
      "1\n",
      "post drop model 94800\n",
      "setting parameters\n",
      "they are: 1.0 l2 lbfgs\n"
     ]
    },
    {
     "name": "stderr",
     "output_type": "stream",
     "text": [
      "/var/folders/hj/n94x31sj08bdmgwjs6ybxbf40000gn/T/ipykernel_93000/2770474830.py:40: SettingWithCopyWarning: \n",
      "A value is trying to be set on a copy of a slice from a DataFrame.\n",
      "Try using .loc[row_indexer,col_indexer] = value instead\n",
      "\n",
      "See the caveats in the documentation: https://pandas.pydata.org/pandas-docs/stable/user_guide/indexing.html#returning-a-view-versus-a-copy\n",
      "  fittedframe_future[deps[0]+'_pred'] = res[:, 1]\n"
     ]
    },
    {
     "name": "stdout",
     "output_type": "stream",
     "text": [
      "2022\n",
      "2\n",
      "['ons_target_f1']\n",
      "pre drop  98640\n",
      "2022\n",
      "2\n",
      "post drop model 95040\n",
      "setting parameters\n",
      "they are: 1.0 l2 lbfgs\n"
     ]
    },
    {
     "name": "stderr",
     "output_type": "stream",
     "text": [
      "/var/folders/hj/n94x31sj08bdmgwjs6ybxbf40000gn/T/ipykernel_93000/2770474830.py:40: SettingWithCopyWarning: \n",
      "A value is trying to be set on a copy of a slice from a DataFrame.\n",
      "Try using .loc[row_indexer,col_indexer] = value instead\n",
      "\n",
      "See the caveats in the documentation: https://pandas.pydata.org/pandas-docs/stable/user_guide/indexing.html#returning-a-view-versus-a-copy\n",
      "  fittedframe_future[deps[0]+'_pred'] = res[:, 1]\n"
     ]
    },
    {
     "name": "stdout",
     "output_type": "stream",
     "text": [
      "2022\n",
      "3\n",
      "['ons_target_f1']\n",
      "pre drop  98640\n",
      "2022\n",
      "3\n",
      "post drop model 95280\n",
      "setting parameters\n",
      "they are: 1.0 l2 lbfgs\n"
     ]
    },
    {
     "name": "stderr",
     "output_type": "stream",
     "text": [
      "/var/folders/hj/n94x31sj08bdmgwjs6ybxbf40000gn/T/ipykernel_93000/2770474830.py:40: SettingWithCopyWarning: \n",
      "A value is trying to be set on a copy of a slice from a DataFrame.\n",
      "Try using .loc[row_indexer,col_indexer] = value instead\n",
      "\n",
      "See the caveats in the documentation: https://pandas.pydata.org/pandas-docs/stable/user_guide/indexing.html#returning-a-view-versus-a-copy\n",
      "  fittedframe_future[deps[0]+'_pred'] = res[:, 1]\n"
     ]
    },
    {
     "name": "stdout",
     "output_type": "stream",
     "text": [
      "2022\n",
      "4\n",
      "['ons_target_f1']\n",
      "pre drop  98640\n",
      "2022\n",
      "4\n",
      "post drop model 95520\n",
      "setting parameters\n",
      "they are: 1.0 l2 lbfgs\n"
     ]
    },
    {
     "name": "stderr",
     "output_type": "stream",
     "text": [
      "/var/folders/hj/n94x31sj08bdmgwjs6ybxbf40000gn/T/ipykernel_93000/2770474830.py:40: SettingWithCopyWarning: \n",
      "A value is trying to be set on a copy of a slice from a DataFrame.\n",
      "Try using .loc[row_indexer,col_indexer] = value instead\n",
      "\n",
      "See the caveats in the documentation: https://pandas.pydata.org/pandas-docs/stable/user_guide/indexing.html#returning-a-view-versus-a-copy\n",
      "  fittedframe_future[deps[0]+'_pred'] = res[:, 1]\n"
     ]
    },
    {
     "name": "stdout",
     "output_type": "stream",
     "text": [
      "2022\n",
      "5\n",
      "['ons_target_f1']\n",
      "pre drop  98640\n",
      "2022\n",
      "5\n",
      "post drop model 95760\n",
      "setting parameters\n",
      "they are: 1.0 l2 lbfgs\n"
     ]
    },
    {
     "name": "stderr",
     "output_type": "stream",
     "text": [
      "/var/folders/hj/n94x31sj08bdmgwjs6ybxbf40000gn/T/ipykernel_93000/2770474830.py:40: SettingWithCopyWarning: \n",
      "A value is trying to be set on a copy of a slice from a DataFrame.\n",
      "Try using .loc[row_indexer,col_indexer] = value instead\n",
      "\n",
      "See the caveats in the documentation: https://pandas.pydata.org/pandas-docs/stable/user_guide/indexing.html#returning-a-view-versus-a-copy\n",
      "  fittedframe_future[deps[0]+'_pred'] = res[:, 1]\n"
     ]
    },
    {
     "name": "stdout",
     "output_type": "stream",
     "text": [
      "2022\n",
      "6\n",
      "['ons_target_f1']\n",
      "pre drop  98640\n",
      "2022\n",
      "6\n",
      "post drop model 96000\n",
      "setting parameters\n",
      "they are: 1.0 l2 lbfgs\n"
     ]
    },
    {
     "name": "stderr",
     "output_type": "stream",
     "text": [
      "/var/folders/hj/n94x31sj08bdmgwjs6ybxbf40000gn/T/ipykernel_93000/2770474830.py:40: SettingWithCopyWarning: \n",
      "A value is trying to be set on a copy of a slice from a DataFrame.\n",
      "Try using .loc[row_indexer,col_indexer] = value instead\n",
      "\n",
      "See the caveats in the documentation: https://pandas.pydata.org/pandas-docs/stable/user_guide/indexing.html#returning-a-view-versus-a-copy\n",
      "  fittedframe_future[deps[0]+'_pred'] = res[:, 1]\n"
     ]
    },
    {
     "name": "stdout",
     "output_type": "stream",
     "text": [
      "2022\n",
      "7\n",
      "['ons_target_f1']\n",
      "pre drop  98640\n",
      "2022\n",
      "7\n",
      "post drop model 96240\n",
      "setting parameters\n",
      "they are: 1.0 l2 lbfgs\n"
     ]
    },
    {
     "name": "stderr",
     "output_type": "stream",
     "text": [
      "/var/folders/hj/n94x31sj08bdmgwjs6ybxbf40000gn/T/ipykernel_93000/2770474830.py:40: SettingWithCopyWarning: \n",
      "A value is trying to be set on a copy of a slice from a DataFrame.\n",
      "Try using .loc[row_indexer,col_indexer] = value instead\n",
      "\n",
      "See the caveats in the documentation: https://pandas.pydata.org/pandas-docs/stable/user_guide/indexing.html#returning-a-view-versus-a-copy\n",
      "  fittedframe_future[deps[0]+'_pred'] = res[:, 1]\n"
     ]
    },
    {
     "name": "stdout",
     "output_type": "stream",
     "text": [
      "2022\n",
      "8\n",
      "['ons_target_f1']\n",
      "pre drop  98640\n",
      "2022\n",
      "8\n",
      "post drop model 96480\n",
      "setting parameters\n",
      "they are: 1.0 l2 lbfgs\n"
     ]
    },
    {
     "name": "stderr",
     "output_type": "stream",
     "text": [
      "/var/folders/hj/n94x31sj08bdmgwjs6ybxbf40000gn/T/ipykernel_93000/2770474830.py:40: SettingWithCopyWarning: \n",
      "A value is trying to be set on a copy of a slice from a DataFrame.\n",
      "Try using .loc[row_indexer,col_indexer] = value instead\n",
      "\n",
      "See the caveats in the documentation: https://pandas.pydata.org/pandas-docs/stable/user_guide/indexing.html#returning-a-view-versus-a-copy\n",
      "  fittedframe_future[deps[0]+'_pred'] = res[:, 1]\n"
     ]
    },
    {
     "name": "stdout",
     "output_type": "stream",
     "text": [
      "2022\n",
      "9\n",
      "['ons_target_f1']\n",
      "pre drop  98640\n",
      "2022\n",
      "9\n",
      "post drop model 96720\n",
      "setting parameters\n",
      "they are: 1.0 l2 lbfgs\n"
     ]
    },
    {
     "name": "stderr",
     "output_type": "stream",
     "text": [
      "/var/folders/hj/n94x31sj08bdmgwjs6ybxbf40000gn/T/ipykernel_93000/2770474830.py:40: SettingWithCopyWarning: \n",
      "A value is trying to be set on a copy of a slice from a DataFrame.\n",
      "Try using .loc[row_indexer,col_indexer] = value instead\n",
      "\n",
      "See the caveats in the documentation: https://pandas.pydata.org/pandas-docs/stable/user_guide/indexing.html#returning-a-view-versus-a-copy\n",
      "  fittedframe_future[deps[0]+'_pred'] = res[:, 1]\n"
     ]
    },
    {
     "name": "stdout",
     "output_type": "stream",
     "text": [
      "2022\n",
      "10\n",
      "['ons_target_f1']\n",
      "pre drop  98640\n",
      "2022\n",
      "10\n",
      "post drop model 96960\n",
      "setting parameters\n",
      "they are: 1.0 l2 lbfgs\n"
     ]
    },
    {
     "name": "stderr",
     "output_type": "stream",
     "text": [
      "/var/folders/hj/n94x31sj08bdmgwjs6ybxbf40000gn/T/ipykernel_93000/2770474830.py:40: SettingWithCopyWarning: \n",
      "A value is trying to be set on a copy of a slice from a DataFrame.\n",
      "Try using .loc[row_indexer,col_indexer] = value instead\n",
      "\n",
      "See the caveats in the documentation: https://pandas.pydata.org/pandas-docs/stable/user_guide/indexing.html#returning-a-view-versus-a-copy\n",
      "  fittedframe_future[deps[0]+'_pred'] = res[:, 1]\n"
     ]
    },
    {
     "name": "stdout",
     "output_type": "stream",
     "text": [
      "2022\n",
      "11\n",
      "['ons_target_f1']\n",
      "pre drop  98640\n",
      "2022\n",
      "11\n",
      "post drop model 97200\n",
      "setting parameters\n",
      "they are: 1.0 l2 lbfgs\n"
     ]
    },
    {
     "name": "stderr",
     "output_type": "stream",
     "text": [
      "/var/folders/hj/n94x31sj08bdmgwjs6ybxbf40000gn/T/ipykernel_93000/2770474830.py:40: SettingWithCopyWarning: \n",
      "A value is trying to be set on a copy of a slice from a DataFrame.\n",
      "Try using .loc[row_indexer,col_indexer] = value instead\n",
      "\n",
      "See the caveats in the documentation: https://pandas.pydata.org/pandas-docs/stable/user_guide/indexing.html#returning-a-view-versus-a-copy\n",
      "  fittedframe_future[deps[0]+'_pred'] = res[:, 1]\n"
     ]
    },
    {
     "name": "stdout",
     "output_type": "stream",
     "text": [
      "2022\n",
      "12\n",
      "['ons_target_f1']\n",
      "pre drop  98640\n",
      "2022\n",
      "12\n",
      "post drop model 97440\n",
      "setting parameters\n",
      "they are: 1.0 l2 lbfgs\n"
     ]
    },
    {
     "name": "stderr",
     "output_type": "stream",
     "text": [
      "/var/folders/hj/n94x31sj08bdmgwjs6ybxbf40000gn/T/ipykernel_93000/2770474830.py:40: SettingWithCopyWarning: \n",
      "A value is trying to be set on a copy of a slice from a DataFrame.\n",
      "Try using .loc[row_indexer,col_indexer] = value instead\n",
      "\n",
      "See the caveats in the documentation: https://pandas.pydata.org/pandas-docs/stable/user_guide/indexing.html#returning-a-view-versus-a-copy\n",
      "  fittedframe_future[deps[0]+'_pred'] = res[:, 1]\n"
     ]
    },
    {
     "name": "stdout",
     "output_type": "stream",
     "text": [
      "in 2023, going till 4\n",
      "2023\n",
      "1\n",
      "['ons_target_f1']\n",
      "pre drop  98640\n",
      "2023\n",
      "1\n",
      "post drop model 97680\n",
      "setting parameters\n",
      "they are: 1.0 l2 lbfgs\n"
     ]
    },
    {
     "name": "stderr",
     "output_type": "stream",
     "text": [
      "/var/folders/hj/n94x31sj08bdmgwjs6ybxbf40000gn/T/ipykernel_93000/2770474830.py:40: SettingWithCopyWarning: \n",
      "A value is trying to be set on a copy of a slice from a DataFrame.\n",
      "Try using .loc[row_indexer,col_indexer] = value instead\n",
      "\n",
      "See the caveats in the documentation: https://pandas.pydata.org/pandas-docs/stable/user_guide/indexing.html#returning-a-view-versus-a-copy\n",
      "  fittedframe_future[deps[0]+'_pred'] = res[:, 1]\n"
     ]
    },
    {
     "name": "stdout",
     "output_type": "stream",
     "text": [
      "2023\n",
      "2\n",
      "['ons_target_f1']\n",
      "pre drop  98640\n",
      "2023\n",
      "2\n",
      "post drop model 97920\n",
      "setting parameters\n",
      "they are: 1.0 l2 lbfgs\n"
     ]
    },
    {
     "name": "stderr",
     "output_type": "stream",
     "text": [
      "/var/folders/hj/n94x31sj08bdmgwjs6ybxbf40000gn/T/ipykernel_93000/2770474830.py:40: SettingWithCopyWarning: \n",
      "A value is trying to be set on a copy of a slice from a DataFrame.\n",
      "Try using .loc[row_indexer,col_indexer] = value instead\n",
      "\n",
      "See the caveats in the documentation: https://pandas.pydata.org/pandas-docs/stable/user_guide/indexing.html#returning-a-view-versus-a-copy\n",
      "  fittedframe_future[deps[0]+'_pred'] = res[:, 1]\n"
     ]
    },
    {
     "name": "stdout",
     "output_type": "stream",
     "text": [
      "2023\n",
      "3\n",
      "['ons_target_f1']\n",
      "pre drop  98640\n",
      "2023\n",
      "3\n",
      "post drop model 98160\n",
      "setting parameters\n",
      "they are: 1.0 l2 lbfgs\n"
     ]
    },
    {
     "name": "stderr",
     "output_type": "stream",
     "text": [
      "/var/folders/hj/n94x31sj08bdmgwjs6ybxbf40000gn/T/ipykernel_93000/2770474830.py:40: SettingWithCopyWarning: \n",
      "A value is trying to be set on a copy of a slice from a DataFrame.\n",
      "Try using .loc[row_indexer,col_indexer] = value instead\n",
      "\n",
      "See the caveats in the documentation: https://pandas.pydata.org/pandas-docs/stable/user_guide/indexing.html#returning-a-view-versus-a-copy\n",
      "  fittedframe_future[deps[0]+'_pred'] = res[:, 1]\n"
     ]
    }
   ],
   "source": [
    "gendata=1\n",
    "\n",
    "depths = 8\n",
    "trees = 700\n",
    "min_samples_splits = 2\n",
    "min_samples_leafs = 100\n",
    "forward = 1\n",
    "startyearid = 2010\n",
    "deps = ['ons_target_f{}'.format(forward)]\n",
    "\n",
    "\n",
    "# Initialize an empty dataframe for storing fitted values\n",
    "fittedvalues=['isocode', 'year', 'month']\n",
    "fittedframe = pd.DataFrame(columns=['isocode','year','month'])\n",
    "\n",
    "for yearid in range(startyearid, 2024):\n",
    "    if yearid<2023:\n",
    "        maxmonth = 13\n",
    "        print(\"before 2023, going till\", maxmonth)\n",
    "    else:\n",
    "        maxmonth = 4\n",
    "        print(\"in 2023, going till\", maxmonth)\n",
    "\n",
    "    for monthid in range(1, maxmonth):\n",
    "        print(yearid)\n",
    "        print(monthid)\n",
    "\n",
    "        y, X, X_future, future_model = prepare_slice(count_events, yearid, monthid, deps, forward)\n",
    "        fittedframe_future = future_model[fittedvalues]\n",
    "        # Perform grid search or set parameters directly\n",
    "        if search == 1:\n",
    "            print(\"entering search\")\n",
    "            lr = runsearch(X, y) \n",
    "        else:\n",
    "            lr = setparams_lr(C, penalty, solver)\n",
    "\n",
    "        # Fit the model and make predictions\n",
    "        lr.fit(X, y)\n",
    "        res = lr.predict_proba(X_future)\n",
    "        fittedframe_future[deps[0]+'_pred'] = res[:, 1]\n",
    "\n",
    "        # Append the predictions to the fittedframe\n",
    "        fittedframe = pd.concat([fittedframe, fittedframe_future])\n",
    "\n",
    "gendata = 1\n",
    "fittedframe.to_csv(\"{}_predictions_log.csv\".format(deps[0]))\n"
   ]
  },
  {
   "cell_type": "code",
   "execution_count": 1261,
   "metadata": {},
   "outputs": [
    {
     "name": "stdout",
     "output_type": "stream",
     "text": [
      "<class 'pandas.core.frame.DataFrame'>\n",
      "Int64Index: 98640 entries, 0 to 98639\n",
      "Columns: 134 entries, MonthYear to ons_target_f1\n",
      "dtypes: float64(68), int64(4), object(62)\n",
      "memory usage: 101.6+ MB\n"
     ]
    }
   ],
   "source": [
    "data = df\n",
    "\n",
    "for deps in [['ons_target_f{}'.format(forward)]]:\n",
    "    \n",
    "    my_file = Path(\"{}_predictions_log.csv\".format(deps[0]))\n",
    "\n",
    "    predictions = pd.read_table(my_file, sep=',').iloc[:, 1:]\n",
    "\n",
    "    # Select only rows where the prediction is not NaN\n",
    "    fittedvalues = predictions.dropna(subset=['{}_pred'.format(deps[0])])\n",
    "\n",
    "    # Merge the predictions into the original dataframe\n",
    "    data = data.merge(fittedvalues, how='left', on=['isocode', 'year', 'month'])\n",
    "\n",
    "# Add dependent variables again\n",
    "combined_log = make_target(data, forward)\n",
    "combined_log.info()"
   ]
  },
  {
   "cell_type": "code",
   "execution_count": 1262,
   "metadata": {},
   "outputs": [
    {
     "data": {
      "image/png": "[encoded data removed]",
      "text/plain": [
       "<Figure size 1000x600 with 1 Axes>"
      ]
     },
     "metadata": {},
     "output_type": "display_data"
    },
    {
     "data": {
      "image/png": "[encoded data removed]",
      "text/plain": [
       "<Figure size 1000x600 with 1 Axes>"
      ]
     },
     "metadata": {},
     "output_type": "display_data"
    }
   ],
   "source": [
    "import numpy as np\n",
    "import matplotlib.pyplot as plt\n",
    "from sklearn.metrics import roc_curve, roc_auc_score, precision_recall_curve, auc\n",
    "\n",
    "# True labels (y_true)\n",
    "y_true = combined_log['ons_target_f1']\n",
    "\n",
    "# Predictions from your model\n",
    "y_pred = combined_log['ons_target_f1_pred']\n",
    "\n",
    "# Filter out rows with missing values\n",
    "valid_indices = np.logical_not(np.isnan(y_true) | np.isnan(y_pred))\n",
    "y_true = y_true[valid_indices]\n",
    "y_pred = y_pred[valid_indices]\n",
    "\n",
    "# Calculate ROC AUC scores\n",
    "roc_auc = roc_auc_score(y_true, y_pred)\n",
    "\n",
    "# Calculate Precision and Recall scores\n",
    "precision, recall, _ = precision_recall_curve(y_true, y_pred)\n",
    "\n",
    "# Plot ROC AUC curves\n",
    "plt.figure(figsize=(10, 6))\n",
    "plt.plot(*roc_curve(y_true, y_pred)[:2], label='Model (AUC = {:.2f})'.format(roc_auc))\n",
    "plt.plot([0, 1], [0, 1], 'k--')  # Random guessing line\n",
    "plt.xlabel('False Positive Rate')\n",
    "plt.ylabel('True Positive Rate')\n",
    "plt.title('ROC AUC Curve')\n",
    "plt.legend(loc='lower right')\n",
    "plt.grid(True)\n",
    "plt.show()\n",
    "\n",
    "# Plot Precision-Recall curves\n",
    "plt.figure(figsize=(10, 6))\n",
    "plt.plot(recall, precision, label='Model')\n",
    "plt.xlabel('Recall')\n",
    "plt.ylabel('Precision')\n",
    "plt.title('Precision-Recall Curve')\n",
    "plt.legend(loc='lower left')\n",
    "plt.grid(True)\n",
    "plt.show()\n"
   ]
  },
  {
   "cell_type": "code",
   "execution_count": 1263,
   "metadata": {},
   "outputs": [],
   "source": [
    "def separation_plot(pdata, fname, alpha=1):\n",
    "    '''\n",
    "    Display observed events against predicted probabilities for binary classification problems\n",
    "    Arguments\n",
    "    ---------\n",
    "        y : vector of observed class labels\n",
    "        yhat : vector of predicted probabilities\n",
    "        fname: file path to directory to save plot \n",
    "        alpha: float from 0 to 1, transparency of indicators of observed events\n",
    "    '''\n",
    "\n",
    "    pdata.columns = ['y', 'yhat']\n",
    "    pdata = pdata.sort_values('yhat')\n",
    "    pdata = pdata.reset_index(drop=True)\n",
    "\n",
    "    events = pdata[pdata['y'] == 1]\n",
    "\n",
    "    evals = events.index.values\n",
    "\n",
    "\n",
    "    plt.figure(figsize=(20, 5))\n",
    "    plt.ylabel('Predicted risk')\n",
    "    ax = plt.gca()\n",
    "    ax.set_xlim([1, (evals[-1] + 1)])\n",
    "    ax.set_ylim([0, 1])\n",
    "    \n",
    "\n",
    "    rr = 0\n",
    "    for i in evals:\n",
    "        if rr == 0:\n",
    "            ax.axvline(x=i, linewidth=0.2, linestyle='-', color='k', alpha=alpha, label = 'Onsets', zorder=2)\n",
    "            rr = 1\n",
    "        else:\n",
    "            ax.axvline(x=i, linewidth=0.2, linestyle='-', color='k', alpha=alpha, zorder=1)\n",
    "    \n",
    "    ax.plot(pdata['yhat'], linestyle='--', color='red', lw = 4, label = 'Predicted risk', zorder=3)\n",
    "    ax.set_xlabel('Rank of prediction')\n",
    "    ax.legend(loc=\"upper left\")\n",
    "    plt.savefig(fname)\n",
    "    plt.show()\n",
    "    plt.close() "
   ]
  }
 ],
 "metadata": {
  "kernelspec": {
   "display_name": "Python 3",
   "language": "python",
   "name": "python3"
  },
  "language_info": {
   "codemirror_mode": {
    "name": "ipython",
    "version": 3
   },
   "file_extension": ".py",
   "mimetype": "text/x-python",
   "name": "python",
   "nbconvert_exporter": "python",
   "pygments_lexer": "ipython3",
   "version": "3.9.16"
  },
  "orig_nbformat": 4
 },
 "nbformat": 4,
 "nbformat_minor": 2
}
